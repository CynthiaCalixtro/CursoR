{
 "cells": [
  {
   "cell_type": "markdown",
   "metadata": {},
   "source": [
    "# Lista de ejercicios 2"
   ]
  },
  {
   "cell_type": "markdown",
   "metadata": {},
   "source": [
    "1.Supongamos que $x$ es un vector numérico. **Explica en detalle**, como las siguientes expresiones son evaluadas y que valores toman:"
   ]
  },
  {
   "cell_type": "markdown",
   "metadata": {},
   "source": [
    "* `sum(!is.na(x))`\n",
    "\n",
    "Si `x` es un vector, `is.na(x)` es otro vector tal que su i-ésimo elemento es TRUE si el i-ésimo elemento de `x` es `NA`, en caso contrario es `FALSE`. `!is.na(x)` es un nuevo vector tal que su i-ésimo elemento es `TRUE` si el i-ésimo elemento de `is.na(x)` es `FALSE`, en caso contrario es `FALSE`. Al pasar el vector `!is.na(x)` como parámetro de `sum()`, esta función toma como `1` a `TRUE` y como `0` a `FALSE`. Luego, suma todos los `0s` y `1s`.\n",
    "\n",
    "* `c(x,x[-(1:length(x))])`\n",
    "\n",
    "`x[-(1:length(x))]` retorna un vector numérico de longitud `0` ya que indicamos con el \"-\" que no se tome ningún\n",
    "elemento del vector `x`. Luego, concatenamos este vector con `x` y resulta el mismo `x`.\n",
    "\n",
    "* `x[length(x) + 1]/length(x)`\n",
    "\n",
    "`x[length(x) + 1]` retorna `NA` ya que el vector no tiene elementos más allá de su longitud. Luego, `NA` dividido con cualquier número resulta `NA`.\n",
    "\n",
    "* `sum(x > mean(x))`\n",
    "\n",
    "La expresión lógica `x > mean(x)` nos retorna un vector cuyo i-ésimo elemento es `TRUE` si es mayor que el promedio, en caso contrario es `FALSE`. Al pasar este vector como parámetro de `sum()` ocurre lo mismo que en la primera expresión."
   ]
  },
  {
   "cell_type": "markdown",
   "metadata": {},
   "source": [
    "2.La función seno hiperbólico es definida como\n",
    "$$sinh x = \\frac{e^x - e^{-x}}{2}$$\n",
    "donde $e^x$ es la función exponencial. Usando solo operaciones aritméticas y la función `exp`, escribe una función `vectorizada` en R, que calcule el $sinh$."
   ]
  },
  {
   "cell_type": "code",
   "execution_count": 1,
   "metadata": {
    "collapsed": true
   },
   "outputs": [],
   "source": [
    "sinhiper <- function(x) \n",
    "{\n",
    "    (exp(x)-exp(-x))/2\n",
    "}"
   ]
  },
  {
   "cell_type": "markdown",
   "metadata": {},
   "source": [
    "3.Crea un vector de los valores de $e^x\\cos(x)$ en $x = 3,3.1, 3.2, \\dots, 6$."
   ]
  },
  {
   "cell_type": "code",
   "execution_count": 2,
   "metadata": {
    "collapsed": false
   },
   "outputs": [
    {
     "data": {
      "text/html": [
       "<ol class=list-inline>\n",
       "\t<li>-19.884530844147</li>\n",
       "\t<li>-22.1787533893421</li>\n",
       "\t<li>-24.4906967328013</li>\n",
       "\t<li>-26.7731824429934</li>\n",
       "\t<li>-28.9692377680936</li>\n",
       "\t<li>-31.0111864393745</li>\n",
       "\t<li>-32.8197747603385</li>\n",
       "\t<li>-34.3033601103737</li>\n",
       "\t<li>-35.3571936185304</li>\n",
       "\t<li>-35.8628337123077</li>\n",
       "\t<li>-35.6877324801191</li>\n",
       "\t<li>-34.6850422516681</li>\n",
       "\t<li>-32.6936954283217</li>\n",
       "\t<li>-29.538816297263</li>\n",
       "\t<li>-25.03252922904</li>\n",
       "\t<li>-18.975233154959</li>\n",
       "\t<li>-11.1574173896475</li>\n",
       "\t<li>-1.36209851820575</li>\n",
       "\t<li>10.632038010192</li>\n",
       "\t<li>25.046704998273</li>\n",
       "\t<li>42.0992010625384</li>\n",
       "\t<li>61.9966302766945</li>\n",
       "\t<li>84.9290673625027</li>\n",
       "\t<li>111.061586042026</li>\n",
       "\t<li>140.525075052788</li>\n",
       "\t<li>173.405776408577</li>\n",
       "\t<li>209.733494247835</li>\n",
       "\t<li>249.468440558857</li>\n",
       "\t<li>292.486706737123</li>\n",
       "\t<li>338.564377858512</li>\n",
       "\t<li>387.360340290931</li>\n",
       "</ol>\n"
      ],
      "text/latex": [
       "\\begin{enumerate*}\n",
       "\\item -19.884530844147\n",
       "\\item -22.1787533893421\n",
       "\\item -24.4906967328013\n",
       "\\item -26.7731824429934\n",
       "\\item -28.9692377680936\n",
       "\\item -31.0111864393745\n",
       "\\item -32.8197747603385\n",
       "\\item -34.3033601103737\n",
       "\\item -35.3571936185304\n",
       "\\item -35.8628337123077\n",
       "\\item -35.6877324801191\n",
       "\\item -34.6850422516681\n",
       "\\item -32.6936954283217\n",
       "\\item -29.538816297263\n",
       "\\item -25.03252922904\n",
       "\\item -18.975233154959\n",
       "\\item -11.1574173896475\n",
       "\\item -1.36209851820575\n",
       "\\item 10.632038010192\n",
       "\\item 25.046704998273\n",
       "\\item 42.0992010625384\n",
       "\\item 61.9966302766945\n",
       "\\item 84.9290673625027\n",
       "\\item 111.061586042026\n",
       "\\item 140.525075052788\n",
       "\\item 173.405776408577\n",
       "\\item 209.733494247835\n",
       "\\item 249.468440558857\n",
       "\\item 292.486706737123\n",
       "\\item 338.564377858512\n",
       "\\item 387.360340290931\n",
       "\\end{enumerate*}\n"
      ],
      "text/markdown": [
       "1. -19.884530844147\n",
       "2. -22.1787533893421\n",
       "3. -24.4906967328013\n",
       "4. -26.7731824429934\n",
       "5. -28.9692377680936\n",
       "6. -31.0111864393745\n",
       "7. -32.8197747603385\n",
       "8. -34.3033601103737\n",
       "9. -35.3571936185304\n",
       "10. -35.8628337123077\n",
       "11. -35.6877324801191\n",
       "12. -34.6850422516681\n",
       "13. -32.6936954283217\n",
       "14. -29.538816297263\n",
       "15. -25.03252922904\n",
       "16. -18.975233154959\n",
       "17. -11.1574173896475\n",
       "18. -1.36209851820575\n",
       "19. 10.632038010192\n",
       "20. 25.046704998273\n",
       "21. 42.0992010625384\n",
       "22. 61.9966302766945\n",
       "23. 84.9290673625027\n",
       "24. 111.061586042026\n",
       "25. 140.525075052788\n",
       "26. 173.405776408577\n",
       "27. 209.733494247835\n",
       "28. 249.468440558857\n",
       "29. 292.486706737123\n",
       "30. 338.564377858512\n",
       "31. 387.360340290931\n",
       "\n",
       "\n"
      ],
      "text/plain": [
       " [1] -19.884531 -22.178753 -24.490697 -26.773182 -28.969238 -31.011186\n",
       " [7] -32.819775 -34.303360 -35.357194 -35.862834 -35.687732 -34.685042\n",
       "[13] -32.693695 -29.538816 -25.032529 -18.975233 -11.157417  -1.362099\n",
       "[19]  10.632038  25.046705  42.099201  61.996630  84.929067 111.061586\n",
       "[25] 140.525075 173.405776 209.733494 249.468441 292.486707 338.564378\n",
       "[31] 387.360340"
      ]
     },
     "metadata": {},
     "output_type": "display_data"
    }
   ],
   "source": [
    "x <- seq(3,6,by=0.1) #x = 3, 3.1, 3.2, … , 6\n",
    "vector <- exp(x)*cos(x)\n",
    "vector #mostramos los elementos del vector"
   ]
  },
  {
   "cell_type": "markdown",
   "metadata": {},
   "source": [
    "4.Usa la función `paste` para crear el siguiente vector de caracteres de longitud $30$:"
   ]
  },
  {
   "cell_type": "markdown",
   "metadata": {},
   "source": [
    "* (\"vector 1\", \"vector 2\", $\\dots$, \"vector 30\"). Notar el espacio entre `vector` y el número."
   ]
  },
  {
   "cell_type": "code",
   "execution_count": 3,
   "metadata": {
    "collapsed": false
   },
   "outputs": [
    {
     "data": {
      "text/html": [
       "<ol class=list-inline>\n",
       "\t<li>'vector 1'</li>\n",
       "\t<li>'vector 2'</li>\n",
       "\t<li>'vector 3'</li>\n",
       "\t<li>'vector 4'</li>\n",
       "\t<li>'vector 5'</li>\n",
       "\t<li>'vector 6'</li>\n",
       "\t<li>'vector 7'</li>\n",
       "\t<li>'vector 8'</li>\n",
       "\t<li>'vector 9'</li>\n",
       "\t<li>'vector 10'</li>\n",
       "\t<li>'vector 11'</li>\n",
       "\t<li>'vector 12'</li>\n",
       "\t<li>'vector 13'</li>\n",
       "\t<li>'vector 14'</li>\n",
       "\t<li>'vector 15'</li>\n",
       "\t<li>'vector 16'</li>\n",
       "\t<li>'vector 17'</li>\n",
       "\t<li>'vector 18'</li>\n",
       "\t<li>'vector 19'</li>\n",
       "\t<li>'vector 20'</li>\n",
       "\t<li>'vector 21'</li>\n",
       "\t<li>'vector 22'</li>\n",
       "\t<li>'vector 23'</li>\n",
       "\t<li>'vector 24'</li>\n",
       "\t<li>'vector 25'</li>\n",
       "\t<li>'vector 26'</li>\n",
       "\t<li>'vector 27'</li>\n",
       "\t<li>'vector 28'</li>\n",
       "\t<li>'vector 29'</li>\n",
       "\t<li>'vector 30'</li>\n",
       "</ol>\n"
      ],
      "text/latex": [
       "\\begin{enumerate*}\n",
       "\\item 'vector 1'\n",
       "\\item 'vector 2'\n",
       "\\item 'vector 3'\n",
       "\\item 'vector 4'\n",
       "\\item 'vector 5'\n",
       "\\item 'vector 6'\n",
       "\\item 'vector 7'\n",
       "\\item 'vector 8'\n",
       "\\item 'vector 9'\n",
       "\\item 'vector 10'\n",
       "\\item 'vector 11'\n",
       "\\item 'vector 12'\n",
       "\\item 'vector 13'\n",
       "\\item 'vector 14'\n",
       "\\item 'vector 15'\n",
       "\\item 'vector 16'\n",
       "\\item 'vector 17'\n",
       "\\item 'vector 18'\n",
       "\\item 'vector 19'\n",
       "\\item 'vector 20'\n",
       "\\item 'vector 21'\n",
       "\\item 'vector 22'\n",
       "\\item 'vector 23'\n",
       "\\item 'vector 24'\n",
       "\\item 'vector 25'\n",
       "\\item 'vector 26'\n",
       "\\item 'vector 27'\n",
       "\\item 'vector 28'\n",
       "\\item 'vector 29'\n",
       "\\item 'vector 30'\n",
       "\\end{enumerate*}\n"
      ],
      "text/markdown": [
       "1. 'vector 1'\n",
       "2. 'vector 2'\n",
       "3. 'vector 3'\n",
       "4. 'vector 4'\n",
       "5. 'vector 5'\n",
       "6. 'vector 6'\n",
       "7. 'vector 7'\n",
       "8. 'vector 8'\n",
       "9. 'vector 9'\n",
       "10. 'vector 10'\n",
       "11. 'vector 11'\n",
       "12. 'vector 12'\n",
       "13. 'vector 13'\n",
       "14. 'vector 14'\n",
       "15. 'vector 15'\n",
       "16. 'vector 16'\n",
       "17. 'vector 17'\n",
       "18. 'vector 18'\n",
       "19. 'vector 19'\n",
       "20. 'vector 20'\n",
       "21. 'vector 21'\n",
       "22. 'vector 22'\n",
       "23. 'vector 23'\n",
       "24. 'vector 24'\n",
       "25. 'vector 25'\n",
       "26. 'vector 26'\n",
       "27. 'vector 27'\n",
       "28. 'vector 28'\n",
       "29. 'vector 29'\n",
       "30. 'vector 30'\n",
       "\n",
       "\n"
      ],
      "text/plain": [
       " [1] \"vector 1\"  \"vector 2\"  \"vector 3\"  \"vector 4\"  \"vector 5\"  \"vector 6\" \n",
       " [7] \"vector 7\"  \"vector 8\"  \"vector 9\"  \"vector 10\" \"vector 11\" \"vector 12\"\n",
       "[13] \"vector 13\" \"vector 14\" \"vector 15\" \"vector 16\" \"vector 17\" \"vector 18\"\n",
       "[19] \"vector 19\" \"vector 20\" \"vector 21\" \"vector 22\" \"vector 23\" \"vector 24\"\n",
       "[25] \"vector 25\" \"vector 26\" \"vector 27\" \"vector 28\" \"vector 29\" \"vector 30\""
      ]
     },
     "metadata": {},
     "output_type": "display_data"
    }
   ],
   "source": [
    "paste(\"vector\",1:30)"
   ]
  },
  {
   "cell_type": "markdown",
   "metadata": {},
   "source": [
    "* (\"fn1\", \"fn2\", \\dots, \"fn30\"). En este caso no hay espacio entre `fn` y el número."
   ]
  },
  {
   "cell_type": "code",
   "execution_count": 4,
   "metadata": {
    "collapsed": false
   },
   "outputs": [
    {
     "data": {
      "text/html": [
       "<ol class=list-inline>\n",
       "\t<li>'fn1'</li>\n",
       "\t<li>'fn2'</li>\n",
       "\t<li>'fn3'</li>\n",
       "\t<li>'fn4'</li>\n",
       "\t<li>'fn5'</li>\n",
       "\t<li>'fn6'</li>\n",
       "\t<li>'fn7'</li>\n",
       "\t<li>'fn8'</li>\n",
       "\t<li>'fn9'</li>\n",
       "\t<li>'fn10'</li>\n",
       "\t<li>'fn11'</li>\n",
       "\t<li>'fn12'</li>\n",
       "\t<li>'fn13'</li>\n",
       "\t<li>'fn14'</li>\n",
       "\t<li>'fn15'</li>\n",
       "\t<li>'fn16'</li>\n",
       "\t<li>'fn17'</li>\n",
       "\t<li>'fn18'</li>\n",
       "\t<li>'fn19'</li>\n",
       "\t<li>'fn20'</li>\n",
       "\t<li>'fn21'</li>\n",
       "\t<li>'fn22'</li>\n",
       "\t<li>'fn23'</li>\n",
       "\t<li>'fn24'</li>\n",
       "\t<li>'fn25'</li>\n",
       "\t<li>'fn26'</li>\n",
       "\t<li>'fn27'</li>\n",
       "\t<li>'fn28'</li>\n",
       "\t<li>'fn29'</li>\n",
       "\t<li>'fn30'</li>\n",
       "</ol>\n"
      ],
      "text/latex": [
       "\\begin{enumerate*}\n",
       "\\item 'fn1'\n",
       "\\item 'fn2'\n",
       "\\item 'fn3'\n",
       "\\item 'fn4'\n",
       "\\item 'fn5'\n",
       "\\item 'fn6'\n",
       "\\item 'fn7'\n",
       "\\item 'fn8'\n",
       "\\item 'fn9'\n",
       "\\item 'fn10'\n",
       "\\item 'fn11'\n",
       "\\item 'fn12'\n",
       "\\item 'fn13'\n",
       "\\item 'fn14'\n",
       "\\item 'fn15'\n",
       "\\item 'fn16'\n",
       "\\item 'fn17'\n",
       "\\item 'fn18'\n",
       "\\item 'fn19'\n",
       "\\item 'fn20'\n",
       "\\item 'fn21'\n",
       "\\item 'fn22'\n",
       "\\item 'fn23'\n",
       "\\item 'fn24'\n",
       "\\item 'fn25'\n",
       "\\item 'fn26'\n",
       "\\item 'fn27'\n",
       "\\item 'fn28'\n",
       "\\item 'fn29'\n",
       "\\item 'fn30'\n",
       "\\end{enumerate*}\n"
      ],
      "text/markdown": [
       "1. 'fn1'\n",
       "2. 'fn2'\n",
       "3. 'fn3'\n",
       "4. 'fn4'\n",
       "5. 'fn5'\n",
       "6. 'fn6'\n",
       "7. 'fn7'\n",
       "8. 'fn8'\n",
       "9. 'fn9'\n",
       "10. 'fn10'\n",
       "11. 'fn11'\n",
       "12. 'fn12'\n",
       "13. 'fn13'\n",
       "14. 'fn14'\n",
       "15. 'fn15'\n",
       "16. 'fn16'\n",
       "17. 'fn17'\n",
       "18. 'fn18'\n",
       "19. 'fn19'\n",
       "20. 'fn20'\n",
       "21. 'fn21'\n",
       "22. 'fn22'\n",
       "23. 'fn23'\n",
       "24. 'fn24'\n",
       "25. 'fn25'\n",
       "26. 'fn26'\n",
       "27. 'fn27'\n",
       "28. 'fn28'\n",
       "29. 'fn29'\n",
       "30. 'fn30'\n",
       "\n",
       "\n"
      ],
      "text/plain": [
       " [1] \"fn1\"  \"fn2\"  \"fn3\"  \"fn4\"  \"fn5\"  \"fn6\"  \"fn7\"  \"fn8\"  \"fn9\"  \"fn10\"\n",
       "[11] \"fn11\" \"fn12\" \"fn13\" \"fn14\" \"fn15\" \"fn16\" \"fn17\" \"fn18\" \"fn19\" \"fn20\"\n",
       "[21] \"fn21\" \"fn22\" \"fn23\" \"fn24\" \"fn25\" \"fn26\" \"fn27\" \"fn28\" \"fn29\" \"fn30\""
      ]
     },
     "metadata": {},
     "output_type": "display_data"
    }
   ],
   "source": [
    "paste(\"fn\",1:30,sep = \"\")"
   ]
  },
  {
   "cell_type": "markdown",
   "metadata": {},
   "source": [
    "5.¿Qué retorna `DF <- D(expression(cos(x)/sin(x)), \"x\")`?"
   ]
  },
  {
   "cell_type": "code",
   "execution_count": 5,
   "metadata": {
    "collapsed": false
   },
   "outputs": [
    {
     "data": {
      "text/plain": [
       "-(sin(x)/sin(x) + cos(x) * cos(x)/sin(x)^2)"
      ]
     },
     "metadata": {},
     "output_type": "display_data"
    }
   ],
   "source": [
    "#Retorna la derivada de la expresión respecto de x\n",
    "DF <- D(expression(cos(x)/sin(x)),\"x\")\n",
    "DF"
   ]
  },
  {
   "cell_type": "markdown",
   "metadata": {},
   "source": [
    "Si ejecutamos el comando `x <- pi/4`, ¿que retorna `eval(DF)`?"
   ]
  },
  {
   "cell_type": "code",
   "execution_count": 6,
   "metadata": {
    "collapsed": false
   },
   "outputs": [
    {
     "data": {
      "text/html": [
       "-2"
      ],
      "text/latex": [
       "-2"
      ],
      "text/markdown": [
       "-2"
      ],
      "text/plain": [
       "[1] -2"
      ]
     },
     "metadata": {},
     "output_type": "display_data"
    }
   ],
   "source": [
    "x <- pi/4\n",
    "\n",
    "eval(DF)  #evalua DF para el valor establecido previamente para x"
   ]
  },
  {
   "cell_type": "markdown",
   "metadata": {},
   "source": [
    "6.¿Puedes explicar los dos siguientes resultados?\n",
    "\n",
    "`x <- c(0,7,8)`"
   ]
  },
  {
   "cell_type": "markdown",
   "metadata": {},
   "source": [
    "* `x[0.9999999999999999]` \n",
    "\n",
    "Retorna `numeric(0)`. R detecta al índice `0.9999999999999999` (con 16 9s) menor que `1`. Así, `x[0.9999999999999999]` se entiende como `x[0]` por lo cual nos retorna `numeric(0)`.\n",
    "\n",
    "* `x[0.99999999999999999]`\n",
    "\n",
    "Retorna `0`. R detecta al índice `0.99999999999999999` (con 17 9s) como `1`. Así, `x[0.99999999999999999]` se entiende como `x[1]` por lo cual nos retorna `0` (el primer elemento de x)."
   ]
  },
  {
   "cell_type": "markdown",
   "metadata": {},
   "source": [
    "7.Usando `rep()` y `seq()`, crea los siguientes vectores:"
   ]
  },
  {
   "cell_type": "markdown",
   "metadata": {},
   "source": [
    "* `0 0 0 0 0 1 1 1 1 1 2 2 2 2 2 3 3 3 3 3 4 4 4 4 4`"
   ]
  },
  {
   "cell_type": "code",
   "execution_count": 7,
   "metadata": {
    "collapsed": false
   },
   "outputs": [
    {
     "data": {
      "text/html": [
       "<ol class=list-inline>\n",
       "\t<li>0</li>\n",
       "\t<li>0</li>\n",
       "\t<li>0</li>\n",
       "\t<li>0</li>\n",
       "\t<li>0</li>\n",
       "\t<li>1</li>\n",
       "\t<li>1</li>\n",
       "\t<li>1</li>\n",
       "\t<li>1</li>\n",
       "\t<li>1</li>\n",
       "\t<li>2</li>\n",
       "\t<li>2</li>\n",
       "\t<li>2</li>\n",
       "\t<li>2</li>\n",
       "\t<li>2</li>\n",
       "\t<li>3</li>\n",
       "\t<li>3</li>\n",
       "\t<li>3</li>\n",
       "\t<li>3</li>\n",
       "\t<li>3</li>\n",
       "\t<li>4</li>\n",
       "\t<li>4</li>\n",
       "\t<li>4</li>\n",
       "\t<li>4</li>\n",
       "\t<li>4</li>\n",
       "</ol>\n"
      ],
      "text/latex": [
       "\\begin{enumerate*}\n",
       "\\item 0\n",
       "\\item 0\n",
       "\\item 0\n",
       "\\item 0\n",
       "\\item 0\n",
       "\\item 1\n",
       "\\item 1\n",
       "\\item 1\n",
       "\\item 1\n",
       "\\item 1\n",
       "\\item 2\n",
       "\\item 2\n",
       "\\item 2\n",
       "\\item 2\n",
       "\\item 2\n",
       "\\item 3\n",
       "\\item 3\n",
       "\\item 3\n",
       "\\item 3\n",
       "\\item 3\n",
       "\\item 4\n",
       "\\item 4\n",
       "\\item 4\n",
       "\\item 4\n",
       "\\item 4\n",
       "\\end{enumerate*}\n"
      ],
      "text/markdown": [
       "1. 0\n",
       "2. 0\n",
       "3. 0\n",
       "4. 0\n",
       "5. 0\n",
       "6. 1\n",
       "7. 1\n",
       "8. 1\n",
       "9. 1\n",
       "10. 1\n",
       "11. 2\n",
       "12. 2\n",
       "13. 2\n",
       "14. 2\n",
       "15. 2\n",
       "16. 3\n",
       "17. 3\n",
       "18. 3\n",
       "19. 3\n",
       "20. 3\n",
       "21. 4\n",
       "22. 4\n",
       "23. 4\n",
       "24. 4\n",
       "25. 4\n",
       "\n",
       "\n"
      ],
      "text/plain": [
       " [1] 0 0 0 0 0 1 1 1 1 1 2 2 2 2 2 3 3 3 3 3 4 4 4 4 4"
      ]
     },
     "metadata": {},
     "output_type": "display_data"
    }
   ],
   "source": [
    "rep(0:4,each=5)"
   ]
  },
  {
   "cell_type": "markdown",
   "metadata": {},
   "source": [
    "* `1 2 3 4 5 1 2 3 4 5 1 2 3 4 5 1 2 3 4 5 1 2 3 4 5`"
   ]
  },
  {
   "cell_type": "code",
   "execution_count": 8,
   "metadata": {
    "collapsed": false
   },
   "outputs": [
    {
     "data": {
      "text/html": [
       "<ol class=list-inline>\n",
       "\t<li>1</li>\n",
       "\t<li>2</li>\n",
       "\t<li>3</li>\n",
       "\t<li>4</li>\n",
       "\t<li>5</li>\n",
       "\t<li>1</li>\n",
       "\t<li>2</li>\n",
       "\t<li>3</li>\n",
       "\t<li>4</li>\n",
       "\t<li>5</li>\n",
       "\t<li>1</li>\n",
       "\t<li>2</li>\n",
       "\t<li>3</li>\n",
       "\t<li>4</li>\n",
       "\t<li>5</li>\n",
       "\t<li>1</li>\n",
       "\t<li>2</li>\n",
       "\t<li>3</li>\n",
       "\t<li>4</li>\n",
       "\t<li>5</li>\n",
       "\t<li>1</li>\n",
       "\t<li>2</li>\n",
       "\t<li>3</li>\n",
       "\t<li>4</li>\n",
       "\t<li>5</li>\n",
       "</ol>\n"
      ],
      "text/latex": [
       "\\begin{enumerate*}\n",
       "\\item 1\n",
       "\\item 2\n",
       "\\item 3\n",
       "\\item 4\n",
       "\\item 5\n",
       "\\item 1\n",
       "\\item 2\n",
       "\\item 3\n",
       "\\item 4\n",
       "\\item 5\n",
       "\\item 1\n",
       "\\item 2\n",
       "\\item 3\n",
       "\\item 4\n",
       "\\item 5\n",
       "\\item 1\n",
       "\\item 2\n",
       "\\item 3\n",
       "\\item 4\n",
       "\\item 5\n",
       "\\item 1\n",
       "\\item 2\n",
       "\\item 3\n",
       "\\item 4\n",
       "\\item 5\n",
       "\\end{enumerate*}\n"
      ],
      "text/markdown": [
       "1. 1\n",
       "2. 2\n",
       "3. 3\n",
       "4. 4\n",
       "5. 5\n",
       "6. 1\n",
       "7. 2\n",
       "8. 3\n",
       "9. 4\n",
       "10. 5\n",
       "11. 1\n",
       "12. 2\n",
       "13. 3\n",
       "14. 4\n",
       "15. 5\n",
       "16. 1\n",
       "17. 2\n",
       "18. 3\n",
       "19. 4\n",
       "20. 5\n",
       "21. 1\n",
       "22. 2\n",
       "23. 3\n",
       "24. 4\n",
       "25. 5\n",
       "\n",
       "\n"
      ],
      "text/plain": [
       " [1] 1 2 3 4 5 1 2 3 4 5 1 2 3 4 5 1 2 3 4 5 1 2 3 4 5"
      ]
     },
     "metadata": {},
     "output_type": "display_data"
    }
   ],
   "source": [
    "rep(1:5,5)"
   ]
  },
  {
   "cell_type": "markdown",
   "metadata": {},
   "source": [
    "8.Usando la función `cumprod` u otra relacionada, calcula:\n",
    "$$1 + \\frac{2}{3}+ \\biggl(\\frac{2}{3}\\frac{4}{5} \\biggr) + \\biggl(\\frac{2}{3}\\frac{4}{5}\\frac{6}{7} \\biggr) + \\cdots + \\biggl(\\frac{2}{3}\\frac{4}{5}\\cdots \\frac{38}{39} \\biggr)$$"
   ]
  },
  {
   "cell_type": "code",
   "execution_count": 9,
   "metadata": {
    "collapsed": false
   },
   "outputs": [
    {
     "data": {
      "text/html": [
       "6.97634613789762"
      ],
      "text/latex": [
       "6.97634613789762"
      ],
      "text/markdown": [
       "6.97634613789762"
      ],
      "text/plain": [
       "[1] 6.976346"
      ]
     },
     "metadata": {},
     "output_type": "display_data"
    }
   ],
   "source": [
    "#cumprod retorna un vector cuyos elementos son el \n",
    "#producto acumulado de los elementos del argumento\n",
    "sum(cumprod(seq(2,38,by=2))/cumprod(seq(3,39,by=2))) + 1"
   ]
  },
  {
   "cell_type": "markdown",
   "metadata": {},
   "source": [
    "9.En primer lugar, lanzamos una moneda con dos posibles resultados: o bien cae cara o sello. A continuación, tiramos un dado con $6$ posibles resultados: $1,2,3,4,5$ y $6$. Genera todos los resultados posibles de esas acciones."
   ]
  },
  {
   "cell_type": "code",
   "execution_count": 10,
   "metadata": {
    "collapsed": false
   },
   "outputs": [
    {
     "data": {
      "text/html": [
       "<table>\n",
       "<thead><tr><th scope=col>moneda</th><th scope=col>dado</th></tr></thead>\n",
       "<tbody>\n",
       "\t<tr><td>C</td><td>1</td></tr>\n",
       "\t<tr><td>S</td><td>1</td></tr>\n",
       "\t<tr><td>C</td><td>2</td></tr>\n",
       "\t<tr><td>S</td><td>2</td></tr>\n",
       "\t<tr><td>C</td><td>3</td></tr>\n",
       "\t<tr><td>S</td><td>3</td></tr>\n",
       "\t<tr><td>C</td><td>4</td></tr>\n",
       "\t<tr><td>S</td><td>4</td></tr>\n",
       "\t<tr><td>C</td><td>5</td></tr>\n",
       "\t<tr><td>S</td><td>5</td></tr>\n",
       "\t<tr><td>C</td><td>6</td></tr>\n",
       "\t<tr><td>S</td><td>6</td></tr>\n",
       "</tbody>\n",
       "</table>\n"
      ],
      "text/latex": [
       "\\begin{tabular}{r|ll}\n",
       " moneda & dado\\\\\n",
       "\\hline\n",
       "\t C & 1\\\\\n",
       "\t S & 1\\\\\n",
       "\t C & 2\\\\\n",
       "\t S & 2\\\\\n",
       "\t C & 3\\\\\n",
       "\t S & 3\\\\\n",
       "\t C & 4\\\\\n",
       "\t S & 4\\\\\n",
       "\t C & 5\\\\\n",
       "\t S & 5\\\\\n",
       "\t C & 6\\\\\n",
       "\t S & 6\\\\\n",
       "\\end{tabular}\n"
      ],
      "text/markdown": [
       "\n",
       "moneda | dado | \n",
       "|---|---|---|---|---|---|---|---|---|---|---|---|\n",
       "| C | 1 | \n",
       "| S | 1 | \n",
       "| C | 2 | \n",
       "| S | 2 | \n",
       "| C | 3 | \n",
       "| S | 3 | \n",
       "| C | 4 | \n",
       "| S | 4 | \n",
       "| C | 5 | \n",
       "| S | 5 | \n",
       "| C | 6 | \n",
       "| S | 6 | \n",
       "\n",
       "\n"
      ],
      "text/plain": [
       "   moneda dado\n",
       "1  C      1   \n",
       "2  S      1   \n",
       "3  C      2   \n",
       "4  S      2   \n",
       "5  C      3   \n",
       "6  S      3   \n",
       "7  C      4   \n",
       "8  S      4   \n",
       "9  C      5   \n",
       "10 S      5   \n",
       "11 C      6   \n",
       "12 S      6   "
      ]
     },
     "metadata": {},
     "output_type": "display_data"
    }
   ],
   "source": [
    "expand.grid(moneda = c(\"C\",\"S\"),dado=c(1:6))"
   ]
  },
  {
   "cell_type": "markdown",
   "metadata": {},
   "source": [
    "10.Tienes un conjunto de colores para elegir:\n",
    "\n",
    "```\n",
    "colores <- c(\"rojo\", \"azul\", \"verde\", \"blanco\", \"negro\", \"amarillo\") \n",
    "```\n",
    "\n",
    "Ahora debes  elegir $3$ colores y no puedes elegir el mismo color más de una vez. Enumera todas las combinaciones posibles."
   ]
  },
  {
   "cell_type": "code",
   "execution_count": 11,
   "metadata": {
    "collapsed": false
   },
   "outputs": [
    {
     "data": {
      "text/html": [
       "<table>\n",
       "<tbody>\n",
       "\t<tr><td>rojo    </td><td>rojo    </td><td>rojo    </td><td>rojo    </td><td>rojo    </td><td>rojo    </td><td>rojo    </td><td>rojo    </td><td>rojo    </td><td>rojo    </td><td>azul    </td><td>azul    </td><td>azul    </td><td>azul    </td><td>azul    </td><td>azul    </td><td>verde   </td><td>verde   </td><td>verde   </td><td>blanco  </td></tr>\n",
       "\t<tr><td>azul    </td><td>azul    </td><td>azul    </td><td>azul    </td><td>verde   </td><td>verde   </td><td>verde   </td><td>blanco  </td><td>blanco  </td><td>negro   </td><td>verde   </td><td>verde   </td><td>verde   </td><td>blanco  </td><td>blanco  </td><td>negro   </td><td>blanco  </td><td>blanco  </td><td>negro   </td><td>negro   </td></tr>\n",
       "\t<tr><td>verde   </td><td>blanco  </td><td>negro   </td><td>amarillo</td><td>blanco  </td><td>negro   </td><td>amarillo</td><td>negro   </td><td>amarillo</td><td>amarillo</td><td>blanco  </td><td>negro   </td><td>amarillo</td><td>negro   </td><td>amarillo</td><td>amarillo</td><td>negro   </td><td>amarillo</td><td>amarillo</td><td>amarillo</td></tr>\n",
       "</tbody>\n",
       "</table>\n"
      ],
      "text/latex": [
       "\\begin{tabular}{llllllllllllllllllll}\n",
       "\t rojo     & rojo     & rojo     & rojo     & rojo     & rojo     & rojo     & rojo     & rojo     & rojo     & azul     & azul     & azul     & azul     & azul     & azul     & verde    & verde    & verde    & blanco  \\\\\n",
       "\t azul     & azul     & azul     & azul     & verde    & verde    & verde    & blanco   & blanco   & negro    & verde    & verde    & verde    & blanco   & blanco   & negro    & blanco   & blanco   & negro    & negro   \\\\\n",
       "\t verde    & blanco   & negro    & amarillo & blanco   & negro    & amarillo & negro    & amarillo & amarillo & blanco   & negro    & amarillo & negro    & amarillo & amarillo & negro    & amarillo & amarillo & amarillo\\\\\n",
       "\\end{tabular}\n"
      ],
      "text/markdown": [
       "\n",
       "| rojo     | rojo     | rojo     | rojo     | rojo     | rojo     | rojo     | rojo     | rojo     | rojo     | azul     | azul     | azul     | azul     | azul     | azul     | verde    | verde    | verde    | blanco   | \n",
       "| azul     | azul     | azul     | azul     | verde    | verde    | verde    | blanco   | blanco   | negro    | verde    | verde    | verde    | blanco   | blanco   | negro    | blanco   | blanco   | negro    | negro    | \n",
       "| verde    | blanco   | negro    | amarillo | blanco   | negro    | amarillo | negro    | amarillo | amarillo | blanco   | negro    | amarillo | negro    | amarillo | amarillo | negro    | amarillo | amarillo | amarillo | \n",
       "\n",
       "\n"
      ],
      "text/plain": [
       "     [,1]  [,2]   [,3]  [,4]     [,5]   [,6]  [,7]     [,8]   [,9]     [,10]   \n",
       "[1,] rojo  rojo   rojo  rojo     rojo   rojo  rojo     rojo   rojo     rojo    \n",
       "[2,] azul  azul   azul  azul     verde  verde verde    blanco blanco   negro   \n",
       "[3,] verde blanco negro amarillo blanco negro amarillo negro  amarillo amarillo\n",
       "     [,11]  [,12] [,13]    [,14]  [,15]    [,16]    [,17]  [,18]    [,19]   \n",
       "[1,] azul   azul  azul     azul   azul     azul     verde  verde    verde   \n",
       "[2,] verde  verde verde    blanco blanco   negro    blanco blanco   negro   \n",
       "[3,] blanco negro amarillo negro  amarillo amarillo negro  amarillo amarillo\n",
       "     [,20]   \n",
       "[1,] blanco  \n",
       "[2,] negro   \n",
       "[3,] amarillo"
      ]
     },
     "metadata": {},
     "output_type": "display_data"
    }
   ],
   "source": [
    "colores <- c(\"rojo\", \"azul\", \"verde\", \"blanco\", \"negro\", \"amarillo\")\n",
    "\n",
    "#Elegir 3 colores sin repetir\n",
    "combn(colores,3)"
   ]
  },
  {
   "cell_type": "markdown",
   "metadata": {},
   "source": [
    "11.Tienes el mismo conjunto de colores y puedes elegir $1$, $2$ o $3$. Haz una lista de todas las opciones posibles."
   ]
  },
  {
   "cell_type": "code",
   "execution_count": 12,
   "metadata": {
    "collapsed": false
   },
   "outputs": [
    {
     "data": {
      "text/html": [
       "<table>\n",
       "<tbody>\n",
       "\t<tr><td>rojo    </td><td>azul    </td><td>verde   </td><td>blanco  </td><td>negro   </td><td>amarillo</td></tr>\n",
       "</tbody>\n",
       "</table>\n"
      ],
      "text/latex": [
       "\\begin{tabular}{llllll}\n",
       "\t rojo     & azul     & verde    & blanco   & negro    & amarillo\\\\\n",
       "\\end{tabular}\n"
      ],
      "text/markdown": [
       "\n",
       "| rojo     | azul     | verde    | blanco   | negro    | amarillo | \n",
       "\n",
       "\n"
      ],
      "text/plain": [
       "     [,1] [,2] [,3]  [,4]   [,5]  [,6]    \n",
       "[1,] rojo azul verde blanco negro amarillo"
      ]
     },
     "metadata": {},
     "output_type": "display_data"
    }
   ],
   "source": [
    "#Elegir 1 color sin repetir\n",
    "combn(colores,1)"
   ]
  },
  {
   "cell_type": "code",
   "execution_count": 13,
   "metadata": {
    "collapsed": false
   },
   "outputs": [
    {
     "data": {
      "text/html": [
       "<table>\n",
       "<tbody>\n",
       "\t<tr><td>rojo    </td><td>rojo    </td><td>rojo    </td><td>rojo    </td><td>rojo    </td><td>azul    </td><td>azul    </td><td>azul    </td><td>azul    </td><td>verde   </td><td>verde   </td><td>verde   </td><td>blanco  </td><td>blanco  </td><td>negro   </td></tr>\n",
       "\t<tr><td>azul    </td><td>verde   </td><td>blanco  </td><td>negro   </td><td>amarillo</td><td>verde   </td><td>blanco  </td><td>negro   </td><td>amarillo</td><td>blanco  </td><td>negro   </td><td>amarillo</td><td>negro   </td><td>amarillo</td><td>amarillo</td></tr>\n",
       "</tbody>\n",
       "</table>\n"
      ],
      "text/latex": [
       "\\begin{tabular}{lllllllllllllll}\n",
       "\t rojo     & rojo     & rojo     & rojo     & rojo     & azul     & azul     & azul     & azul     & verde    & verde    & verde    & blanco   & blanco   & negro   \\\\\n",
       "\t azul     & verde    & blanco   & negro    & amarillo & verde    & blanco   & negro    & amarillo & blanco   & negro    & amarillo & negro    & amarillo & amarillo\\\\\n",
       "\\end{tabular}\n"
      ],
      "text/markdown": [
       "\n",
       "| rojo     | rojo     | rojo     | rojo     | rojo     | azul     | azul     | azul     | azul     | verde    | verde    | verde    | blanco   | blanco   | negro    | \n",
       "| azul     | verde    | blanco   | negro    | amarillo | verde    | blanco   | negro    | amarillo | blanco   | negro    | amarillo | negro    | amarillo | amarillo | \n",
       "\n",
       "\n"
      ],
      "text/plain": [
       "     [,1] [,2]  [,3]   [,4]  [,5]     [,6]  [,7]   [,8]  [,9]     [,10]  [,11]\n",
       "[1,] rojo rojo  rojo   rojo  rojo     azul  azul   azul  azul     verde  verde\n",
       "[2,] azul verde blanco negro amarillo verde blanco negro amarillo blanco negro\n",
       "     [,12]    [,13]  [,14]    [,15]   \n",
       "[1,] verde    blanco blanco   negro   \n",
       "[2,] amarillo negro  amarillo amarillo"
      ]
     },
     "metadata": {},
     "output_type": "display_data"
    }
   ],
   "source": [
    "#Elegir 2 colores sin repetir\n",
    "combn(colores,2)"
   ]
  },
  {
   "cell_type": "code",
   "execution_count": 14,
   "metadata": {
    "collapsed": false
   },
   "outputs": [
    {
     "data": {
      "text/html": [
       "<table>\n",
       "<tbody>\n",
       "\t<tr><td>rojo    </td><td>rojo    </td><td>rojo    </td><td>rojo    </td><td>rojo    </td><td>rojo    </td><td>rojo    </td><td>rojo    </td><td>rojo    </td><td>rojo    </td><td>azul    </td><td>azul    </td><td>azul    </td><td>azul    </td><td>azul    </td><td>azul    </td><td>verde   </td><td>verde   </td><td>verde   </td><td>blanco  </td></tr>\n",
       "\t<tr><td>azul    </td><td>azul    </td><td>azul    </td><td>azul    </td><td>verde   </td><td>verde   </td><td>verde   </td><td>blanco  </td><td>blanco  </td><td>negro   </td><td>verde   </td><td>verde   </td><td>verde   </td><td>blanco  </td><td>blanco  </td><td>negro   </td><td>blanco  </td><td>blanco  </td><td>negro   </td><td>negro   </td></tr>\n",
       "\t<tr><td>verde   </td><td>blanco  </td><td>negro   </td><td>amarillo</td><td>blanco  </td><td>negro   </td><td>amarillo</td><td>negro   </td><td>amarillo</td><td>amarillo</td><td>blanco  </td><td>negro   </td><td>amarillo</td><td>negro   </td><td>amarillo</td><td>amarillo</td><td>negro   </td><td>amarillo</td><td>amarillo</td><td>amarillo</td></tr>\n",
       "</tbody>\n",
       "</table>\n"
      ],
      "text/latex": [
       "\\begin{tabular}{llllllllllllllllllll}\n",
       "\t rojo     & rojo     & rojo     & rojo     & rojo     & rojo     & rojo     & rojo     & rojo     & rojo     & azul     & azul     & azul     & azul     & azul     & azul     & verde    & verde    & verde    & blanco  \\\\\n",
       "\t azul     & azul     & azul     & azul     & verde    & verde    & verde    & blanco   & blanco   & negro    & verde    & verde    & verde    & blanco   & blanco   & negro    & blanco   & blanco   & negro    & negro   \\\\\n",
       "\t verde    & blanco   & negro    & amarillo & blanco   & negro    & amarillo & negro    & amarillo & amarillo & blanco   & negro    & amarillo & negro    & amarillo & amarillo & negro    & amarillo & amarillo & amarillo\\\\\n",
       "\\end{tabular}\n"
      ],
      "text/markdown": [
       "\n",
       "| rojo     | rojo     | rojo     | rojo     | rojo     | rojo     | rojo     | rojo     | rojo     | rojo     | azul     | azul     | azul     | azul     | azul     | azul     | verde    | verde    | verde    | blanco   | \n",
       "| azul     | azul     | azul     | azul     | verde    | verde    | verde    | blanco   | blanco   | negro    | verde    | verde    | verde    | blanco   | blanco   | negro    | blanco   | blanco   | negro    | negro    | \n",
       "| verde    | blanco   | negro    | amarillo | blanco   | negro    | amarillo | negro    | amarillo | amarillo | blanco   | negro    | amarillo | negro    | amarillo | amarillo | negro    | amarillo | amarillo | amarillo | \n",
       "\n",
       "\n"
      ],
      "text/plain": [
       "     [,1]  [,2]   [,3]  [,4]     [,5]   [,6]  [,7]     [,8]   [,9]     [,10]   \n",
       "[1,] rojo  rojo   rojo  rojo     rojo   rojo  rojo     rojo   rojo     rojo    \n",
       "[2,] azul  azul   azul  azul     verde  verde verde    blanco blanco   negro   \n",
       "[3,] verde blanco negro amarillo blanco negro amarillo negro  amarillo amarillo\n",
       "     [,11]  [,12] [,13]    [,14]  [,15]    [,16]    [,17]  [,18]    [,19]   \n",
       "[1,] azul   azul  azul     azul   azul     azul     verde  verde    verde   \n",
       "[2,] verde  verde verde    blanco blanco   negro    blanco blanco   negro   \n",
       "[3,] blanco negro amarillo negro  amarillo amarillo negro  amarillo amarillo\n",
       "     [,20]   \n",
       "[1,] blanco  \n",
       "[2,] negro   \n",
       "[3,] amarillo"
      ]
     },
     "metadata": {},
     "output_type": "display_data"
    }
   ],
   "source": [
    "#Elegir 3 colores sin repetir\n",
    "combn(colores,3)"
   ]
  },
  {
   "cell_type": "markdown",
   "metadata": {},
   "source": [
    "12.Responde lo siguiente:"
   ]
  },
  {
   "cell_type": "markdown",
   "metadata": {},
   "source": [
    "(a) Sea $X$ el número de `\"unos\"` obtenidos en 12 lanzamientos  de un dado. Entonces $X$ tiene una  distribución Binomial $(n=12, p=1/3)$ . Calcule una tabla de probabilidades binomiales para $x=0, 1, \\dots ,12$ por dos métodos:"
   ]
  },
  {
   "cell_type": "markdown",
   "metadata": {},
   "source": [
    "* Usando la fórmula para la densidad:\n",
    "$$P(X = K)=\\binom{n}{k}p^{k}(1 -p)^{n -k}$$\n",
    "y aritmética en R. Usa `0:12` para la secuencia de $x$ valores y la función `choose` para calcular los coeficientes binomiales $\\binom{n}{k}$."
   ]
  },
  {
   "cell_type": "code",
   "execution_count": 15,
   "metadata": {
    "collapsed": false
   },
   "outputs": [
    {
     "data": {
      "text/html": [
       "<ol class=list-inline>\n",
       "\t<li>0.00770734662925893</li>\n",
       "\t<li>0.0462440797755536</li>\n",
       "\t<li>0.127171219382772</li>\n",
       "\t<li>0.211952032304621</li>\n",
       "\t<li>0.238446036342698</li>\n",
       "\t<li>0.190756829074159</li>\n",
       "\t<li>0.111274816959926</li>\n",
       "\t<li>0.0476892072685397</li>\n",
       "\t<li>0.0149028772714186</li>\n",
       "\t<li>0.0033117505047597</li>\n",
       "\t<li>0.000496762575713955</li>\n",
       "\t<li>4.51602341558141e-05</li>\n",
       "\t<li>1.88167642315892e-06</li>\n",
       "</ol>\n"
      ],
      "text/latex": [
       "\\begin{enumerate*}\n",
       "\\item 0.00770734662925893\n",
       "\\item 0.0462440797755536\n",
       "\\item 0.127171219382772\n",
       "\\item 0.211952032304621\n",
       "\\item 0.238446036342698\n",
       "\\item 0.190756829074159\n",
       "\\item 0.111274816959926\n",
       "\\item 0.0476892072685397\n",
       "\\item 0.0149028772714186\n",
       "\\item 0.0033117505047597\n",
       "\\item 0.000496762575713955\n",
       "\\item 4.51602341558141e-05\n",
       "\\item 1.88167642315892e-06\n",
       "\\end{enumerate*}\n"
      ],
      "text/markdown": [
       "1. 0.00770734662925893\n",
       "2. 0.0462440797755536\n",
       "3. 0.127171219382772\n",
       "4. 0.211952032304621\n",
       "5. 0.238446036342698\n",
       "6. 0.190756829074159\n",
       "7. 0.111274816959926\n",
       "8. 0.0476892072685397\n",
       "9. 0.0149028772714186\n",
       "10. 0.0033117505047597\n",
       "11. 0.000496762575713955\n",
       "12. 4.51602341558141e-05\n",
       "13. 1.88167642315892e-06\n",
       "\n",
       "\n"
      ],
      "text/plain": [
       " [1] 7.707347e-03 4.624408e-02 1.271712e-01 2.119520e-01 2.384460e-01\n",
       " [6] 1.907568e-01 1.112748e-01 4.768921e-02 1.490288e-02 3.311751e-03\n",
       "[11] 4.967626e-04 4.516023e-05 1.881676e-06"
      ]
     },
     "metadata": {},
     "output_type": "display_data"
    }
   ],
   "source": [
    "res1 <- choose(n=12,k=0:12)*((1/3)**(0:12))*((2/3)**(12:0))\n",
    "res1"
   ]
  },
  {
   "cell_type": "markdown",
   "metadata": {},
   "source": [
    "* Usando la función `dbinom` de R."
   ]
  },
  {
   "cell_type": "code",
   "execution_count": 16,
   "metadata": {
    "collapsed": false
   },
   "outputs": [
    {
     "data": {
      "text/html": [
       "<ol class=list-inline>\n",
       "\t<li>0.00770734662925895</li>\n",
       "\t<li>0.0462440797755536</li>\n",
       "\t<li>0.127171219382773</li>\n",
       "\t<li>0.211952032304621</li>\n",
       "\t<li>0.238446036342698</li>\n",
       "\t<li>0.190756829074159</li>\n",
       "\t<li>0.111274816959926</li>\n",
       "\t<li>0.0476892072685397</li>\n",
       "\t<li>0.0149028772714186</li>\n",
       "\t<li>0.0033117505047597</li>\n",
       "\t<li>0.000496762575713955</li>\n",
       "\t<li>4.51602341558142e-05</li>\n",
       "\t<li>1.88167642315892e-06</li>\n",
       "</ol>\n"
      ],
      "text/latex": [
       "\\begin{enumerate*}\n",
       "\\item 0.00770734662925895\n",
       "\\item 0.0462440797755536\n",
       "\\item 0.127171219382773\n",
       "\\item 0.211952032304621\n",
       "\\item 0.238446036342698\n",
       "\\item 0.190756829074159\n",
       "\\item 0.111274816959926\n",
       "\\item 0.0476892072685397\n",
       "\\item 0.0149028772714186\n",
       "\\item 0.0033117505047597\n",
       "\\item 0.000496762575713955\n",
       "\\item 4.51602341558142e-05\n",
       "\\item 1.88167642315892e-06\n",
       "\\end{enumerate*}\n"
      ],
      "text/markdown": [
       "1. 0.00770734662925895\n",
       "2. 0.0462440797755536\n",
       "3. 0.127171219382773\n",
       "4. 0.211952032304621\n",
       "5. 0.238446036342698\n",
       "6. 0.190756829074159\n",
       "7. 0.111274816959926\n",
       "8. 0.0476892072685397\n",
       "9. 0.0149028772714186\n",
       "10. 0.0033117505047597\n",
       "11. 0.000496762575713955\n",
       "12. 4.51602341558142e-05\n",
       "13. 1.88167642315892e-06\n",
       "\n",
       "\n"
      ],
      "text/plain": [
       " [1] 7.707347e-03 4.624408e-02 1.271712e-01 2.119520e-01 2.384460e-01\n",
       " [6] 1.907568e-01 1.112748e-01 4.768921e-02 1.490288e-02 3.311751e-03\n",
       "[11] 4.967626e-04 4.516023e-05 1.881676e-06"
      ]
     },
     "metadata": {},
     "output_type": "display_data"
    }
   ],
   "source": [
    "res2 <- dbinom(x=0:12,size=12,prob=1/3)\n",
    "res2"
   ]
  },
  {
   "cell_type": "markdown",
   "metadata": {},
   "source": [
    "Compara los resultados con ambos métodos:"
   ]
  },
  {
   "cell_type": "code",
   "execution_count": 17,
   "metadata": {
    "collapsed": false
   },
   "outputs": [
    {
     "data": {
      "text/html": [
       "TRUE"
      ],
      "text/latex": [
       "TRUE"
      ],
      "text/markdown": [
       "TRUE"
      ],
      "text/plain": [
       "[1] TRUE"
      ]
     },
     "metadata": {},
     "output_type": "display_data"
    }
   ],
   "source": [
    "#Para comparar usamos all.equal()\n",
    "all.equal(res1,res2)"
   ]
  },
  {
   "cell_type": "markdown",
   "metadata": {},
   "source": [
    "(b) Sea $X$ el número de `\"unos\"` obtenidos en 12 lanzamientos  de un dado. Entonces $X$ tiene una  distribución Binomial $(n=12, p=1/3)$. Calcule el CDF para $x=0, 1, \\dots ,12$ por dos métodos:\n"
   ]
  },
  {
   "cell_type": "markdown",
   "metadata": {},
   "source": [
    "* Usando la función `cumsum` y el resultado del ejercicio anterior."
   ]
  },
  {
   "cell_type": "code",
   "execution_count": 18,
   "metadata": {
    "collapsed": false
   },
   "outputs": [
    {
     "data": {
      "text/html": [
       "<ol class=list-inline>\n",
       "\t<li>0.00770734662925895</li>\n",
       "\t<li>0.0539514264048126</li>\n",
       "\t<li>0.181122645787585</li>\n",
       "\t<li>0.393074678092206</li>\n",
       "\t<li>0.631520714434904</li>\n",
       "\t<li>0.822277543509063</li>\n",
       "\t<li>0.933552360468989</li>\n",
       "\t<li>0.981241567737529</li>\n",
       "\t<li>0.996144445008947</li>\n",
       "\t<li>0.999456195513707</li>\n",
       "\t<li>0.999952958089421</li>\n",
       "\t<li>0.999998118323577</li>\n",
       "\t<li>1</li>\n",
       "</ol>\n"
      ],
      "text/latex": [
       "\\begin{enumerate*}\n",
       "\\item 0.00770734662925895\n",
       "\\item 0.0539514264048126\n",
       "\\item 0.181122645787585\n",
       "\\item 0.393074678092206\n",
       "\\item 0.631520714434904\n",
       "\\item 0.822277543509063\n",
       "\\item 0.933552360468989\n",
       "\\item 0.981241567737529\n",
       "\\item 0.996144445008947\n",
       "\\item 0.999456195513707\n",
       "\\item 0.999952958089421\n",
       "\\item 0.999998118323577\n",
       "\\item 1\n",
       "\\end{enumerate*}\n"
      ],
      "text/markdown": [
       "1. 0.00770734662925895\n",
       "2. 0.0539514264048126\n",
       "3. 0.181122645787585\n",
       "4. 0.393074678092206\n",
       "5. 0.631520714434904\n",
       "6. 0.822277543509063\n",
       "7. 0.933552360468989\n",
       "8. 0.981241567737529\n",
       "9. 0.996144445008947\n",
       "10. 0.999456195513707\n",
       "11. 0.999952958089421\n",
       "12. 0.999998118323577\n",
       "13. 1\n",
       "\n",
       "\n"
      ],
      "text/plain": [
       " [1] 0.007707347 0.053951426 0.181122646 0.393074678 0.631520714 0.822277544\n",
       " [7] 0.933552360 0.981241568 0.996144445 0.999456196 0.999952958 0.999998118\n",
       "[13] 1.000000000"
      ]
     },
     "metadata": {},
     "output_type": "display_data"
    }
   ],
   "source": [
    "cumsum(res2)"
   ]
  },
  {
   "cell_type": "markdown",
   "metadata": {},
   "source": [
    "* Con el uso de la función `pbinom`."
   ]
  },
  {
   "cell_type": "code",
   "execution_count": 19,
   "metadata": {
    "collapsed": false
   },
   "outputs": [
    {
     "data": {
      "text/html": [
       "<ol class=list-inline>\n",
       "\t<li>0.00770734662925895</li>\n",
       "\t<li>0.0539514264048127</li>\n",
       "\t<li>0.181122645787585</li>\n",
       "\t<li>0.393074678092207</li>\n",
       "\t<li>0.631520714434904</li>\n",
       "\t<li>0.822277543509063</li>\n",
       "\t<li>0.933552360468989</li>\n",
       "\t<li>0.981241567737529</li>\n",
       "\t<li>0.996144445008947</li>\n",
       "\t<li>0.999456195513707</li>\n",
       "\t<li>0.999952958089421</li>\n",
       "\t<li>0.999998118323577</li>\n",
       "\t<li>1</li>\n",
       "</ol>\n"
      ],
      "text/latex": [
       "\\begin{enumerate*}\n",
       "\\item 0.00770734662925895\n",
       "\\item 0.0539514264048127\n",
       "\\item 0.181122645787585\n",
       "\\item 0.393074678092207\n",
       "\\item 0.631520714434904\n",
       "\\item 0.822277543509063\n",
       "\\item 0.933552360468989\n",
       "\\item 0.981241567737529\n",
       "\\item 0.996144445008947\n",
       "\\item 0.999456195513707\n",
       "\\item 0.999952958089421\n",
       "\\item 0.999998118323577\n",
       "\\item 1\n",
       "\\end{enumerate*}\n"
      ],
      "text/markdown": [
       "1. 0.00770734662925895\n",
       "2. 0.0539514264048127\n",
       "3. 0.181122645787585\n",
       "4. 0.393074678092207\n",
       "5. 0.631520714434904\n",
       "6. 0.822277543509063\n",
       "7. 0.933552360468989\n",
       "8. 0.981241567737529\n",
       "9. 0.996144445008947\n",
       "10. 0.999456195513707\n",
       "11. 0.999952958089421\n",
       "12. 0.999998118323577\n",
       "13. 1\n",
       "\n",
       "\n"
      ],
      "text/plain": [
       " [1] 0.007707347 0.053951426 0.181122646 0.393074678 0.631520714 0.822277544\n",
       " [7] 0.933552360 0.981241568 0.996144445 0.999456196 0.999952958 0.999998118\n",
       "[13] 1.000000000"
      ]
     },
     "metadata": {},
     "output_type": "display_data"
    }
   ],
   "source": [
    "pbinom(q=0:12,size=12,prob=1/3)"
   ]
  },
  {
   "cell_type": "markdown",
   "metadata": {},
   "source": [
    "¿Qué es $P(X >7)$?"
   ]
  },
  {
   "cell_type": "code",
   "execution_count": 20,
   "metadata": {
    "collapsed": false
   },
   "outputs": [
    {
     "data": {
      "text/html": [
       "0.0187584322624712"
      ],
      "text/latex": [
       "0.0187584322624712"
      ],
      "text/markdown": [
       "0.0187584322624712"
      ],
      "text/plain": [
       "[1] 0.01875843"
      ]
     },
     "metadata": {},
     "output_type": "display_data"
    }
   ],
   "source": [
    "#P(X>7) = 1 - P(X<=7)\n",
    "1-sum(dbinom(x=0:7,size=12,prob=1/3))"
   ]
  },
  {
   "cell_type": "markdown",
   "metadata": {},
   "source": [
    "13.Responde lo siguiente:"
   ]
  },
  {
   "cell_type": "markdown",
   "metadata": {},
   "source": [
    "(a) ¿Cuál es la probabilidad de que una persona sea menor o igual a 1.90 m? Usa `pnorm`."
   ]
  },
  {
   "cell_type": "code",
   "execution_count": 21,
   "metadata": {
    "collapsed": false
   },
   "outputs": [
    {
     "data": {
      "text/html": [
       "0.971283440183998"
      ],
      "text/latex": [
       "0.971283440183998"
      ],
      "text/markdown": [
       "0.971283440183998"
      ],
      "text/plain": [
       "[1] 0.9712834"
      ]
     },
     "metadata": {},
     "output_type": "display_data"
    }
   ],
   "source": [
    "#P[X<=1.9]\n",
    "pnorm(1.90)"
   ]
  },
  {
   "cell_type": "markdown",
   "metadata": {},
   "source": [
    "(b) ¿Cuál es la probabilidad de que una persona sea más alta o igual a 1.60 m?. Usa `pnorm`."
   ]
  },
  {
   "cell_type": "code",
   "execution_count": 22,
   "metadata": {
    "collapsed": false
   },
   "outputs": [
    {
     "data": {
      "text/html": [
       "0.054799291699558"
      ],
      "text/latex": [
       "0.054799291699558"
      ],
      "text/markdown": [
       "0.054799291699558"
      ],
      "text/plain": [
       "[1] 0.05479929"
      ]
     },
     "metadata": {},
     "output_type": "display_data"
    }
   ],
   "source": [
    "#P[X>=1.6]\n",
    "1 - pnorm(1.60)"
   ]
  },
  {
   "cell_type": "markdown",
   "metadata": {},
   "source": [
    "14.Cuál es la probabilidad de que una persona espere menos de $10$ minutos?. Utiliza `pexp`."
   ]
  },
  {
   "cell_type": "code",
   "execution_count": 23,
   "metadata": {
    "collapsed": false
   },
   "outputs": [
    {
     "data": {
      "text/html": [
       "0.999954600070238"
      ],
      "text/latex": [
       "0.999954600070238"
      ],
      "text/markdown": [
       "0.999954600070238"
      ],
      "text/plain": [
       "[1] 0.9999546"
      ]
     },
     "metadata": {},
     "output_type": "display_data"
    }
   ],
   "source": [
    "pexp(10)"
   ]
  },
  {
   "cell_type": "markdown",
   "metadata": {},
   "source": [
    "15.Ejecuta las siguientes líneas que crean dos vectores de enteros aleatorios que se eligen con reemplazo de los enteros $0, 1,\\dots, 999$ . Ambos vectores tienen una longitud de $250$."
   ]
  },
  {
   "cell_type": "code",
   "execution_count": 24,
   "metadata": {
    "collapsed": true
   },
   "outputs": [],
   "source": [
    "set.seed(50) \n",
    "#dada la misma semilla (en este caso 50), se obtiene la misma secuencia\n",
    "#tanto de xVec como de yVec\n",
    "xVec <- sample(0:999, 250, replace=T)\n",
    "yVec <- sample(0:999, 250, replace=T)"
   ]
  }
 ],
 "metadata": {
  "kernelspec": {
   "display_name": "R",
   "language": "R",
   "name": "ir"
  },
  "language_info": {
   "codemirror_mode": "r",
   "file_extension": ".r",
   "mimetype": "text/x-r-source",
   "name": "R",
   "pygments_lexer": "r",
   "version": "3.3.2"
  }
 },
 "nbformat": 4,
 "nbformat_minor": 2
}
