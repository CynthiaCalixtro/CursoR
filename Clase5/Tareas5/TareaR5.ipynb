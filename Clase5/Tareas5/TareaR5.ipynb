{
 "cells": [
  {
   "cell_type": "markdown",
   "metadata": {},
   "source": [
    "# Lista de ejercicios 3\n",
    "\n",
    "1.Definimos:\n",
    "```\n",
    "x <- c(5, 2, 1, 4)\n",
    "y <- rep(1, 5)\n",
    "```\n",
    "Predice las soluciones antes de escribir los comandos:"
   ]
  },
  {
   "cell_type": "markdown",
   "metadata": {},
   "source": [
    "(a)\n",
    "\n",
    "- `sum(x)` \n",
    "\n",
    "La salida sería **12**, es decir, la suma de los elementos del `vector x`.\n",
    "\n",
    "- `range(x)` \n",
    "\n",
    "La salida sería el vector **(1, 5)** donde sus elementos son el menor y el mayor elemento del `vector x`.\n",
    "\n",
    "- `sum(y)` \n",
    "\n",
    "La salida sería **5**, esto es la suma de los elementos del `vector y`.\n",
    "\n",
    "- `length(y)` \n",
    "\n",
    "La salida sería **5**, esto es la longitud del `vector y`.\n",
    "\n",
    "- `sum(y)` \n",
    "\n",
    "La salida sería **5**, esto es la suma de los elementos del `vector y`."
   ]
  },
  {
   "cell_type": "markdown",
   "metadata": {},
   "source": [
    "(b)\n",
    "- `c(x, y, 13)` \n",
    "\n",
    "La salida sería el vector **(5, 2, 1, 4, 1, 1, 1, 1, 1, 13)**. Concatena **x** con **y** con el número **13**."
   ]
  },
  {
   "cell_type": "markdown",
   "metadata": {},
   "source": [
    "(c)\n",
    "\n",
    "- `x[4] * y[2]` \n",
    "\n",
    "La salida sería **4**. Esto es el 4to elemento del vector **x** multiplicado por el 2do elemento del vector **y**.\n",
    "\n",
    "- `x[2:4] + x[1:3]` \n",
    "\n",
    "La salida sería el vector **(7, 3, 5)**, es decir, $(x[2]+x[1], x[3]+x[2], x[4]+x[3])$."
   ]
  },
  {
   "cell_type": "markdown",
   "metadata": {},
   "source": [
    "(d)\n",
    "\n",
    "- `x <= 2` \n",
    "\n",
    "Evalúa la condición para cada componente del vector **x**. La salida sería **FALSE, TRUE, TRUE, FALSE**.\n",
    "\n",
    "- `x[x <= 2]` \n",
    "\n",
    "Evalúa la condición para cada componente del vector **x** y retorna los elementos que cumplen dicha condición. La salida sería **2, 1**.\n",
    "\n",
    "- `x[(x != 5) & (x > 3)]` \n",
    "\n",
    "Evalúa la condición para cada componente del vector **x** y retorna los elementos que cumplen dicha condición. La salida sería **4**.\n"
   ]
  },
  {
   "cell_type": "markdown",
   "metadata": {},
   "source": [
    "(e)\n",
    "\n",
    "- `rep(1:4,2)` \n",
    "\n",
    "La salida sería el vector **(1,2,3,4,1,2,3,4)**. Ya que repite el vector `(1,2,3,4)` dos veces.\n",
    "\n",
    "- `rep(1:4,each = 2)` \n",
    "\n",
    "La salida sería el vector **(1,1,2,2,3,3,4,4)**. Ya que repite 2 veces cada elemento del vector `1:4`.\n",
    "\n",
    "- `rep(1:4,c(2, 1, 2, 1))` \n",
    "\n",
    "La salida sería el vector **(1,1,2,3,3,4)**. Ya que repite cada elemento del primer vector `1:4` la cantidad de veces indicada por cada elemento del segundo vector `c(2, 1, 2, 1)`.\n",
    "\n",
    "- `rep(1:4,each = 2, len = 10)`\n",
    "\n",
    "La salida sería el vector **(1,1,2,2,3,3,4,4,1,1)**. Ya que repite 2 veces cada elemento del vector `1:4` hasta que el vector resultante tenga 10 elementos."
   ]
  },
  {
   "cell_type": "markdown",
   "metadata": {},
   "source": [
    "(f)\n",
    "\n",
    "- `2:3^2` \n",
    "\n",
    "La salida sería el vector **(2, 3, 4, 5, 6, 7, 8, 9)**. Estos son los números del $2$ al $3^2$, es decir, del $2$ al $9$.\n",
    "\n",
    "- `seq(2, -3) * c(-1, 1)` \n",
    "\n",
    "Multiplica componente a componente. Como el 2do vector es de menor longitud y, además, como la longitud del 1ero es múltiplo del otro, R hace un ***recycling***. La salida sería el vector **(-2, 1, 0, -1, 2, -3)**."
   ]
  },
  {
   "cell_type": "markdown",
   "metadata": {},
   "source": [
    "2."
   ]
  },
  {
   "cell_type": "markdown",
   "metadata": {},
   "source": [
    "- Describe importantes diferencias entre las estructuras fundamentales de $R$: `vectores`, `matrices`, `arrays` y `listas`. Usa ejemplos para demostrar esas diferencias."
   ]
  },
  {
   "cell_type": "markdown",
   "metadata": {},
   "source": [
    "**VECTORES** \n",
    "\n",
    "1. El vector es la estructura más básica de datos en R. \n",
    "2. Es una concatenación de datos.\n",
    "3. Todos sus elementos deben ser del mismo tipo. Si tienen diferentes tipos se convierten a uno común (***coerción***).\n",
    "4. Cada dato recibe un ***índice*** según el orden en el que se concatenó (empezando por 1).\n",
    "5. Podemos acceder a cada elemento por su ínidce."
   ]
  },
  {
   "cell_type": "code",
   "execution_count": 1,
   "metadata": {
    "collapsed": false
   },
   "outputs": [
    {
     "name": "stderr",
     "output_type": "stream",
     "text": [
      "Coerción: \n"
     ]
    },
    {
     "data": {
      "text/html": [
       "<ol class=list-inline>\n",
       "\t<li>'1'</li>\n",
       "\t<li>'2'</li>\n",
       "\t<li>'3'</li>\n",
       "\t<li>'4'</li>\n",
       "</ol>\n"
      ],
      "text/latex": [
       "\\begin{enumerate*}\n",
       "\\item '1'\n",
       "\\item '2'\n",
       "\\item '3'\n",
       "\\item '4'\n",
       "\\end{enumerate*}\n"
      ],
      "text/markdown": [
       "1. '1'\n",
       "2. '2'\n",
       "3. '3'\n",
       "4. '4'\n",
       "\n",
       "\n"
      ],
      "text/plain": [
       "[1] \"1\" \"2\" \"3\" \"4\""
      ]
     },
     "metadata": {},
     "output_type": "display_data"
    },
    {
     "name": "stderr",
     "output_type": "stream",
     "text": [
      "Accediendo al segundo elemento del vector: \n"
     ]
    },
    {
     "data": {
      "text/html": [
       "'2'"
      ],
      "text/latex": [
       "'2'"
      ],
      "text/markdown": [
       "'2'"
      ],
      "text/plain": [
       "[1] \"2\""
      ]
     },
     "metadata": {},
     "output_type": "display_data"
    }
   ],
   "source": [
    "message(\"Coerción: \")\n",
    "datos <- c('1',2,3,4)\n",
    "datos\n",
    "\n",
    "message(\"Accediendo al segundo elemento del vector: \")\n",
    "datos[2] "
   ]
  },
  {
   "cell_type": "markdown",
   "metadata": {},
   "source": [
    "**ARRAYS**\n",
    "1. Todos los elementos deben ser del mismo tipo.\n",
    "2. Tiene un atributo adicional (***dim***) el cual a su vez es un vector numérico de dimensiones (números enteros positivos) formado por varios índices."
   ]
  },
  {
   "cell_type": "code",
   "execution_count": 2,
   "metadata": {
    "collapsed": false
   },
   "outputs": [
    {
     "data": {
      "text/html": [
       "<ol class=list-inline>\n",
       "\t<li>1</li>\n",
       "\t<li>2</li>\n",
       "\t<li>3</li>\n",
       "\t<li>4</li>\n",
       "\t<li>5</li>\n",
       "\t<li>6</li>\n",
       "\t<li>7</li>\n",
       "\t<li>8</li>\n",
       "\t<li>9</li>\n",
       "\t<li>10</li>\n",
       "\t<li>11</li>\n",
       "\t<li>12</li>\n",
       "\t<li>13</li>\n",
       "\t<li>14</li>\n",
       "\t<li>15</li>\n",
       "\t<li>16</li>\n",
       "\t<li>17</li>\n",
       "\t<li>18</li>\n",
       "\t<li>19</li>\n",
       "\t<li>20</li>\n",
       "\t<li>21</li>\n",
       "\t<li>22</li>\n",
       "\t<li>23</li>\n",
       "\t<li>24</li>\n",
       "</ol>\n"
      ],
      "text/latex": [
       "\\begin{enumerate*}\n",
       "\\item 1\n",
       "\\item 2\n",
       "\\item 3\n",
       "\\item 4\n",
       "\\item 5\n",
       "\\item 6\n",
       "\\item 7\n",
       "\\item 8\n",
       "\\item 9\n",
       "\\item 10\n",
       "\\item 11\n",
       "\\item 12\n",
       "\\item 13\n",
       "\\item 14\n",
       "\\item 15\n",
       "\\item 16\n",
       "\\item 17\n",
       "\\item 18\n",
       "\\item 19\n",
       "\\item 20\n",
       "\\item 21\n",
       "\\item 22\n",
       "\\item 23\n",
       "\\item 24\n",
       "\\end{enumerate*}\n"
      ],
      "text/markdown": [
       "1. 1\n",
       "2. 2\n",
       "3. 3\n",
       "4. 4\n",
       "5. 5\n",
       "6. 6\n",
       "7. 7\n",
       "8. 8\n",
       "9. 9\n",
       "10. 10\n",
       "11. 11\n",
       "12. 12\n",
       "13. 13\n",
       "14. 14\n",
       "15. 15\n",
       "16. 16\n",
       "17. 17\n",
       "18. 18\n",
       "19. 19\n",
       "20. 20\n",
       "21. 21\n",
       "22. 22\n",
       "23. 23\n",
       "24. 24\n",
       "\n",
       "\n"
      ],
      "text/plain": [
       ", , 1\n",
       "\n",
       "     [,1] [,2] [,3]\n",
       "[1,]    1    5    9\n",
       "[2,]    2    6   10\n",
       "[3,]    3    7   11\n",
       "[4,]    4    8   12\n",
       "\n",
       ", , 2\n",
       "\n",
       "     [,1] [,2] [,3]\n",
       "[1,]   13   17   21\n",
       "[2,]   14   18   22\n",
       "[3,]   15   19   23\n",
       "[4,]   16   20   24\n"
      ]
     },
     "metadata": {},
     "output_type": "display_data"
    }
   ],
   "source": [
    "mi_array <- array(1:24, dim = c(4,3,2))\n",
    "mi_array"
   ]
  },
  {
   "cell_type": "markdown",
   "metadata": {},
   "source": [
    "**MATRICES**\n",
    "1. Caso particular del array con 2 dimensiones.\n",
    "2. Tiene un atributo adicional (**dim**) el cual a su vez es un vector numérico de longitud 2, que define el número de filas y columnas de la matriz.\n",
    "3. Todos sus elementos deben ser del mismo tipo."
   ]
  },
  {
   "cell_type": "code",
   "execution_count": 3,
   "metadata": {
    "collapsed": false
   },
   "outputs": [
    {
     "data": {
      "text/html": [
       "<table>\n",
       "<tbody>\n",
       "\t<tr><td>1</td><td>4</td></tr>\n",
       "\t<tr><td>2</td><td>5</td></tr>\n",
       "\t<tr><td>3</td><td>6</td></tr>\n",
       "</tbody>\n",
       "</table>\n"
      ],
      "text/latex": [
       "\\begin{tabular}{ll}\n",
       "\t 1 & 4\\\\\n",
       "\t 2 & 5\\\\\n",
       "\t 3 & 6\\\\\n",
       "\\end{tabular}\n"
      ],
      "text/markdown": [
       "\n",
       "| 1 | 4 | \n",
       "| 2 | 5 | \n",
       "| 3 | 6 | \n",
       "\n",
       "\n"
      ],
      "text/plain": [
       "     [,1] [,2]\n",
       "[1,] 1    4   \n",
       "[2,] 2    5   \n",
       "[3,] 3    6   "
      ]
     },
     "metadata": {},
     "output_type": "display_data"
    }
   ],
   "source": [
    "mi_matriz <- matrix(1:6,nrow = 3)\n",
    "mi_matriz"
   ]
  },
  {
   "cell_type": "markdown",
   "metadata": {},
   "source": [
    "**LISTAS**\n",
    "1. Colección de elementos que pueden ser de diferentes tipos y de diferentes longitudes.\n",
    "2. Generalmente, los elementos de una lista están identificados por un nombre, siempre que lo tenga.\n",
    "3. Para obtener los elementos de una lista se utiliza el operador $.\n",
    "4. Podemos acceder a un elemento por los índices."
   ]
  },
  {
   "cell_type": "code",
   "execution_count": 4,
   "metadata": {
    "collapsed": false
   },
   "outputs": [
    {
     "name": "stderr",
     "output_type": "stream",
     "text": [
      "Creando lista:\n"
     ]
    },
    {
     "data": {
      "text/html": [
       "<dl>\n",
       "\t<dt>$hombre</dt>\n",
       "\t\t<dd>'Pedro'</dd>\n",
       "\t<dt>$mujer</dt>\n",
       "\t\t<dd>'Maria'</dd>\n",
       "\t<dt>$casados</dt>\n",
       "\t\t<dd>TRUE</dd>\n",
       "\t<dt>$num.hijos</dt>\n",
       "\t\t<dd>3</dd>\n",
       "\t<dt>$edad.hijos</dt>\n",
       "\t\t<dd><ol class=list-inline>\n",
       "\t<li>4</li>\n",
       "\t<li>7</li>\n",
       "\t<li>9</li>\n",
       "</ol>\n",
       "</dd>\n",
       "</dl>\n"
      ],
      "text/latex": [
       "\\begin{description}\n",
       "\\item[\\$hombre] 'Pedro'\n",
       "\\item[\\$mujer] 'Maria'\n",
       "\\item[\\$casados] TRUE\n",
       "\\item[\\$num.hijos] 3\n",
       "\\item[\\$edad.hijos] \\begin{enumerate*}\n",
       "\\item 4\n",
       "\\item 7\n",
       "\\item 9\n",
       "\\end{enumerate*}\n",
       "\n",
       "\\end{description}\n"
      ],
      "text/markdown": [
       "$hombre\n",
       ":   'Pedro'\n",
       "$mujer\n",
       ":   'Maria'\n",
       "$casados\n",
       ":   TRUE\n",
       "$num.hijos\n",
       ":   3\n",
       "$edad.hijos\n",
       ":   1. 4\n",
       "2. 7\n",
       "3. 9\n",
       "\n",
       "\n",
       "\n",
       "\n",
       "\n"
      ],
      "text/plain": [
       "$hombre\n",
       "[1] \"Pedro\"\n",
       "\n",
       "$mujer\n",
       "[1] \"Maria\"\n",
       "\n",
       "$casados\n",
       "[1] TRUE\n",
       "\n",
       "$num.hijos\n",
       "[1] 3\n",
       "\n",
       "$edad.hijos\n",
       "[1] 4 7 9\n"
      ]
     },
     "metadata": {},
     "output_type": "display_data"
    },
    {
     "name": "stderr",
     "output_type": "stream",
     "text": [
      "Accediendo a los elementos con el operador $:\n"
     ]
    },
    {
     "data": {
      "text/html": [
       "'Pedro'"
      ],
      "text/latex": [
       "'Pedro'"
      ],
      "text/markdown": [
       "'Pedro'"
      ],
      "text/plain": [
       "[1] \"Pedro\""
      ]
     },
     "metadata": {},
     "output_type": "display_data"
    },
    {
     "data": {
      "text/html": [
       "TRUE"
      ],
      "text/latex": [
       "TRUE"
      ],
      "text/markdown": [
       "TRUE"
      ],
      "text/plain": [
       "[1] TRUE"
      ]
     },
     "metadata": {},
     "output_type": "display_data"
    },
    {
     "name": "stderr",
     "output_type": "stream",
     "text": [
      "Accediendo a los elementos con los índices:\n"
     ]
    },
    {
     "data": {
      "text/html": [
       "<ol class=list-inline>\n",
       "\t<li>4</li>\n",
       "\t<li>7</li>\n",
       "\t<li>9</li>\n",
       "</ol>\n"
      ],
      "text/latex": [
       "\\begin{enumerate*}\n",
       "\\item 4\n",
       "\\item 7\n",
       "\\item 9\n",
       "\\end{enumerate*}\n"
      ],
      "text/markdown": [
       "1. 4\n",
       "2. 7\n",
       "3. 9\n",
       "\n",
       "\n"
      ],
      "text/plain": [
       "[1] 4 7 9"
      ]
     },
     "metadata": {},
     "output_type": "display_data"
    }
   ],
   "source": [
    "message(\"Creando lista:\")\n",
    "mi_lista <- list(hombre = \"Pedro\", mujer = \"Maria\",casados = TRUE, num.hijos = 3, edad.hijos = c(4,7,9))\n",
    "mi_lista\n",
    "\n",
    "message(\"Accediendo a los elementos con el operador $:\")\n",
    "mi_lista$hombre\n",
    "mi_lista$casados\n",
    "\n",
    "message(\"Accediendo a los elementos con los índices:\")\n",
    "mi_lista[[5]]"
   ]
  },
  {
   "cell_type": "markdown",
   "metadata": {},
   "source": [
    "- Explicar las diferencias entre las funciones `rbind()`, `cbind()` y `merge()` para combinar dos estructuras de dos dimensiones en $R$. Usa ejemplos para demostrar esas diferencias."
   ]
  },
  {
   "cell_type": "markdown",
   "metadata": {},
   "source": [
    "**rbind()**\n",
    "\n",
    "Toma una secuencia de vectores, matrices o data frames y los combina por filas."
   ]
  },
  {
   "cell_type": "code",
   "execution_count": 5,
   "metadata": {
    "collapsed": false
   },
   "outputs": [
    {
     "name": "stderr",
     "output_type": "stream",
     "text": [
      "COMBINANDO VECTORES POR FILA: \n",
      "Vector a: \n"
     ]
    },
    {
     "data": {
      "text/html": [
       "<ol class=list-inline>\n",
       "\t<li>1</li>\n",
       "\t<li>2</li>\n",
       "\t<li>3</li>\n",
       "</ol>\n"
      ],
      "text/latex": [
       "\\begin{enumerate*}\n",
       "\\item 1\n",
       "\\item 2\n",
       "\\item 3\n",
       "\\end{enumerate*}\n"
      ],
      "text/markdown": [
       "1. 1\n",
       "2. 2\n",
       "3. 3\n",
       "\n",
       "\n"
      ],
      "text/plain": [
       "[1] 1 2 3"
      ]
     },
     "metadata": {},
     "output_type": "display_data"
    },
    {
     "name": "stderr",
     "output_type": "stream",
     "text": [
      "Vector b: \n"
     ]
    },
    {
     "data": {
      "text/html": [
       "<ol class=list-inline>\n",
       "\t<li>4</li>\n",
       "\t<li>5</li>\n",
       "\t<li>6</li>\n",
       "</ol>\n"
      ],
      "text/latex": [
       "\\begin{enumerate*}\n",
       "\\item 4\n",
       "\\item 5\n",
       "\\item 6\n",
       "\\end{enumerate*}\n"
      ],
      "text/markdown": [
       "1. 4\n",
       "2. 5\n",
       "3. 6\n",
       "\n",
       "\n"
      ],
      "text/plain": [
       "[1] 4 5 6"
      ]
     },
     "metadata": {},
     "output_type": "display_data"
    },
    {
     "name": "stderr",
     "output_type": "stream",
     "text": [
      "Matriz resultante: \n"
     ]
    },
    {
     "data": {
      "text/html": [
       "<table>\n",
       "<tbody>\n",
       "\t<tr><th scope=row>a</th><td>1</td><td>2</td><td>3</td></tr>\n",
       "\t<tr><th scope=row>b</th><td>4</td><td>5</td><td>6</td></tr>\n",
       "</tbody>\n",
       "</table>\n"
      ],
      "text/latex": [
       "\\begin{tabular}{r|lll}\n",
       "\ta & 1 & 2 & 3\\\\\n",
       "\tb & 4 & 5 & 6\\\\\n",
       "\\end{tabular}\n"
      ],
      "text/markdown": [
       "\n",
       "| a | 1 | 2 | 3 | \n",
       "| b | 4 | 5 | 6 | \n",
       "\n",
       "\n"
      ],
      "text/plain": [
       "  [,1] [,2] [,3]\n",
       "a 1    2    3   \n",
       "b 4    5    6   "
      ]
     },
     "metadata": {},
     "output_type": "display_data"
    },
    {
     "name": "stderr",
     "output_type": "stream",
     "text": [
      "COMBINANDO MATRICES POR FILA: \n",
      "Matriz A: \n"
     ]
    },
    {
     "data": {
      "text/html": [
       "<table>\n",
       "<thead><tr><th></th><th scope=col>c1</th><th scope=col>c2</th><th scope=col>c3</th></tr></thead>\n",
       "<tbody>\n",
       "\t<tr><th scope=row>f1</th><td>1 </td><td>5 </td><td> 9</td></tr>\n",
       "\t<tr><th scope=row>f2</th><td>2 </td><td>6 </td><td>10</td></tr>\n",
       "\t<tr><th scope=row>f3</th><td>3 </td><td>7 </td><td>11</td></tr>\n",
       "\t<tr><th scope=row>f4</th><td>4 </td><td>8 </td><td>12</td></tr>\n",
       "</tbody>\n",
       "</table>\n"
      ],
      "text/latex": [
       "\\begin{tabular}{r|lll}\n",
       "  & c1 & c2 & c3\\\\\n",
       "\\hline\n",
       "\tf1 & 1  & 5  &  9\\\\\n",
       "\tf2 & 2  & 6  & 10\\\\\n",
       "\tf3 & 3  & 7  & 11\\\\\n",
       "\tf4 & 4  & 8  & 12\\\\\n",
       "\\end{tabular}\n"
      ],
      "text/markdown": [
       "\n",
       "| <!--/--> | c1 | c2 | c3 | \n",
       "|---|---|---|---|\n",
       "| f1 | 1  | 5  |  9 | \n",
       "| f2 | 2  | 6  | 10 | \n",
       "| f3 | 3  | 7  | 11 | \n",
       "| f4 | 4  | 8  | 12 | \n",
       "\n",
       "\n"
      ],
      "text/plain": [
       "   c1 c2 c3\n",
       "f1 1  5   9\n",
       "f2 2  6  10\n",
       "f3 3  7  11\n",
       "f4 4  8  12"
      ]
     },
     "metadata": {},
     "output_type": "display_data"
    },
    {
     "name": "stderr",
     "output_type": "stream",
     "text": [
      "Matriz B: \n"
     ]
    },
    {
     "data": {
      "text/html": [
       "<table>\n",
       "<thead><tr><th></th><th scope=col>c4</th><th scope=col>c5</th><th scope=col>c6</th></tr></thead>\n",
       "<tbody>\n",
       "\t<tr><th scope=row>f5</th><td>2 </td><td>10</td><td>18</td></tr>\n",
       "\t<tr><th scope=row>f6</th><td>4 </td><td>12</td><td>20</td></tr>\n",
       "\t<tr><th scope=row>f7</th><td>6 </td><td>14</td><td>22</td></tr>\n",
       "\t<tr><th scope=row>f8</th><td>8 </td><td>16</td><td>24</td></tr>\n",
       "</tbody>\n",
       "</table>\n"
      ],
      "text/latex": [
       "\\begin{tabular}{r|lll}\n",
       "  & c4 & c5 & c6\\\\\n",
       "\\hline\n",
       "\tf5 & 2  & 10 & 18\\\\\n",
       "\tf6 & 4  & 12 & 20\\\\\n",
       "\tf7 & 6  & 14 & 22\\\\\n",
       "\tf8 & 8  & 16 & 24\\\\\n",
       "\\end{tabular}\n"
      ],
      "text/markdown": [
       "\n",
       "| <!--/--> | c4 | c5 | c6 | \n",
       "|---|---|---|---|\n",
       "| f5 | 2  | 10 | 18 | \n",
       "| f6 | 4  | 12 | 20 | \n",
       "| f7 | 6  | 14 | 22 | \n",
       "| f8 | 8  | 16 | 24 | \n",
       "\n",
       "\n"
      ],
      "text/plain": [
       "   c4 c5 c6\n",
       "f5 2  10 18\n",
       "f6 4  12 20\n",
       "f7 6  14 22\n",
       "f8 8  16 24"
      ]
     },
     "metadata": {},
     "output_type": "display_data"
    },
    {
     "name": "stderr",
     "output_type": "stream",
     "text": [
      "Matriz resultante: \n"
     ]
    },
    {
     "data": {
      "text/html": [
       "<table>\n",
       "<thead><tr><th></th><th scope=col>c1</th><th scope=col>c2</th><th scope=col>c3</th></tr></thead>\n",
       "<tbody>\n",
       "\t<tr><th scope=row>f1</th><td>1 </td><td> 5</td><td> 9</td></tr>\n",
       "\t<tr><th scope=row>f2</th><td>2 </td><td> 6</td><td>10</td></tr>\n",
       "\t<tr><th scope=row>f3</th><td>3 </td><td> 7</td><td>11</td></tr>\n",
       "\t<tr><th scope=row>f4</th><td>4 </td><td> 8</td><td>12</td></tr>\n",
       "\t<tr><th scope=row>f5</th><td>2 </td><td>10</td><td>18</td></tr>\n",
       "\t<tr><th scope=row>f6</th><td>4 </td><td>12</td><td>20</td></tr>\n",
       "\t<tr><th scope=row>f7</th><td>6 </td><td>14</td><td>22</td></tr>\n",
       "\t<tr><th scope=row>f8</th><td>8 </td><td>16</td><td>24</td></tr>\n",
       "</tbody>\n",
       "</table>\n"
      ],
      "text/latex": [
       "\\begin{tabular}{r|lll}\n",
       "  & c1 & c2 & c3\\\\\n",
       "\\hline\n",
       "\tf1 & 1  &  5 &  9\\\\\n",
       "\tf2 & 2  &  6 & 10\\\\\n",
       "\tf3 & 3  &  7 & 11\\\\\n",
       "\tf4 & 4  &  8 & 12\\\\\n",
       "\tf5 & 2  & 10 & 18\\\\\n",
       "\tf6 & 4  & 12 & 20\\\\\n",
       "\tf7 & 6  & 14 & 22\\\\\n",
       "\tf8 & 8  & 16 & 24\\\\\n",
       "\\end{tabular}\n"
      ],
      "text/markdown": [
       "\n",
       "| <!--/--> | c1 | c2 | c3 | \n",
       "|---|---|---|---|---|---|---|---|\n",
       "| f1 | 1  |  5 |  9 | \n",
       "| f2 | 2  |  6 | 10 | \n",
       "| f3 | 3  |  7 | 11 | \n",
       "| f4 | 4  |  8 | 12 | \n",
       "| f5 | 2  | 10 | 18 | \n",
       "| f6 | 4  | 12 | 20 | \n",
       "| f7 | 6  | 14 | 22 | \n",
       "| f8 | 8  | 16 | 24 | \n",
       "\n",
       "\n"
      ],
      "text/plain": [
       "   c1 c2 c3\n",
       "f1 1   5  9\n",
       "f2 2   6 10\n",
       "f3 3   7 11\n",
       "f4 4   8 12\n",
       "f5 2  10 18\n",
       "f6 4  12 20\n",
       "f7 6  14 22\n",
       "f8 8  16 24"
      ]
     },
     "metadata": {},
     "output_type": "display_data"
    }
   ],
   "source": [
    "message(\"COMBINANDO VECTORES POR FILA: \");\n",
    "\n",
    "message(\"Vector a: \");\n",
    "a <- 1:3\n",
    "a\n",
    "\n",
    "message(\"Vector b: \");\n",
    "b <- 4:6\n",
    "b\n",
    "\n",
    "message(\"Matriz resultante: \");\n",
    "rbind(a,b)\n",
    "\n",
    "\n",
    "\n",
    "message(\"COMBINANDO MATRICES POR FILA: \");\n",
    "\n",
    "message(\"Matriz A: \");\n",
    "A <- matrix(\n",
    "    1:12,\n",
    "    nrow = 4,\n",
    "    dimnames = list(\n",
    "        c(\"f1\", \"f2\", \"f3\", \"f4\"),\n",
    "        c(\"c1\", \"c2\", \"c3\")\n",
    "    )\n",
    ")\n",
    "A\n",
    "\n",
    "message(\"Matriz B: \");\n",
    "B <- matrix(\n",
    "     seq.int(2, 24, 2),\n",
    "     nrow = 4,\n",
    "     dimnames = list(\n",
    "         c(\"f5\", \"f6\", \"f7\", \"f8\"),\n",
    "         c(\"c4\", \"c5\", \"c6\")\n",
    "     )\n",
    ")\n",
    "B\n",
    "\n",
    "message(\"Matriz resultante: \");\n",
    "rbind(A,B)"
   ]
  },
  {
   "cell_type": "markdown",
   "metadata": {},
   "source": [
    "**cbind()**\n",
    "\n",
    "Toma una secuencia de vectores, matrices o data frames y los combina por columnas."
   ]
  },
  {
   "cell_type": "code",
   "execution_count": 6,
   "metadata": {
    "collapsed": false
   },
   "outputs": [
    {
     "name": "stderr",
     "output_type": "stream",
     "text": [
      "COMBINANDO VECTORES POR COLUMNA: \n",
      "Vector Va: \n"
     ]
    },
    {
     "data": {
      "text/html": [
       "<ol class=list-inline>\n",
       "\t<li>1</li>\n",
       "\t<li>4</li>\n",
       "</ol>\n"
      ],
      "text/latex": [
       "\\begin{enumerate*}\n",
       "\\item 1\n",
       "\\item 4\n",
       "\\end{enumerate*}\n"
      ],
      "text/markdown": [
       "1. 1\n",
       "2. 4\n",
       "\n",
       "\n"
      ],
      "text/plain": [
       "[1] 1 4"
      ]
     },
     "metadata": {},
     "output_type": "display_data"
    },
    {
     "name": "stderr",
     "output_type": "stream",
     "text": [
      "Vector Vb: \n"
     ]
    },
    {
     "data": {
      "text/html": [
       "<ol class=list-inline>\n",
       "\t<li>2</li>\n",
       "\t<li>5</li>\n",
       "</ol>\n"
      ],
      "text/latex": [
       "\\begin{enumerate*}\n",
       "\\item 2\n",
       "\\item 5\n",
       "\\end{enumerate*}\n"
      ],
      "text/markdown": [
       "1. 2\n",
       "2. 5\n",
       "\n",
       "\n"
      ],
      "text/plain": [
       "[1] 2 5"
      ]
     },
     "metadata": {},
     "output_type": "display_data"
    },
    {
     "name": "stderr",
     "output_type": "stream",
     "text": [
      "Vector Vc: \n"
     ]
    },
    {
     "data": {
      "text/html": [
       "<ol class=list-inline>\n",
       "\t<li>3</li>\n",
       "\t<li>6</li>\n",
       "</ol>\n"
      ],
      "text/latex": [
       "\\begin{enumerate*}\n",
       "\\item 3\n",
       "\\item 6\n",
       "\\end{enumerate*}\n"
      ],
      "text/markdown": [
       "1. 3\n",
       "2. 6\n",
       "\n",
       "\n"
      ],
      "text/plain": [
       "[1] 3 6"
      ]
     },
     "metadata": {},
     "output_type": "display_data"
    },
    {
     "name": "stderr",
     "output_type": "stream",
     "text": [
      "Matriz resultante: \n"
     ]
    },
    {
     "data": {
      "text/html": [
       "<table>\n",
       "<thead><tr><th scope=col>Va</th><th scope=col>Vb</th><th scope=col>Vc</th></tr></thead>\n",
       "<tbody>\n",
       "\t<tr><td>1</td><td>2</td><td>3</td></tr>\n",
       "\t<tr><td>4</td><td>5</td><td>6</td></tr>\n",
       "</tbody>\n",
       "</table>\n"
      ],
      "text/latex": [
       "\\begin{tabular}{lll}\n",
       " Va & Vb & Vc\\\\\n",
       "\\hline\n",
       "\t 1 & 2 & 3\\\\\n",
       "\t 4 & 5 & 6\\\\\n",
       "\\end{tabular}\n"
      ],
      "text/markdown": [
       "\n",
       "Va | Vb | Vc | \n",
       "|---|---|\n",
       "| 1 | 2 | 3 | \n",
       "| 4 | 5 | 6 | \n",
       "\n",
       "\n"
      ],
      "text/plain": [
       "     Va Vb Vc\n",
       "[1,] 1  2  3 \n",
       "[2,] 4  5  6 "
      ]
     },
     "metadata": {},
     "output_type": "display_data"
    },
    {
     "name": "stderr",
     "output_type": "stream",
     "text": [
      "COMBINANDO MATRICES POR COLUMNA: \n",
      "Matriz A: \n"
     ]
    },
    {
     "data": {
      "text/html": [
       "<table>\n",
       "<thead><tr><th></th><th scope=col>c1</th><th scope=col>c2</th><th scope=col>c3</th></tr></thead>\n",
       "<tbody>\n",
       "\t<tr><th scope=row>f1</th><td>1 </td><td>5 </td><td> 9</td></tr>\n",
       "\t<tr><th scope=row>f2</th><td>2 </td><td>6 </td><td>10</td></tr>\n",
       "\t<tr><th scope=row>f3</th><td>3 </td><td>7 </td><td>11</td></tr>\n",
       "\t<tr><th scope=row>f4</th><td>4 </td><td>8 </td><td>12</td></tr>\n",
       "</tbody>\n",
       "</table>\n"
      ],
      "text/latex": [
       "\\begin{tabular}{r|lll}\n",
       "  & c1 & c2 & c3\\\\\n",
       "\\hline\n",
       "\tf1 & 1  & 5  &  9\\\\\n",
       "\tf2 & 2  & 6  & 10\\\\\n",
       "\tf3 & 3  & 7  & 11\\\\\n",
       "\tf4 & 4  & 8  & 12\\\\\n",
       "\\end{tabular}\n"
      ],
      "text/markdown": [
       "\n",
       "| <!--/--> | c1 | c2 | c3 | \n",
       "|---|---|---|---|\n",
       "| f1 | 1  | 5  |  9 | \n",
       "| f2 | 2  | 6  | 10 | \n",
       "| f3 | 3  | 7  | 11 | \n",
       "| f4 | 4  | 8  | 12 | \n",
       "\n",
       "\n"
      ],
      "text/plain": [
       "   c1 c2 c3\n",
       "f1 1  5   9\n",
       "f2 2  6  10\n",
       "f3 3  7  11\n",
       "f4 4  8  12"
      ]
     },
     "metadata": {},
     "output_type": "display_data"
    },
    {
     "name": "stderr",
     "output_type": "stream",
     "text": [
      "Matriz B: \n"
     ]
    },
    {
     "data": {
      "text/html": [
       "<table>\n",
       "<thead><tr><th></th><th scope=col>c4</th><th scope=col>c5</th><th scope=col>c6</th></tr></thead>\n",
       "<tbody>\n",
       "\t<tr><th scope=row>f5</th><td>2 </td><td>10</td><td>18</td></tr>\n",
       "\t<tr><th scope=row>f6</th><td>4 </td><td>12</td><td>20</td></tr>\n",
       "\t<tr><th scope=row>f7</th><td>6 </td><td>14</td><td>22</td></tr>\n",
       "\t<tr><th scope=row>f8</th><td>8 </td><td>16</td><td>24</td></tr>\n",
       "</tbody>\n",
       "</table>\n"
      ],
      "text/latex": [
       "\\begin{tabular}{r|lll}\n",
       "  & c4 & c5 & c6\\\\\n",
       "\\hline\n",
       "\tf5 & 2  & 10 & 18\\\\\n",
       "\tf6 & 4  & 12 & 20\\\\\n",
       "\tf7 & 6  & 14 & 22\\\\\n",
       "\tf8 & 8  & 16 & 24\\\\\n",
       "\\end{tabular}\n"
      ],
      "text/markdown": [
       "\n",
       "| <!--/--> | c4 | c5 | c6 | \n",
       "|---|---|---|---|\n",
       "| f5 | 2  | 10 | 18 | \n",
       "| f6 | 4  | 12 | 20 | \n",
       "| f7 | 6  | 14 | 22 | \n",
       "| f8 | 8  | 16 | 24 | \n",
       "\n",
       "\n"
      ],
      "text/plain": [
       "   c4 c5 c6\n",
       "f5 2  10 18\n",
       "f6 4  12 20\n",
       "f7 6  14 22\n",
       "f8 8  16 24"
      ]
     },
     "metadata": {},
     "output_type": "display_data"
    },
    {
     "name": "stderr",
     "output_type": "stream",
     "text": [
      "Matriz resultante: \n"
     ]
    },
    {
     "data": {
      "text/html": [
       "<table>\n",
       "<thead><tr><th></th><th scope=col>c1</th><th scope=col>c2</th><th scope=col>c3</th><th scope=col>c4</th><th scope=col>c5</th><th scope=col>c6</th></tr></thead>\n",
       "<tbody>\n",
       "\t<tr><th scope=row>f1</th><td>1 </td><td>5 </td><td> 9</td><td>2 </td><td>10</td><td>18</td></tr>\n",
       "\t<tr><th scope=row>f2</th><td>2 </td><td>6 </td><td>10</td><td>4 </td><td>12</td><td>20</td></tr>\n",
       "\t<tr><th scope=row>f3</th><td>3 </td><td>7 </td><td>11</td><td>6 </td><td>14</td><td>22</td></tr>\n",
       "\t<tr><th scope=row>f4</th><td>4 </td><td>8 </td><td>12</td><td>8 </td><td>16</td><td>24</td></tr>\n",
       "</tbody>\n",
       "</table>\n"
      ],
      "text/latex": [
       "\\begin{tabular}{r|llllll}\n",
       "  & c1 & c2 & c3 & c4 & c5 & c6\\\\\n",
       "\\hline\n",
       "\tf1 & 1  & 5  &  9 & 2  & 10 & 18\\\\\n",
       "\tf2 & 2  & 6  & 10 & 4  & 12 & 20\\\\\n",
       "\tf3 & 3  & 7  & 11 & 6  & 14 & 22\\\\\n",
       "\tf4 & 4  & 8  & 12 & 8  & 16 & 24\\\\\n",
       "\\end{tabular}\n"
      ],
      "text/markdown": [
       "\n",
       "| <!--/--> | c1 | c2 | c3 | c4 | c5 | c6 | \n",
       "|---|---|---|---|\n",
       "| f1 | 1  | 5  |  9 | 2  | 10 | 18 | \n",
       "| f2 | 2  | 6  | 10 | 4  | 12 | 20 | \n",
       "| f3 | 3  | 7  | 11 | 6  | 14 | 22 | \n",
       "| f4 | 4  | 8  | 12 | 8  | 16 | 24 | \n",
       "\n",
       "\n"
      ],
      "text/plain": [
       "   c1 c2 c3 c4 c5 c6\n",
       "f1 1  5   9 2  10 18\n",
       "f2 2  6  10 4  12 20\n",
       "f3 3  7  11 6  14 22\n",
       "f4 4  8  12 8  16 24"
      ]
     },
     "metadata": {},
     "output_type": "display_data"
    }
   ],
   "source": [
    "message(\"COMBINANDO VECTORES POR COLUMNA: \");\n",
    "\n",
    "message(\"Vector Va: \");\n",
    "Va <- c(1,4)\n",
    "Va\n",
    "\n",
    "message(\"Vector Vb: \");\n",
    "Vb <- c(2,5)\n",
    "Vb\n",
    "\n",
    "message(\"Vector Vc: \");\n",
    "Vc <- c(3,6)\n",
    "Vc\n",
    "\n",
    "message(\"Matriz resultante: \");\n",
    "cbind(Va,Vb,Vc)\n",
    "\n",
    "\n",
    "\n",
    "message(\"COMBINANDO MATRICES POR COLUMNA: \");\n",
    "\n",
    "message(\"Matriz A: \");\n",
    "A\n",
    "\n",
    "message(\"Matriz B: \");\n",
    "B\n",
    "\n",
    "message(\"Matriz resultante: \");\n",
    "cbind(A,B)"
   ]
  },
  {
   "cell_type": "markdown",
   "metadata": {},
   "source": [
    "**merge()**\n",
    "\n",
    "Combina dos data frames por las columnas comunes. Se debe especificar qué columnas contienen los valores comunes de los data frames. Por defecto, la función `merge()` utiliza todas las columnas comunes de los dos data frames."
   ]
  },
  {
   "cell_type": "code",
   "execution_count": 7,
   "metadata": {
    "collapsed": false
   },
   "outputs": [
    {
     "name": "stderr",
     "output_type": "stream",
     "text": [
      "Data frame df1:\n"
     ]
    },
    {
     "data": {
      "text/html": [
       "<table>\n",
       "<thead><tr><th scope=col>nombre</th><th scope=col>edad</th><th scope=col>casado</th></tr></thead>\n",
       "<tbody>\n",
       "\t<tr><td>Alberto  </td><td>61       </td><td> TRUE    </td></tr>\n",
       "\t<tr><td>Ivonne   </td><td>27       </td><td>FALSE    </td></tr>\n",
       "\t<tr><td>Yeny     </td><td>56       </td><td> TRUE    </td></tr>\n",
       "\t<tr><td>Alejandro</td><td>35       </td><td>FALSE    </td></tr>\n",
       "\t<tr><td>Sofia    </td><td>43       </td><td>FALSE    </td></tr>\n",
       "</tbody>\n",
       "</table>\n"
      ],
      "text/latex": [
       "\\begin{tabular}{r|lll}\n",
       " nombre & edad & casado\\\\\n",
       "\\hline\n",
       "\t Alberto   & 61        &  TRUE    \\\\\n",
       "\t Ivonne    & 27        & FALSE    \\\\\n",
       "\t Yeny      & 56        &  TRUE    \\\\\n",
       "\t Alejandro & 35        & FALSE    \\\\\n",
       "\t Sofia     & 43        & FALSE    \\\\\n",
       "\\end{tabular}\n"
      ],
      "text/markdown": [
       "\n",
       "nombre | edad | casado | \n",
       "|---|---|---|---|---|\n",
       "| Alberto   | 61        |  TRUE     | \n",
       "| Ivonne    | 27        | FALSE     | \n",
       "| Yeny      | 56        |  TRUE     | \n",
       "| Alejandro | 35        | FALSE     | \n",
       "| Sofia     | 43        | FALSE     | \n",
       "\n",
       "\n"
      ],
      "text/plain": [
       "  nombre    edad casado\n",
       "1 Alberto   61    TRUE \n",
       "2 Ivonne    27   FALSE \n",
       "3 Yeny      56    TRUE \n",
       "4 Alejandro 35   FALSE \n",
       "5 Sofia     43   FALSE "
      ]
     },
     "metadata": {},
     "output_type": "display_data"
    },
    {
     "name": "stderr",
     "output_type": "stream",
     "text": [
      "Data frame df2:\n"
     ]
    },
    {
     "data": {
      "text/html": [
       "<table>\n",
       "<thead><tr><th scope=col>nombre</th><th scope=col>sexo</th><th scope=col>talla</th></tr></thead>\n",
       "<tbody>\n",
       "\t<tr><td>Alejandro</td><td>M        </td><td>1.60     </td></tr>\n",
       "\t<tr><td>Leonardo </td><td>M        </td><td>1.50     </td></tr>\n",
       "\t<tr><td>Sofia    </td><td>F        </td><td>1.53     </td></tr>\n",
       "\t<tr><td>Lucia    </td><td>F        </td><td>1.63     </td></tr>\n",
       "\t<tr><td>Felix    </td><td>M        </td><td>1.55     </td></tr>\n",
       "</tbody>\n",
       "</table>\n"
      ],
      "text/latex": [
       "\\begin{tabular}{r|lll}\n",
       " nombre & sexo & talla\\\\\n",
       "\\hline\n",
       "\t Alejandro & M         & 1.60     \\\\\n",
       "\t Leonardo  & M         & 1.50     \\\\\n",
       "\t Sofia     & F         & 1.53     \\\\\n",
       "\t Lucia     & F         & 1.63     \\\\\n",
       "\t Felix     & M         & 1.55     \\\\\n",
       "\\end{tabular}\n"
      ],
      "text/markdown": [
       "\n",
       "nombre | sexo | talla | \n",
       "|---|---|---|---|---|\n",
       "| Alejandro | M         | 1.60      | \n",
       "| Leonardo  | M         | 1.50      | \n",
       "| Sofia     | F         | 1.53      | \n",
       "| Lucia     | F         | 1.63      | \n",
       "| Felix     | M         | 1.55      | \n",
       "\n",
       "\n"
      ],
      "text/plain": [
       "  nombre    sexo talla\n",
       "1 Alejandro M    1.60 \n",
       "2 Leonardo  M    1.50 \n",
       "3 Sofia     F    1.53 \n",
       "4 Lucia     F    1.63 \n",
       "5 Felix     M    1.55 "
      ]
     },
     "metadata": {},
     "output_type": "display_data"
    },
    {
     "name": "stderr",
     "output_type": "stream",
     "text": [
      "Merge de df1 y df2:\n"
     ]
    },
    {
     "data": {
      "text/html": [
       "<table>\n",
       "<thead><tr><th scope=col>nombre</th><th scope=col>edad</th><th scope=col>casado</th><th scope=col>sexo</th><th scope=col>talla</th></tr></thead>\n",
       "<tbody>\n",
       "\t<tr><td>Alejandro</td><td>35       </td><td>FALSE    </td><td>M        </td><td>1.60     </td></tr>\n",
       "\t<tr><td>Sofia    </td><td>43       </td><td>FALSE    </td><td>F        </td><td>1.53     </td></tr>\n",
       "</tbody>\n",
       "</table>\n"
      ],
      "text/latex": [
       "\\begin{tabular}{r|lllll}\n",
       " nombre & edad & casado & sexo & talla\\\\\n",
       "\\hline\n",
       "\t Alejandro & 35        & FALSE     & M         & 1.60     \\\\\n",
       "\t Sofia     & 43        & FALSE     & F         & 1.53     \\\\\n",
       "\\end{tabular}\n"
      ],
      "text/markdown": [
       "\n",
       "nombre | edad | casado | sexo | talla | \n",
       "|---|---|\n",
       "| Alejandro | 35        | FALSE     | M         | 1.60      | \n",
       "| Sofia     | 43        | FALSE     | F         | 1.53      | \n",
       "\n",
       "\n"
      ],
      "text/plain": [
       "  nombre    edad casado sexo talla\n",
       "1 Alejandro 35   FALSE  M    1.60 \n",
       "2 Sofia     43   FALSE  F    1.53 "
      ]
     },
     "metadata": {},
     "output_type": "display_data"
    },
    {
     "name": "stderr",
     "output_type": "stream",
     "text": [
      "Merge de df1 y df2 con todos los elementos:\n"
     ]
    },
    {
     "data": {
      "text/html": [
       "<table>\n",
       "<thead><tr><th scope=col>nombre</th><th scope=col>edad</th><th scope=col>casado</th><th scope=col>sexo</th><th scope=col>talla</th></tr></thead>\n",
       "<tbody>\n",
       "\t<tr><td>Alberto  </td><td>61       </td><td> TRUE    </td><td>NA       </td><td>  NA     </td></tr>\n",
       "\t<tr><td>Alejandro</td><td>35       </td><td>FALSE    </td><td>M        </td><td>1.60     </td></tr>\n",
       "\t<tr><td>Ivonne   </td><td>27       </td><td>FALSE    </td><td>NA       </td><td>  NA     </td></tr>\n",
       "\t<tr><td>Sofia    </td><td>43       </td><td>FALSE    </td><td>F        </td><td>1.53     </td></tr>\n",
       "\t<tr><td>Yeny     </td><td>56       </td><td> TRUE    </td><td>NA       </td><td>  NA     </td></tr>\n",
       "\t<tr><td>Felix    </td><td>NA       </td><td>   NA    </td><td>M        </td><td>1.55     </td></tr>\n",
       "\t<tr><td>Leonardo </td><td>NA       </td><td>   NA    </td><td>M        </td><td>1.50     </td></tr>\n",
       "\t<tr><td>Lucia    </td><td>NA       </td><td>   NA    </td><td>F        </td><td>1.63     </td></tr>\n",
       "</tbody>\n",
       "</table>\n"
      ],
      "text/latex": [
       "\\begin{tabular}{r|lllll}\n",
       " nombre & edad & casado & sexo & talla\\\\\n",
       "\\hline\n",
       "\t Alberto   & 61        &  TRUE     & NA        &   NA     \\\\\n",
       "\t Alejandro & 35        & FALSE     & M         & 1.60     \\\\\n",
       "\t Ivonne    & 27        & FALSE     & NA        &   NA     \\\\\n",
       "\t Sofia     & 43        & FALSE     & F         & 1.53     \\\\\n",
       "\t Yeny      & 56        &  TRUE     & NA        &   NA     \\\\\n",
       "\t Felix     & NA        &    NA     & M         & 1.55     \\\\\n",
       "\t Leonardo  & NA        &    NA     & M         & 1.50     \\\\\n",
       "\t Lucia     & NA        &    NA     & F         & 1.63     \\\\\n",
       "\\end{tabular}\n"
      ],
      "text/markdown": [
       "\n",
       "nombre | edad | casado | sexo | talla | \n",
       "|---|---|---|---|---|---|---|---|\n",
       "| Alberto   | 61        |  TRUE     | NA        |   NA      | \n",
       "| Alejandro | 35        | FALSE     | M         | 1.60      | \n",
       "| Ivonne    | 27        | FALSE     | NA        |   NA      | \n",
       "| Sofia     | 43        | FALSE     | F         | 1.53      | \n",
       "| Yeny      | 56        |  TRUE     | NA        |   NA      | \n",
       "| Felix     | NA        |    NA     | M         | 1.55      | \n",
       "| Leonardo  | NA        |    NA     | M         | 1.50      | \n",
       "| Lucia     | NA        |    NA     | F         | 1.63      | \n",
       "\n",
       "\n"
      ],
      "text/plain": [
       "  nombre    edad casado sexo talla\n",
       "1 Alberto   61    TRUE  NA     NA \n",
       "2 Alejandro 35   FALSE  M    1.60 \n",
       "3 Ivonne    27   FALSE  NA     NA \n",
       "4 Sofia     43   FALSE  F    1.53 \n",
       "5 Yeny      56    TRUE  NA     NA \n",
       "6 Felix     NA      NA  M    1.55 \n",
       "7 Leonardo  NA      NA  M    1.50 \n",
       "8 Lucia     NA      NA  F    1.63 "
      ]
     },
     "metadata": {},
     "output_type": "display_data"
    }
   ],
   "source": [
    "message(\"Data frame df1:\")\n",
    "df1 <- data.frame(\n",
    "                nombre = c(\"Alberto\", \"Ivonne\",\"Yeny\",\"Alejandro\",\"Sofia\") ,\n",
    "                edad = c(61,27,56,35,43),\n",
    "                casado = c(TRUE,FALSE,T,F,F)\n",
    ")\n",
    "df1\n",
    "\n",
    "message(\"Data frame df2:\")\n",
    "df2 <- data.frame(\n",
    "  nombre = c(\"Alejandro\",\"Leonardo\",\"Sofia\",\"Lucia\",\"Felix\"),\n",
    "  sexo = c('M','M','F','F','M'),\n",
    "  talla = c(1.60,1.50,1.53,1.63,1.55)\n",
    ")\n",
    "df2\n",
    "\n",
    "message(\"Merge de df1 y df2:\")\n",
    "merge(df1,df2,by=\"nombre\")\n",
    "\n",
    "message(\"Merge de df1 y df2 con todos los elementos:\")\n",
    "merge(df1,df2,by=\"nombre\",all = TRUE)"
   ]
  },
  {
   "cell_type": "markdown",
   "metadata": {},
   "source": [
    "3."
   ]
  },
  {
   "cell_type": "markdown",
   "metadata": {},
   "source": [
    "(a)  Construye  y almacena una matriz $4 \\times 2$ que se completa  por  fila con los valores $4.3, 3.1, 8.2, 8.2, 3.2, 0.9, 1.6$ y $6.5$, en ese orden."
   ]
  },
  {
   "cell_type": "code",
   "execution_count": 8,
   "metadata": {
    "collapsed": false
   },
   "outputs": [
    {
     "data": {
      "text/html": [
       "<table>\n",
       "<tbody>\n",
       "\t<tr><td>4.3</td><td>3.1</td></tr>\n",
       "\t<tr><td>8.2</td><td>8.2</td></tr>\n",
       "\t<tr><td>3.2</td><td>0.9</td></tr>\n",
       "\t<tr><td>1.6</td><td>6.5</td></tr>\n",
       "</tbody>\n",
       "</table>\n"
      ],
      "text/latex": [
       "\\begin{tabular}{ll}\n",
       "\t 4.3 & 3.1\\\\\n",
       "\t 8.2 & 8.2\\\\\n",
       "\t 3.2 & 0.9\\\\\n",
       "\t 1.6 & 6.5\\\\\n",
       "\\end{tabular}\n"
      ],
      "text/markdown": [
       "\n",
       "| 4.3 | 3.1 | \n",
       "| 8.2 | 8.2 | \n",
       "| 3.2 | 0.9 | \n",
       "| 1.6 | 6.5 | \n",
       "\n",
       "\n"
      ],
      "text/plain": [
       "     [,1] [,2]\n",
       "[1,] 4.3  3.1 \n",
       "[2,] 8.2  8.2 \n",
       "[3,] 3.2  0.9 \n",
       "[4,] 1.6  6.5 "
      ]
     },
     "metadata": {},
     "output_type": "display_data"
    }
   ],
   "source": [
    "x <- c(4.3, 3.1, 8.2, 8.2, 3.2, 0.9, 1.6, 6.5)\n",
    "mimatrix <- matrix(x, nrow = 4, byrow = TRUE)\n",
    "mimatrix"
   ]
  },
  {
   "cell_type": "markdown",
   "metadata": {},
   "source": [
    "(b) Confirma que las dimensiones de la matriz de (a) son $3 \\times  2$ si se elimina una fila."
   ]
  },
  {
   "cell_type": "code",
   "execution_count": 9,
   "metadata": {
    "collapsed": false
   },
   "outputs": [
    {
     "data": {
      "text/html": [
       "<ol class=list-inline>\n",
       "\t<li>3</li>\n",
       "\t<li>2</li>\n",
       "</ol>\n"
      ],
      "text/latex": [
       "\\begin{enumerate*}\n",
       "\\item 3\n",
       "\\item 2\n",
       "\\end{enumerate*}\n"
      ],
      "text/markdown": [
       "1. 3\n",
       "2. 2\n",
       "\n",
       "\n"
      ],
      "text/plain": [
       "[1] 3 2"
      ]
     },
     "metadata": {},
     "output_type": "display_data"
    }
   ],
   "source": [
    "#Dimension de la matriz luego de eliminar una fila\n",
    "dim(mimatrix[-1,])"
   ]
  },
  {
   "cell_type": "markdown",
   "metadata": {},
   "source": [
    "(c) Sobrescribe la segunda columna de la matriz de (a) con esa misma columna ordenada de menor a mayor."
   ]
  },
  {
   "cell_type": "code",
   "execution_count": 10,
   "metadata": {
    "collapsed": false
   },
   "outputs": [
    {
     "name": "stderr",
     "output_type": "stream",
     "text": [
      "Matriz de (a): \n"
     ]
    },
    {
     "data": {
      "text/html": [
       "<table>\n",
       "<tbody>\n",
       "\t<tr><td>4.3</td><td>3.1</td></tr>\n",
       "\t<tr><td>8.2</td><td>8.2</td></tr>\n",
       "\t<tr><td>3.2</td><td>0.9</td></tr>\n",
       "\t<tr><td>1.6</td><td>6.5</td></tr>\n",
       "</tbody>\n",
       "</table>\n"
      ],
      "text/latex": [
       "\\begin{tabular}{ll}\n",
       "\t 4.3 & 3.1\\\\\n",
       "\t 8.2 & 8.2\\\\\n",
       "\t 3.2 & 0.9\\\\\n",
       "\t 1.6 & 6.5\\\\\n",
       "\\end{tabular}\n"
      ],
      "text/markdown": [
       "\n",
       "| 4.3 | 3.1 | \n",
       "| 8.2 | 8.2 | \n",
       "| 3.2 | 0.9 | \n",
       "| 1.6 | 6.5 | \n",
       "\n",
       "\n"
      ],
      "text/plain": [
       "     [,1] [,2]\n",
       "[1,] 4.3  3.1 \n",
       "[2,] 8.2  8.2 \n",
       "[3,] 3.2  0.9 \n",
       "[4,] 1.6  6.5 "
      ]
     },
     "metadata": {},
     "output_type": "display_data"
    },
    {
     "name": "stderr",
     "output_type": "stream",
     "text": [
      "Sobrescribiendo la matriz de (a): \n"
     ]
    },
    {
     "data": {
      "text/html": [
       "<table>\n",
       "<tbody>\n",
       "\t<tr><td>4.3</td><td>0.9</td></tr>\n",
       "\t<tr><td>8.2</td><td>3.1</td></tr>\n",
       "\t<tr><td>3.2</td><td>6.5</td></tr>\n",
       "\t<tr><td>1.6</td><td>8.2</td></tr>\n",
       "</tbody>\n",
       "</table>\n"
      ],
      "text/latex": [
       "\\begin{tabular}{ll}\n",
       "\t 4.3 & 0.9\\\\\n",
       "\t 8.2 & 3.1\\\\\n",
       "\t 3.2 & 6.5\\\\\n",
       "\t 1.6 & 8.2\\\\\n",
       "\\end{tabular}\n"
      ],
      "text/markdown": [
       "\n",
       "| 4.3 | 0.9 | \n",
       "| 8.2 | 3.1 | \n",
       "| 3.2 | 6.5 | \n",
       "| 1.6 | 8.2 | \n",
       "\n",
       "\n"
      ],
      "text/plain": [
       "     [,1] [,2]\n",
       "[1,] 4.3  0.9 \n",
       "[2,] 8.2  3.1 \n",
       "[3,] 3.2  6.5 \n",
       "[4,] 1.6  8.2 "
      ]
     },
     "metadata": {},
     "output_type": "display_data"
    }
   ],
   "source": [
    "message(\"Matriz de (a): \")\n",
    "mimatrix\n",
    "\n",
    "message(\"Sobrescribiendo la matriz de (a): \")\n",
    "mimatrix[,2] <- sort(mimatrix[,2])\n",
    "mimatrix"
   ]
  },
  {
   "cell_type": "markdown",
   "metadata": {},
   "source": [
    "(d) ¿Qué devuelve R si se elimina la cuarta fila y la primera columna de (c)?. Utiliza `matrix` para asegurar que el resultado sea una matriz de una sola columna, en lugar de un vector."
   ]
  },
  {
   "cell_type": "code",
   "execution_count": 11,
   "metadata": {
    "collapsed": false
   },
   "outputs": [
    {
     "name": "stderr",
     "output_type": "stream",
     "text": [
      "Eliminando la cuarta fila y la primera columna de (c):\n"
     ]
    },
    {
     "data": {
      "text/html": [
       "<ol class=list-inline>\n",
       "\t<li>0.9</li>\n",
       "\t<li>3.1</li>\n",
       "\t<li>6.5</li>\n",
       "</ol>\n"
      ],
      "text/latex": [
       "\\begin{enumerate*}\n",
       "\\item 0.9\n",
       "\\item 3.1\n",
       "\\item 6.5\n",
       "\\end{enumerate*}\n"
      ],
      "text/markdown": [
       "1. 0.9\n",
       "2. 3.1\n",
       "3. 6.5\n",
       "\n",
       "\n"
      ],
      "text/plain": [
       "[1] 0.9 3.1 6.5"
      ]
     },
     "metadata": {},
     "output_type": "display_data"
    },
    {
     "name": "stderr",
     "output_type": "stream",
     "text": [
      "El resultado es vector: TRUE\n",
      "El resultado es matriz: FALSE\n"
     ]
    }
   ],
   "source": [
    "message(\"Eliminando la cuarta fila y la primera columna de (c):\")\n",
    "elimatrix <- mimatrix[-4,-1]\n",
    "elimatrix\n",
    "message(\"El resultado es vector: \",is.vector(elimatrix))\n",
    "message(\"El resultado es matriz: \",is.matrix(elimatrix))"
   ]
  },
  {
   "cell_type": "code",
   "execution_count": 12,
   "metadata": {
    "collapsed": false
   },
   "outputs": [
    {
     "name": "stderr",
     "output_type": "stream",
     "text": [
      "Asegurando que el resultado sea matrix:\n"
     ]
    },
    {
     "data": {
      "text/html": [
       "<table>\n",
       "<tbody>\n",
       "\t<tr><td>0.9</td></tr>\n",
       "\t<tr><td>3.1</td></tr>\n",
       "\t<tr><td>6.5</td></tr>\n",
       "</tbody>\n",
       "</table>\n"
      ],
      "text/latex": [
       "\\begin{tabular}{l}\n",
       "\t 0.9\\\\\n",
       "\t 3.1\\\\\n",
       "\t 6.5\\\\\n",
       "\\end{tabular}\n"
      ],
      "text/markdown": [
       "\n",
       "| 0.9 | \n",
       "| 3.1 | \n",
       "| 6.5 | \n",
       "\n",
       "\n"
      ],
      "text/plain": [
       "     [,1]\n",
       "[1,] 0.9 \n",
       "[2,] 3.1 \n",
       "[3,] 6.5 "
      ]
     },
     "metadata": {},
     "output_type": "display_data"
    },
    {
     "name": "stderr",
     "output_type": "stream",
     "text": [
      "El resultado es vector: FALSE\n",
      "El resultado es matriz: TRUE\n"
     ]
    }
   ],
   "source": [
    "message(\"Asegurando que el resultado sea matrix:\")\n",
    "elimatrix2 <- matrix(mimatrix[-4,-1])\n",
    "elimatrix2\n",
    "message(\"El resultado es vector: \",is.vector(elimatrix2))\n",
    "message(\"El resultado es matriz: \",is.matrix(elimatrix2))"
   ]
  },
  {
   "cell_type": "markdown",
   "metadata": {},
   "source": [
    "(e) Guarde los cuatro elementos inferiores de (c) como una nueva matriz $2\\times 2$."
   ]
  },
  {
   "cell_type": "code",
   "execution_count": 13,
   "metadata": {
    "collapsed": false
   },
   "outputs": [
    {
     "data": {
      "text/html": [
       "<table>\n",
       "<tbody>\n",
       "\t<tr><td>3.2</td><td>6.5</td></tr>\n",
       "\t<tr><td>1.6</td><td>8.2</td></tr>\n",
       "</tbody>\n",
       "</table>\n"
      ],
      "text/latex": [
       "\\begin{tabular}{ll}\n",
       "\t 3.2 & 6.5\\\\\n",
       "\t 1.6 & 8.2\\\\\n",
       "\\end{tabular}\n"
      ],
      "text/markdown": [
       "\n",
       "| 3.2 | 6.5 | \n",
       "| 1.6 | 8.2 | \n",
       "\n",
       "\n"
      ],
      "text/plain": [
       "     [,1] [,2]\n",
       "[1,] 3.2  6.5 \n",
       "[2,] 1.6  8.2 "
      ]
     },
     "metadata": {},
     "output_type": "display_data"
    },
    {
     "name": "stderr",
     "output_type": "stream",
     "text": [
      "Dimension de la matriz resultante: \n"
     ]
    },
    {
     "data": {
      "text/html": [
       "<ol class=list-inline>\n",
       "\t<li>2</li>\n",
       "\t<li>2</li>\n",
       "</ol>\n"
      ],
      "text/latex": [
       "\\begin{enumerate*}\n",
       "\\item 2\n",
       "\\item 2\n",
       "\\end{enumerate*}\n"
      ],
      "text/markdown": [
       "1. 2\n",
       "2. 2\n",
       "\n",
       "\n"
      ],
      "text/plain": [
       "[1] 2 2"
      ]
     },
     "metadata": {},
     "output_type": "display_data"
    }
   ],
   "source": [
    "newmatrix <- mimatrix[3:4,1:2]\n",
    "newmatrix\n",
    "message(\"Dimension de la matriz resultante: \")\n",
    "dim(newmatrix)"
   ]
  },
  {
   "cell_type": "markdown",
   "metadata": {},
   "source": [
    "(f) Sobrescribe en este orden los elementos de (c) en las posiciones $(4, 2), (1, 2), (4, 1)$ y $(1, 1)$ con $\\frac{1}{2}$ de los dos valores de la diagonal de (e)."
   ]
  },
  {
   "cell_type": "code",
   "execution_count": 14,
   "metadata": {
    "collapsed": false
   },
   "outputs": [
    {
     "data": {
      "text/html": [
       "<table>\n",
       "<tbody>\n",
       "\t<tr><td>4.1</td><td>4.1</td></tr>\n",
       "\t<tr><td>8.2</td><td>3.1</td></tr>\n",
       "\t<tr><td>3.2</td><td>6.5</td></tr>\n",
       "\t<tr><td>1.6</td><td>1.6</td></tr>\n",
       "</tbody>\n",
       "</table>\n"
      ],
      "text/latex": [
       "\\begin{tabular}{ll}\n",
       "\t 4.1 & 4.1\\\\\n",
       "\t 8.2 & 3.1\\\\\n",
       "\t 3.2 & 6.5\\\\\n",
       "\t 1.6 & 1.6\\\\\n",
       "\\end{tabular}\n"
      ],
      "text/markdown": [
       "\n",
       "| 4.1 | 4.1 | \n",
       "| 8.2 | 3.1 | \n",
       "| 3.2 | 6.5 | \n",
       "| 1.6 | 1.6 | \n",
       "\n",
       "\n"
      ],
      "text/plain": [
       "     [,1] [,2]\n",
       "[1,] 4.1  4.1 \n",
       "[2,] 8.2  3.1 \n",
       "[3,] 3.2  6.5 \n",
       "[4,] 1.6  1.6 "
      ]
     },
     "metadata": {},
     "output_type": "display_data"
    }
   ],
   "source": [
    "mimatrix[rep(c(4,1),2),rep(c(2,1),each=2)] <- 1/2*diag(newmatrix)\n",
    "mimatrix"
   ]
  },
  {
   "cell_type": "markdown",
   "metadata": {},
   "source": [
    "4.Calcula lo siguiente:\n",
    "\n",
    "$$\n",
    "\\dfrac{2}{7}\\begin{bmatrix}\n",
    "        1 & 2  \\\\[0.3em]\n",
    "        2 &  4 \\\\[0.3em]\n",
    "        7 & 6 \n",
    "     \\end{bmatrix} - \\begin{bmatrix}\n",
    "        10 & 20  \\\\[0.3em]\n",
    "        30 &  40 \\\\[0.3em]\n",
    "        50 & 60 \n",
    "\\end{bmatrix}\n",
    "$$"
   ]
  },
  {
   "cell_type": "code",
   "execution_count": 15,
   "metadata": {
    "collapsed": false
   },
   "outputs": [
    {
     "name": "stderr",
     "output_type": "stream",
     "text": [
      "Matriz A:\n"
     ]
    },
    {
     "data": {
      "text/html": [
       "<table>\n",
       "<tbody>\n",
       "\t<tr><td>1</td><td>2</td></tr>\n",
       "\t<tr><td>2</td><td>4</td></tr>\n",
       "\t<tr><td>7</td><td>6</td></tr>\n",
       "</tbody>\n",
       "</table>\n"
      ],
      "text/latex": [
       "\\begin{tabular}{ll}\n",
       "\t 1 & 2\\\\\n",
       "\t 2 & 4\\\\\n",
       "\t 7 & 6\\\\\n",
       "\\end{tabular}\n"
      ],
      "text/markdown": [
       "\n",
       "| 1 | 2 | \n",
       "| 2 | 4 | \n",
       "| 7 | 6 | \n",
       "\n",
       "\n"
      ],
      "text/plain": [
       "     [,1] [,2]\n",
       "[1,] 1    2   \n",
       "[2,] 2    4   \n",
       "[3,] 7    6   "
      ]
     },
     "metadata": {},
     "output_type": "display_data"
    },
    {
     "name": "stderr",
     "output_type": "stream",
     "text": [
      "Matriz B:\n"
     ]
    },
    {
     "data": {
      "text/html": [
       "<table>\n",
       "<tbody>\n",
       "\t<tr><td>10</td><td>20</td></tr>\n",
       "\t<tr><td>30</td><td>40</td></tr>\n",
       "\t<tr><td>50</td><td>60</td></tr>\n",
       "</tbody>\n",
       "</table>\n"
      ],
      "text/latex": [
       "\\begin{tabular}{ll}\n",
       "\t 10 & 20\\\\\n",
       "\t 30 & 40\\\\\n",
       "\t 50 & 60\\\\\n",
       "\\end{tabular}\n"
      ],
      "text/markdown": [
       "\n",
       "| 10 | 20 | \n",
       "| 30 | 40 | \n",
       "| 50 | 60 | \n",
       "\n",
       "\n"
      ],
      "text/plain": [
       "     [,1] [,2]\n",
       "[1,] 10   20  \n",
       "[2,] 30   40  \n",
       "[3,] 50   60  "
      ]
     },
     "metadata": {},
     "output_type": "display_data"
    },
    {
     "name": "stderr",
     "output_type": "stream",
     "text": [
      "Matriz resultante despues de realizar el cálculo: \n"
     ]
    },
    {
     "data": {
      "text/html": [
       "<table>\n",
       "<tbody>\n",
       "\t<tr><td> -9.714286</td><td>-19.42857 </td></tr>\n",
       "\t<tr><td>-29.428571</td><td>-38.85714 </td></tr>\n",
       "\t<tr><td>-48.000000</td><td>-58.28571 </td></tr>\n",
       "</tbody>\n",
       "</table>\n"
      ],
      "text/latex": [
       "\\begin{tabular}{ll}\n",
       "\t  -9.714286 & -19.42857 \\\\\n",
       "\t -29.428571 & -38.85714 \\\\\n",
       "\t -48.000000 & -58.28571 \\\\\n",
       "\\end{tabular}\n"
      ],
      "text/markdown": [
       "\n",
       "|  -9.714286 | -19.42857  | \n",
       "| -29.428571 | -38.85714  | \n",
       "| -48.000000 | -58.28571  | \n",
       "\n",
       "\n"
      ],
      "text/plain": [
       "     [,1]       [,2]     \n",
       "[1,]  -9.714286 -19.42857\n",
       "[2,] -29.428571 -38.85714\n",
       "[3,] -48.000000 -58.28571"
      ]
     },
     "metadata": {},
     "output_type": "display_data"
    }
   ],
   "source": [
    "message(\"Matriz A:\")\n",
    "A <- matrix(c(1,2,2,4,7,6),nrow = 3, byrow = TRUE)\n",
    "A\n",
    "\n",
    "message(\"Matriz B:\")\n",
    "B <- matrix(10*1:6,nrow = 3, byrow = TRUE)\n",
    "B\n",
    "\n",
    "a <- 2/7\n",
    "\n",
    "message(\"Matriz resultante despues de realizar el cálculo: \")\n",
    "a*A - B"
   ]
  },
  {
   "cell_type": "markdown",
   "metadata": {},
   "source": [
    "5.Almacena estas dos matrices:\n",
    "$$\n",
    "A = \\begin{bmatrix}\n",
    "1 \\\\[0.3em]\n",
    "2 \\\\[0.3em]\n",
    "7 \n",
    "\\end{bmatrix}\\qquad B = \\begin{bmatrix}\n",
    "3 \\\\[0.3em]\n",
    "4 \\\\[0.3em]\n",
    "8 \n",
    "\\end{bmatrix}\n",
    "$$"
   ]
  },
  {
   "cell_type": "code",
   "execution_count": 16,
   "metadata": {
    "collapsed": false
   },
   "outputs": [
    {
     "name": "stderr",
     "output_type": "stream",
     "text": [
      "Matriz A\n",
      "Dimension de A, mxn, es: 3x2\n"
     ]
    },
    {
     "data": {
      "text/html": [
       "<table>\n",
       "<tbody>\n",
       "\t<tr><td>1</td></tr>\n",
       "\t<tr><td>2</td></tr>\n",
       "\t<tr><td>7</td></tr>\n",
       "</tbody>\n",
       "</table>\n"
      ],
      "text/latex": [
       "\\begin{tabular}{l}\n",
       "\t 1\\\\\n",
       "\t 2\\\\\n",
       "\t 7\\\\\n",
       "\\end{tabular}\n"
      ],
      "text/markdown": [
       "\n",
       "| 1 | \n",
       "| 2 | \n",
       "| 7 | \n",
       "\n",
       "\n"
      ],
      "text/plain": [
       "     [,1]\n",
       "[1,] 1   \n",
       "[2,] 2   \n",
       "[3,] 7   "
      ]
     },
     "metadata": {},
     "output_type": "display_data"
    },
    {
     "name": "stderr",
     "output_type": "stream",
     "text": [
      "Matriz B\n",
      "Dimension de B, pxq, es: 3x2\n"
     ]
    },
    {
     "data": {
      "text/html": [
       "<table>\n",
       "<tbody>\n",
       "\t<tr><td>3</td></tr>\n",
       "\t<tr><td>4</td></tr>\n",
       "\t<tr><td>8</td></tr>\n",
       "</tbody>\n",
       "</table>\n"
      ],
      "text/latex": [
       "\\begin{tabular}{l}\n",
       "\t 3\\\\\n",
       "\t 4\\\\\n",
       "\t 8\\\\\n",
       "\\end{tabular}\n"
      ],
      "text/markdown": [
       "\n",
       "| 3 | \n",
       "| 4 | \n",
       "| 8 | \n",
       "\n",
       "\n"
      ],
      "text/plain": [
       "     [,1]\n",
       "[1,] 3   \n",
       "[2,] 4   \n",
       "[3,] 8   "
      ]
     },
     "metadata": {},
     "output_type": "display_data"
    }
   ],
   "source": [
    "message(\"Matriz A\")\n",
    "message(\"Dimension de A, mxn, es: \",dim(A)[1],\"x\",dim(A)[2])\n",
    "A <- matrix(c(1,2,7))\n",
    "A\n",
    "\n",
    "message(\"Matriz B\")\n",
    "message(\"Dimension de B, pxq, es: \",dim(B)[1],\"x\",dim(B)[2])\n",
    "B <- matrix(c(3,4,8))\n",
    "B"
   ]
  },
  {
   "cell_type": "markdown",
   "metadata": {},
   "source": [
    "¿Cuál de las siguientes multiplicaciones son posibles?. Para los que son, calcula el resultado."
   ]
  },
  {
   "cell_type": "markdown",
   "metadata": {},
   "source": [
    "- $A \\cdot B$\n",
    "\n",
    "No es posible ya que `n!=p`."
   ]
  },
  {
   "cell_type": "markdown",
   "metadata": {},
   "source": [
    "- $A^T \\cdot B$"
   ]
  },
  {
   "cell_type": "code",
   "execution_count": 17,
   "metadata": {
    "collapsed": false
   },
   "outputs": [
    {
     "data": {
      "text/html": [
       "<table>\n",
       "<tbody>\n",
       "\t<tr><td>67</td></tr>\n",
       "</tbody>\n",
       "</table>\n"
      ],
      "text/latex": [
       "\\begin{tabular}{l}\n",
       "\t 67\\\\\n",
       "\\end{tabular}\n"
      ],
      "text/markdown": [
       "\n",
       "| 67 | \n",
       "\n",
       "\n"
      ],
      "text/plain": [
       "     [,1]\n",
       "[1,] 67  "
      ]
     },
     "metadata": {},
     "output_type": "display_data"
    }
   ],
   "source": [
    "#Si es posible, ya que m==p\n",
    "t(A)%*%B"
   ]
  },
  {
   "cell_type": "markdown",
   "metadata": {},
   "source": [
    "- $B^T \\cdot (A \\cdot A^T)$"
   ]
  },
  {
   "cell_type": "code",
   "execution_count": 18,
   "metadata": {
    "collapsed": false
   },
   "outputs": [
    {
     "data": {
      "text/html": [
       "<table>\n",
       "<tbody>\n",
       "\t<tr><td>67 </td><td>134</td><td>469</td></tr>\n",
       "</tbody>\n",
       "</table>\n"
      ],
      "text/latex": [
       "\\begin{tabular}{lll}\n",
       "\t 67  & 134 & 469\\\\\n",
       "\\end{tabular}\n"
      ],
      "text/markdown": [
       "\n",
       "| 67  | 134 | 469 | \n",
       "\n",
       "\n"
      ],
      "text/plain": [
       "     [,1] [,2] [,3]\n",
       "[1,] 67   134  469 "
      ]
     },
     "metadata": {},
     "output_type": "display_data"
    }
   ],
   "source": [
    "#Si es posible\n",
    "t(B)%*%(A%*%t(A))"
   ]
  },
  {
   "cell_type": "markdown",
   "metadata": {},
   "source": [
    "- $[(B\\cdot B^T) + (A \\cdot A^T)- 100I_3 ]^{-1}$"
   ]
  },
  {
   "cell_type": "code",
   "execution_count": 19,
   "metadata": {
    "collapsed": false
   },
   "outputs": [
    {
     "data": {
      "text/html": [
       "<table>\n",
       "<tbody>\n",
       "\t<tr><td>-0.007923676</td><td> 0.003123274</td><td>0.007843334 </td></tr>\n",
       "\t<tr><td> 0.003123274</td><td>-0.005350239</td><td>0.011483806 </td></tr>\n",
       "\t<tr><td> 0.007843334</td><td> 0.011483806</td><td>0.017584735 </td></tr>\n",
       "</tbody>\n",
       "</table>\n"
      ],
      "text/latex": [
       "\\begin{tabular}{lll}\n",
       "\t -0.007923676 &  0.003123274 & 0.007843334 \\\\\n",
       "\t  0.003123274 & -0.005350239 & 0.011483806 \\\\\n",
       "\t  0.007843334 &  0.011483806 & 0.017584735 \\\\\n",
       "\\end{tabular}\n"
      ],
      "text/markdown": [
       "\n",
       "| -0.007923676 |  0.003123274 | 0.007843334  | \n",
       "|  0.003123274 | -0.005350239 | 0.011483806  | \n",
       "|  0.007843334 |  0.011483806 | 0.017584735  | \n",
       "\n",
       "\n"
      ],
      "text/plain": [
       "     [,1]         [,2]         [,3]       \n",
       "[1,] -0.007923676  0.003123274 0.007843334\n",
       "[2,]  0.003123274 -0.005350239 0.011483806\n",
       "[3,]  0.007843334  0.011483806 0.017584735"
      ]
     },
     "metadata": {},
     "output_type": "display_data"
    }
   ],
   "source": [
    "#Si es posible\n",
    "solve( B%*%t(B) + A%*%t(A) - 100*diag(x=3) ) "
   ]
  },
  {
   "cell_type": "markdown",
   "metadata": {},
   "source": [
    "6.La función `diag` tiene varios usos, uno de los cuales es tomar un vector como  entrada y crea una matriz cuadrada con ese vector en la diagonal. Crea una matriz  $21 \\times 21$ con la secuencia de $10$ a $0$ y a $10$ (es decir, $10, 9, \\dots, 1, 0, 1, \\dots, 10$)."
   ]
  },
  {
   "cell_type": "code",
   "execution_count": 20,
   "metadata": {
    "collapsed": false
   },
   "outputs": [
    {
     "data": {
      "text/html": [
       "<table>\n",
       "<tbody>\n",
       "\t<tr><td>10</td><td>0 </td><td>0 </td><td>0 </td><td>0 </td><td>0 </td><td>0 </td><td>0 </td><td>0 </td><td>0 </td><td>⋯ </td><td>0 </td><td>0 </td><td>0 </td><td>0 </td><td>0 </td><td>0 </td><td>0 </td><td>0 </td><td>0 </td><td> 0</td></tr>\n",
       "\t<tr><td> 0</td><td>9 </td><td>0 </td><td>0 </td><td>0 </td><td>0 </td><td>0 </td><td>0 </td><td>0 </td><td>0 </td><td>⋯ </td><td>0 </td><td>0 </td><td>0 </td><td>0 </td><td>0 </td><td>0 </td><td>0 </td><td>0 </td><td>0 </td><td> 0</td></tr>\n",
       "\t<tr><td> 0</td><td>0 </td><td>8 </td><td>0 </td><td>0 </td><td>0 </td><td>0 </td><td>0 </td><td>0 </td><td>0 </td><td>⋯ </td><td>0 </td><td>0 </td><td>0 </td><td>0 </td><td>0 </td><td>0 </td><td>0 </td><td>0 </td><td>0 </td><td> 0</td></tr>\n",
       "\t<tr><td> 0</td><td>0 </td><td>0 </td><td>7 </td><td>0 </td><td>0 </td><td>0 </td><td>0 </td><td>0 </td><td>0 </td><td>⋯ </td><td>0 </td><td>0 </td><td>0 </td><td>0 </td><td>0 </td><td>0 </td><td>0 </td><td>0 </td><td>0 </td><td> 0</td></tr>\n",
       "\t<tr><td> 0</td><td>0 </td><td>0 </td><td>0 </td><td>6 </td><td>0 </td><td>0 </td><td>0 </td><td>0 </td><td>0 </td><td>⋯ </td><td>0 </td><td>0 </td><td>0 </td><td>0 </td><td>0 </td><td>0 </td><td>0 </td><td>0 </td><td>0 </td><td> 0</td></tr>\n",
       "\t<tr><td> 0</td><td>0 </td><td>0 </td><td>0 </td><td>0 </td><td>5 </td><td>0 </td><td>0 </td><td>0 </td><td>0 </td><td>⋯ </td><td>0 </td><td>0 </td><td>0 </td><td>0 </td><td>0 </td><td>0 </td><td>0 </td><td>0 </td><td>0 </td><td> 0</td></tr>\n",
       "\t<tr><td> 0</td><td>0 </td><td>0 </td><td>0 </td><td>0 </td><td>0 </td><td>4 </td><td>0 </td><td>0 </td><td>0 </td><td>⋯ </td><td>0 </td><td>0 </td><td>0 </td><td>0 </td><td>0 </td><td>0 </td><td>0 </td><td>0 </td><td>0 </td><td> 0</td></tr>\n",
       "\t<tr><td> 0</td><td>0 </td><td>0 </td><td>0 </td><td>0 </td><td>0 </td><td>0 </td><td>3 </td><td>0 </td><td>0 </td><td>⋯ </td><td>0 </td><td>0 </td><td>0 </td><td>0 </td><td>0 </td><td>0 </td><td>0 </td><td>0 </td><td>0 </td><td> 0</td></tr>\n",
       "\t<tr><td> 0</td><td>0 </td><td>0 </td><td>0 </td><td>0 </td><td>0 </td><td>0 </td><td>0 </td><td>2 </td><td>0 </td><td>⋯ </td><td>0 </td><td>0 </td><td>0 </td><td>0 </td><td>0 </td><td>0 </td><td>0 </td><td>0 </td><td>0 </td><td> 0</td></tr>\n",
       "\t<tr><td> 0</td><td>0 </td><td>0 </td><td>0 </td><td>0 </td><td>0 </td><td>0 </td><td>0 </td><td>0 </td><td>1 </td><td>⋯ </td><td>0 </td><td>0 </td><td>0 </td><td>0 </td><td>0 </td><td>0 </td><td>0 </td><td>0 </td><td>0 </td><td> 0</td></tr>\n",
       "\t<tr><td> 0</td><td>0 </td><td>0 </td><td>0 </td><td>0 </td><td>0 </td><td>0 </td><td>0 </td><td>0 </td><td>0 </td><td>⋯ </td><td>0 </td><td>0 </td><td>0 </td><td>0 </td><td>0 </td><td>0 </td><td>0 </td><td>0 </td><td>0 </td><td> 0</td></tr>\n",
       "\t<tr><td> 0</td><td>0 </td><td>0 </td><td>0 </td><td>0 </td><td>0 </td><td>0 </td><td>0 </td><td>0 </td><td>0 </td><td>⋯ </td><td>1 </td><td>0 </td><td>0 </td><td>0 </td><td>0 </td><td>0 </td><td>0 </td><td>0 </td><td>0 </td><td> 0</td></tr>\n",
       "\t<tr><td> 0</td><td>0 </td><td>0 </td><td>0 </td><td>0 </td><td>0 </td><td>0 </td><td>0 </td><td>0 </td><td>0 </td><td>⋯ </td><td>0 </td><td>2 </td><td>0 </td><td>0 </td><td>0 </td><td>0 </td><td>0 </td><td>0 </td><td>0 </td><td> 0</td></tr>\n",
       "\t<tr><td> 0</td><td>0 </td><td>0 </td><td>0 </td><td>0 </td><td>0 </td><td>0 </td><td>0 </td><td>0 </td><td>0 </td><td>⋯ </td><td>0 </td><td>0 </td><td>3 </td><td>0 </td><td>0 </td><td>0 </td><td>0 </td><td>0 </td><td>0 </td><td> 0</td></tr>\n",
       "\t<tr><td> 0</td><td>0 </td><td>0 </td><td>0 </td><td>0 </td><td>0 </td><td>0 </td><td>0 </td><td>0 </td><td>0 </td><td>⋯ </td><td>0 </td><td>0 </td><td>0 </td><td>4 </td><td>0 </td><td>0 </td><td>0 </td><td>0 </td><td>0 </td><td> 0</td></tr>\n",
       "\t<tr><td> 0</td><td>0 </td><td>0 </td><td>0 </td><td>0 </td><td>0 </td><td>0 </td><td>0 </td><td>0 </td><td>0 </td><td>⋯ </td><td>0 </td><td>0 </td><td>0 </td><td>0 </td><td>5 </td><td>0 </td><td>0 </td><td>0 </td><td>0 </td><td> 0</td></tr>\n",
       "\t<tr><td> 0</td><td>0 </td><td>0 </td><td>0 </td><td>0 </td><td>0 </td><td>0 </td><td>0 </td><td>0 </td><td>0 </td><td>⋯ </td><td>0 </td><td>0 </td><td>0 </td><td>0 </td><td>0 </td><td>6 </td><td>0 </td><td>0 </td><td>0 </td><td> 0</td></tr>\n",
       "\t<tr><td> 0</td><td>0 </td><td>0 </td><td>0 </td><td>0 </td><td>0 </td><td>0 </td><td>0 </td><td>0 </td><td>0 </td><td>⋯ </td><td>0 </td><td>0 </td><td>0 </td><td>0 </td><td>0 </td><td>0 </td><td>7 </td><td>0 </td><td>0 </td><td> 0</td></tr>\n",
       "\t<tr><td> 0</td><td>0 </td><td>0 </td><td>0 </td><td>0 </td><td>0 </td><td>0 </td><td>0 </td><td>0 </td><td>0 </td><td>⋯ </td><td>0 </td><td>0 </td><td>0 </td><td>0 </td><td>0 </td><td>0 </td><td>0 </td><td>8 </td><td>0 </td><td> 0</td></tr>\n",
       "\t<tr><td> 0</td><td>0 </td><td>0 </td><td>0 </td><td>0 </td><td>0 </td><td>0 </td><td>0 </td><td>0 </td><td>0 </td><td>⋯ </td><td>0 </td><td>0 </td><td>0 </td><td>0 </td><td>0 </td><td>0 </td><td>0 </td><td>0 </td><td>9 </td><td> 0</td></tr>\n",
       "\t<tr><td> 0</td><td>0 </td><td>0 </td><td>0 </td><td>0 </td><td>0 </td><td>0 </td><td>0 </td><td>0 </td><td>0 </td><td>⋯ </td><td>0 </td><td>0 </td><td>0 </td><td>0 </td><td>0 </td><td>0 </td><td>0 </td><td>0 </td><td>0 </td><td>10</td></tr>\n",
       "</tbody>\n",
       "</table>\n"
      ],
      "text/latex": [
       "\\begin{tabular}{lllllllllllllllllllll}\n",
       "\t 10 & 0  & 0  & 0  & 0  & 0  & 0  & 0  & 0  & 0  & ⋯  & 0  & 0  & 0  & 0  & 0  & 0  & 0  & 0  & 0  &  0\\\\\n",
       "\t  0 & 9  & 0  & 0  & 0  & 0  & 0  & 0  & 0  & 0  & ⋯  & 0  & 0  & 0  & 0  & 0  & 0  & 0  & 0  & 0  &  0\\\\\n",
       "\t  0 & 0  & 8  & 0  & 0  & 0  & 0  & 0  & 0  & 0  & ⋯  & 0  & 0  & 0  & 0  & 0  & 0  & 0  & 0  & 0  &  0\\\\\n",
       "\t  0 & 0  & 0  & 7  & 0  & 0  & 0  & 0  & 0  & 0  & ⋯  & 0  & 0  & 0  & 0  & 0  & 0  & 0  & 0  & 0  &  0\\\\\n",
       "\t  0 & 0  & 0  & 0  & 6  & 0  & 0  & 0  & 0  & 0  & ⋯  & 0  & 0  & 0  & 0  & 0  & 0  & 0  & 0  & 0  &  0\\\\\n",
       "\t  0 & 0  & 0  & 0  & 0  & 5  & 0  & 0  & 0  & 0  & ⋯  & 0  & 0  & 0  & 0  & 0  & 0  & 0  & 0  & 0  &  0\\\\\n",
       "\t  0 & 0  & 0  & 0  & 0  & 0  & 4  & 0  & 0  & 0  & ⋯  & 0  & 0  & 0  & 0  & 0  & 0  & 0  & 0  & 0  &  0\\\\\n",
       "\t  0 & 0  & 0  & 0  & 0  & 0  & 0  & 3  & 0  & 0  & ⋯  & 0  & 0  & 0  & 0  & 0  & 0  & 0  & 0  & 0  &  0\\\\\n",
       "\t  0 & 0  & 0  & 0  & 0  & 0  & 0  & 0  & 2  & 0  & ⋯  & 0  & 0  & 0  & 0  & 0  & 0  & 0  & 0  & 0  &  0\\\\\n",
       "\t  0 & 0  & 0  & 0  & 0  & 0  & 0  & 0  & 0  & 1  & ⋯  & 0  & 0  & 0  & 0  & 0  & 0  & 0  & 0  & 0  &  0\\\\\n",
       "\t  0 & 0  & 0  & 0  & 0  & 0  & 0  & 0  & 0  & 0  & ⋯  & 0  & 0  & 0  & 0  & 0  & 0  & 0  & 0  & 0  &  0\\\\\n",
       "\t  0 & 0  & 0  & 0  & 0  & 0  & 0  & 0  & 0  & 0  & ⋯  & 1  & 0  & 0  & 0  & 0  & 0  & 0  & 0  & 0  &  0\\\\\n",
       "\t  0 & 0  & 0  & 0  & 0  & 0  & 0  & 0  & 0  & 0  & ⋯  & 0  & 2  & 0  & 0  & 0  & 0  & 0  & 0  & 0  &  0\\\\\n",
       "\t  0 & 0  & 0  & 0  & 0  & 0  & 0  & 0  & 0  & 0  & ⋯  & 0  & 0  & 3  & 0  & 0  & 0  & 0  & 0  & 0  &  0\\\\\n",
       "\t  0 & 0  & 0  & 0  & 0  & 0  & 0  & 0  & 0  & 0  & ⋯  & 0  & 0  & 0  & 4  & 0  & 0  & 0  & 0  & 0  &  0\\\\\n",
       "\t  0 & 0  & 0  & 0  & 0  & 0  & 0  & 0  & 0  & 0  & ⋯  & 0  & 0  & 0  & 0  & 5  & 0  & 0  & 0  & 0  &  0\\\\\n",
       "\t  0 & 0  & 0  & 0  & 0  & 0  & 0  & 0  & 0  & 0  & ⋯  & 0  & 0  & 0  & 0  & 0  & 6  & 0  & 0  & 0  &  0\\\\\n",
       "\t  0 & 0  & 0  & 0  & 0  & 0  & 0  & 0  & 0  & 0  & ⋯  & 0  & 0  & 0  & 0  & 0  & 0  & 7  & 0  & 0  &  0\\\\\n",
       "\t  0 & 0  & 0  & 0  & 0  & 0  & 0  & 0  & 0  & 0  & ⋯  & 0  & 0  & 0  & 0  & 0  & 0  & 0  & 8  & 0  &  0\\\\\n",
       "\t  0 & 0  & 0  & 0  & 0  & 0  & 0  & 0  & 0  & 0  & ⋯  & 0  & 0  & 0  & 0  & 0  & 0  & 0  & 0  & 9  &  0\\\\\n",
       "\t  0 & 0  & 0  & 0  & 0  & 0  & 0  & 0  & 0  & 0  & ⋯  & 0  & 0  & 0  & 0  & 0  & 0  & 0  & 0  & 0  & 10\\\\\n",
       "\\end{tabular}\n"
      ],
      "text/markdown": [
       "\n",
       "| 10 | 0  | 0  | 0  | 0  | 0  | 0  | 0  | 0  | 0  | ⋯  | 0  | 0  | 0  | 0  | 0  | 0  | 0  | 0  | 0  |  0 | \n",
       "|  0 | 9  | 0  | 0  | 0  | 0  | 0  | 0  | 0  | 0  | ⋯  | 0  | 0  | 0  | 0  | 0  | 0  | 0  | 0  | 0  |  0 | \n",
       "|  0 | 0  | 8  | 0  | 0  | 0  | 0  | 0  | 0  | 0  | ⋯  | 0  | 0  | 0  | 0  | 0  | 0  | 0  | 0  | 0  |  0 | \n",
       "|  0 | 0  | 0  | 7  | 0  | 0  | 0  | 0  | 0  | 0  | ⋯  | 0  | 0  | 0  | 0  | 0  | 0  | 0  | 0  | 0  |  0 | \n",
       "|  0 | 0  | 0  | 0  | 6  | 0  | 0  | 0  | 0  | 0  | ⋯  | 0  | 0  | 0  | 0  | 0  | 0  | 0  | 0  | 0  |  0 | \n",
       "|  0 | 0  | 0  | 0  | 0  | 5  | 0  | 0  | 0  | 0  | ⋯  | 0  | 0  | 0  | 0  | 0  | 0  | 0  | 0  | 0  |  0 | \n",
       "|  0 | 0  | 0  | 0  | 0  | 0  | 4  | 0  | 0  | 0  | ⋯  | 0  | 0  | 0  | 0  | 0  | 0  | 0  | 0  | 0  |  0 | \n",
       "|  0 | 0  | 0  | 0  | 0  | 0  | 0  | 3  | 0  | 0  | ⋯  | 0  | 0  | 0  | 0  | 0  | 0  | 0  | 0  | 0  |  0 | \n",
       "|  0 | 0  | 0  | 0  | 0  | 0  | 0  | 0  | 2  | 0  | ⋯  | 0  | 0  | 0  | 0  | 0  | 0  | 0  | 0  | 0  |  0 | \n",
       "|  0 | 0  | 0  | 0  | 0  | 0  | 0  | 0  | 0  | 1  | ⋯  | 0  | 0  | 0  | 0  | 0  | 0  | 0  | 0  | 0  |  0 | \n",
       "|  0 | 0  | 0  | 0  | 0  | 0  | 0  | 0  | 0  | 0  | ⋯  | 0  | 0  | 0  | 0  | 0  | 0  | 0  | 0  | 0  |  0 | \n",
       "|  0 | 0  | 0  | 0  | 0  | 0  | 0  | 0  | 0  | 0  | ⋯  | 1  | 0  | 0  | 0  | 0  | 0  | 0  | 0  | 0  |  0 | \n",
       "|  0 | 0  | 0  | 0  | 0  | 0  | 0  | 0  | 0  | 0  | ⋯  | 0  | 2  | 0  | 0  | 0  | 0  | 0  | 0  | 0  |  0 | \n",
       "|  0 | 0  | 0  | 0  | 0  | 0  | 0  | 0  | 0  | 0  | ⋯  | 0  | 0  | 3  | 0  | 0  | 0  | 0  | 0  | 0  |  0 | \n",
       "|  0 | 0  | 0  | 0  | 0  | 0  | 0  | 0  | 0  | 0  | ⋯  | 0  | 0  | 0  | 4  | 0  | 0  | 0  | 0  | 0  |  0 | \n",
       "|  0 | 0  | 0  | 0  | 0  | 0  | 0  | 0  | 0  | 0  | ⋯  | 0  | 0  | 0  | 0  | 5  | 0  | 0  | 0  | 0  |  0 | \n",
       "|  0 | 0  | 0  | 0  | 0  | 0  | 0  | 0  | 0  | 0  | ⋯  | 0  | 0  | 0  | 0  | 0  | 6  | 0  | 0  | 0  |  0 | \n",
       "|  0 | 0  | 0  | 0  | 0  | 0  | 0  | 0  | 0  | 0  | ⋯  | 0  | 0  | 0  | 0  | 0  | 0  | 7  | 0  | 0  |  0 | \n",
       "|  0 | 0  | 0  | 0  | 0  | 0  | 0  | 0  | 0  | 0  | ⋯  | 0  | 0  | 0  | 0  | 0  | 0  | 0  | 8  | 0  |  0 | \n",
       "|  0 | 0  | 0  | 0  | 0  | 0  | 0  | 0  | 0  | 0  | ⋯  | 0  | 0  | 0  | 0  | 0  | 0  | 0  | 0  | 9  |  0 | \n",
       "|  0 | 0  | 0  | 0  | 0  | 0  | 0  | 0  | 0  | 0  | ⋯  | 0  | 0  | 0  | 0  | 0  | 0  | 0  | 0  | 0  | 10 | \n",
       "\n",
       "\n"
      ],
      "text/plain": [
       "      [,1] [,2] [,3] [,4] [,5] [,6] [,7] [,8] [,9] [,10] [,11] [,12] [,13]\n",
       " [1,] 10   0    0    0    0    0    0    0    0    0     ⋯     0     0    \n",
       " [2,]  0   9    0    0    0    0    0    0    0    0     ⋯     0     0    \n",
       " [3,]  0   0    8    0    0    0    0    0    0    0     ⋯     0     0    \n",
       " [4,]  0   0    0    7    0    0    0    0    0    0     ⋯     0     0    \n",
       " [5,]  0   0    0    0    6    0    0    0    0    0     ⋯     0     0    \n",
       " [6,]  0   0    0    0    0    5    0    0    0    0     ⋯     0     0    \n",
       " [7,]  0   0    0    0    0    0    4    0    0    0     ⋯     0     0    \n",
       " [8,]  0   0    0    0    0    0    0    3    0    0     ⋯     0     0    \n",
       " [9,]  0   0    0    0    0    0    0    0    2    0     ⋯     0     0    \n",
       "[10,]  0   0    0    0    0    0    0    0    0    1     ⋯     0     0    \n",
       "[11,]  0   0    0    0    0    0    0    0    0    0     ⋯     0     0    \n",
       "[12,]  0   0    0    0    0    0    0    0    0    0     ⋯     1     0    \n",
       "[13,]  0   0    0    0    0    0    0    0    0    0     ⋯     0     2    \n",
       "[14,]  0   0    0    0    0    0    0    0    0    0     ⋯     0     0    \n",
       "[15,]  0   0    0    0    0    0    0    0    0    0     ⋯     0     0    \n",
       "[16,]  0   0    0    0    0    0    0    0    0    0     ⋯     0     0    \n",
       "[17,]  0   0    0    0    0    0    0    0    0    0     ⋯     0     0    \n",
       "[18,]  0   0    0    0    0    0    0    0    0    0     ⋯     0     0    \n",
       "[19,]  0   0    0    0    0    0    0    0    0    0     ⋯     0     0    \n",
       "[20,]  0   0    0    0    0    0    0    0    0    0     ⋯     0     0    \n",
       "[21,]  0   0    0    0    0    0    0    0    0    0     ⋯     0     0    \n",
       "      [,14] [,15] [,16] [,17] [,18] [,19] [,20] [,21]\n",
       " [1,] 0     0     0     0     0     0     0      0   \n",
       " [2,] 0     0     0     0     0     0     0      0   \n",
       " [3,] 0     0     0     0     0     0     0      0   \n",
       " [4,] 0     0     0     0     0     0     0      0   \n",
       " [5,] 0     0     0     0     0     0     0      0   \n",
       " [6,] 0     0     0     0     0     0     0      0   \n",
       " [7,] 0     0     0     0     0     0     0      0   \n",
       " [8,] 0     0     0     0     0     0     0      0   \n",
       " [9,] 0     0     0     0     0     0     0      0   \n",
       "[10,] 0     0     0     0     0     0     0      0   \n",
       "[11,] 0     0     0     0     0     0     0      0   \n",
       "[12,] 0     0     0     0     0     0     0      0   \n",
       "[13,] 0     0     0     0     0     0     0      0   \n",
       "[14,] 3     0     0     0     0     0     0      0   \n",
       "[15,] 0     4     0     0     0     0     0      0   \n",
       "[16,] 0     0     5     0     0     0     0      0   \n",
       "[17,] 0     0     0     6     0     0     0      0   \n",
       "[18,] 0     0     0     0     7     0     0      0   \n",
       "[19,] 0     0     0     0     0     8     0      0   \n",
       "[20,] 0     0     0     0     0     0     9      0   \n",
       "[21,] 0     0     0     0     0     0     0     10   "
      ]
     },
     "metadata": {},
     "output_type": "display_data"
    }
   ],
   "source": [
    "diag(x = c(10:0,1:10), nrow = 21)"
   ]
  },
  {
   "cell_type": "markdown",
   "metadata": {},
   "source": [
    "7.Para\n",
    "$$\n",
    "A = \\begin{bmatrix}\n",
    "        2 & 0 & 0  & 0    \\\\[0.3em]\n",
    "        0 & 3 & 0 & 0     \\\\[0.3em]\n",
    "        0 & 0 & 5 & 0      \\\\[0.3em]\n",
    "        0 & 0 & 0 & -1           \n",
    "\\end{bmatrix}\n",
    "$$\n",
    "\n",
    "Comprueba que $A^{-1}\\cdot A -I_4$ proporciona una matriz $4 \\times 4$ de ceros."
   ]
  },
  {
   "cell_type": "code",
   "execution_count": 21,
   "metadata": {
    "collapsed": false
   },
   "outputs": [
    {
     "name": "stderr",
     "output_type": "stream",
     "text": [
      "Matriz A\n"
     ]
    },
    {
     "data": {
      "text/html": [
       "<table>\n",
       "<tbody>\n",
       "\t<tr><td>2 </td><td>0 </td><td>0 </td><td> 0</td></tr>\n",
       "\t<tr><td>0 </td><td>3 </td><td>0 </td><td> 0</td></tr>\n",
       "\t<tr><td>0 </td><td>0 </td><td>5 </td><td> 0</td></tr>\n",
       "\t<tr><td>0 </td><td>0 </td><td>0 </td><td>-1</td></tr>\n",
       "</tbody>\n",
       "</table>\n"
      ],
      "text/latex": [
       "\\begin{tabular}{llll}\n",
       "\t 2  & 0  & 0  &  0\\\\\n",
       "\t 0  & 3  & 0  &  0\\\\\n",
       "\t 0  & 0  & 5  &  0\\\\\n",
       "\t 0  & 0  & 0  & -1\\\\\n",
       "\\end{tabular}\n"
      ],
      "text/markdown": [
       "\n",
       "| 2  | 0  | 0  |  0 | \n",
       "| 0  | 3  | 0  |  0 | \n",
       "| 0  | 0  | 5  |  0 | \n",
       "| 0  | 0  | 0  | -1 | \n",
       "\n",
       "\n"
      ],
      "text/plain": [
       "     [,1] [,2] [,3] [,4]\n",
       "[1,] 2    0    0     0  \n",
       "[2,] 0    3    0     0  \n",
       "[3,] 0    0    5     0  \n",
       "[4,] 0    0    0    -1  "
      ]
     },
     "metadata": {},
     "output_type": "display_data"
    },
    {
     "name": "stderr",
     "output_type": "stream",
     "text": [
      "Matriz I4\n"
     ]
    },
    {
     "data": {
      "text/html": [
       "<table>\n",
       "<tbody>\n",
       "\t<tr><td>1</td><td>0</td><td>0</td><td>0</td></tr>\n",
       "\t<tr><td>0</td><td>1</td><td>0</td><td>0</td></tr>\n",
       "\t<tr><td>0</td><td>0</td><td>1</td><td>0</td></tr>\n",
       "\t<tr><td>0</td><td>0</td><td>0</td><td>1</td></tr>\n",
       "</tbody>\n",
       "</table>\n"
      ],
      "text/latex": [
       "\\begin{tabular}{llll}\n",
       "\t 1 & 0 & 0 & 0\\\\\n",
       "\t 0 & 1 & 0 & 0\\\\\n",
       "\t 0 & 0 & 1 & 0\\\\\n",
       "\t 0 & 0 & 0 & 1\\\\\n",
       "\\end{tabular}\n"
      ],
      "text/markdown": [
       "\n",
       "| 1 | 0 | 0 | 0 | \n",
       "| 0 | 1 | 0 | 0 | \n",
       "| 0 | 0 | 1 | 0 | \n",
       "| 0 | 0 | 0 | 1 | \n",
       "\n",
       "\n"
      ],
      "text/plain": [
       "     [,1] [,2] [,3] [,4]\n",
       "[1,] 1    0    0    0   \n",
       "[2,] 0    1    0    0   \n",
       "[3,] 0    0    1    0   \n",
       "[4,] 0    0    0    1   "
      ]
     },
     "metadata": {},
     "output_type": "display_data"
    },
    {
     "name": "stderr",
     "output_type": "stream",
     "text": [
      "Matriz resultante después de realizar el cálculo: \n"
     ]
    },
    {
     "data": {
      "text/html": [
       "<table>\n",
       "<tbody>\n",
       "\t<tr><td>0</td><td>0</td><td>0</td><td>0</td></tr>\n",
       "\t<tr><td>0</td><td>0</td><td>0</td><td>0</td></tr>\n",
       "\t<tr><td>0</td><td>0</td><td>0</td><td>0</td></tr>\n",
       "\t<tr><td>0</td><td>0</td><td>0</td><td>0</td></tr>\n",
       "</tbody>\n",
       "</table>\n"
      ],
      "text/latex": [
       "\\begin{tabular}{llll}\n",
       "\t 0 & 0 & 0 & 0\\\\\n",
       "\t 0 & 0 & 0 & 0\\\\\n",
       "\t 0 & 0 & 0 & 0\\\\\n",
       "\t 0 & 0 & 0 & 0\\\\\n",
       "\\end{tabular}\n"
      ],
      "text/markdown": [
       "\n",
       "| 0 | 0 | 0 | 0 | \n",
       "| 0 | 0 | 0 | 0 | \n",
       "| 0 | 0 | 0 | 0 | \n",
       "| 0 | 0 | 0 | 0 | \n",
       "\n",
       "\n"
      ],
      "text/plain": [
       "     [,1] [,2] [,3] [,4]\n",
       "[1,] 0    0    0    0   \n",
       "[2,] 0    0    0    0   \n",
       "[3,] 0    0    0    0   \n",
       "[4,] 0    0    0    0   "
      ]
     },
     "metadata": {},
     "output_type": "display_data"
    }
   ],
   "source": [
    "message(\"Matriz A\")\n",
    "A <- diag(x = c(2,3,5,-1),nrow = 4)\n",
    "A\n",
    "message(\"Matriz I4\")\n",
    "I4 <- diag(x = 4)\n",
    "I4\n",
    "\n",
    "message(\"Matriz resultante después de realizar el cálculo: \")\n",
    "solve(A)%*%A-I4"
   ]
  },
  {
   "cell_type": "markdown",
   "metadata": {},
   "source": [
    "8.Usa las funciones `matrix()`, `seq()` y `rep()` para construir la matrices de Hankel $5 \\times 5$.\n",
    "$$\n",
    "M = \\begin{bmatrix}\n",
    "        1 & 2 & 3  & 4 & 5         \\\\[0.3em]\n",
    "        2 & 3 & 4 & 5 & 6           \\\\[0.3em]\n",
    "        3 & 4 & 5 & 6 & 7           \\\\[0.3em]\n",
    "       4 & 5 & 6 & 7 & 8           \\\\[0.3em]\n",
    "        5 & 6 & 7 & 8 & 9           \n",
    "\\end{bmatrix}\n",
    "$$"
   ]
  },
  {
   "cell_type": "code",
   "execution_count": 22,
   "metadata": {
    "collapsed": false
   },
   "outputs": [
    {
     "data": {
      "text/html": [
       "<table>\n",
       "<tbody>\n",
       "\t<tr><td>1</td><td>2</td><td>3</td><td>4</td><td>5</td></tr>\n",
       "\t<tr><td>2</td><td>3</td><td>4</td><td>5</td><td>6</td></tr>\n",
       "\t<tr><td>3</td><td>4</td><td>5</td><td>6</td><td>7</td></tr>\n",
       "\t<tr><td>4</td><td>5</td><td>6</td><td>7</td><td>8</td></tr>\n",
       "\t<tr><td>5</td><td>6</td><td>7</td><td>8</td><td>9</td></tr>\n",
       "</tbody>\n",
       "</table>\n"
      ],
      "text/latex": [
       "\\begin{tabular}{lllll}\n",
       "\t 1 & 2 & 3 & 4 & 5\\\\\n",
       "\t 2 & 3 & 4 & 5 & 6\\\\\n",
       "\t 3 & 4 & 5 & 6 & 7\\\\\n",
       "\t 4 & 5 & 6 & 7 & 8\\\\\n",
       "\t 5 & 6 & 7 & 8 & 9\\\\\n",
       "\\end{tabular}\n"
      ],
      "text/markdown": [
       "\n",
       "| 1 | 2 | 3 | 4 | 5 | \n",
       "| 2 | 3 | 4 | 5 | 6 | \n",
       "| 3 | 4 | 5 | 6 | 7 | \n",
       "| 4 | 5 | 6 | 7 | 8 | \n",
       "| 5 | 6 | 7 | 8 | 9 | \n",
       "\n",
       "\n"
      ],
      "text/plain": [
       "     [,1] [,2] [,3] [,4] [,5]\n",
       "[1,] 1    2    3    4    5   \n",
       "[2,] 2    3    4    5    6   \n",
       "[3,] 3    4    5    6    7   \n",
       "[4,] 4    5    6    7    8   \n",
       "[5,] 5    6    7    8    9   "
      ]
     },
     "metadata": {},
     "output_type": "display_data"
    }
   ],
   "source": [
    "M <- matrix(rep(1:5,5)+rep(0:4,each=5),ncol=5)\n",
    "M"
   ]
  },
  {
   "cell_type": "markdown",
   "metadata": {},
   "source": [
    "Convierte el código en una función  que puede ser usado para construir matrices de dimensión $n \\times n$."
   ]
  },
  {
   "cell_type": "code",
   "execution_count": 23,
   "metadata": {
    "collapsed": true
   },
   "outputs": [],
   "source": [
    "FunMHankel <- function(x)\n",
    "{\n",
    "  n = (length(x)+1)/2 # length = 2*n-1\n",
    "  matrix( x[rep(seq(1:n),n) + rep(seq(0,n-1), each = n )], ncol = n )\n",
    "}"
   ]
  },
  {
   "cell_type": "markdown",
   "metadata": {},
   "source": [
    "Usa esa función para mostrar las salida de Matrices de Hankel de orden $10 \\times 10$ y $12 \\times 12$."
   ]
  },
  {
   "cell_type": "code",
   "execution_count": 24,
   "metadata": {
    "collapsed": false
   },
   "outputs": [
    {
     "name": "stderr",
     "output_type": "stream",
     "text": [
      "Hankel 5x5\n"
     ]
    },
    {
     "data": {
      "text/html": [
       "<table>\n",
       "<tbody>\n",
       "\t<tr><td>1</td><td>2</td><td>3</td><td>4</td><td>5</td></tr>\n",
       "\t<tr><td>2</td><td>3</td><td>4</td><td>5</td><td>6</td></tr>\n",
       "\t<tr><td>3</td><td>4</td><td>5</td><td>6</td><td>7</td></tr>\n",
       "\t<tr><td>4</td><td>5</td><td>6</td><td>7</td><td>8</td></tr>\n",
       "\t<tr><td>5</td><td>6</td><td>7</td><td>8</td><td>9</td></tr>\n",
       "</tbody>\n",
       "</table>\n"
      ],
      "text/latex": [
       "\\begin{tabular}{lllll}\n",
       "\t 1 & 2 & 3 & 4 & 5\\\\\n",
       "\t 2 & 3 & 4 & 5 & 6\\\\\n",
       "\t 3 & 4 & 5 & 6 & 7\\\\\n",
       "\t 4 & 5 & 6 & 7 & 8\\\\\n",
       "\t 5 & 6 & 7 & 8 & 9\\\\\n",
       "\\end{tabular}\n"
      ],
      "text/markdown": [
       "\n",
       "| 1 | 2 | 3 | 4 | 5 | \n",
       "| 2 | 3 | 4 | 5 | 6 | \n",
       "| 3 | 4 | 5 | 6 | 7 | \n",
       "| 4 | 5 | 6 | 7 | 8 | \n",
       "| 5 | 6 | 7 | 8 | 9 | \n",
       "\n",
       "\n"
      ],
      "text/plain": [
       "     [,1] [,2] [,3] [,4] [,5]\n",
       "[1,] 1    2    3    4    5   \n",
       "[2,] 2    3    4    5    6   \n",
       "[3,] 3    4    5    6    7   \n",
       "[4,] 4    5    6    7    8   \n",
       "[5,] 5    6    7    8    9   "
      ]
     },
     "metadata": {},
     "output_type": "display_data"
    },
    {
     "name": "stderr",
     "output_type": "stream",
     "text": [
      "Hankel 10x10\n"
     ]
    },
    {
     "data": {
      "text/html": [
       "<table>\n",
       "<tbody>\n",
       "\t<tr><td> 8</td><td>15</td><td>13</td><td>27</td><td>18</td><td>53</td><td>45</td><td>71</td><td>84</td><td>92</td></tr>\n",
       "\t<tr><td>15</td><td>13</td><td>27</td><td>18</td><td>53</td><td>45</td><td>71</td><td>84</td><td>92</td><td> 7</td></tr>\n",
       "\t<tr><td>13</td><td>27</td><td>18</td><td>53</td><td>45</td><td>71</td><td>84</td><td>92</td><td> 7</td><td>26</td></tr>\n",
       "\t<tr><td>27</td><td>18</td><td>53</td><td>45</td><td>71</td><td>84</td><td>92</td><td> 7</td><td>26</td><td>32</td></tr>\n",
       "\t<tr><td>18</td><td>53</td><td>45</td><td>71</td><td>84</td><td>92</td><td> 7</td><td>26</td><td>32</td><td>77</td></tr>\n",
       "\t<tr><td>53</td><td>45</td><td>71</td><td>84</td><td>92</td><td> 7</td><td>26</td><td>32</td><td>77</td><td>55</td></tr>\n",
       "\t<tr><td>45</td><td>71</td><td>84</td><td>92</td><td> 7</td><td>26</td><td>32</td><td>77</td><td>55</td><td>33</td></tr>\n",
       "\t<tr><td>71</td><td>84</td><td>92</td><td> 7</td><td>26</td><td>32</td><td>77</td><td>55</td><td>33</td><td>51</td></tr>\n",
       "\t<tr><td>84</td><td>92</td><td> 7</td><td>26</td><td>32</td><td>77</td><td>55</td><td>33</td><td>51</td><td>29</td></tr>\n",
       "\t<tr><td>92</td><td> 7</td><td>26</td><td>32</td><td>77</td><td>55</td><td>33</td><td>51</td><td>29</td><td>89</td></tr>\n",
       "</tbody>\n",
       "</table>\n"
      ],
      "text/latex": [
       "\\begin{tabular}{llllllllll}\n",
       "\t  8 & 15 & 13 & 27 & 18 & 53 & 45 & 71 & 84 & 92\\\\\n",
       "\t 15 & 13 & 27 & 18 & 53 & 45 & 71 & 84 & 92 &  7\\\\\n",
       "\t 13 & 27 & 18 & 53 & 45 & 71 & 84 & 92 &  7 & 26\\\\\n",
       "\t 27 & 18 & 53 & 45 & 71 & 84 & 92 &  7 & 26 & 32\\\\\n",
       "\t 18 & 53 & 45 & 71 & 84 & 92 &  7 & 26 & 32 & 77\\\\\n",
       "\t 53 & 45 & 71 & 84 & 92 &  7 & 26 & 32 & 77 & 55\\\\\n",
       "\t 45 & 71 & 84 & 92 &  7 & 26 & 32 & 77 & 55 & 33\\\\\n",
       "\t 71 & 84 & 92 &  7 & 26 & 32 & 77 & 55 & 33 & 51\\\\\n",
       "\t 84 & 92 &  7 & 26 & 32 & 77 & 55 & 33 & 51 & 29\\\\\n",
       "\t 92 &  7 & 26 & 32 & 77 & 55 & 33 & 51 & 29 & 89\\\\\n",
       "\\end{tabular}\n"
      ],
      "text/markdown": [
       "\n",
       "|  8 | 15 | 13 | 27 | 18 | 53 | 45 | 71 | 84 | 92 | \n",
       "| 15 | 13 | 27 | 18 | 53 | 45 | 71 | 84 | 92 |  7 | \n",
       "| 13 | 27 | 18 | 53 | 45 | 71 | 84 | 92 |  7 | 26 | \n",
       "| 27 | 18 | 53 | 45 | 71 | 84 | 92 |  7 | 26 | 32 | \n",
       "| 18 | 53 | 45 | 71 | 84 | 92 |  7 | 26 | 32 | 77 | \n",
       "| 53 | 45 | 71 | 84 | 92 |  7 | 26 | 32 | 77 | 55 | \n",
       "| 45 | 71 | 84 | 92 |  7 | 26 | 32 | 77 | 55 | 33 | \n",
       "| 71 | 84 | 92 |  7 | 26 | 32 | 77 | 55 | 33 | 51 | \n",
       "| 84 | 92 |  7 | 26 | 32 | 77 | 55 | 33 | 51 | 29 | \n",
       "| 92 |  7 | 26 | 32 | 77 | 55 | 33 | 51 | 29 | 89 | \n",
       "\n",
       "\n"
      ],
      "text/plain": [
       "      [,1] [,2] [,3] [,4] [,5] [,6] [,7] [,8] [,9] [,10]\n",
       " [1,]  8   15   13   27   18   53   45   71   84   92   \n",
       " [2,] 15   13   27   18   53   45   71   84   92    7   \n",
       " [3,] 13   27   18   53   45   71   84   92    7   26   \n",
       " [4,] 27   18   53   45   71   84   92    7   26   32   \n",
       " [5,] 18   53   45   71   84   92    7   26   32   77   \n",
       " [6,] 53   45   71   84   92    7   26   32   77   55   \n",
       " [7,] 45   71   84   92    7   26   32   77   55   33   \n",
       " [8,] 71   84   92    7   26   32   77   55   33   51   \n",
       " [9,] 84   92    7   26   32   77   55   33   51   29   \n",
       "[10,] 92    7   26   32   77   55   33   51   29   89   "
      ]
     },
     "metadata": {},
     "output_type": "display_data"
    },
    {
     "name": "stderr",
     "output_type": "stream",
     "text": [
      "Hankel 12x12\n"
     ]
    },
    {
     "data": {
      "text/html": [
       "<table>\n",
       "<tbody>\n",
       "\t<tr><td> 4</td><td>29</td><td>30</td><td>44</td><td>10</td><td>42</td><td>47</td><td>32</td><td>14</td><td>23</td><td>31</td><td>46</td></tr>\n",
       "\t<tr><td>29</td><td>30</td><td>44</td><td>10</td><td>42</td><td>47</td><td>32</td><td>14</td><td>23</td><td>31</td><td>46</td><td>19</td></tr>\n",
       "\t<tr><td>30</td><td>44</td><td>10</td><td>42</td><td>47</td><td>32</td><td>14</td><td>23</td><td>31</td><td>46</td><td>19</td><td>28</td></tr>\n",
       "\t<tr><td>44</td><td>10</td><td>42</td><td>47</td><td>32</td><td>14</td><td>23</td><td>31</td><td>46</td><td>19</td><td>28</td><td>34</td></tr>\n",
       "\t<tr><td>10</td><td>42</td><td>47</td><td>32</td><td>14</td><td>23</td><td>31</td><td>46</td><td>19</td><td>28</td><td>34</td><td>36</td></tr>\n",
       "\t<tr><td>42</td><td>47</td><td>32</td><td>14</td><td>23</td><td>31</td><td>46</td><td>19</td><td>28</td><td>34</td><td>36</td><td> 8</td></tr>\n",
       "\t<tr><td>47</td><td>32</td><td>14</td><td>23</td><td>31</td><td>46</td><td>19</td><td>28</td><td>34</td><td>36</td><td> 8</td><td>21</td></tr>\n",
       "\t<tr><td>32</td><td>14</td><td>23</td><td>31</td><td>46</td><td>19</td><td>28</td><td>34</td><td>36</td><td> 8</td><td>21</td><td>15</td></tr>\n",
       "\t<tr><td>14</td><td>23</td><td>31</td><td>46</td><td>19</td><td>28</td><td>34</td><td>36</td><td> 8</td><td>21</td><td>15</td><td>49</td></tr>\n",
       "\t<tr><td>23</td><td>31</td><td>46</td><td>19</td><td>28</td><td>34</td><td>36</td><td> 8</td><td>21</td><td>15</td><td>49</td><td>45</td></tr>\n",
       "\t<tr><td>31</td><td>46</td><td>19</td><td>28</td><td>34</td><td>36</td><td> 8</td><td>21</td><td>15</td><td>49</td><td>45</td><td>16</td></tr>\n",
       "\t<tr><td>46</td><td>19</td><td>28</td><td>34</td><td>36</td><td> 8</td><td>21</td><td>15</td><td>49</td><td>45</td><td>16</td><td>41</td></tr>\n",
       "</tbody>\n",
       "</table>\n"
      ],
      "text/latex": [
       "\\begin{tabular}{llllllllllll}\n",
       "\t  4 & 29 & 30 & 44 & 10 & 42 & 47 & 32 & 14 & 23 & 31 & 46\\\\\n",
       "\t 29 & 30 & 44 & 10 & 42 & 47 & 32 & 14 & 23 & 31 & 46 & 19\\\\\n",
       "\t 30 & 44 & 10 & 42 & 47 & 32 & 14 & 23 & 31 & 46 & 19 & 28\\\\\n",
       "\t 44 & 10 & 42 & 47 & 32 & 14 & 23 & 31 & 46 & 19 & 28 & 34\\\\\n",
       "\t 10 & 42 & 47 & 32 & 14 & 23 & 31 & 46 & 19 & 28 & 34 & 36\\\\\n",
       "\t 42 & 47 & 32 & 14 & 23 & 31 & 46 & 19 & 28 & 34 & 36 &  8\\\\\n",
       "\t 47 & 32 & 14 & 23 & 31 & 46 & 19 & 28 & 34 & 36 &  8 & 21\\\\\n",
       "\t 32 & 14 & 23 & 31 & 46 & 19 & 28 & 34 & 36 &  8 & 21 & 15\\\\\n",
       "\t 14 & 23 & 31 & 46 & 19 & 28 & 34 & 36 &  8 & 21 & 15 & 49\\\\\n",
       "\t 23 & 31 & 46 & 19 & 28 & 34 & 36 &  8 & 21 & 15 & 49 & 45\\\\\n",
       "\t 31 & 46 & 19 & 28 & 34 & 36 &  8 & 21 & 15 & 49 & 45 & 16\\\\\n",
       "\t 46 & 19 & 28 & 34 & 36 &  8 & 21 & 15 & 49 & 45 & 16 & 41\\\\\n",
       "\\end{tabular}\n"
      ],
      "text/markdown": [
       "\n",
       "|  4 | 29 | 30 | 44 | 10 | 42 | 47 | 32 | 14 | 23 | 31 | 46 | \n",
       "| 29 | 30 | 44 | 10 | 42 | 47 | 32 | 14 | 23 | 31 | 46 | 19 | \n",
       "| 30 | 44 | 10 | 42 | 47 | 32 | 14 | 23 | 31 | 46 | 19 | 28 | \n",
       "| 44 | 10 | 42 | 47 | 32 | 14 | 23 | 31 | 46 | 19 | 28 | 34 | \n",
       "| 10 | 42 | 47 | 32 | 14 | 23 | 31 | 46 | 19 | 28 | 34 | 36 | \n",
       "| 42 | 47 | 32 | 14 | 23 | 31 | 46 | 19 | 28 | 34 | 36 |  8 | \n",
       "| 47 | 32 | 14 | 23 | 31 | 46 | 19 | 28 | 34 | 36 |  8 | 21 | \n",
       "| 32 | 14 | 23 | 31 | 46 | 19 | 28 | 34 | 36 |  8 | 21 | 15 | \n",
       "| 14 | 23 | 31 | 46 | 19 | 28 | 34 | 36 |  8 | 21 | 15 | 49 | \n",
       "| 23 | 31 | 46 | 19 | 28 | 34 | 36 |  8 | 21 | 15 | 49 | 45 | \n",
       "| 31 | 46 | 19 | 28 | 34 | 36 |  8 | 21 | 15 | 49 | 45 | 16 | \n",
       "| 46 | 19 | 28 | 34 | 36 |  8 | 21 | 15 | 49 | 45 | 16 | 41 | \n",
       "\n",
       "\n"
      ],
      "text/plain": [
       "      [,1] [,2] [,3] [,4] [,5] [,6] [,7] [,8] [,9] [,10] [,11] [,12]\n",
       " [1,]  4   29   30   44   10   42   47   32   14   23    31    46   \n",
       " [2,] 29   30   44   10   42   47   32   14   23   31    46    19   \n",
       " [3,] 30   44   10   42   47   32   14   23   31   46    19    28   \n",
       " [4,] 44   10   42   47   32   14   23   31   46   19    28    34   \n",
       " [5,] 10   42   47   32   14   23   31   46   19   28    34    36   \n",
       " [6,] 42   47   32   14   23   31   46   19   28   34    36     8   \n",
       " [7,] 47   32   14   23   31   46   19   28   34   36     8    21   \n",
       " [8,] 32   14   23   31   46   19   28   34   36    8    21    15   \n",
       " [9,] 14   23   31   46   19   28   34   36    8   21    15    49   \n",
       "[10,] 23   31   46   19   28   34   36    8   21   15    49    45   \n",
       "[11,] 31   46   19   28   34   36    8   21   15   49    45    16   \n",
       "[12,] 46   19   28   34   36    8   21   15   49   45    16    41   "
      ]
     },
     "metadata": {},
     "output_type": "display_data"
    }
   ],
   "source": [
    "#n = 5\n",
    "#cant. elementos: 9 = 2*5-1\n",
    "N5 <- 1:9 \n",
    "\n",
    "#n=10\n",
    "#cant. elementos: 19 = 2*10-1\n",
    "N10 <- c(8,15,13,27,18,53,45,71,84,92,7,26,32,77,55,33,51,29,89) \n",
    "\n",
    "#n=12\n",
    "#cant. elementos: 23 = 2*12-1\n",
    "N12 <- c(4,29,30,44,10,42,47,32,14,23,31,46,19,28,34,36,8,21,15,49,45,16,41) \n",
    "\n",
    "message(\"Hankel 5x5\")\n",
    "FunMHankel(N5) \n",
    "\n",
    "message(\"Hankel 10x10\")\n",
    "FunMHankel(N10)\n",
    "\n",
    "message(\"Hankel 12x12\")\n",
    "FunMHankel(N12)"
   ]
  },
  {
   "cell_type": "markdown",
   "metadata": {},
   "source": [
    "9.La matriz de Hilbert $n \\times n$ tiene a los elementos $(i,j)$ dados por $1/(i + j-1)$."
   ]
  },
  {
   "cell_type": "markdown",
   "metadata": {},
   "source": [
    "- Escribe una función que muestra una matriz de Hilbert $n \\times n$ como salida para entero positivo $n$."
   ]
  },
  {
   "cell_type": "code",
   "execution_count": 25,
   "metadata": {
    "collapsed": false
   },
   "outputs": [
    {
     "name": "stderr",
     "output_type": "stream",
     "text": [
      "Hilbert 3x3:\n"
     ]
    },
    {
     "data": {
      "text/html": [
       "<table>\n",
       "<tbody>\n",
       "\t<tr><td>1.0000000</td><td>0.5000000</td><td>0.3333333</td></tr>\n",
       "\t<tr><td>0.5000000</td><td>0.3333333</td><td>0.2500000</td></tr>\n",
       "\t<tr><td>0.3333333</td><td>0.2500000</td><td>0.2000000</td></tr>\n",
       "</tbody>\n",
       "</table>\n"
      ],
      "text/latex": [
       "\\begin{tabular}{lll}\n",
       "\t 1.0000000 & 0.5000000 & 0.3333333\\\\\n",
       "\t 0.5000000 & 0.3333333 & 0.2500000\\\\\n",
       "\t 0.3333333 & 0.2500000 & 0.2000000\\\\\n",
       "\\end{tabular}\n"
      ],
      "text/markdown": [
       "\n",
       "| 1.0000000 | 0.5000000 | 0.3333333 | \n",
       "| 0.5000000 | 0.3333333 | 0.2500000 | \n",
       "| 0.3333333 | 0.2500000 | 0.2000000 | \n",
       "\n",
       "\n"
      ],
      "text/plain": [
       "     [,1]      [,2]      [,3]     \n",
       "[1,] 1.0000000 0.5000000 0.3333333\n",
       "[2,] 0.5000000 0.3333333 0.2500000\n",
       "[3,] 0.3333333 0.2500000 0.2000000"
      ]
     },
     "metadata": {},
     "output_type": "display_data"
    },
    {
     "name": "stderr",
     "output_type": "stream",
     "text": [
      "Hilbert 10x10:\n"
     ]
    },
    {
     "data": {
      "text/html": [
       "<table>\n",
       "<tbody>\n",
       "\t<tr><td>1.0000000 </td><td>0.50000000</td><td>0.33333333</td><td>0.25000000</td><td>0.20000000</td><td>0.16666667</td><td>0.14285714</td><td>0.12500000</td><td>0.11111111</td><td>0.10000000</td></tr>\n",
       "\t<tr><td>0.5000000 </td><td>0.33333333</td><td>0.25000000</td><td>0.20000000</td><td>0.16666667</td><td>0.14285714</td><td>0.12500000</td><td>0.11111111</td><td>0.10000000</td><td>0.09090909</td></tr>\n",
       "\t<tr><td>0.3333333 </td><td>0.25000000</td><td>0.20000000</td><td>0.16666667</td><td>0.14285714</td><td>0.12500000</td><td>0.11111111</td><td>0.10000000</td><td>0.09090909</td><td>0.08333333</td></tr>\n",
       "\t<tr><td>0.2500000 </td><td>0.20000000</td><td>0.16666667</td><td>0.14285714</td><td>0.12500000</td><td>0.11111111</td><td>0.10000000</td><td>0.09090909</td><td>0.08333333</td><td>0.07692308</td></tr>\n",
       "\t<tr><td>0.2000000 </td><td>0.16666667</td><td>0.14285714</td><td>0.12500000</td><td>0.11111111</td><td>0.10000000</td><td>0.09090909</td><td>0.08333333</td><td>0.07692308</td><td>0.07142857</td></tr>\n",
       "\t<tr><td>0.1666667 </td><td>0.14285714</td><td>0.12500000</td><td>0.11111111</td><td>0.10000000</td><td>0.09090909</td><td>0.08333333</td><td>0.07692308</td><td>0.07142857</td><td>0.06666667</td></tr>\n",
       "\t<tr><td>0.1428571 </td><td>0.12500000</td><td>0.11111111</td><td>0.10000000</td><td>0.09090909</td><td>0.08333333</td><td>0.07692308</td><td>0.07142857</td><td>0.06666667</td><td>0.06250000</td></tr>\n",
       "\t<tr><td>0.1250000 </td><td>0.11111111</td><td>0.10000000</td><td>0.09090909</td><td>0.08333333</td><td>0.07692308</td><td>0.07142857</td><td>0.06666667</td><td>0.06250000</td><td>0.05882353</td></tr>\n",
       "\t<tr><td>0.1111111 </td><td>0.10000000</td><td>0.09090909</td><td>0.08333333</td><td>0.07692308</td><td>0.07142857</td><td>0.06666667</td><td>0.06250000</td><td>0.05882353</td><td>0.05555556</td></tr>\n",
       "\t<tr><td>0.1000000 </td><td>0.09090909</td><td>0.08333333</td><td>0.07692308</td><td>0.07142857</td><td>0.06666667</td><td>0.06250000</td><td>0.05882353</td><td>0.05555556</td><td>0.05263158</td></tr>\n",
       "</tbody>\n",
       "</table>\n"
      ],
      "text/latex": [
       "\\begin{tabular}{llllllllll}\n",
       "\t 1.0000000  & 0.50000000 & 0.33333333 & 0.25000000 & 0.20000000 & 0.16666667 & 0.14285714 & 0.12500000 & 0.11111111 & 0.10000000\\\\\n",
       "\t 0.5000000  & 0.33333333 & 0.25000000 & 0.20000000 & 0.16666667 & 0.14285714 & 0.12500000 & 0.11111111 & 0.10000000 & 0.09090909\\\\\n",
       "\t 0.3333333  & 0.25000000 & 0.20000000 & 0.16666667 & 0.14285714 & 0.12500000 & 0.11111111 & 0.10000000 & 0.09090909 & 0.08333333\\\\\n",
       "\t 0.2500000  & 0.20000000 & 0.16666667 & 0.14285714 & 0.12500000 & 0.11111111 & 0.10000000 & 0.09090909 & 0.08333333 & 0.07692308\\\\\n",
       "\t 0.2000000  & 0.16666667 & 0.14285714 & 0.12500000 & 0.11111111 & 0.10000000 & 0.09090909 & 0.08333333 & 0.07692308 & 0.07142857\\\\\n",
       "\t 0.1666667  & 0.14285714 & 0.12500000 & 0.11111111 & 0.10000000 & 0.09090909 & 0.08333333 & 0.07692308 & 0.07142857 & 0.06666667\\\\\n",
       "\t 0.1428571  & 0.12500000 & 0.11111111 & 0.10000000 & 0.09090909 & 0.08333333 & 0.07692308 & 0.07142857 & 0.06666667 & 0.06250000\\\\\n",
       "\t 0.1250000  & 0.11111111 & 0.10000000 & 0.09090909 & 0.08333333 & 0.07692308 & 0.07142857 & 0.06666667 & 0.06250000 & 0.05882353\\\\\n",
       "\t 0.1111111  & 0.10000000 & 0.09090909 & 0.08333333 & 0.07692308 & 0.07142857 & 0.06666667 & 0.06250000 & 0.05882353 & 0.05555556\\\\\n",
       "\t 0.1000000  & 0.09090909 & 0.08333333 & 0.07692308 & 0.07142857 & 0.06666667 & 0.06250000 & 0.05882353 & 0.05555556 & 0.05263158\\\\\n",
       "\\end{tabular}\n"
      ],
      "text/markdown": [
       "\n",
       "| 1.0000000  | 0.50000000 | 0.33333333 | 0.25000000 | 0.20000000 | 0.16666667 | 0.14285714 | 0.12500000 | 0.11111111 | 0.10000000 | \n",
       "| 0.5000000  | 0.33333333 | 0.25000000 | 0.20000000 | 0.16666667 | 0.14285714 | 0.12500000 | 0.11111111 | 0.10000000 | 0.09090909 | \n",
       "| 0.3333333  | 0.25000000 | 0.20000000 | 0.16666667 | 0.14285714 | 0.12500000 | 0.11111111 | 0.10000000 | 0.09090909 | 0.08333333 | \n",
       "| 0.2500000  | 0.20000000 | 0.16666667 | 0.14285714 | 0.12500000 | 0.11111111 | 0.10000000 | 0.09090909 | 0.08333333 | 0.07692308 | \n",
       "| 0.2000000  | 0.16666667 | 0.14285714 | 0.12500000 | 0.11111111 | 0.10000000 | 0.09090909 | 0.08333333 | 0.07692308 | 0.07142857 | \n",
       "| 0.1666667  | 0.14285714 | 0.12500000 | 0.11111111 | 0.10000000 | 0.09090909 | 0.08333333 | 0.07692308 | 0.07142857 | 0.06666667 | \n",
       "| 0.1428571  | 0.12500000 | 0.11111111 | 0.10000000 | 0.09090909 | 0.08333333 | 0.07692308 | 0.07142857 | 0.06666667 | 0.06250000 | \n",
       "| 0.1250000  | 0.11111111 | 0.10000000 | 0.09090909 | 0.08333333 | 0.07692308 | 0.07142857 | 0.06666667 | 0.06250000 | 0.05882353 | \n",
       "| 0.1111111  | 0.10000000 | 0.09090909 | 0.08333333 | 0.07692308 | 0.07142857 | 0.06666667 | 0.06250000 | 0.05882353 | 0.05555556 | \n",
       "| 0.1000000  | 0.09090909 | 0.08333333 | 0.07692308 | 0.07142857 | 0.06666667 | 0.06250000 | 0.05882353 | 0.05555556 | 0.05263158 | \n",
       "\n",
       "\n"
      ],
      "text/plain": [
       "      [,1]      [,2]       [,3]       [,4]       [,5]       [,6]      \n",
       " [1,] 1.0000000 0.50000000 0.33333333 0.25000000 0.20000000 0.16666667\n",
       " [2,] 0.5000000 0.33333333 0.25000000 0.20000000 0.16666667 0.14285714\n",
       " [3,] 0.3333333 0.25000000 0.20000000 0.16666667 0.14285714 0.12500000\n",
       " [4,] 0.2500000 0.20000000 0.16666667 0.14285714 0.12500000 0.11111111\n",
       " [5,] 0.2000000 0.16666667 0.14285714 0.12500000 0.11111111 0.10000000\n",
       " [6,] 0.1666667 0.14285714 0.12500000 0.11111111 0.10000000 0.09090909\n",
       " [7,] 0.1428571 0.12500000 0.11111111 0.10000000 0.09090909 0.08333333\n",
       " [8,] 0.1250000 0.11111111 0.10000000 0.09090909 0.08333333 0.07692308\n",
       " [9,] 0.1111111 0.10000000 0.09090909 0.08333333 0.07692308 0.07142857\n",
       "[10,] 0.1000000 0.09090909 0.08333333 0.07692308 0.07142857 0.06666667\n",
       "      [,7]       [,8]       [,9]       [,10]     \n",
       " [1,] 0.14285714 0.12500000 0.11111111 0.10000000\n",
       " [2,] 0.12500000 0.11111111 0.10000000 0.09090909\n",
       " [3,] 0.11111111 0.10000000 0.09090909 0.08333333\n",
       " [4,] 0.10000000 0.09090909 0.08333333 0.07692308\n",
       " [5,] 0.09090909 0.08333333 0.07692308 0.07142857\n",
       " [6,] 0.08333333 0.07692308 0.07142857 0.06666667\n",
       " [7,] 0.07692308 0.07142857 0.06666667 0.06250000\n",
       " [8,] 0.07142857 0.06666667 0.06250000 0.05882353\n",
       " [9,] 0.06666667 0.06250000 0.05882353 0.05555556\n",
       "[10,] 0.06250000 0.05882353 0.05555556 0.05263158"
      ]
     },
     "metadata": {},
     "output_type": "display_data"
    }
   ],
   "source": [
    "FunMHilbert <- function(n)\n",
    "{\n",
    "  matrix(1/(rep(1:n,each = n) + 1:n - 1),nrow = n, byrow = TRUE)\n",
    "}\n",
    "\n",
    "message(\"Hilbert 3x3:\")\n",
    "Hilbert3 <- FunMHilbert(3)\n",
    "Hilbert3\n",
    "\n",
    "message(\"Hilbert 10x10:\")\n",
    "Hilbert10 <- FunMHilbert(10)\n",
    "Hilbert10"
   ]
  },
  {
   "cell_type": "markdown",
   "metadata": {},
   "source": [
    "- ¿Son todas las matrices de Hilbert invertibles?\n",
    "\n",
    "Sí. Además, su inversa puede ser expresada usando *coeficientes binomiales* y todas sus entradas son números enteros."
   ]
  },
  {
   "cell_type": "markdown",
   "metadata": {},
   "source": [
    "- Usa `solve()` y `qr.solve()` para calcular la inversa de las matrices Hilbert, por ejemplo, cuando $n = 10$. "
   ]
  },
  {
   "cell_type": "code",
   "execution_count": 26,
   "metadata": {
    "collapsed": false
   },
   "outputs": [
    {
     "name": "stderr",
     "output_type": "stream",
     "text": [
      "Hallando la inversa de Hilbert 10x10 usando solve():\n"
     ]
    },
    {
     "data": {
      "text/html": [
       "<table>\n",
       "<tbody>\n",
       "\t<tr><td> 9.999719e+01</td><td>-4.949757e+03</td><td> 7.919482e+04</td><td>-6.005529e+05</td><td>      2522295</td><td>-6.305682e+06</td><td> 9.608586e+06</td><td>-8.750620e+06</td><td> 4.375286e+06</td><td>-9.236669e+05</td></tr>\n",
       "\t<tr><td>-4.949756e+03</td><td> 3.266790e+05</td><td>-5.880152e+06</td><td> 4.756344e+07</td><td>   -208088462</td><td> 5.350812e+08</td><td>-8.323439e+08</td><td> 7.700561e+08</td><td>-3.898393e+08</td><td> 8.313042e+07</td></tr>\n",
       "\t<tr><td> 7.919480e+04</td><td>-5.880151e+06</td><td> 1.128980e+08</td><td>-9.512635e+08</td><td>   4280662450</td><td>-1.123669e+10</td><td> 1.775667e+10</td><td>-1.663324e+10</td><td> 8.505608e+09</td><td>-1.828876e+09</td></tr>\n",
       "\t<tr><td>-6.005527e+05</td><td> 4.756343e+07</td><td>-9.512634e+08</td><td> 8.244246e+09</td><td> -37871868827</td><td> 1.009913e+11</td><td>-1.615857e+11</td><td> 1.528915e+11</td><td>-7.883455e+10</td><td> 1.706956e+10</td></tr>\n",
       "\t<tr><td> 2.522294e+06</td><td>-2.080884e+08</td><td> 4.280662e+09</td><td>-3.787187e+10</td><td> 176734991839</td><td>-4.771836e+11</td><td> 7.712047e+11</td><td>-7.357912e+11</td><td> 3.820450e+11</td><td>-8.321430e+10</td></tr>\n",
       "\t<tr><td>-6.305679e+06</td><td> 5.350810e+08</td><td>-1.123668e+10</td><td> 1.009913e+11</td><td>-477183582308</td><td> 1.301409e+12</td><td>-2.120813e+12</td><td> 2.037577e+12</td><td>-1.064270e+12</td><td> 2.330005e+11</td></tr>\n",
       "\t<tr><td> 9.608580e+06</td><td>-8.323436e+08</td><td> 1.775667e+10</td><td>-1.615857e+11</td><td> 771204559101</td><td>-2.120813e+12</td><td> 3.480308e+12</td><td>-3.363622e+12</td><td> 1.765901e+12</td><td>-3.883348e+11</td></tr>\n",
       "\t<tr><td>-8.750614e+06</td><td> 7.700557e+08</td><td>-1.663323e+10</td><td> 1.528915e+11</td><td>-735791094422</td><td> 2.037577e+12</td><td>-3.363622e+12</td><td> 3.267520e+12</td><td>-1.723107e+12</td><td> 3.804102e+11</td></tr>\n",
       "\t<tr><td> 4.375282e+06</td><td>-3.898391e+08</td><td> 8.505604e+09</td><td>-7.883452e+10</td><td> 382044919568</td><td>-1.064270e+12</td><td> 1.765901e+12</td><td>-1.723107e+12</td><td> 9.122340e+11</td><td>-2.020931e+11</td></tr>\n",
       "\t<tr><td>-9.236661e+05</td><td> 8.313037e+07</td><td>-1.828875e+09</td><td> 1.706955e+10</td><td> -83214282335</td><td> 2.330005e+11</td><td>-3.883348e+11</td><td> 3.804101e+11</td><td>-2.020931e+11</td><td> 4.490964e+10</td></tr>\n",
       "</tbody>\n",
       "</table>\n"
      ],
      "text/latex": [
       "\\begin{tabular}{llllllllll}\n",
       "\t  9.999719e+01 & -4.949757e+03 &  7.919482e+04 & -6.005529e+05 &       2522295 & -6.305682e+06 &  9.608586e+06 & -8.750620e+06 &  4.375286e+06 & -9.236669e+05\\\\\n",
       "\t -4.949756e+03 &  3.266790e+05 & -5.880152e+06 &  4.756344e+07 &    -208088462 &  5.350812e+08 & -8.323439e+08 &  7.700561e+08 & -3.898393e+08 &  8.313042e+07\\\\\n",
       "\t  7.919480e+04 & -5.880151e+06 &  1.128980e+08 & -9.512635e+08 &    4280662450 & -1.123669e+10 &  1.775667e+10 & -1.663324e+10 &  8.505608e+09 & -1.828876e+09\\\\\n",
       "\t -6.005527e+05 &  4.756343e+07 & -9.512634e+08 &  8.244246e+09 &  -37871868827 &  1.009913e+11 & -1.615857e+11 &  1.528915e+11 & -7.883455e+10 &  1.706956e+10\\\\\n",
       "\t  2.522294e+06 & -2.080884e+08 &  4.280662e+09 & -3.787187e+10 &  176734991839 & -4.771836e+11 &  7.712047e+11 & -7.357912e+11 &  3.820450e+11 & -8.321430e+10\\\\\n",
       "\t -6.305679e+06 &  5.350810e+08 & -1.123668e+10 &  1.009913e+11 & -477183582308 &  1.301409e+12 & -2.120813e+12 &  2.037577e+12 & -1.064270e+12 &  2.330005e+11\\\\\n",
       "\t  9.608580e+06 & -8.323436e+08 &  1.775667e+10 & -1.615857e+11 &  771204559101 & -2.120813e+12 &  3.480308e+12 & -3.363622e+12 &  1.765901e+12 & -3.883348e+11\\\\\n",
       "\t -8.750614e+06 &  7.700557e+08 & -1.663323e+10 &  1.528915e+11 & -735791094422 &  2.037577e+12 & -3.363622e+12 &  3.267520e+12 & -1.723107e+12 &  3.804102e+11\\\\\n",
       "\t  4.375282e+06 & -3.898391e+08 &  8.505604e+09 & -7.883452e+10 &  382044919568 & -1.064270e+12 &  1.765901e+12 & -1.723107e+12 &  9.122340e+11 & -2.020931e+11\\\\\n",
       "\t -9.236661e+05 &  8.313037e+07 & -1.828875e+09 &  1.706955e+10 &  -83214282335 &  2.330005e+11 & -3.883348e+11 &  3.804101e+11 & -2.020931e+11 &  4.490964e+10\\\\\n",
       "\\end{tabular}\n"
      ],
      "text/markdown": [
       "\n",
       "|  9.999719e+01 | -4.949757e+03 |  7.919482e+04 | -6.005529e+05 |       2522295 | -6.305682e+06 |  9.608586e+06 | -8.750620e+06 |  4.375286e+06 | -9.236669e+05 | \n",
       "| -4.949756e+03 |  3.266790e+05 | -5.880152e+06 |  4.756344e+07 |    -208088462 |  5.350812e+08 | -8.323439e+08 |  7.700561e+08 | -3.898393e+08 |  8.313042e+07 | \n",
       "|  7.919480e+04 | -5.880151e+06 |  1.128980e+08 | -9.512635e+08 |    4280662450 | -1.123669e+10 |  1.775667e+10 | -1.663324e+10 |  8.505608e+09 | -1.828876e+09 | \n",
       "| -6.005527e+05 |  4.756343e+07 | -9.512634e+08 |  8.244246e+09 |  -37871868827 |  1.009913e+11 | -1.615857e+11 |  1.528915e+11 | -7.883455e+10 |  1.706956e+10 | \n",
       "|  2.522294e+06 | -2.080884e+08 |  4.280662e+09 | -3.787187e+10 |  176734991839 | -4.771836e+11 |  7.712047e+11 | -7.357912e+11 |  3.820450e+11 | -8.321430e+10 | \n",
       "| -6.305679e+06 |  5.350810e+08 | -1.123668e+10 |  1.009913e+11 | -477183582308 |  1.301409e+12 | -2.120813e+12 |  2.037577e+12 | -1.064270e+12 |  2.330005e+11 | \n",
       "|  9.608580e+06 | -8.323436e+08 |  1.775667e+10 | -1.615857e+11 |  771204559101 | -2.120813e+12 |  3.480308e+12 | -3.363622e+12 |  1.765901e+12 | -3.883348e+11 | \n",
       "| -8.750614e+06 |  7.700557e+08 | -1.663323e+10 |  1.528915e+11 | -735791094422 |  2.037577e+12 | -3.363622e+12 |  3.267520e+12 | -1.723107e+12 |  3.804102e+11 | \n",
       "|  4.375282e+06 | -3.898391e+08 |  8.505604e+09 | -7.883452e+10 |  382044919568 | -1.064270e+12 |  1.765901e+12 | -1.723107e+12 |  9.122340e+11 | -2.020931e+11 | \n",
       "| -9.236661e+05 |  8.313037e+07 | -1.828875e+09 |  1.706955e+10 |  -83214282335 |  2.330005e+11 | -3.883348e+11 |  3.804101e+11 | -2.020931e+11 |  4.490964e+10 | \n",
       "\n",
       "\n"
      ],
      "text/plain": [
       "      [,1]          [,2]          [,3]          [,4]          [,5]         \n",
       " [1,]  9.999719e+01 -4.949757e+03  7.919482e+04 -6.005529e+05       2522295\n",
       " [2,] -4.949756e+03  3.266790e+05 -5.880152e+06  4.756344e+07    -208088462\n",
       " [3,]  7.919480e+04 -5.880151e+06  1.128980e+08 -9.512635e+08    4280662450\n",
       " [4,] -6.005527e+05  4.756343e+07 -9.512634e+08  8.244246e+09  -37871868827\n",
       " [5,]  2.522294e+06 -2.080884e+08  4.280662e+09 -3.787187e+10  176734991839\n",
       " [6,] -6.305679e+06  5.350810e+08 -1.123668e+10  1.009913e+11 -477183582308\n",
       " [7,]  9.608580e+06 -8.323436e+08  1.775667e+10 -1.615857e+11  771204559101\n",
       " [8,] -8.750614e+06  7.700557e+08 -1.663323e+10  1.528915e+11 -735791094422\n",
       " [9,]  4.375282e+06 -3.898391e+08  8.505604e+09 -7.883452e+10  382044919568\n",
       "[10,] -9.236661e+05  8.313037e+07 -1.828875e+09  1.706955e+10  -83214282335\n",
       "      [,6]          [,7]          [,8]          [,9]          [,10]        \n",
       " [1,] -6.305682e+06  9.608586e+06 -8.750620e+06  4.375286e+06 -9.236669e+05\n",
       " [2,]  5.350812e+08 -8.323439e+08  7.700561e+08 -3.898393e+08  8.313042e+07\n",
       " [3,] -1.123669e+10  1.775667e+10 -1.663324e+10  8.505608e+09 -1.828876e+09\n",
       " [4,]  1.009913e+11 -1.615857e+11  1.528915e+11 -7.883455e+10  1.706956e+10\n",
       " [5,] -4.771836e+11  7.712047e+11 -7.357912e+11  3.820450e+11 -8.321430e+10\n",
       " [6,]  1.301409e+12 -2.120813e+12  2.037577e+12 -1.064270e+12  2.330005e+11\n",
       " [7,] -2.120813e+12  3.480308e+12 -3.363622e+12  1.765901e+12 -3.883348e+11\n",
       " [8,]  2.037577e+12 -3.363622e+12  3.267520e+12 -1.723107e+12  3.804102e+11\n",
       " [9,] -1.064270e+12  1.765901e+12 -1.723107e+12  9.122340e+11 -2.020931e+11\n",
       "[10,]  2.330005e+11 -3.883348e+11  3.804101e+11 -2.020931e+11  4.490964e+10"
      ]
     },
     "metadata": {},
     "output_type": "display_data"
    },
    {
     "name": "stderr",
     "output_type": "stream",
     "text": [
      "Hallando la inversa de Hilbert 10x10 usando qr.solve():\n"
     ]
    },
    {
     "data": {
      "text/html": [
       "<table>\n",
       "<tbody>\n",
       "\t<tr><td> 9.999763e+01</td><td>-4.949796e+03</td><td> 7.919566e+04</td><td>-6.005606e+05</td><td>      2522332</td><td>-6.305784e+06</td><td> 9.608755e+06</td><td>-8.750784e+06</td><td> 4.375372e+06</td><td>-9.236858e+05</td></tr>\n",
       "\t<tr><td>-4.949794e+03</td><td> 3.266822e+05</td><td>-5.880222e+06</td><td> 4.756409e+07</td><td>   -208091541</td><td> 5.350897e+08</td><td>-8.323580e+08</td><td> 7.700697e+08</td><td>-3.898465e+08</td><td> 8.313200e+07</td></tr>\n",
       "\t<tr><td> 7.919557e+04</td><td>-5.880218e+06</td><td> 1.128994e+08</td><td>-9.512768e+08</td><td>   4280726081</td><td>-1.123686e+10</td><td> 1.775696e+10</td><td>-1.663352e+10</td><td> 8.505756e+09</td><td>-1.828909e+09</td></tr>\n",
       "\t<tr><td>-6.005595e+05</td><td> 4.756403e+07</td><td>-9.512762e+08</td><td> 8.244364e+09</td><td> -37872432943</td><td> 1.009929e+11</td><td>-1.615883e+11</td><td> 1.528940e+11</td><td>-7.883586e+10</td><td> 1.706985e+10</td></tr>\n",
       "\t<tr><td> 2.522326e+06</td><td>-2.080912e+08</td><td> 4.280722e+09</td><td>-3.787241e+10</td><td> 176737626224</td><td>-4.771909e+11</td><td> 7.712167e+11</td><td>-7.358029e+11</td><td> 3.820511e+11</td><td>-8.321566e+10</td></tr>\n",
       "\t<tr><td>-6.305764e+06</td><td> 5.350885e+08</td><td>-1.123685e+10</td><td> 1.009928e+11</td><td>-477190694526</td><td> 1.301428e+12</td><td>-2.120845e+12</td><td> 2.037609e+12</td><td>-1.064286e+12</td><td> 2.330042e+11</td></tr>\n",
       "\t<tr><td> 9.608718e+06</td><td>-8.323557e+08</td><td> 1.775693e+10</td><td>-1.615881e+11</td><td> 771216047252</td><td>-2.120844e+12</td><td> 3.480361e+12</td><td>-3.363673e+12</td><td> 1.765928e+12</td><td>-3.883407e+11</td></tr>\n",
       "\t<tr><td>-8.750745e+06</td><td> 7.700672e+08</td><td>-1.663348e+10</td><td> 1.528938e+11</td><td>-735802046037</td><td> 2.037607e+12</td><td>-3.363671e+12</td><td> 3.267568e+12</td><td>-1.723133e+12</td><td> 3.804158e+11</td></tr>\n",
       "\t<tr><td> 4.375350e+06</td><td>-3.898451e+08</td><td> 8.505733e+09</td><td>-7.883571e+10</td><td> 382050600435</td><td>-1.064285e+12</td><td> 1.765927e+12</td><td>-1.723132e+12</td><td> 9.122472e+11</td><td>-2.020961e+11</td></tr>\n",
       "\t<tr><td>-9.236809e+05</td><td> 8.313167e+07</td><td>-1.828903e+09</td><td> 1.706981e+10</td><td> -83215518397</td><td> 2.330039e+11</td><td>-3.883404e+11</td><td> 3.804156e+11</td><td>-2.020960e+11</td><td> 4.491027e+10</td></tr>\n",
       "</tbody>\n",
       "</table>\n"
      ],
      "text/latex": [
       "\\begin{tabular}{llllllllll}\n",
       "\t  9.999763e+01 & -4.949796e+03 &  7.919566e+04 & -6.005606e+05 &       2522332 & -6.305784e+06 &  9.608755e+06 & -8.750784e+06 &  4.375372e+06 & -9.236858e+05\\\\\n",
       "\t -4.949794e+03 &  3.266822e+05 & -5.880222e+06 &  4.756409e+07 &    -208091541 &  5.350897e+08 & -8.323580e+08 &  7.700697e+08 & -3.898465e+08 &  8.313200e+07\\\\\n",
       "\t  7.919557e+04 & -5.880218e+06 &  1.128994e+08 & -9.512768e+08 &    4280726081 & -1.123686e+10 &  1.775696e+10 & -1.663352e+10 &  8.505756e+09 & -1.828909e+09\\\\\n",
       "\t -6.005595e+05 &  4.756403e+07 & -9.512762e+08 &  8.244364e+09 &  -37872432943 &  1.009929e+11 & -1.615883e+11 &  1.528940e+11 & -7.883586e+10 &  1.706985e+10\\\\\n",
       "\t  2.522326e+06 & -2.080912e+08 &  4.280722e+09 & -3.787241e+10 &  176737626224 & -4.771909e+11 &  7.712167e+11 & -7.358029e+11 &  3.820511e+11 & -8.321566e+10\\\\\n",
       "\t -6.305764e+06 &  5.350885e+08 & -1.123685e+10 &  1.009928e+11 & -477190694526 &  1.301428e+12 & -2.120845e+12 &  2.037609e+12 & -1.064286e+12 &  2.330042e+11\\\\\n",
       "\t  9.608718e+06 & -8.323557e+08 &  1.775693e+10 & -1.615881e+11 &  771216047252 & -2.120844e+12 &  3.480361e+12 & -3.363673e+12 &  1.765928e+12 & -3.883407e+11\\\\\n",
       "\t -8.750745e+06 &  7.700672e+08 & -1.663348e+10 &  1.528938e+11 & -735802046037 &  2.037607e+12 & -3.363671e+12 &  3.267568e+12 & -1.723133e+12 &  3.804158e+11\\\\\n",
       "\t  4.375350e+06 & -3.898451e+08 &  8.505733e+09 & -7.883571e+10 &  382050600435 & -1.064285e+12 &  1.765927e+12 & -1.723132e+12 &  9.122472e+11 & -2.020961e+11\\\\\n",
       "\t -9.236809e+05 &  8.313167e+07 & -1.828903e+09 &  1.706981e+10 &  -83215518397 &  2.330039e+11 & -3.883404e+11 &  3.804156e+11 & -2.020960e+11 &  4.491027e+10\\\\\n",
       "\\end{tabular}\n"
      ],
      "text/markdown": [
       "\n",
       "|  9.999763e+01 | -4.949796e+03 |  7.919566e+04 | -6.005606e+05 |       2522332 | -6.305784e+06 |  9.608755e+06 | -8.750784e+06 |  4.375372e+06 | -9.236858e+05 | \n",
       "| -4.949794e+03 |  3.266822e+05 | -5.880222e+06 |  4.756409e+07 |    -208091541 |  5.350897e+08 | -8.323580e+08 |  7.700697e+08 | -3.898465e+08 |  8.313200e+07 | \n",
       "|  7.919557e+04 | -5.880218e+06 |  1.128994e+08 | -9.512768e+08 |    4280726081 | -1.123686e+10 |  1.775696e+10 | -1.663352e+10 |  8.505756e+09 | -1.828909e+09 | \n",
       "| -6.005595e+05 |  4.756403e+07 | -9.512762e+08 |  8.244364e+09 |  -37872432943 |  1.009929e+11 | -1.615883e+11 |  1.528940e+11 | -7.883586e+10 |  1.706985e+10 | \n",
       "|  2.522326e+06 | -2.080912e+08 |  4.280722e+09 | -3.787241e+10 |  176737626224 | -4.771909e+11 |  7.712167e+11 | -7.358029e+11 |  3.820511e+11 | -8.321566e+10 | \n",
       "| -6.305764e+06 |  5.350885e+08 | -1.123685e+10 |  1.009928e+11 | -477190694526 |  1.301428e+12 | -2.120845e+12 |  2.037609e+12 | -1.064286e+12 |  2.330042e+11 | \n",
       "|  9.608718e+06 | -8.323557e+08 |  1.775693e+10 | -1.615881e+11 |  771216047252 | -2.120844e+12 |  3.480361e+12 | -3.363673e+12 |  1.765928e+12 | -3.883407e+11 | \n",
       "| -8.750745e+06 |  7.700672e+08 | -1.663348e+10 |  1.528938e+11 | -735802046037 |  2.037607e+12 | -3.363671e+12 |  3.267568e+12 | -1.723133e+12 |  3.804158e+11 | \n",
       "|  4.375350e+06 | -3.898451e+08 |  8.505733e+09 | -7.883571e+10 |  382050600435 | -1.064285e+12 |  1.765927e+12 | -1.723132e+12 |  9.122472e+11 | -2.020961e+11 | \n",
       "| -9.236809e+05 |  8.313167e+07 | -1.828903e+09 |  1.706981e+10 |  -83215518397 |  2.330039e+11 | -3.883404e+11 |  3.804156e+11 | -2.020960e+11 |  4.491027e+10 | \n",
       "\n",
       "\n"
      ],
      "text/plain": [
       "      [,1]          [,2]          [,3]          [,4]          [,5]         \n",
       " [1,]  9.999763e+01 -4.949796e+03  7.919566e+04 -6.005606e+05       2522332\n",
       " [2,] -4.949794e+03  3.266822e+05 -5.880222e+06  4.756409e+07    -208091541\n",
       " [3,]  7.919557e+04 -5.880218e+06  1.128994e+08 -9.512768e+08    4280726081\n",
       " [4,] -6.005595e+05  4.756403e+07 -9.512762e+08  8.244364e+09  -37872432943\n",
       " [5,]  2.522326e+06 -2.080912e+08  4.280722e+09 -3.787241e+10  176737626224\n",
       " [6,] -6.305764e+06  5.350885e+08 -1.123685e+10  1.009928e+11 -477190694526\n",
       " [7,]  9.608718e+06 -8.323557e+08  1.775693e+10 -1.615881e+11  771216047252\n",
       " [8,] -8.750745e+06  7.700672e+08 -1.663348e+10  1.528938e+11 -735802046037\n",
       " [9,]  4.375350e+06 -3.898451e+08  8.505733e+09 -7.883571e+10  382050600435\n",
       "[10,] -9.236809e+05  8.313167e+07 -1.828903e+09  1.706981e+10  -83215518397\n",
       "      [,6]          [,7]          [,8]          [,9]          [,10]        \n",
       " [1,] -6.305784e+06  9.608755e+06 -8.750784e+06  4.375372e+06 -9.236858e+05\n",
       " [2,]  5.350897e+08 -8.323580e+08  7.700697e+08 -3.898465e+08  8.313200e+07\n",
       " [3,] -1.123686e+10  1.775696e+10 -1.663352e+10  8.505756e+09 -1.828909e+09\n",
       " [4,]  1.009929e+11 -1.615883e+11  1.528940e+11 -7.883586e+10  1.706985e+10\n",
       " [5,] -4.771909e+11  7.712167e+11 -7.358029e+11  3.820511e+11 -8.321566e+10\n",
       " [6,]  1.301428e+12 -2.120845e+12  2.037609e+12 -1.064286e+12  2.330042e+11\n",
       " [7,] -2.120844e+12  3.480361e+12 -3.363673e+12  1.765928e+12 -3.883407e+11\n",
       " [8,]  2.037607e+12 -3.363671e+12  3.267568e+12 -1.723133e+12  3.804158e+11\n",
       " [9,] -1.064285e+12  1.765927e+12 -1.723132e+12  9.122472e+11 -2.020961e+11\n",
       "[10,]  2.330039e+11 -3.883404e+11  3.804156e+11 -2.020960e+11  4.491027e+10"
      ]
     },
     "metadata": {},
     "output_type": "display_data"
    }
   ],
   "source": [
    "message(\"Hallando la inversa de Hilbert 10x10 usando solve():\")\n",
    "solve(Hilbert10)\n",
    "\n",
    "message(\"Hallando la inversa de Hilbert 10x10 usando qr.solve():\")\n",
    "qr.solve(Hilbert10, tol = 0)"
   ]
  },
  {
   "cell_type": "markdown",
   "metadata": {},
   "source": [
    "10."
   ]
  },
  {
   "cell_type": "markdown",
   "metadata": {},
   "source": [
    "- Genere un array tridimensional con dimensiones $4 \\times 3 \\times 2$ que contengan los números del $1$ al $24$."
   ]
  },
  {
   "cell_type": "code",
   "execution_count": 27,
   "metadata": {
    "collapsed": false
   },
   "outputs": [
    {
     "data": {
      "text/html": [
       "<ol class=list-inline>\n",
       "\t<li>1</li>\n",
       "\t<li>2</li>\n",
       "\t<li>3</li>\n",
       "\t<li>4</li>\n",
       "\t<li>5</li>\n",
       "\t<li>6</li>\n",
       "\t<li>7</li>\n",
       "\t<li>8</li>\n",
       "\t<li>9</li>\n",
       "\t<li>10</li>\n",
       "\t<li>11</li>\n",
       "\t<li>12</li>\n",
       "\t<li>13</li>\n",
       "\t<li>14</li>\n",
       "\t<li>15</li>\n",
       "\t<li>16</li>\n",
       "\t<li>17</li>\n",
       "\t<li>18</li>\n",
       "\t<li>19</li>\n",
       "\t<li>20</li>\n",
       "\t<li>21</li>\n",
       "\t<li>22</li>\n",
       "\t<li>23</li>\n",
       "\t<li>24</li>\n",
       "</ol>\n"
      ],
      "text/latex": [
       "\\begin{enumerate*}\n",
       "\\item 1\n",
       "\\item 2\n",
       "\\item 3\n",
       "\\item 4\n",
       "\\item 5\n",
       "\\item 6\n",
       "\\item 7\n",
       "\\item 8\n",
       "\\item 9\n",
       "\\item 10\n",
       "\\item 11\n",
       "\\item 12\n",
       "\\item 13\n",
       "\\item 14\n",
       "\\item 15\n",
       "\\item 16\n",
       "\\item 17\n",
       "\\item 18\n",
       "\\item 19\n",
       "\\item 20\n",
       "\\item 21\n",
       "\\item 22\n",
       "\\item 23\n",
       "\\item 24\n",
       "\\end{enumerate*}\n"
      ],
      "text/markdown": [
       "1. 1\n",
       "2. 2\n",
       "3. 3\n",
       "4. 4\n",
       "5. 5\n",
       "6. 6\n",
       "7. 7\n",
       "8. 8\n",
       "9. 9\n",
       "10. 10\n",
       "11. 11\n",
       "12. 12\n",
       "13. 13\n",
       "14. 14\n",
       "15. 15\n",
       "16. 16\n",
       "17. 17\n",
       "18. 18\n",
       "19. 19\n",
       "20. 20\n",
       "21. 21\n",
       "22. 22\n",
       "23. 23\n",
       "24. 24\n",
       "\n",
       "\n"
      ],
      "text/plain": [
       ", , 1\n",
       "\n",
       "     [,1] [,2] [,3]\n",
       "[1,]    1    5    9\n",
       "[2,]    2    6   10\n",
       "[3,]    3    7   11\n",
       "[4,]    4    8   12\n",
       "\n",
       ", , 2\n",
       "\n",
       "     [,1] [,2] [,3]\n",
       "[1,]   13   17   21\n",
       "[2,]   14   18   22\n",
       "[3,]   15   19   23\n",
       "[4,]   16   20   24\n"
      ]
     },
     "metadata": {},
     "output_type": "display_data"
    }
   ],
   "source": [
    "a <- array(1:24, dim = c(4,3,2))\n",
    "a"
   ]
  },
  {
   "cell_type": "markdown",
   "metadata": {},
   "source": [
    "- Extraiga la última porción `(a[,, 2])` del array y guárdela como una matriz $M$."
   ]
  },
  {
   "cell_type": "code",
   "execution_count": 28,
   "metadata": {
    "collapsed": false
   },
   "outputs": [
    {
     "data": {
      "text/html": [
       "<table>\n",
       "<tbody>\n",
       "\t<tr><td>13</td><td>17</td><td>21</td></tr>\n",
       "\t<tr><td>14</td><td>18</td><td>22</td></tr>\n",
       "\t<tr><td>15</td><td>19</td><td>23</td></tr>\n",
       "\t<tr><td>16</td><td>20</td><td>24</td></tr>\n",
       "</tbody>\n",
       "</table>\n"
      ],
      "text/latex": [
       "\\begin{tabular}{lll}\n",
       "\t 13 & 17 & 21\\\\\n",
       "\t 14 & 18 & 22\\\\\n",
       "\t 15 & 19 & 23\\\\\n",
       "\t 16 & 20 & 24\\\\\n",
       "\\end{tabular}\n"
      ],
      "text/markdown": [
       "\n",
       "| 13 | 17 | 21 | \n",
       "| 14 | 18 | 22 | \n",
       "| 15 | 19 | 23 | \n",
       "| 16 | 20 | 24 | \n",
       "\n",
       "\n"
      ],
      "text/plain": [
       "     [,1] [,2] [,3]\n",
       "[1,] 13   17   21  \n",
       "[2,] 14   18   22  \n",
       "[3,] 15   19   23  \n",
       "[4,] 16   20   24  "
      ]
     },
     "metadata": {},
     "output_type": "display_data"
    },
    {
     "name": "stderr",
     "output_type": "stream",
     "text": [
      "El resultado es matriz: TRUE\n"
     ]
    }
   ],
   "source": [
    "M <- a[,,2]\n",
    "M\n",
    "\n",
    "message(\"El resultado es matriz: \",is.matrix(M))"
   ]
  },
  {
   "cell_type": "markdown",
   "metadata": {},
   "source": [
    "- Genera un nuevo array de dimensiones $4 \\times 3 \\times 3$ que es idéntica a la matriz anterior, pero añade la matriz $M$ como la tercera entrada en la tercera dimensión."
   ]
  },
  {
   "cell_type": "code",
   "execution_count": 29,
   "metadata": {
    "collapsed": false
   },
   "outputs": [
    {
     "data": {
      "text/html": [
       "<ol class=list-inline>\n",
       "\t<li>1</li>\n",
       "\t<li>2</li>\n",
       "\t<li>3</li>\n",
       "\t<li>4</li>\n",
       "\t<li>5</li>\n",
       "\t<li>6</li>\n",
       "\t<li>7</li>\n",
       "\t<li>8</li>\n",
       "\t<li>9</li>\n",
       "\t<li>10</li>\n",
       "\t<li>11</li>\n",
       "\t<li>12</li>\n",
       "\t<li>13</li>\n",
       "\t<li>14</li>\n",
       "\t<li>15</li>\n",
       "\t<li>16</li>\n",
       "\t<li>17</li>\n",
       "\t<li>18</li>\n",
       "\t<li>19</li>\n",
       "\t<li>20</li>\n",
       "\t<li>21</li>\n",
       "\t<li>22</li>\n",
       "\t<li>23</li>\n",
       "\t<li>24</li>\n",
       "\t<li>13</li>\n",
       "\t<li>14</li>\n",
       "\t<li>15</li>\n",
       "\t<li>16</li>\n",
       "\t<li>17</li>\n",
       "\t<li>18</li>\n",
       "\t<li>19</li>\n",
       "\t<li>20</li>\n",
       "\t<li>21</li>\n",
       "\t<li>22</li>\n",
       "\t<li>23</li>\n",
       "\t<li>24</li>\n",
       "</ol>\n"
      ],
      "text/latex": [
       "\\begin{enumerate*}\n",
       "\\item 1\n",
       "\\item 2\n",
       "\\item 3\n",
       "\\item 4\n",
       "\\item 5\n",
       "\\item 6\n",
       "\\item 7\n",
       "\\item 8\n",
       "\\item 9\n",
       "\\item 10\n",
       "\\item 11\n",
       "\\item 12\n",
       "\\item 13\n",
       "\\item 14\n",
       "\\item 15\n",
       "\\item 16\n",
       "\\item 17\n",
       "\\item 18\n",
       "\\item 19\n",
       "\\item 20\n",
       "\\item 21\n",
       "\\item 22\n",
       "\\item 23\n",
       "\\item 24\n",
       "\\item 13\n",
       "\\item 14\n",
       "\\item 15\n",
       "\\item 16\n",
       "\\item 17\n",
       "\\item 18\n",
       "\\item 19\n",
       "\\item 20\n",
       "\\item 21\n",
       "\\item 22\n",
       "\\item 23\n",
       "\\item 24\n",
       "\\end{enumerate*}\n"
      ],
      "text/markdown": [
       "1. 1\n",
       "2. 2\n",
       "3. 3\n",
       "4. 4\n",
       "5. 5\n",
       "6. 6\n",
       "7. 7\n",
       "8. 8\n",
       "9. 9\n",
       "10. 10\n",
       "11. 11\n",
       "12. 12\n",
       "13. 13\n",
       "14. 14\n",
       "15. 15\n",
       "16. 16\n",
       "17. 17\n",
       "18. 18\n",
       "19. 19\n",
       "20. 20\n",
       "21. 21\n",
       "22. 22\n",
       "23. 23\n",
       "24. 24\n",
       "25. 13\n",
       "26. 14\n",
       "27. 15\n",
       "28. 16\n",
       "29. 17\n",
       "30. 18\n",
       "31. 19\n",
       "32. 20\n",
       "33. 21\n",
       "34. 22\n",
       "35. 23\n",
       "36. 24\n",
       "\n",
       "\n"
      ],
      "text/plain": [
       ", , 1\n",
       "\n",
       "     [,1] [,2] [,3]\n",
       "[1,]    1    5    9\n",
       "[2,]    2    6   10\n",
       "[3,]    3    7   11\n",
       "[4,]    4    8   12\n",
       "\n",
       ", , 2\n",
       "\n",
       "     [,1] [,2] [,3]\n",
       "[1,]   13   17   21\n",
       "[2,]   14   18   22\n",
       "[3,]   15   19   23\n",
       "[4,]   16   20   24\n",
       "\n",
       ", , 3\n",
       "\n",
       "     [,1] [,2] [,3]\n",
       "[1,]   13   17   21\n",
       "[2,]   14   18   22\n",
       "[3,]   15   19   23\n",
       "[4,]   16   20   24\n"
      ]
     },
     "metadata": {},
     "output_type": "display_data"
    }
   ],
   "source": [
    "b <- array(c(a,M), dim = c(4,3,3))\n",
    "b"
   ]
  },
  {
   "cell_type": "markdown",
   "metadata": {},
   "source": [
    "11.Crea una matriz aleatoria entera $6 \\times 10$ escogidos entre $1,2,\\dots, 10$, ejecutando las siguientes líneas de código."
   ]
  },
  {
   "cell_type": "code",
   "execution_count": 30,
   "metadata": {
    "collapsed": false
   },
   "outputs": [
    {
     "data": {
      "text/html": [
       "<table>\n",
       "<tbody>\n",
       "\t<tr><td>3 </td><td> 6</td><td>7 </td><td>7 </td><td> 2</td><td> 4</td><td> 3</td><td>7 </td><td> 1</td><td>4 </td></tr>\n",
       "\t<tr><td>1 </td><td> 9</td><td>8 </td><td>7 </td><td> 2</td><td> 6</td><td>10</td><td>9 </td><td> 5</td><td>2 </td></tr>\n",
       "\t<tr><td>7 </td><td>10</td><td>8 </td><td>4 </td><td>10</td><td> 5</td><td> 4</td><td>8 </td><td> 4</td><td>4 </td></tr>\n",
       "\t<tr><td>4 </td><td> 3</td><td>1 </td><td>1 </td><td> 3</td><td> 3</td><td> 9</td><td>7 </td><td> 4</td><td>2 </td></tr>\n",
       "\t<tr><td>1 </td><td> 8</td><td>1 </td><td>9 </td><td> 9</td><td> 8</td><td> 1</td><td>3 </td><td> 7</td><td>7 </td></tr>\n",
       "\t<tr><td>2 </td><td> 6</td><td>7 </td><td>5 </td><td> 6</td><td>10</td><td> 4</td><td>6 </td><td>10</td><td>1 </td></tr>\n",
       "</tbody>\n",
       "</table>\n"
      ],
      "text/latex": [
       "\\begin{tabular}{llllllllll}\n",
       "\t 3  &  6 & 7  & 7  &  2 &  4 &  3 & 7  &  1 & 4 \\\\\n",
       "\t 1  &  9 & 8  & 7  &  2 &  6 & 10 & 9  &  5 & 2 \\\\\n",
       "\t 7  & 10 & 8  & 4  & 10 &  5 &  4 & 8  &  4 & 4 \\\\\n",
       "\t 4  &  3 & 1  & 1  &  3 &  3 &  9 & 7  &  4 & 2 \\\\\n",
       "\t 1  &  8 & 1  & 9  &  9 &  8 &  1 & 3  &  7 & 7 \\\\\n",
       "\t 2  &  6 & 7  & 5  &  6 & 10 &  4 & 6  & 10 & 1 \\\\\n",
       "\\end{tabular}\n"
      ],
      "text/markdown": [
       "\n",
       "| 3  |  6 | 7  | 7  |  2 |  4 |  3 | 7  |  1 | 4  | \n",
       "| 1  |  9 | 8  | 7  |  2 |  6 | 10 | 9  |  5 | 2  | \n",
       "| 7  | 10 | 8  | 4  | 10 |  5 |  4 | 8  |  4 | 4  | \n",
       "| 4  |  3 | 1  | 1  |  3 |  3 |  9 | 7  |  4 | 2  | \n",
       "| 1  |  8 | 1  | 9  |  9 |  8 |  1 | 3  |  7 | 7  | \n",
       "| 2  |  6 | 7  | 5  |  6 | 10 |  4 | 6  | 10 | 1  | \n",
       "\n",
       "\n"
      ],
      "text/plain": [
       "     [,1] [,2] [,3] [,4] [,5] [,6] [,7] [,8] [,9] [,10]\n",
       "[1,] 3     6   7    7     2    4    3   7     1   4    \n",
       "[2,] 1     9   8    7     2    6   10   9     5   2    \n",
       "[3,] 7    10   8    4    10    5    4   8     4   4    \n",
       "[4,] 4     3   1    1     3    3    9   7     4   2    \n",
       "[5,] 1     8   1    9     9    8    1   3     7   7    \n",
       "[6,] 2     6   7    5     6   10    4   6    10   1    "
      ]
     },
     "metadata": {},
     "output_type": "display_data"
    }
   ],
   "source": [
    "set.seed(75)\n",
    "aMat <- matrix( sample(10, size=60, replace=T), nr=6)\n",
    "aMat"
   ]
  },
  {
   "cell_type": "markdown",
   "metadata": {},
   "source": [
    "(a) Encuentra el número de entradas en cada fila que son mayores que $4$."
   ]
  },
  {
   "cell_type": "code",
   "execution_count": 31,
   "metadata": {
    "collapsed": false
   },
   "outputs": [
    {
     "data": {
      "text/html": [
       "<ol class=list-inline>\n",
       "\t<li>4</li>\n",
       "\t<li>7</li>\n",
       "\t<li>6</li>\n",
       "\t<li>2</li>\n",
       "\t<li>6</li>\n",
       "\t<li>7</li>\n",
       "</ol>\n"
      ],
      "text/latex": [
       "\\begin{enumerate*}\n",
       "\\item 4\n",
       "\\item 7\n",
       "\\item 6\n",
       "\\item 2\n",
       "\\item 6\n",
       "\\item 7\n",
       "\\end{enumerate*}\n"
      ],
      "text/markdown": [
       "1. 4\n",
       "2. 7\n",
       "3. 6\n",
       "4. 2\n",
       "5. 6\n",
       "6. 7\n",
       "\n",
       "\n"
      ],
      "text/plain": [
       "[1] 4 7 6 2 6 7"
      ]
     },
     "metadata": {},
     "output_type": "display_data"
    }
   ],
   "source": [
    "apply(aMat,1,function(x){sum(x>4)}) #trabajamos sobre las filas"
   ]
  },
  {
   "cell_type": "markdown",
   "metadata": {},
   "source": [
    "(b) ¿Qué filas contienen exactamente dos ocurrencias del número siete?"
   ]
  },
  {
   "cell_type": "code",
   "execution_count": 32,
   "metadata": {
    "collapsed": false
   },
   "outputs": [
    {
     "name": "stderr",
     "output_type": "stream",
     "text": [
      "Cantidad de 7s por fila:\n"
     ]
    },
    {
     "data": {
      "text/html": [
       "<ol class=list-inline>\n",
       "\t<li>3</li>\n",
       "\t<li>1</li>\n",
       "\t<li>1</li>\n",
       "\t<li>1</li>\n",
       "\t<li>2</li>\n",
       "\t<li>1</li>\n",
       "</ol>\n"
      ],
      "text/latex": [
       "\\begin{enumerate*}\n",
       "\\item 3\n",
       "\\item 1\n",
       "\\item 1\n",
       "\\item 1\n",
       "\\item 2\n",
       "\\item 1\n",
       "\\end{enumerate*}\n"
      ],
      "text/markdown": [
       "1. 3\n",
       "2. 1\n",
       "3. 1\n",
       "4. 1\n",
       "5. 2\n",
       "6. 1\n",
       "\n",
       "\n"
      ],
      "text/plain": [
       "[1] 3 1 1 1 2 1"
      ]
     },
     "metadata": {},
     "output_type": "display_data"
    },
    {
     "name": "stderr",
     "output_type": "stream",
     "text": [
      "2 ocurrencias por fila:\n"
     ]
    },
    {
     "data": {
      "text/html": [
       "<ol class=list-inline>\n",
       "\t<li>FALSE</li>\n",
       "\t<li>FALSE</li>\n",
       "\t<li>FALSE</li>\n",
       "\t<li>FALSE</li>\n",
       "\t<li>TRUE</li>\n",
       "\t<li>FALSE</li>\n",
       "</ol>\n"
      ],
      "text/latex": [
       "\\begin{enumerate*}\n",
       "\\item FALSE\n",
       "\\item FALSE\n",
       "\\item FALSE\n",
       "\\item FALSE\n",
       "\\item TRUE\n",
       "\\item FALSE\n",
       "\\end{enumerate*}\n"
      ],
      "text/markdown": [
       "1. FALSE\n",
       "2. FALSE\n",
       "3. FALSE\n",
       "4. FALSE\n",
       "5. TRUE\n",
       "6. FALSE\n",
       "\n",
       "\n"
      ],
      "text/plain": [
       "[1] FALSE FALSE FALSE FALSE  TRUE FALSE"
      ]
     },
     "metadata": {},
     "output_type": "display_data"
    },
    {
     "name": "stderr",
     "output_type": "stream",
     "text": [
      "Filas que contienen 2 ocurrencias del número 7:\n"
     ]
    },
    {
     "data": {
      "text/html": [
       "5"
      ],
      "text/latex": [
       "5"
      ],
      "text/markdown": [
       "5"
      ],
      "text/plain": [
       "[1] 5"
      ]
     },
     "metadata": {},
     "output_type": "display_data"
    }
   ],
   "source": [
    "message(\"Cantidad de 7s por fila:\")\n",
    "cant7porfila <- apply(aMat,1,function(x){sum(x==7)}) #trabajamos sobre las filas\n",
    "cant7porfila\n",
    "\n",
    "message(\"2 ocurrencias por fila:\")\n",
    "cant7porfila == 2\n",
    "\n",
    "message(\"Filas que contienen 2 ocurrencias del número 7:\")\n",
    "which(cant7porfila == 2)"
   ]
  },
  {
   "cell_type": "markdown",
   "metadata": {},
   "source": [
    "(c) Encuentra aquellos pares de columnas cuyo total (sobre ambas columnas) es mayor que 75. La respuesta debería ser una matriz con dos columnas; así, por ejemplo, la fila $(1, 2)$ en la matriz de salida significa que la suma de las columnas $1$ y $2$ en la matriz original es mayor que 75. Se permite repetir una columna; por ejemplo, la matriz de salida final podría contener las filas $(1, 2), (2, 1)$ y $(2, 2)$."
   ]
  },
  {
   "cell_type": "code",
   "execution_count": 33,
   "metadata": {
    "collapsed": false
   },
   "outputs": [
    {
     "name": "stderr",
     "output_type": "stream",
     "text": [
      "Suma de los elementos por columna:\n"
     ]
    },
    {
     "data": {
      "text/html": [
       "<ol class=list-inline>\n",
       "\t<li>18</li>\n",
       "\t<li>42</li>\n",
       "\t<li>32</li>\n",
       "\t<li>33</li>\n",
       "\t<li>32</li>\n",
       "\t<li>36</li>\n",
       "\t<li>31</li>\n",
       "\t<li>40</li>\n",
       "\t<li>31</li>\n",
       "\t<li>20</li>\n",
       "</ol>\n"
      ],
      "text/latex": [
       "\\begin{enumerate*}\n",
       "\\item 18\n",
       "\\item 42\n",
       "\\item 32\n",
       "\\item 33\n",
       "\\item 32\n",
       "\\item 36\n",
       "\\item 31\n",
       "\\item 40\n",
       "\\item 31\n",
       "\\item 20\n",
       "\\end{enumerate*}\n"
      ],
      "text/markdown": [
       "1. 18\n",
       "2. 42\n",
       "3. 32\n",
       "4. 33\n",
       "5. 32\n",
       "6. 36\n",
       "7. 31\n",
       "8. 40\n",
       "9. 31\n",
       "10. 20\n",
       "\n",
       "\n"
      ],
      "text/plain": [
       " [1] 18 42 32 33 32 36 31 40 31 20"
      ]
     },
     "metadata": {},
     "output_type": "display_data"
    },
    {
     "name": "stderr",
     "output_type": "stream",
     "text": [
      "Matriz cuyo elemento (i,j) representa la suma de los elementos de las columnas i y j:\n"
     ]
    },
    {
     "data": {
      "text/html": [
       "<table>\n",
       "<tbody>\n",
       "\t<tr><td>36</td><td>60</td><td>50</td><td>51</td><td>50</td><td>54</td><td>49</td><td>58</td><td>49</td><td>38</td></tr>\n",
       "\t<tr><td>60</td><td>84</td><td>74</td><td>75</td><td>74</td><td>78</td><td>73</td><td>82</td><td>73</td><td>62</td></tr>\n",
       "\t<tr><td>50</td><td>74</td><td>64</td><td>65</td><td>64</td><td>68</td><td>63</td><td>72</td><td>63</td><td>52</td></tr>\n",
       "\t<tr><td>51</td><td>75</td><td>65</td><td>66</td><td>65</td><td>69</td><td>64</td><td>73</td><td>64</td><td>53</td></tr>\n",
       "\t<tr><td>50</td><td>74</td><td>64</td><td>65</td><td>64</td><td>68</td><td>63</td><td>72</td><td>63</td><td>52</td></tr>\n",
       "\t<tr><td>54</td><td>78</td><td>68</td><td>69</td><td>68</td><td>72</td><td>67</td><td>76</td><td>67</td><td>56</td></tr>\n",
       "\t<tr><td>49</td><td>73</td><td>63</td><td>64</td><td>63</td><td>67</td><td>62</td><td>71</td><td>62</td><td>51</td></tr>\n",
       "\t<tr><td>58</td><td>82</td><td>72</td><td>73</td><td>72</td><td>76</td><td>71</td><td>80</td><td>71</td><td>60</td></tr>\n",
       "\t<tr><td>49</td><td>73</td><td>63</td><td>64</td><td>63</td><td>67</td><td>62</td><td>71</td><td>62</td><td>51</td></tr>\n",
       "\t<tr><td>38</td><td>62</td><td>52</td><td>53</td><td>52</td><td>56</td><td>51</td><td>60</td><td>51</td><td>40</td></tr>\n",
       "</tbody>\n",
       "</table>\n"
      ],
      "text/latex": [
       "\\begin{tabular}{llllllllll}\n",
       "\t 36 & 60 & 50 & 51 & 50 & 54 & 49 & 58 & 49 & 38\\\\\n",
       "\t 60 & 84 & 74 & 75 & 74 & 78 & 73 & 82 & 73 & 62\\\\\n",
       "\t 50 & 74 & 64 & 65 & 64 & 68 & 63 & 72 & 63 & 52\\\\\n",
       "\t 51 & 75 & 65 & 66 & 65 & 69 & 64 & 73 & 64 & 53\\\\\n",
       "\t 50 & 74 & 64 & 65 & 64 & 68 & 63 & 72 & 63 & 52\\\\\n",
       "\t 54 & 78 & 68 & 69 & 68 & 72 & 67 & 76 & 67 & 56\\\\\n",
       "\t 49 & 73 & 63 & 64 & 63 & 67 & 62 & 71 & 62 & 51\\\\\n",
       "\t 58 & 82 & 72 & 73 & 72 & 76 & 71 & 80 & 71 & 60\\\\\n",
       "\t 49 & 73 & 63 & 64 & 63 & 67 & 62 & 71 & 62 & 51\\\\\n",
       "\t 38 & 62 & 52 & 53 & 52 & 56 & 51 & 60 & 51 & 40\\\\\n",
       "\\end{tabular}\n"
      ],
      "text/markdown": [
       "\n",
       "| 36 | 60 | 50 | 51 | 50 | 54 | 49 | 58 | 49 | 38 | \n",
       "| 60 | 84 | 74 | 75 | 74 | 78 | 73 | 82 | 73 | 62 | \n",
       "| 50 | 74 | 64 | 65 | 64 | 68 | 63 | 72 | 63 | 52 | \n",
       "| 51 | 75 | 65 | 66 | 65 | 69 | 64 | 73 | 64 | 53 | \n",
       "| 50 | 74 | 64 | 65 | 64 | 68 | 63 | 72 | 63 | 52 | \n",
       "| 54 | 78 | 68 | 69 | 68 | 72 | 67 | 76 | 67 | 56 | \n",
       "| 49 | 73 | 63 | 64 | 63 | 67 | 62 | 71 | 62 | 51 | \n",
       "| 58 | 82 | 72 | 73 | 72 | 76 | 71 | 80 | 71 | 60 | \n",
       "| 49 | 73 | 63 | 64 | 63 | 67 | 62 | 71 | 62 | 51 | \n",
       "| 38 | 62 | 52 | 53 | 52 | 56 | 51 | 60 | 51 | 40 | \n",
       "\n",
       "\n"
      ],
      "text/plain": [
       "      [,1] [,2] [,3] [,4] [,5] [,6] [,7] [,8] [,9] [,10]\n",
       " [1,] 36   60   50   51   50   54   49   58   49   38   \n",
       " [2,] 60   84   74   75   74   78   73   82   73   62   \n",
       " [3,] 50   74   64   65   64   68   63   72   63   52   \n",
       " [4,] 51   75   65   66   65   69   64   73   64   53   \n",
       " [5,] 50   74   64   65   64   68   63   72   63   52   \n",
       " [6,] 54   78   68   69   68   72   67   76   67   56   \n",
       " [7,] 49   73   63   64   63   67   62   71   62   51   \n",
       " [8,] 58   82   72   73   72   76   71   80   71   60   \n",
       " [9,] 49   73   63   64   63   67   62   71   62   51   \n",
       "[10,] 38   62   52   53   52   56   51   60   51   40   "
      ]
     },
     "metadata": {},
     "output_type": "display_data"
    },
    {
     "name": "stderr",
     "output_type": "stream",
     "text": [
      "Pares de columnas que cumplen la condición:\n"
     ]
    },
    {
     "data": {
      "text/html": [
       "<table>\n",
       "<thead><tr><th scope=col>row</th><th scope=col>col</th></tr></thead>\n",
       "<tbody>\n",
       "\t<tr><td>2</td><td>2</td></tr>\n",
       "\t<tr><td>6</td><td>2</td></tr>\n",
       "\t<tr><td>8</td><td>2</td></tr>\n",
       "\t<tr><td>2</td><td>6</td></tr>\n",
       "\t<tr><td>8</td><td>6</td></tr>\n",
       "\t<tr><td>2</td><td>8</td></tr>\n",
       "\t<tr><td>6</td><td>8</td></tr>\n",
       "\t<tr><td>8</td><td>8</td></tr>\n",
       "</tbody>\n",
       "</table>\n"
      ],
      "text/latex": [
       "\\begin{tabular}{ll}\n",
       " row & col\\\\\n",
       "\\hline\n",
       "\t 2 & 2\\\\\n",
       "\t 6 & 2\\\\\n",
       "\t 8 & 2\\\\\n",
       "\t 2 & 6\\\\\n",
       "\t 8 & 6\\\\\n",
       "\t 2 & 8\\\\\n",
       "\t 6 & 8\\\\\n",
       "\t 8 & 8\\\\\n",
       "\\end{tabular}\n"
      ],
      "text/markdown": [
       "\n",
       "row | col | \n",
       "|---|---|---|---|---|---|---|---|\n",
       "| 2 | 2 | \n",
       "| 6 | 2 | \n",
       "| 8 | 2 | \n",
       "| 2 | 6 | \n",
       "| 8 | 6 | \n",
       "| 2 | 8 | \n",
       "| 6 | 8 | \n",
       "| 8 | 8 | \n",
       "\n",
       "\n"
      ],
      "text/plain": [
       "     row col\n",
       "[1,] 2   2  \n",
       "[2,] 6   2  \n",
       "[3,] 8   2  \n",
       "[4,] 2   6  \n",
       "[5,] 8   6  \n",
       "[6,] 2   8  \n",
       "[7,] 6   8  \n",
       "[8,] 8   8  "
      ]
     },
     "metadata": {},
     "output_type": "display_data"
    }
   ],
   "source": [
    "message(\"Suma de los elementos por columna:\")\n",
    "SumxColum <- apply(aMat,2,function(x){sum(x)})\n",
    "SumxColum\n",
    "\n",
    "message(\"Matriz cuyo elemento (i,j) representa la suma de los elementos de las columnas i y j:\")\n",
    "matSumxColum <- matrix(SumxColum + rep(SumxColum, each = length(SumxColum)),ncol= length(SumxColum), byrow = TRUE)\n",
    "matSumxColum\n",
    "\n",
    "message(\"Pares de columnas que cumplen la condición:\")\n",
    "which(matSumxColum > 75, arr.ind = TRUE)"
   ]
  },
  {
   "cell_type": "markdown",
   "metadata": {},
   "source": [
    "¿Qué sucede si no se permiten repeticiones? Entonces, solo se permitiría $(1, 2)$ de $(1, 2), (2, 1)$ y $(2, 2)$?\n"
   ]
  },
  {
   "cell_type": "code",
   "execution_count": 34,
   "metadata": {
    "collapsed": false
   },
   "outputs": [
    {
     "name": "stderr",
     "output_type": "stream",
     "text": [
      "Consideramos solo los elementos que esten sobre la diagonal principal:\n"
     ]
    },
    {
     "data": {
      "text/html": [
       "<table>\n",
       "<tbody>\n",
       "\t<tr><td>0 </td><td>60</td><td>50</td><td>51</td><td>50</td><td>54</td><td>49</td><td>58</td><td>49</td><td>38</td></tr>\n",
       "\t<tr><td>0 </td><td> 0</td><td>74</td><td>75</td><td>74</td><td>78</td><td>73</td><td>82</td><td>73</td><td>62</td></tr>\n",
       "\t<tr><td>0 </td><td> 0</td><td> 0</td><td>65</td><td>64</td><td>68</td><td>63</td><td>72</td><td>63</td><td>52</td></tr>\n",
       "\t<tr><td>0 </td><td> 0</td><td> 0</td><td> 0</td><td>65</td><td>69</td><td>64</td><td>73</td><td>64</td><td>53</td></tr>\n",
       "\t<tr><td>0 </td><td> 0</td><td> 0</td><td> 0</td><td> 0</td><td>68</td><td>63</td><td>72</td><td>63</td><td>52</td></tr>\n",
       "\t<tr><td>0 </td><td> 0</td><td> 0</td><td> 0</td><td> 0</td><td> 0</td><td>67</td><td>76</td><td>67</td><td>56</td></tr>\n",
       "\t<tr><td>0 </td><td> 0</td><td> 0</td><td> 0</td><td> 0</td><td> 0</td><td> 0</td><td>71</td><td>62</td><td>51</td></tr>\n",
       "\t<tr><td>0 </td><td> 0</td><td> 0</td><td> 0</td><td> 0</td><td> 0</td><td> 0</td><td> 0</td><td>71</td><td>60</td></tr>\n",
       "\t<tr><td>0 </td><td> 0</td><td> 0</td><td> 0</td><td> 0</td><td> 0</td><td> 0</td><td> 0</td><td> 0</td><td>51</td></tr>\n",
       "\t<tr><td>0 </td><td> 0</td><td> 0</td><td> 0</td><td> 0</td><td> 0</td><td> 0</td><td> 0</td><td> 0</td><td> 0</td></tr>\n",
       "</tbody>\n",
       "</table>\n"
      ],
      "text/latex": [
       "\\begin{tabular}{llllllllll}\n",
       "\t 0  & 60 & 50 & 51 & 50 & 54 & 49 & 58 & 49 & 38\\\\\n",
       "\t 0  &  0 & 74 & 75 & 74 & 78 & 73 & 82 & 73 & 62\\\\\n",
       "\t 0  &  0 &  0 & 65 & 64 & 68 & 63 & 72 & 63 & 52\\\\\n",
       "\t 0  &  0 &  0 &  0 & 65 & 69 & 64 & 73 & 64 & 53\\\\\n",
       "\t 0  &  0 &  0 &  0 &  0 & 68 & 63 & 72 & 63 & 52\\\\\n",
       "\t 0  &  0 &  0 &  0 &  0 &  0 & 67 & 76 & 67 & 56\\\\\n",
       "\t 0  &  0 &  0 &  0 &  0 &  0 &  0 & 71 & 62 & 51\\\\\n",
       "\t 0  &  0 &  0 &  0 &  0 &  0 &  0 &  0 & 71 & 60\\\\\n",
       "\t 0  &  0 &  0 &  0 &  0 &  0 &  0 &  0 &  0 & 51\\\\\n",
       "\t 0  &  0 &  0 &  0 &  0 &  0 &  0 &  0 &  0 &  0\\\\\n",
       "\\end{tabular}\n"
      ],
      "text/markdown": [
       "\n",
       "| 0  | 60 | 50 | 51 | 50 | 54 | 49 | 58 | 49 | 38 | \n",
       "| 0  |  0 | 74 | 75 | 74 | 78 | 73 | 82 | 73 | 62 | \n",
       "| 0  |  0 |  0 | 65 | 64 | 68 | 63 | 72 | 63 | 52 | \n",
       "| 0  |  0 |  0 |  0 | 65 | 69 | 64 | 73 | 64 | 53 | \n",
       "| 0  |  0 |  0 |  0 |  0 | 68 | 63 | 72 | 63 | 52 | \n",
       "| 0  |  0 |  0 |  0 |  0 |  0 | 67 | 76 | 67 | 56 | \n",
       "| 0  |  0 |  0 |  0 |  0 |  0 |  0 | 71 | 62 | 51 | \n",
       "| 0  |  0 |  0 |  0 |  0 |  0 |  0 |  0 | 71 | 60 | \n",
       "| 0  |  0 |  0 |  0 |  0 |  0 |  0 |  0 |  0 | 51 | \n",
       "| 0  |  0 |  0 |  0 |  0 |  0 |  0 |  0 |  0 |  0 | \n",
       "\n",
       "\n"
      ],
      "text/plain": [
       "      [,1] [,2] [,3] [,4] [,5] [,6] [,7] [,8] [,9] [,10]\n",
       " [1,] 0    60   50   51   50   54   49   58   49   38   \n",
       " [2,] 0     0   74   75   74   78   73   82   73   62   \n",
       " [3,] 0     0    0   65   64   68   63   72   63   52   \n",
       " [4,] 0     0    0    0   65   69   64   73   64   53   \n",
       " [5,] 0     0    0    0    0   68   63   72   63   52   \n",
       " [6,] 0     0    0    0    0    0   67   76   67   56   \n",
       " [7,] 0     0    0    0    0    0    0   71   62   51   \n",
       " [8,] 0     0    0    0    0    0    0    0   71   60   \n",
       " [9,] 0     0    0    0    0    0    0    0    0   51   \n",
       "[10,] 0     0    0    0    0    0    0    0    0    0   "
      ]
     },
     "metadata": {},
     "output_type": "display_data"
    },
    {
     "name": "stderr",
     "output_type": "stream",
     "text": [
      "Pares de columnas que cumplen la condición:\n"
     ]
    },
    {
     "data": {
      "text/html": [
       "<table>\n",
       "<thead><tr><th scope=col>row</th><th scope=col>col</th></tr></thead>\n",
       "<tbody>\n",
       "\t<tr><td>2</td><td>6</td></tr>\n",
       "\t<tr><td>2</td><td>8</td></tr>\n",
       "\t<tr><td>6</td><td>8</td></tr>\n",
       "</tbody>\n",
       "</table>\n"
      ],
      "text/latex": [
       "\\begin{tabular}{ll}\n",
       " row & col\\\\\n",
       "\\hline\n",
       "\t 2 & 6\\\\\n",
       "\t 2 & 8\\\\\n",
       "\t 6 & 8\\\\\n",
       "\\end{tabular}\n"
      ],
      "text/markdown": [
       "\n",
       "row | col | \n",
       "|---|---|---|\n",
       "| 2 | 6 | \n",
       "| 2 | 8 | \n",
       "| 6 | 8 | \n",
       "\n",
       "\n"
      ],
      "text/plain": [
       "     row col\n",
       "[1,] 2   6  \n",
       "[2,] 2   8  \n",
       "[3,] 6   8  "
      ]
     },
     "metadata": {},
     "output_type": "display_data"
    }
   ],
   "source": [
    "message(\"Consideramos solo los elementos que esten sobre la diagonal principal:\")\n",
    "matSumxColum[lower.tri(matSumxColum,diag = TRUE)] <- 0\n",
    "matSumxColum\n",
    "\n",
    "message(\"Pares de columnas que cumplen la condición:\")\n",
    "which(matSumxColum > 75, arr.ind = TRUE)"
   ]
  }
 ],
 "metadata": {
  "kernelspec": {
   "display_name": "R",
   "language": "R",
   "name": "ir"
  },
  "language_info": {
   "codemirror_mode": "r",
   "file_extension": ".r",
   "mimetype": "text/x-r-source",
   "name": "R",
   "pygments_lexer": "r",
   "version": "3.3.2"
  }
 },
 "nbformat": 4,
 "nbformat_minor": 2
}
