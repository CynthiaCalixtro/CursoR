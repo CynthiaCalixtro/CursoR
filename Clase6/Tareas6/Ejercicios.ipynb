{
 "cells": [
  {
   "cell_type": "markdown",
   "metadata": {},
   "source": [
    "# Ejercicios\n",
    "\n",
    "1.¿Qué ocurre cuando a un factor le modificas los niveles (levels)?\n",
    "\n",
    "```\n",
    "f1 <- factor(letters)\n",
    "levels(f1) <- rev(levels(f1))\n",
    "```\n",
    "\n",
    "**Rpta.** El modificar los niveles hace que la forma de presentarse el resumen varie. En este caso, se ha invertido en orden de los niveles. Comprobemos esto:"
   ]
  },
  {
   "cell_type": "code",
   "execution_count": 1,
   "metadata": {
    "collapsed": false
   },
   "outputs": [
    {
     "name": "stderr",
     "output_type": "stream",
     "text": [
      "Factor f1: \n"
     ]
    },
    {
     "data": {
      "text/html": [
       "<ol class=list-inline>\n",
       "\t<li>a</li>\n",
       "\t<li>b</li>\n",
       "\t<li>c</li>\n",
       "\t<li>d</li>\n",
       "\t<li>e</li>\n",
       "\t<li>f</li>\n",
       "\t<li>g</li>\n",
       "\t<li>h</li>\n",
       "\t<li>i</li>\n",
       "\t<li>j</li>\n",
       "\t<li>k</li>\n",
       "\t<li>l</li>\n",
       "\t<li>m</li>\n",
       "\t<li>n</li>\n",
       "\t<li>o</li>\n",
       "\t<li>p</li>\n",
       "\t<li>q</li>\n",
       "\t<li>r</li>\n",
       "\t<li>s</li>\n",
       "\t<li>t</li>\n",
       "\t<li>u</li>\n",
       "\t<li>v</li>\n",
       "\t<li>w</li>\n",
       "\t<li>x</li>\n",
       "\t<li>y</li>\n",
       "\t<li>z</li>\n",
       "</ol>\n"
      ],
      "text/latex": [
       "\\begin{enumerate*}\n",
       "\\item a\n",
       "\\item b\n",
       "\\item c\n",
       "\\item d\n",
       "\\item e\n",
       "\\item f\n",
       "\\item g\n",
       "\\item h\n",
       "\\item i\n",
       "\\item j\n",
       "\\item k\n",
       "\\item l\n",
       "\\item m\n",
       "\\item n\n",
       "\\item o\n",
       "\\item p\n",
       "\\item q\n",
       "\\item r\n",
       "\\item s\n",
       "\\item t\n",
       "\\item u\n",
       "\\item v\n",
       "\\item w\n",
       "\\item x\n",
       "\\item y\n",
       "\\item z\n",
       "\\end{enumerate*}\n"
      ],
      "text/markdown": [
       "1. a\n",
       "2. b\n",
       "3. c\n",
       "4. d\n",
       "5. e\n",
       "6. f\n",
       "7. g\n",
       "8. h\n",
       "9. i\n",
       "10. j\n",
       "11. k\n",
       "12. l\n",
       "13. m\n",
       "14. n\n",
       "15. o\n",
       "16. p\n",
       "17. q\n",
       "18. r\n",
       "19. s\n",
       "20. t\n",
       "21. u\n",
       "22. v\n",
       "23. w\n",
       "24. x\n",
       "25. y\n",
       "26. z\n",
       "\n",
       "\n"
      ],
      "text/plain": [
       " [1] a b c d e f g h i j k l m n o p q r s t u v w x y z\n",
       "Levels: a b c d e f g h i j k l m n o p q r s t u v w x y z"
      ]
     },
     "metadata": {},
     "output_type": "display_data"
    },
    {
     "name": "stderr",
     "output_type": "stream",
     "text": [
      "Niveles:\n"
     ]
    },
    {
     "data": {
      "text/html": [
       "<ol class=list-inline>\n",
       "\t<li>'a'</li>\n",
       "\t<li>'b'</li>\n",
       "\t<li>'c'</li>\n",
       "\t<li>'d'</li>\n",
       "\t<li>'e'</li>\n",
       "\t<li>'f'</li>\n",
       "\t<li>'g'</li>\n",
       "\t<li>'h'</li>\n",
       "\t<li>'i'</li>\n",
       "\t<li>'j'</li>\n",
       "\t<li>'k'</li>\n",
       "\t<li>'l'</li>\n",
       "\t<li>'m'</li>\n",
       "\t<li>'n'</li>\n",
       "\t<li>'o'</li>\n",
       "\t<li>'p'</li>\n",
       "\t<li>'q'</li>\n",
       "\t<li>'r'</li>\n",
       "\t<li>'s'</li>\n",
       "\t<li>'t'</li>\n",
       "\t<li>'u'</li>\n",
       "\t<li>'v'</li>\n",
       "\t<li>'w'</li>\n",
       "\t<li>'x'</li>\n",
       "\t<li>'y'</li>\n",
       "\t<li>'z'</li>\n",
       "</ol>\n"
      ],
      "text/latex": [
       "\\begin{enumerate*}\n",
       "\\item 'a'\n",
       "\\item 'b'\n",
       "\\item 'c'\n",
       "\\item 'd'\n",
       "\\item 'e'\n",
       "\\item 'f'\n",
       "\\item 'g'\n",
       "\\item 'h'\n",
       "\\item 'i'\n",
       "\\item 'j'\n",
       "\\item 'k'\n",
       "\\item 'l'\n",
       "\\item 'm'\n",
       "\\item 'n'\n",
       "\\item 'o'\n",
       "\\item 'p'\n",
       "\\item 'q'\n",
       "\\item 'r'\n",
       "\\item 's'\n",
       "\\item 't'\n",
       "\\item 'u'\n",
       "\\item 'v'\n",
       "\\item 'w'\n",
       "\\item 'x'\n",
       "\\item 'y'\n",
       "\\item 'z'\n",
       "\\end{enumerate*}\n"
      ],
      "text/markdown": [
       "1. 'a'\n",
       "2. 'b'\n",
       "3. 'c'\n",
       "4. 'd'\n",
       "5. 'e'\n",
       "6. 'f'\n",
       "7. 'g'\n",
       "8. 'h'\n",
       "9. 'i'\n",
       "10. 'j'\n",
       "11. 'k'\n",
       "12. 'l'\n",
       "13. 'm'\n",
       "14. 'n'\n",
       "15. 'o'\n",
       "16. 'p'\n",
       "17. 'q'\n",
       "18. 'r'\n",
       "19. 's'\n",
       "20. 't'\n",
       "21. 'u'\n",
       "22. 'v'\n",
       "23. 'w'\n",
       "24. 'x'\n",
       "25. 'y'\n",
       "26. 'z'\n",
       "\n",
       "\n"
      ],
      "text/plain": [
       " [1] \"a\" \"b\" \"c\" \"d\" \"e\" \"f\" \"g\" \"h\" \"i\" \"j\" \"k\" \"l\" \"m\" \"n\" \"o\" \"p\" \"q\" \"r\" \"s\"\n",
       "[20] \"t\" \"u\" \"v\" \"w\" \"x\" \"y\" \"z\""
      ]
     },
     "metadata": {},
     "output_type": "display_data"
    },
    {
     "name": "stderr",
     "output_type": "stream",
     "text": [
      "Resumen:\n"
     ]
    },
    {
     "data": {
      "text/html": [
       "<dl class=dl-horizontal>\n",
       "\t<dt>a</dt>\n",
       "\t\t<dd>1</dd>\n",
       "\t<dt>b</dt>\n",
       "\t\t<dd>1</dd>\n",
       "\t<dt>c</dt>\n",
       "\t\t<dd>1</dd>\n",
       "\t<dt>d</dt>\n",
       "\t\t<dd>1</dd>\n",
       "\t<dt>e</dt>\n",
       "\t\t<dd>1</dd>\n",
       "\t<dt>f</dt>\n",
       "\t\t<dd>1</dd>\n",
       "\t<dt>g</dt>\n",
       "\t\t<dd>1</dd>\n",
       "\t<dt>h</dt>\n",
       "\t\t<dd>1</dd>\n",
       "\t<dt>i</dt>\n",
       "\t\t<dd>1</dd>\n",
       "\t<dt>j</dt>\n",
       "\t\t<dd>1</dd>\n",
       "\t<dt>k</dt>\n",
       "\t\t<dd>1</dd>\n",
       "\t<dt>l</dt>\n",
       "\t\t<dd>1</dd>\n",
       "\t<dt>m</dt>\n",
       "\t\t<dd>1</dd>\n",
       "\t<dt>n</dt>\n",
       "\t\t<dd>1</dd>\n",
       "\t<dt>o</dt>\n",
       "\t\t<dd>1</dd>\n",
       "\t<dt>p</dt>\n",
       "\t\t<dd>1</dd>\n",
       "\t<dt>q</dt>\n",
       "\t\t<dd>1</dd>\n",
       "\t<dt>r</dt>\n",
       "\t\t<dd>1</dd>\n",
       "\t<dt>s</dt>\n",
       "\t\t<dd>1</dd>\n",
       "\t<dt>t</dt>\n",
       "\t\t<dd>1</dd>\n",
       "\t<dt>u</dt>\n",
       "\t\t<dd>1</dd>\n",
       "\t<dt>v</dt>\n",
       "\t\t<dd>1</dd>\n",
       "\t<dt>w</dt>\n",
       "\t\t<dd>1</dd>\n",
       "\t<dt>x</dt>\n",
       "\t\t<dd>1</dd>\n",
       "\t<dt>y</dt>\n",
       "\t\t<dd>1</dd>\n",
       "\t<dt>z</dt>\n",
       "\t\t<dd>1</dd>\n",
       "</dl>\n"
      ],
      "text/latex": [
       "\\begin{description*}\n",
       "\\item[a] 1\n",
       "\\item[b] 1\n",
       "\\item[c] 1\n",
       "\\item[d] 1\n",
       "\\item[e] 1\n",
       "\\item[f] 1\n",
       "\\item[g] 1\n",
       "\\item[h] 1\n",
       "\\item[i] 1\n",
       "\\item[j] 1\n",
       "\\item[k] 1\n",
       "\\item[l] 1\n",
       "\\item[m] 1\n",
       "\\item[n] 1\n",
       "\\item[o] 1\n",
       "\\item[p] 1\n",
       "\\item[q] 1\n",
       "\\item[r] 1\n",
       "\\item[s] 1\n",
       "\\item[t] 1\n",
       "\\item[u] 1\n",
       "\\item[v] 1\n",
       "\\item[w] 1\n",
       "\\item[x] 1\n",
       "\\item[y] 1\n",
       "\\item[z] 1\n",
       "\\end{description*}\n"
      ],
      "text/markdown": [
       "a\n",
       ":   1b\n",
       ":   1c\n",
       ":   1d\n",
       ":   1e\n",
       ":   1f\n",
       ":   1g\n",
       ":   1h\n",
       ":   1i\n",
       ":   1j\n",
       ":   1k\n",
       ":   1l\n",
       ":   1m\n",
       ":   1n\n",
       ":   1o\n",
       ":   1p\n",
       ":   1q\n",
       ":   1r\n",
       ":   1s\n",
       ":   1t\n",
       ":   1u\n",
       ":   1v\n",
       ":   1w\n",
       ":   1x\n",
       ":   1y\n",
       ":   1z\n",
       ":   1\n",
       "\n"
      ],
      "text/plain": [
       "a b c d e f g h i j k l m n o p q r s t u v w x y z \n",
       "1 1 1 1 1 1 1 1 1 1 1 1 1 1 1 1 1 1 1 1 1 1 1 1 1 1 "
      ]
     },
     "metadata": {},
     "output_type": "display_data"
    }
   ],
   "source": [
    "message(\"Factor f1: \")\n",
    "f1 <- factor(letters)\n",
    "f1\n",
    "\n",
    "message(\"Niveles:\")\n",
    "levels(f1)\n",
    "\n",
    "message(\"Resumen:\")\n",
    "summary(f1)"
   ]
  },
  {
   "cell_type": "code",
   "execution_count": 2,
   "metadata": {
    "collapsed": false
   },
   "outputs": [
    {
     "name": "stderr",
     "output_type": "stream",
     "text": [
      "f1 después de la inversión:\n"
     ]
    },
    {
     "data": {
      "text/html": [
       "<ol class=list-inline>\n",
       "\t<li>z</li>\n",
       "\t<li>y</li>\n",
       "\t<li>x</li>\n",
       "\t<li>w</li>\n",
       "\t<li>v</li>\n",
       "\t<li>u</li>\n",
       "\t<li>t</li>\n",
       "\t<li>s</li>\n",
       "\t<li>r</li>\n",
       "\t<li>q</li>\n",
       "\t<li>p</li>\n",
       "\t<li>o</li>\n",
       "\t<li>n</li>\n",
       "\t<li>m</li>\n",
       "\t<li>l</li>\n",
       "\t<li>k</li>\n",
       "\t<li>j</li>\n",
       "\t<li>i</li>\n",
       "\t<li>h</li>\n",
       "\t<li>g</li>\n",
       "\t<li>f</li>\n",
       "\t<li>e</li>\n",
       "\t<li>d</li>\n",
       "\t<li>c</li>\n",
       "\t<li>b</li>\n",
       "\t<li>a</li>\n",
       "</ol>\n"
      ],
      "text/latex": [
       "\\begin{enumerate*}\n",
       "\\item z\n",
       "\\item y\n",
       "\\item x\n",
       "\\item w\n",
       "\\item v\n",
       "\\item u\n",
       "\\item t\n",
       "\\item s\n",
       "\\item r\n",
       "\\item q\n",
       "\\item p\n",
       "\\item o\n",
       "\\item n\n",
       "\\item m\n",
       "\\item l\n",
       "\\item k\n",
       "\\item j\n",
       "\\item i\n",
       "\\item h\n",
       "\\item g\n",
       "\\item f\n",
       "\\item e\n",
       "\\item d\n",
       "\\item c\n",
       "\\item b\n",
       "\\item a\n",
       "\\end{enumerate*}\n"
      ],
      "text/markdown": [
       "1. z\n",
       "2. y\n",
       "3. x\n",
       "4. w\n",
       "5. v\n",
       "6. u\n",
       "7. t\n",
       "8. s\n",
       "9. r\n",
       "10. q\n",
       "11. p\n",
       "12. o\n",
       "13. n\n",
       "14. m\n",
       "15. l\n",
       "16. k\n",
       "17. j\n",
       "18. i\n",
       "19. h\n",
       "20. g\n",
       "21. f\n",
       "22. e\n",
       "23. d\n",
       "24. c\n",
       "25. b\n",
       "26. a\n",
       "\n",
       "\n"
      ],
      "text/plain": [
       " [1] z y x w v u t s r q p o n m l k j i h g f e d c b a\n",
       "Levels: z y x w v u t s r q p o n m l k j i h g f e d c b a"
      ]
     },
     "metadata": {},
     "output_type": "display_data"
    },
    {
     "name": "stderr",
     "output_type": "stream",
     "text": [
      "Resumen de f1 después de la inversión:\n"
     ]
    },
    {
     "data": {
      "text/html": [
       "<dl class=dl-horizontal>\n",
       "\t<dt>z</dt>\n",
       "\t\t<dd>1</dd>\n",
       "\t<dt>y</dt>\n",
       "\t\t<dd>1</dd>\n",
       "\t<dt>x</dt>\n",
       "\t\t<dd>1</dd>\n",
       "\t<dt>w</dt>\n",
       "\t\t<dd>1</dd>\n",
       "\t<dt>v</dt>\n",
       "\t\t<dd>1</dd>\n",
       "\t<dt>u</dt>\n",
       "\t\t<dd>1</dd>\n",
       "\t<dt>t</dt>\n",
       "\t\t<dd>1</dd>\n",
       "\t<dt>s</dt>\n",
       "\t\t<dd>1</dd>\n",
       "\t<dt>r</dt>\n",
       "\t\t<dd>1</dd>\n",
       "\t<dt>q</dt>\n",
       "\t\t<dd>1</dd>\n",
       "\t<dt>p</dt>\n",
       "\t\t<dd>1</dd>\n",
       "\t<dt>o</dt>\n",
       "\t\t<dd>1</dd>\n",
       "\t<dt>n</dt>\n",
       "\t\t<dd>1</dd>\n",
       "\t<dt>m</dt>\n",
       "\t\t<dd>1</dd>\n",
       "\t<dt>l</dt>\n",
       "\t\t<dd>1</dd>\n",
       "\t<dt>k</dt>\n",
       "\t\t<dd>1</dd>\n",
       "\t<dt>j</dt>\n",
       "\t\t<dd>1</dd>\n",
       "\t<dt>i</dt>\n",
       "\t\t<dd>1</dd>\n",
       "\t<dt>h</dt>\n",
       "\t\t<dd>1</dd>\n",
       "\t<dt>g</dt>\n",
       "\t\t<dd>1</dd>\n",
       "\t<dt>f</dt>\n",
       "\t\t<dd>1</dd>\n",
       "\t<dt>e</dt>\n",
       "\t\t<dd>1</dd>\n",
       "\t<dt>d</dt>\n",
       "\t\t<dd>1</dd>\n",
       "\t<dt>c</dt>\n",
       "\t\t<dd>1</dd>\n",
       "\t<dt>b</dt>\n",
       "\t\t<dd>1</dd>\n",
       "\t<dt>a</dt>\n",
       "\t\t<dd>1</dd>\n",
       "</dl>\n"
      ],
      "text/latex": [
       "\\begin{description*}\n",
       "\\item[z] 1\n",
       "\\item[y] 1\n",
       "\\item[x] 1\n",
       "\\item[w] 1\n",
       "\\item[v] 1\n",
       "\\item[u] 1\n",
       "\\item[t] 1\n",
       "\\item[s] 1\n",
       "\\item[r] 1\n",
       "\\item[q] 1\n",
       "\\item[p] 1\n",
       "\\item[o] 1\n",
       "\\item[n] 1\n",
       "\\item[m] 1\n",
       "\\item[l] 1\n",
       "\\item[k] 1\n",
       "\\item[j] 1\n",
       "\\item[i] 1\n",
       "\\item[h] 1\n",
       "\\item[g] 1\n",
       "\\item[f] 1\n",
       "\\item[e] 1\n",
       "\\item[d] 1\n",
       "\\item[c] 1\n",
       "\\item[b] 1\n",
       "\\item[a] 1\n",
       "\\end{description*}\n"
      ],
      "text/markdown": [
       "z\n",
       ":   1y\n",
       ":   1x\n",
       ":   1w\n",
       ":   1v\n",
       ":   1u\n",
       ":   1t\n",
       ":   1s\n",
       ":   1r\n",
       ":   1q\n",
       ":   1p\n",
       ":   1o\n",
       ":   1n\n",
       ":   1m\n",
       ":   1l\n",
       ":   1k\n",
       ":   1j\n",
       ":   1i\n",
       ":   1h\n",
       ":   1g\n",
       ":   1f\n",
       ":   1e\n",
       ":   1d\n",
       ":   1c\n",
       ":   1b\n",
       ":   1a\n",
       ":   1\n",
       "\n"
      ],
      "text/plain": [
       "z y x w v u t s r q p o n m l k j i h g f e d c b a \n",
       "1 1 1 1 1 1 1 1 1 1 1 1 1 1 1 1 1 1 1 1 1 1 1 1 1 1 "
      ]
     },
     "metadata": {},
     "output_type": "display_data"
    }
   ],
   "source": [
    "# Invertimos los niveles de f1\n",
    "levels(f1) <- rev(levels(f1))\n",
    "\n",
    "message(\"f1 después de la inversión:\")\n",
    "f1\n",
    "\n",
    "message(\"Resumen de f1 después de la inversión:\")\n",
    "summary(f1)"
   ]
  },
  {
   "cell_type": "markdown",
   "metadata": {},
   "source": [
    "2.¿Cómo deberías describir los tres objetos?\n",
    "\n",
    "- `x1 <- array(1:5, c(1,1,5))` \n",
    "\n",
    "**Rpta.** Creamos un array de dimensiones 1x1x5, donde la i-ésima componente de la 3era dimensión es una matriz de orden 1x1 que contiene el i-ésimo elemento del vector 1:5.\n",
    "\n",
    "- `x2 <- array(1:5, c(1,5,1))`\n",
    "\n",
    "**Rpta.** Creamos un array de dimensiones 1x5x1. La única componente de la 3era dimensión es una matrix de 1x5 que contiene los elementos del vector 1:5.\n",
    "\n",
    "- `x3 <- array(1:5, c(5,1,1))`\n",
    "\n",
    "**Rpta.** Creamos un array de dimensiones 5x1x1. La única componente de la 3era dimensión es una matriz de 5x1 que contiene los elementos del vector 1:5."
   ]
  },
  {
   "cell_type": "markdown",
   "metadata": {},
   "source": [
    "3.¿Qué atributos posee un data frame?\n",
    "\n",
    "**Rpta.** Los atributos de un data frame son:\n",
    "\n",
    "- `row.names`: Para dar nombres a las filas le pasamos un vector que contenga dichos nombres. Por defecto es NULL.\n",
    "- `check.rows`: Si es TRUE, se verifica la consistencia de la longitud y los nombres de ls filas. Por defecto es FALSE.\n",
    "- `check.names`: Si es TRUE, verifica que los nombres de las miembros (columnas) del data frame sean válidos y que no estén duplicados. Por defecto es TRUE.\n",
    "- `fix.empty.names`: Indica si los argumentos que son \"sin nombre\" (es decir, no tiene la estructura: nombre = arg) deban obtener un nombre construido automáticamente (el nombre \"\").\n",
    "- `stringsAsFactors`: Especifica si se considerará un vector de caracteres como un factor. Por defecto es TRUE."
   ]
  },
  {
   "cell_type": "markdown",
   "metadata": {},
   "source": [
    "4.¿Qué hace `as.matrix()` cuando se aplica a un data frame con columnas de diferentes tipos?\n",
    "\n",
    "**Rpta.** Veamos el siguiente ejemplo:"
   ]
  },
  {
   "cell_type": "code",
   "execution_count": 3,
   "metadata": {
    "collapsed": false
   },
   "outputs": [
    {
     "name": "stderr",
     "output_type": "stream",
     "text": [
      "Data frame agenda:\n"
     ]
    },
    {
     "data": {
      "text/html": [
       "<table>\n",
       "<thead><tr><th scope=col>nombre</th><th scope=col>edad</th></tr></thead>\n",
       "<tbody>\n",
       "\t<tr><td>Alberto</td><td>61     </td></tr>\n",
       "\t<tr><td>Yeny   </td><td>55     </td></tr>\n",
       "\t<tr><td>Ivonne </td><td>27     </td></tr>\n",
       "\t<tr><td>Mimi   </td><td>61     </td></tr>\n",
       "</tbody>\n",
       "</table>\n"
      ],
      "text/latex": [
       "\\begin{tabular}{r|ll}\n",
       " nombre & edad\\\\\n",
       "\\hline\n",
       "\t Alberto & 61     \\\\\n",
       "\t Yeny    & 55     \\\\\n",
       "\t Ivonne  & 27     \\\\\n",
       "\t Mimi    & 61     \\\\\n",
       "\\end{tabular}\n"
      ],
      "text/markdown": [
       "\n",
       "nombre | edad | \n",
       "|---|---|---|---|\n",
       "| Alberto | 61      | \n",
       "| Yeny    | 55      | \n",
       "| Ivonne  | 27      | \n",
       "| Mimi    | 61      | \n",
       "\n",
       "\n"
      ],
      "text/plain": [
       "  nombre  edad\n",
       "1 Alberto 61  \n",
       "2 Yeny    55  \n",
       "3 Ivonne  27  \n",
       "4 Mimi    61  "
      ]
     },
     "metadata": {},
     "output_type": "display_data"
    },
    {
     "name": "stderr",
     "output_type": "stream",
     "text": [
      "agenda$nombre es factor\n",
      "agenda$edad es numeric\n"
     ]
    }
   ],
   "source": [
    "message(\"Data frame agenda:\")\n",
    "\n",
    "agenda <- data.frame(nombre = c(\"Alberto\",\"Yeny\",\"Ivonne\",\"Mimi\"),\n",
    "                     edad = c(61,55,27,61))\n",
    "agenda\n",
    "\n",
    "message(\"agenda$nombre es \",class(agenda$nombre))\n",
    "message(\"agenda$edad es \",class(agenda$edad))"
   ]
  },
  {
   "cell_type": "code",
   "execution_count": 4,
   "metadata": {
    "collapsed": false
   },
   "outputs": [
    {
     "name": "stderr",
     "output_type": "stream",
     "text": [
      "as.matrix(agenda) es:\n"
     ]
    },
    {
     "data": {
      "text/html": [
       "<table>\n",
       "<thead><tr><th scope=col>nombre</th><th scope=col>edad</th></tr></thead>\n",
       "<tbody>\n",
       "\t<tr><td>Alberto</td><td>61     </td></tr>\n",
       "\t<tr><td>Yeny   </td><td>55     </td></tr>\n",
       "\t<tr><td>Ivonne </td><td>27     </td></tr>\n",
       "\t<tr><td>Mimi   </td><td>61     </td></tr>\n",
       "</tbody>\n",
       "</table>\n"
      ],
      "text/latex": [
       "\\begin{tabular}{ll}\n",
       " nombre & edad\\\\\n",
       "\\hline\n",
       "\t Alberto & 61     \\\\\n",
       "\t Yeny    & 55     \\\\\n",
       "\t Ivonne  & 27     \\\\\n",
       "\t Mimi    & 61     \\\\\n",
       "\\end{tabular}\n"
      ],
      "text/markdown": [
       "\n",
       "nombre | edad | \n",
       "|---|---|---|---|\n",
       "| Alberto | 61      | \n",
       "| Yeny    | 55      | \n",
       "| Ivonne  | 27      | \n",
       "| Mimi    | 61      | \n",
       "\n",
       "\n"
      ],
      "text/plain": [
       "     nombre  edad\n",
       "[1,] Alberto 61  \n",
       "[2,] Yeny    55  \n",
       "[3,] Ivonne  27  \n",
       "[4,] Mimi    61  "
      ]
     },
     "metadata": {},
     "output_type": "display_data"
    },
    {
     "name": "stderr",
     "output_type": "stream",
     "text": [
      "El resultado es data frame: FALSE\n",
      "El resultado es matriz: TRUE\n",
      "agenda$nombre es character\n",
      "agenda$nombre es character\n"
     ]
    }
   ],
   "source": [
    "message(\"as.matrix(agenda) es:\")\n",
    "\n",
    "res <- as.matrix(agenda)\n",
    "res\n",
    "\n",
    "message(\"El resultado es data frame: \",is.data.frame(res))\n",
    "message(\"El resultado es matriz: \",is.matrix(res))\n",
    "\n",
    "message(\"agenda$nombre es \",class(res[,1]))\n",
    "message(\"agenda$nombre es \",class(res[,2]))"
   ]
  },
  {
   "cell_type": "markdown",
   "metadata": {},
   "source": [
    "Vemos que `as.matrix()` convierte un data frame con columnas de diferentes tipos a una matriz con elementos de un tipo común."
   ]
  },
  {
   "cell_type": "markdown",
   "metadata": {},
   "source": [
    "5.¿Puedes tener un data frame con 0 filas? ¿Qué hay de 0 columnas?\n",
    "\n",
    "**Rpta.** Veamos el siguiente ejemplo:"
   ]
  },
  {
   "cell_type": "code",
   "execution_count": 5,
   "metadata": {
    "collapsed": false
   },
   "outputs": [
    {
     "data": {
      "text/html": [],
      "text/latex": [],
      "text/markdown": [],
      "text/plain": [
       "<0 x 0 matrix>"
      ]
     },
     "metadata": {},
     "output_type": "display_data"
    },
    {
     "name": "stderr",
     "output_type": "stream",
     "text": [
      "El número de columnas es 0\n",
      "El número de filas es 0\n"
     ]
    }
   ],
   "source": [
    "df0 <- data.frame(c())\n",
    "df0 \n",
    "\n",
    "message(\"El número de columnas es \",ncol(df0))\n",
    "message(\"El número de filas es \",nrow(df0))"
   ]
  },
  {
   "cell_type": "markdown",
   "metadata": {},
   "source": [
    "6.¿Qué devuelve `dim()` cuando se aplica a un vector?\n",
    "\n",
    "**Rpta.** `dim` es un atributo de matrices y listas, como `x` es un vector, retorna NULL. Comprobemos:"
   ]
  },
  {
   "cell_type": "code",
   "execution_count": 6,
   "metadata": {
    "collapsed": false
   },
   "outputs": [
    {
     "data": {
      "text/plain": [
       "NULL"
      ]
     },
     "metadata": {},
     "output_type": "display_data"
    }
   ],
   "source": [
    "x <- c(35,12,49,10,7,15)\n",
    "dim(x)"
   ]
  },
  {
   "cell_type": "markdown",
   "metadata": {},
   "source": [
    "7.Si `is.matrix(x)`es `TRUE` ¿qué devolverá `is.array(x)`?\n",
    "\n",
    "**Rpta.** Si `is.matrix(x)` es `TRUE` entonces `is.array(x)` también devolverá `TRUE` ya que las matrices son un caso particular de los arrays cuando este solo tiene 2 dimensiones).\n",
    "\n",
    "8.¿Cuál es el funcionamiento de `is.vector()` e `is.numeric()` y explica que tiene de diferente con `is.list()` e `is.character()`?\n",
    "\n",
    "**Rpta.** `is.vector(x`) verifica si el objeto `x` es un vector, si es así devuelve `TRUE`, en caso contrario devuelve `FALSE`.\n",
    "\n",
    "`is.numeric(x)` verifica si el objeto `x` tiene elementos numéricos (enteros, flotantes, ...). Si es así devuelve `TRUE`, en caso contrario devuelve `FALSE`.\n",
    "\n",
    "`is.list(x)` verifica si el objeto `x` es una lista. Si es así devuelve `TRUE`, en caso contrario devuelve `FALSE`.\n",
    "\n",
    "`is.character(x)` verifica si el objeto `x` es de tipo caracter. Si es así devuelve `TRUE`, en caso contrario devuelve `FALSE`."
   ]
  },
  {
   "cell_type": "markdown",
   "metadata": {},
   "source": [
    "9.Responde lo siguiente: \n",
    "\n",
    "- ¿Por qué es `1 = \"1\"` es verdad (`TRUE`)? \n",
    "\n",
    "**Rpta.** Retorna TRUE ya que R, al realizar la comparación, entiende al número 1 como string y termina comparando \"1\" == \"1\".\n",
    "\n",
    "- ¿Por qué `-1 < FALSE` es verdad (`TRUE`)? \n",
    "\n",
    "**Rpta.** Retorna FALSE ya que R, al realizar la comparación, entiende al booleano FALSE como 0 y termina comparando -1 > 0.\n",
    "\n",
    "- ¿Por qué `\"one\" < 2` es falso (`FALSE`)?\n",
    "\n",
    "**Rpta.** Retorna FALSE ya que R, al realizar la comparación, entiende al número 2 como string, y termina comparando \"one\" < \"2\"."
   ]
  },
  {
   "cell_type": "markdown",
   "metadata": {},
   "source": [
    "10.Predice la salida del siguiente código:\n",
    "\n",
    "- `c(1,FALSE)` \n",
    "\n",
    "**Rpta.** La salida es el vector numérico con elementos 1 y 0, ya que R convierte a FALSE en 0 por coerción.\n",
    "\n",
    "- `c(\"a\",1)`\n",
    "\n",
    "**Rpta.** La salida es el vector de caracteres con elementos \"a\" y \"1\", ya que R convierte a 1 en caracter por coerción. \n",
    "\n",
    "- `c(list(1),\"a\")`\n",
    "\n",
    "**Rpta.** La salida es el vector que contiene 2 listas como elementos, ya que R convierte al caracter \"a\" en una lista.\n",
    "\n",
    "- `c(TRUE,1L)` \n",
    "\n",
    "**Rpta.** La salida es el vector que contiene 2 enteros (1L y 1L) como elementos, ya que R convierte a `TRUE` en 1L por coerción."
   ]
  }
 ],
 "metadata": {
  "kernelspec": {
   "display_name": "R",
   "language": "R",
   "name": "ir"
  },
  "language_info": {
   "codemirror_mode": "r",
   "file_extension": ".r",
   "mimetype": "text/x-r-source",
   "name": "R",
   "pygments_lexer": "r",
   "version": "3.3.2"
  }
 },
 "nbformat": 4,
 "nbformat_minor": 2
}
