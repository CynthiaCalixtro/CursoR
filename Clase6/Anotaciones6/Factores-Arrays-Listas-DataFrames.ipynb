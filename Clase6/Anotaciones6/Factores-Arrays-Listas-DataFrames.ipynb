{
 "cells": [
  {
   "cell_type": "markdown",
   "metadata": {},
   "source": [
    "# Laboratorio 6"
   ]
  },
  {
   "cell_type": "markdown",
   "metadata": {},
   "source": [
    "## 1. Factores\n",
    "\n",
    "Son vectores con valores **categóricos**. Los elementos de un factor deben considerarse **categorías o clases**. \n",
    "\n",
    "Por lo general, un factor se construye dando una **lista de cadenas**. La cual **se traduce en diferentes categorías**. Así, el factor se convierte en un vector de estas categorías."
   ]
  },
  {
   "cell_type": "code",
   "execution_count": 1,
   "metadata": {
    "collapsed": false
   },
   "outputs": [
    {
     "data": {
      "text/html": [
       "<ol class=list-inline>\n",
       "\t<li>chico</li>\n",
       "\t<li>chico</li>\n",
       "\t<li>medio</li>\n",
       "\t<li>grande</li>\n",
       "\t<li>chico</li>\n",
       "\t<li>grande</li>\n",
       "</ol>\n"
      ],
      "text/latex": [
       "\\begin{enumerate*}\n",
       "\\item chico\n",
       "\\item chico\n",
       "\\item medio\n",
       "\\item grande\n",
       "\\item chico\n",
       "\\item grande\n",
       "\\end{enumerate*}\n"
      ],
      "text/markdown": [
       "1. chico\n",
       "2. chico\n",
       "3. medio\n",
       "4. grande\n",
       "5. chico\n",
       "6. grande\n",
       "\n",
       "\n"
      ],
      "text/plain": [
       "[1] chico  chico  medio  grande chico  grande\n",
       "Levels: chico grande medio"
      ]
     },
     "metadata": {},
     "output_type": "display_data"
    }
   ],
   "source": [
    "#Creando el factor f\n",
    "\n",
    "# cada valor en el vector esta restringida a ser \"chico\", \"grande\" o \"medio\"\n",
    "lisCad <- c(\"chico\",\"chico\",\"medio\",\"grande\",\"chico\",\"grande\")\n",
    "f <- factor (lisCad)\n",
    "f"
   ]
  },
  {
   "cell_type": "markdown",
   "metadata": {},
   "source": [
    "Las categorías son llamadas niveles (**levels**, en inglés)."
   ]
  },
  {
   "cell_type": "code",
   "execution_count": 2,
   "metadata": {
    "collapsed": false
   },
   "outputs": [
    {
     "data": {
      "text/html": [
       "<ol class=list-inline>\n",
       "\t<li>'chico'</li>\n",
       "\t<li>'grande'</li>\n",
       "\t<li>'medio'</li>\n",
       "</ol>\n"
      ],
      "text/latex": [
       "\\begin{enumerate*}\n",
       "\\item 'chico'\n",
       "\\item 'grande'\n",
       "\\item 'medio'\n",
       "\\end{enumerate*}\n"
      ],
      "text/markdown": [
       "1. 'chico'\n",
       "2. 'grande'\n",
       "3. 'medio'\n",
       "\n",
       "\n"
      ],
      "text/plain": [
       "[1] \"chico\"  \"grande\" \"medio\" "
      ]
     },
     "metadata": {},
     "output_type": "display_data"
    }
   ],
   "source": [
    "levels(f) #por defecto, en orden alfabetico"
   ]
  },
  {
   "cell_type": "markdown",
   "metadata": {},
   "source": [
    "Podemos establecer **nuestro propio orden para los levels**."
   ]
  },
  {
   "cell_type": "code",
   "execution_count": 3,
   "metadata": {
    "collapsed": false
   },
   "outputs": [
    {
     "data": {
      "text/html": [
       "<ol class=list-inline>\n",
       "\t<li>chico</li>\n",
       "\t<li>chico</li>\n",
       "\t<li>medio</li>\n",
       "\t<li>grande</li>\n",
       "\t<li>chico</li>\n",
       "\t<li>grande</li>\n",
       "</ol>\n"
      ],
      "text/latex": [
       "\\begin{enumerate*}\n",
       "\\item chico\n",
       "\\item chico\n",
       "\\item medio\n",
       "\\item grande\n",
       "\\item chico\n",
       "\\item grande\n",
       "\\end{enumerate*}\n"
      ],
      "text/markdown": [
       "1. chico\n",
       "2. chico\n",
       "3. medio\n",
       "4. grande\n",
       "5. chico\n",
       "6. grande\n",
       "\n",
       "\n"
      ],
      "text/plain": [
       "[1] chico  chico  medio  grande chico  grande\n",
       "Levels: chico medio grande"
      ]
     },
     "metadata": {},
     "output_type": "display_data"
    },
    {
     "data": {
      "text/html": [
       "<ol class=list-inline>\n",
       "\t<li>chico</li>\n",
       "\t<li>chico</li>\n",
       "\t<li>medio</li>\n",
       "\t<li>grande</li>\n",
       "\t<li>chico</li>\n",
       "\t<li>grande</li>\n",
       "</ol>\n"
      ],
      "text/latex": [
       "\\begin{enumerate*}\n",
       "\\item chico\n",
       "\\item chico\n",
       "\\item medio\n",
       "\\item grande\n",
       "\\item chico\n",
       "\\item grande\n",
       "\\end{enumerate*}\n"
      ],
      "text/markdown": [
       "1. chico\n",
       "2. chico\n",
       "3. medio\n",
       "4. grande\n",
       "5. chico\n",
       "6. grande\n",
       "\n",
       "\n"
      ],
      "text/plain": [
       "[1] chico  chico  medio  grande chico  grande\n",
       "Levels: chico medio grande"
      ]
     },
     "metadata": {},
     "output_type": "display_data"
    }
   ],
   "source": [
    "# a partir del mismo vector lisCad\n",
    "ff <- factor(lisCad, levels = c(\"chico\",\"medio\",\"grande\"))\n",
    "ff\n",
    "\n",
    "# o a partir del factor f\n",
    "ff2 <- factor(f,levels = c(\"chico\",\"medio\",\"grande\"))\n",
    "ff2"
   ]
  },
  {
   "cell_type": "code",
   "execution_count": 4,
   "metadata": {
    "collapsed": false
   },
   "outputs": [
    {
     "data": {
      "text/html": [
       "<ol class=list-inline>\n",
       "\t<li>'chico'</li>\n",
       "\t<li>'medio'</li>\n",
       "\t<li>'grande'</li>\n",
       "</ol>\n"
      ],
      "text/latex": [
       "\\begin{enumerate*}\n",
       "\\item 'chico'\n",
       "\\item 'medio'\n",
       "\\item 'grande'\n",
       "\\end{enumerate*}\n"
      ],
      "text/markdown": [
       "1. 'chico'\n",
       "2. 'medio'\n",
       "3. 'grande'\n",
       "\n",
       "\n"
      ],
      "text/plain": [
       "[1] \"chico\"  \"medio\"  \"grande\""
      ]
     },
     "metadata": {},
     "output_type": "display_data"
    },
    {
     "data": {
      "text/html": [
       "<ol class=list-inline>\n",
       "\t<li>'chico'</li>\n",
       "\t<li>'medio'</li>\n",
       "\t<li>'grande'</li>\n",
       "</ol>\n"
      ],
      "text/latex": [
       "\\begin{enumerate*}\n",
       "\\item 'chico'\n",
       "\\item 'medio'\n",
       "\\item 'grande'\n",
       "\\end{enumerate*}\n"
      ],
      "text/markdown": [
       "1. 'chico'\n",
       "2. 'medio'\n",
       "3. 'grande'\n",
       "\n",
       "\n"
      ],
      "text/plain": [
       "[1] \"chico\"  \"medio\"  \"grande\""
      ]
     },
     "metadata": {},
     "output_type": "display_data"
    }
   ],
   "source": [
    "# Los levels se muestran segun el orden que establecimos\n",
    "\n",
    "levels(ff) \n",
    "levels(ff2)"
   ]
  },
  {
   "cell_type": "markdown",
   "metadata": {},
   "source": [
    "El orden de los niveles de los factores afecta principalmente **cómo se imprime la información resumida y cómo se muestran los factores**."
   ]
  },
  {
   "cell_type": "code",
   "execution_count": 5,
   "metadata": {
    "collapsed": false
   },
   "outputs": [
    {
     "data": {
      "text/html": [
       "<dl class=dl-horizontal>\n",
       "\t<dt>chico</dt>\n",
       "\t\t<dd>3</dd>\n",
       "\t<dt>grande</dt>\n",
       "\t\t<dd>2</dd>\n",
       "\t<dt>medio</dt>\n",
       "\t\t<dd>1</dd>\n",
       "</dl>\n"
      ],
      "text/latex": [
       "\\begin{description*}\n",
       "\\item[chico] 3\n",
       "\\item[grande] 2\n",
       "\\item[medio] 1\n",
       "\\end{description*}\n"
      ],
      "text/markdown": [
       "chico\n",
       ":   3grande\n",
       ":   2medio\n",
       ":   1\n",
       "\n"
      ],
      "text/plain": [
       " chico grande  medio \n",
       "     3      2      1 "
      ]
     },
     "metadata": {},
     "output_type": "display_data"
    },
    {
     "data": {
      "text/html": [
       "<dl class=dl-horizontal>\n",
       "\t<dt>chico</dt>\n",
       "\t\t<dd>3</dd>\n",
       "\t<dt>medio</dt>\n",
       "\t\t<dd>1</dd>\n",
       "\t<dt>grande</dt>\n",
       "\t\t<dd>2</dd>\n",
       "</dl>\n"
      ],
      "text/latex": [
       "\\begin{description*}\n",
       "\\item[chico] 3\n",
       "\\item[medio] 1\n",
       "\\item[grande] 2\n",
       "\\end{description*}\n"
      ],
      "text/markdown": [
       "chico\n",
       ":   3medio\n",
       ":   1grande\n",
       ":   2\n",
       "\n"
      ],
      "text/plain": [
       " chico  medio grande \n",
       "     3      1      2 "
      ]
     },
     "metadata": {},
     "output_type": "display_data"
    }
   ],
   "source": [
    "summary(f)\n",
    "summary(ff)"
   ]
  },
  {
   "cell_type": "markdown",
   "metadata": {},
   "source": [
    "**Por defecto, los factores no tratan a los niveles como ordenados**. Si se desea especificar que los niveles están ordenados, deberemos hacer **ordered = TRUE** o **pasar los datos del factor a ordenar junto a sus levels ya ordenados a la función ordered()**."
   ]
  },
  {
   "cell_type": "code",
   "execution_count": 6,
   "metadata": {
    "collapsed": false
   },
   "outputs": [
    {
     "data": {
      "text/html": [
       "<ol class=list-inline>\n",
       "\t<li>chico</li>\n",
       "\t<li>chico</li>\n",
       "\t<li>medio</li>\n",
       "\t<li>grande</li>\n",
       "\t<li>chico</li>\n",
       "\t<li>grande</li>\n",
       "</ol>\n"
      ],
      "text/latex": [
       "\\begin{enumerate*}\n",
       "\\item chico\n",
       "\\item chico\n",
       "\\item medio\n",
       "\\item grande\n",
       "\\item chico\n",
       "\\item grande\n",
       "\\end{enumerate*}\n"
      ],
      "text/markdown": [
       "1. chico\n",
       "2. chico\n",
       "3. medio\n",
       "4. grande\n",
       "5. chico\n",
       "6. grande\n",
       "\n",
       "\n"
      ],
      "text/plain": [
       "[1] chico  chico  medio  grande chico  grande\n",
       "Levels: chico < medio < grande"
      ]
     },
     "metadata": {},
     "output_type": "display_data"
    }
   ],
   "source": [
    "of <- factor(lisCad, \n",
    "             levels = c(\"chico\",\"medio\",\"grande\"),\n",
    "             ordered = TRUE)\n",
    "of # Levels: chico < medio < grande"
   ]
  },
  {
   "cell_type": "code",
   "execution_count": 7,
   "metadata": {
    "collapsed": false
   },
   "outputs": [
    {
     "data": {
      "text/html": [
       "<ol class=list-inline>\n",
       "\t<li>chico</li>\n",
       "\t<li>chico</li>\n",
       "\t<li>medio</li>\n",
       "\t<li>grande</li>\n",
       "\t<li>chico</li>\n",
       "\t<li>grande</li>\n",
       "</ol>\n"
      ],
      "text/latex": [
       "\\begin{enumerate*}\n",
       "\\item chico\n",
       "\\item chico\n",
       "\\item medio\n",
       "\\item grande\n",
       "\\item chico\n",
       "\\item grande\n",
       "\\end{enumerate*}\n"
      ],
      "text/markdown": [
       "1. chico\n",
       "2. chico\n",
       "3. medio\n",
       "4. grande\n",
       "5. chico\n",
       "6. grande\n",
       "\n",
       "\n"
      ],
      "text/plain": [
       "[1] chico  chico  medio  grande chico  grande\n",
       "Levels: chico < medio < grande"
      ]
     },
     "metadata": {},
     "output_type": "display_data"
    },
    {
     "data": {
      "text/html": [
       "TRUE"
      ],
      "text/latex": [
       "TRUE"
      ],
      "text/markdown": [
       "TRUE"
      ],
      "text/plain": [
       "[1] TRUE"
      ]
     },
     "metadata": {},
     "output_type": "display_data"
    },
    {
     "data": {
      "text/html": [
       "TRUE"
      ],
      "text/latex": [
       "TRUE"
      ],
      "text/markdown": [
       "TRUE"
      ],
      "text/plain": [
       "[1] TRUE"
      ]
     },
     "metadata": {},
     "output_type": "display_data"
    }
   ],
   "source": [
    "of2 <- ordered(lisCad, levels = c(\"chico\",\"medio\",\"grande\"))\n",
    "of2\n",
    "\n",
    "is.factor(of2)\n",
    "is.ordered(of2)"
   ]
  },
  {
   "cell_type": "markdown",
   "metadata": {},
   "source": [
    "Un **factor se almacena como un vector de enteros, donde los enteros son índices en los niveles**.\n",
    "\n",
    "Para ver **cuántos levels tiene nuestro factor** usamos **nlevels()**."
   ]
  },
  {
   "cell_type": "code",
   "execution_count": 8,
   "metadata": {
    "collapsed": false
   },
   "outputs": [
    {
     "data": {
      "text/html": [
       "3"
      ],
      "text/latex": [
       "3"
      ],
      "text/markdown": [
       "3"
      ],
      "text/plain": [
       "[1] 3"
      ]
     },
     "metadata": {},
     "output_type": "display_data"
    }
   ],
   "source": [
    "nlevels(of2)"
   ]
  },
  {
   "cell_type": "markdown",
   "metadata": {},
   "source": [
    "### 1.1. Ejemplo 1"
   ]
  },
  {
   "cell_type": "code",
   "execution_count": 9,
   "metadata": {
    "collapsed": false
   },
   "outputs": [
    {
     "data": {
      "text/html": [
       "<ol class=list-inline>\n",
       "\t<li>1</li>\n",
       "\t<li>2</li>\n",
       "\t<li>3</li>\n",
       "\t<li>1</li>\n",
       "\t<li>2</li>\n",
       "\t<li>1</li>\n",
       "\t<li>1</li>\n",
       "\t<li>3</li>\n",
       "\t<li>2</li>\n",
       "</ol>\n"
      ],
      "text/latex": [
       "\\begin{enumerate*}\n",
       "\\item 1\n",
       "\\item 2\n",
       "\\item 3\n",
       "\\item 1\n",
       "\\item 2\n",
       "\\item 1\n",
       "\\item 1\n",
       "\\item 3\n",
       "\\item 2\n",
       "\\end{enumerate*}\n"
      ],
      "text/markdown": [
       "1. 1\n",
       "2. 2\n",
       "3. 3\n",
       "4. 1\n",
       "5. 2\n",
       "6. 1\n",
       "7. 1\n",
       "8. 3\n",
       "9. 2\n",
       "\n",
       "\n"
      ],
      "text/plain": [
       "[1] 1 2 3 1 2 1 1 3 2\n",
       "Levels: 1 2 3"
      ]
     },
     "metadata": {},
     "output_type": "display_data"
    }
   ],
   "source": [
    "mi_f <- as.factor(c(1,2,3,1,2,1,1,3,2)) #Factor con 3 categorias\n",
    "mi_f"
   ]
  },
  {
   "cell_type": "code",
   "execution_count": 10,
   "metadata": {
    "collapsed": false
   },
   "outputs": [
    {
     "data": {
      "text/html": [
       "<ol class=list-inline>\n",
       "\t<li>Bajo</li>\n",
       "\t<li>Medio</li>\n",
       "\t<li>Alto</li>\n",
       "\t<li>Bajo</li>\n",
       "\t<li>Medio</li>\n",
       "\t<li>Bajo</li>\n",
       "\t<li>Bajo</li>\n",
       "\t<li>Alto</li>\n",
       "\t<li>Medio</li>\n",
       "</ol>\n"
      ],
      "text/latex": [
       "\\begin{enumerate*}\n",
       "\\item Bajo\n",
       "\\item Medio\n",
       "\\item Alto\n",
       "\\item Bajo\n",
       "\\item Medio\n",
       "\\item Bajo\n",
       "\\item Bajo\n",
       "\\item Alto\n",
       "\\item Medio\n",
       "\\end{enumerate*}\n"
      ],
      "text/markdown": [
       "1. Bajo\n",
       "2. Medio\n",
       "3. Alto\n",
       "4. Bajo\n",
       "5. Medio\n",
       "6. Bajo\n",
       "7. Bajo\n",
       "8. Alto\n",
       "9. Medio\n",
       "\n",
       "\n"
      ],
      "text/plain": [
       "[1] Bajo  Medio Alto  Bajo  Medio Bajo  Bajo  Alto  Medio\n",
       "Levels: Bajo Medio Alto"
      ]
     },
     "metadata": {},
     "output_type": "display_data"
    }
   ],
   "source": [
    "levels(mi_f) <- c(\"Bajo\",\"Medio\",\"Alto\")\n",
    "mi_f"
   ]
  },
  {
   "cell_type": "code",
   "execution_count": 11,
   "metadata": {
    "collapsed": false
   },
   "outputs": [
    {
     "data": {
      "text/html": [
       "<ol class=list-inline>\n",
       "\t<li>Bajo</li>\n",
       "\t<li>Medio</li>\n",
       "\t<li>Alto</li>\n",
       "\t<li>Bajo</li>\n",
       "\t<li>Medio</li>\n",
       "\t<li>Bajo</li>\n",
       "\t<li>Bajo</li>\n",
       "\t<li>Alto</li>\n",
       "\t<li>Medio</li>\n",
       "</ol>\n"
      ],
      "text/latex": [
       "\\begin{enumerate*}\n",
       "\\item Bajo\n",
       "\\item Medio\n",
       "\\item Alto\n",
       "\\item Bajo\n",
       "\\item Medio\n",
       "\\item Bajo\n",
       "\\item Bajo\n",
       "\\item Alto\n",
       "\\item Medio\n",
       "\\end{enumerate*}\n"
      ],
      "text/markdown": [
       "1. Bajo\n",
       "2. Medio\n",
       "3. Alto\n",
       "4. Bajo\n",
       "5. Medio\n",
       "6. Bajo\n",
       "7. Bajo\n",
       "8. Alto\n",
       "9. Medio\n",
       "\n",
       "\n"
      ],
      "text/plain": [
       "[1] Bajo  Medio Alto  Bajo  Medio Bajo  Bajo  Alto  Medio\n",
       "Levels: Bajo < Medio < Alto"
      ]
     },
     "metadata": {},
     "output_type": "display_data"
    }
   ],
   "source": [
    "mi_f_ord <- as.ordered(mi_f) #factor ordenado\n",
    "mi_f_ord"
   ]
  },
  {
   "cell_type": "markdown",
   "metadata": {},
   "source": [
    "### 1.2. Ejemplo 2"
   ]
  },
  {
   "cell_type": "code",
   "execution_count": 12,
   "metadata": {
    "collapsed": false
   },
   "outputs": [
    {
     "name": "stderr",
     "output_type": "stream",
     "text": [
      "Vector:\n"
     ]
    },
    {
     "data": {
      "text/html": [
       "<ol class=list-inline>\n",
       "\t<li>'azul'</li>\n",
       "\t<li>'rojo'</li>\n",
       "\t<li>'azul'</li>\n",
       "\t<li>'rojo'</li>\n",
       "</ol>\n"
      ],
      "text/latex": [
       "\\begin{enumerate*}\n",
       "\\item 'azul'\n",
       "\\item 'rojo'\n",
       "\\item 'azul'\n",
       "\\item 'rojo'\n",
       "\\end{enumerate*}\n"
      ],
      "text/markdown": [
       "1. 'azul'\n",
       "2. 'rojo'\n",
       "3. 'azul'\n",
       "4. 'rojo'\n",
       "\n",
       "\n"
      ],
      "text/plain": [
       "[1] \"azul\" \"rojo\" \"azul\" \"rojo\""
      ]
     },
     "metadata": {},
     "output_type": "display_data"
    },
    {
     "name": "stderr",
     "output_type": "stream",
     "text": [
      "Factor:\n"
     ]
    },
    {
     "data": {
      "text/html": [
       "<ol class=list-inline>\n",
       "\t<li>azul</li>\n",
       "\t<li>rojo</li>\n",
       "\t<li>azul</li>\n",
       "\t<li>rojo</li>\n",
       "</ol>\n"
      ],
      "text/latex": [
       "\\begin{enumerate*}\n",
       "\\item azul\n",
       "\\item rojo\n",
       "\\item azul\n",
       "\\item rojo\n",
       "\\end{enumerate*}\n"
      ],
      "text/markdown": [
       "1. azul\n",
       "2. rojo\n",
       "3. azul\n",
       "4. rojo\n",
       "\n",
       "\n"
      ],
      "text/plain": [
       "[1] azul rojo azul rojo\n",
       "Levels: azul rojo"
      ]
     },
     "metadata": {},
     "output_type": "display_data"
    },
    {
     "data": {
      "text/html": [
       "<ol class=list-inline>\n",
       "\t<li>'azul'</li>\n",
       "\t<li>'rojo'</li>\n",
       "</ol>\n"
      ],
      "text/latex": [
       "\\begin{enumerate*}\n",
       "\\item 'azul'\n",
       "\\item 'rojo'\n",
       "\\end{enumerate*}\n"
      ],
      "text/markdown": [
       "1. 'azul'\n",
       "2. 'rojo'\n",
       "\n",
       "\n"
      ],
      "text/plain": [
       "[1] \"azul\" \"rojo\""
      ]
     },
     "metadata": {},
     "output_type": "display_data"
    }
   ],
   "source": [
    "message(\"Vector:\")\n",
    "grp1 <- c(\"azul\",\"rojo\",\"azul\",\"rojo\")\n",
    "grp1\n",
    "\n",
    "message(\"Factor:\")\n",
    "grp2 <-factor(grp1)\n",
    "grp2\n",
    "levels(grp2)"
   ]
  },
  {
   "cell_type": "markdown",
   "metadata": {},
   "source": [
    "**Los levels de un factor son internamente codificado como enteros**."
   ]
  },
  {
   "cell_type": "code",
   "execution_count": 13,
   "metadata": {
    "collapsed": false
   },
   "outputs": [
    {
     "data": {
      "text/html": [
       "<ol class=list-inline>\n",
       "\t<li>1</li>\n",
       "\t<li>2</li>\n",
       "\t<li>1</li>\n",
       "\t<li>2</li>\n",
       "</ol>\n"
      ],
      "text/latex": [
       "\\begin{enumerate*}\n",
       "\\item 1\n",
       "\\item 2\n",
       "\\item 1\n",
       "\\item 2\n",
       "\\end{enumerate*}\n"
      ],
      "text/markdown": [
       "1. 1\n",
       "2. 2\n",
       "3. 1\n",
       "4. 2\n",
       "\n",
       "\n"
      ],
      "text/plain": [
       "[1] 1 2 1 2"
      ]
     },
     "metadata": {},
     "output_type": "display_data"
    }
   ],
   "source": [
    "as.integer(grp2)"
   ]
  },
  {
   "cell_type": "code",
   "execution_count": 14,
   "metadata": {
    "collapsed": false
   },
   "outputs": [
    {
     "data": {
      "text/html": [
       "<ol class=list-inline>\n",
       "\t<li>'azul'</li>\n",
       "\t<li>'rojo'</li>\n",
       "</ol>\n"
      ],
      "text/latex": [
       "\\begin{enumerate*}\n",
       "\\item 'azul'\n",
       "\\item 'rojo'\n",
       "\\end{enumerate*}\n"
      ],
      "text/markdown": [
       "1. 'azul'\n",
       "2. 'rojo'\n",
       "\n",
       "\n"
      ],
      "text/plain": [
       "[1] \"azul\" \"rojo\""
      ]
     },
     "metadata": {},
     "output_type": "display_data"
    }
   ],
   "source": [
    "levels(grp2)"
   ]
  },
  {
   "cell_type": "code",
   "execution_count": 15,
   "metadata": {
    "collapsed": false
   },
   "outputs": [
    {
     "data": {
      "text/html": [
       "<ol class=list-inline>\n",
       "\t<li>'azul'</li>\n",
       "\t<li>'rojo'</li>\n",
       "\t<li>'azul'</li>\n",
       "\t<li>'rojo'</li>\n",
       "</ol>\n"
      ],
      "text/latex": [
       "\\begin{enumerate*}\n",
       "\\item 'azul'\n",
       "\\item 'rojo'\n",
       "\\item 'azul'\n",
       "\\item 'rojo'\n",
       "\\end{enumerate*}\n"
      ],
      "text/markdown": [
       "1. 'azul'\n",
       "2. 'rojo'\n",
       "3. 'azul'\n",
       "4. 'rojo'\n",
       "\n",
       "\n"
      ],
      "text/plain": [
       "[1] \"azul\" \"rojo\" \"azul\" \"rojo\""
      ]
     },
     "metadata": {},
     "output_type": "display_data"
    }
   ],
   "source": [
    "levels(grp2)[as.integer(grp2)]"
   ]
  },
  {
   "cell_type": "markdown",
   "metadata": {},
   "source": [
    "### 1.3. Extraer elementos de un factor"
   ]
  },
  {
   "cell_type": "code",
   "execution_count": 16,
   "metadata": {
    "collapsed": false
   },
   "outputs": [
    {
     "data": {
      "text/html": [
       "azul"
      ],
      "text/latex": [
       "azul"
      ],
      "text/markdown": [
       "azul"
      ],
      "text/plain": [
       "[1] azul\n",
       "Levels: azul rojo"
      ]
     },
     "metadata": {},
     "output_type": "display_data"
    }
   ],
   "source": [
    "grp2[3]"
   ]
  },
  {
   "cell_type": "code",
   "execution_count": 17,
   "metadata": {
    "collapsed": false
   },
   "outputs": [
    {
     "data": {
      "text/html": [
       "<ol class=list-inline>\n",
       "\t<li>azul</li>\n",
       "\t<li>azul</li>\n",
       "</ol>\n"
      ],
      "text/latex": [
       "\\begin{enumerate*}\n",
       "\\item azul\n",
       "\\item azul\n",
       "\\end{enumerate*}\n"
      ],
      "text/markdown": [
       "1. azul\n",
       "2. azul\n",
       "\n",
       "\n"
      ],
      "text/plain": [
       "[1] azul azul\n",
       "Levels: azul rojo"
      ]
     },
     "metadata": {},
     "output_type": "display_data"
    }
   ],
   "source": [
    "grp2[c(1,3)]"
   ]
  },
  {
   "cell_type": "markdown",
   "metadata": {},
   "source": [
    "## 2. Arrays"
   ]
  },
  {
   "cell_type": "markdown",
   "metadata": {},
   "source": [
    "Para crear un array deberemos llamar a la **función array y pasarle un vector de valores y un vector de dimensiones**. Si se desea, se puede dar nombre a cada dimensión."
   ]
  },
  {
   "cell_type": "code",
   "execution_count": 18,
   "metadata": {
    "collapsed": false
   },
   "outputs": [
    {
     "data": {
      "text/html": [
       "<ol class=list-inline>\n",
       "\t<li>1</li>\n",
       "\t<li>2</li>\n",
       "\t<li>3</li>\n",
       "\t<li>4</li>\n",
       "\t<li>5</li>\n",
       "\t<li>6</li>\n",
       "\t<li>7</li>\n",
       "\t<li>8</li>\n",
       "\t<li>9</li>\n",
       "\t<li>10</li>\n",
       "\t<li>11</li>\n",
       "\t<li>12</li>\n",
       "\t<li>13</li>\n",
       "\t<li>14</li>\n",
       "\t<li>15</li>\n",
       "\t<li>16</li>\n",
       "\t<li>17</li>\n",
       "\t<li>18</li>\n",
       "\t<li>19</li>\n",
       "\t<li>20</li>\n",
       "\t<li>21</li>\n",
       "\t<li>22</li>\n",
       "\t<li>23</li>\n",
       "\t<li>24</li>\n",
       "</ol>\n"
      ],
      "text/latex": [
       "\\begin{enumerate*}\n",
       "\\item 1\n",
       "\\item 2\n",
       "\\item 3\n",
       "\\item 4\n",
       "\\item 5\n",
       "\\item 6\n",
       "\\item 7\n",
       "\\item 8\n",
       "\\item 9\n",
       "\\item 10\n",
       "\\item 11\n",
       "\\item 12\n",
       "\\item 13\n",
       "\\item 14\n",
       "\\item 15\n",
       "\\item 16\n",
       "\\item 17\n",
       "\\item 18\n",
       "\\item 19\n",
       "\\item 20\n",
       "\\item 21\n",
       "\\item 22\n",
       "\\item 23\n",
       "\\item 24\n",
       "\\end{enumerate*}\n"
      ],
      "text/markdown": [
       "1. 1\n",
       "2. 2\n",
       "3. 3\n",
       "4. 4\n",
       "5. 5\n",
       "6. 6\n",
       "7. 7\n",
       "8. 8\n",
       "9. 9\n",
       "10. 10\n",
       "11. 11\n",
       "12. 12\n",
       "13. 13\n",
       "14. 14\n",
       "15. 15\n",
       "16. 16\n",
       "17. 17\n",
       "18. 18\n",
       "19. 19\n",
       "20. 20\n",
       "21. 21\n",
       "22. 22\n",
       "23. 23\n",
       "24. 24\n",
       "\n",
       "\n"
      ],
      "text/plain": [
       ", , 1\n",
       "\n",
       "     [,1] [,2] [,3] [,4]\n",
       "[1,]    1    4    7   10\n",
       "[2,]    2    5    8   11\n",
       "[3,]    3    6    9   12\n",
       "\n",
       ", , 2\n",
       "\n",
       "     [,1] [,2] [,3] [,4]\n",
       "[1,]   13   16   19   22\n",
       "[2,]   14   17   20   23\n",
       "[3,]   15   18   21   24\n"
      ]
     },
     "metadata": {},
     "output_type": "display_data"
    }
   ],
   "source": [
    "mi_arr <- array(1:24,c(3,4,2))\n",
    "mi_arr"
   ]
  },
  {
   "cell_type": "code",
   "execution_count": 19,
   "metadata": {
    "collapsed": false
   },
   "outputs": [
    {
     "data": {
      "text/html": [
       "<ol class=list-inline>\n",
       "\t<li>1</li>\n",
       "\t<li>2</li>\n",
       "\t<li>3</li>\n",
       "\t<li>4</li>\n",
       "\t<li>5</li>\n",
       "\t<li>6</li>\n",
       "\t<li>7</li>\n",
       "\t<li>8</li>\n",
       "\t<li>9</li>\n",
       "\t<li>10</li>\n",
       "\t<li>11</li>\n",
       "\t<li>12</li>\n",
       "\t<li>13</li>\n",
       "\t<li>14</li>\n",
       "\t<li>15</li>\n",
       "\t<li>16</li>\n",
       "\t<li>17</li>\n",
       "\t<li>18</li>\n",
       "\t<li>19</li>\n",
       "\t<li>20</li>\n",
       "\t<li>21</li>\n",
       "\t<li>22</li>\n",
       "\t<li>23</li>\n",
       "\t<li>24</li>\n",
       "</ol>\n"
      ],
      "text/latex": [
       "\\begin{enumerate*}\n",
       "\\item 1\n",
       "\\item 2\n",
       "\\item 3\n",
       "\\item 4\n",
       "\\item 5\n",
       "\\item 6\n",
       "\\item 7\n",
       "\\item 8\n",
       "\\item 9\n",
       "\\item 10\n",
       "\\item 11\n",
       "\\item 12\n",
       "\\item 13\n",
       "\\item 14\n",
       "\\item 15\n",
       "\\item 16\n",
       "\\item 17\n",
       "\\item 18\n",
       "\\item 19\n",
       "\\item 20\n",
       "\\item 21\n",
       "\\item 22\n",
       "\\item 23\n",
       "\\item 24\n",
       "\\end{enumerate*}\n"
      ],
      "text/markdown": [
       "1. 1\n",
       "2. 2\n",
       "3. 3\n",
       "4. 4\n",
       "5. 5\n",
       "6. 6\n",
       "7. 7\n",
       "8. 8\n",
       "9. 9\n",
       "10. 10\n",
       "11. 11\n",
       "12. 12\n",
       "13. 13\n",
       "14. 14\n",
       "15. 15\n",
       "16. 16\n",
       "17. 17\n",
       "18. 18\n",
       "19. 19\n",
       "20. 20\n",
       "21. 21\n",
       "22. 22\n",
       "23. 23\n",
       "24. 24\n",
       "\n",
       "\n"
      ],
      "text/plain": [
       ", , um\n",
       "\n",
       "       one two three\n",
       "uno      1   5     9\n",
       "dos      2   6    10\n",
       "tres     3   7    11\n",
       "cuatro   4   8    12\n",
       "\n",
       ", , dois\n",
       "\n",
       "       one two three\n",
       "uno     13  17    21\n",
       "dos     14  18    22\n",
       "tres    15  19    23\n",
       "cuatro  16  20    24\n"
      ]
     },
     "metadata": {},
     "output_type": "display_data"
    }
   ],
   "source": [
    "tres_d_array <- array(1:24,\n",
    "                      dim = c(4,3,2), \n",
    "                      dimnames = list(c(\"uno\",\"dos\",\"tres\",\"cuatro\"),\n",
    "                                      c(\"one\",\"two\",\"three\"),\n",
    "                                      c(\"um\",\"dois\")))\n",
    "tres_d_array"
   ]
  },
  {
   "cell_type": "markdown",
   "metadata": {},
   "source": [
    "### 2.1. Más sobre Arrays"
   ]
  },
  {
   "cell_type": "code",
   "execution_count": 20,
   "metadata": {
    "collapsed": false
   },
   "outputs": [
    {
     "data": {
      "text/html": [
       "<ol class=list-inline>\n",
       "\t<li>4</li>\n",
       "\t<li>3</li>\n",
       "\t<li>2</li>\n",
       "</ol>\n"
      ],
      "text/latex": [
       "\\begin{enumerate*}\n",
       "\\item 4\n",
       "\\item 3\n",
       "\\item 2\n",
       "\\end{enumerate*}\n"
      ],
      "text/markdown": [
       "1. 4\n",
       "2. 3\n",
       "3. 2\n",
       "\n",
       "\n"
      ],
      "text/plain": [
       "[1] 4 3 2"
      ]
     },
     "metadata": {},
     "output_type": "display_data"
    },
    {
     "data": {
      "text/html": [
       "24"
      ],
      "text/latex": [
       "24"
      ],
      "text/markdown": [
       "24"
      ],
      "text/plain": [
       "[1] 24"
      ]
     },
     "metadata": {},
     "output_type": "display_data"
    }
   ],
   "source": [
    "dim(tres_d_array)\n",
    "length(tres_d_array)"
   ]
  },
  {
   "cell_type": "code",
   "execution_count": 21,
   "metadata": {
    "collapsed": false,
    "scrolled": true
   },
   "outputs": [
    {
     "data": {
      "text/html": [
       "<ol class=list-inline>\n",
       "\t<li>'uno'</li>\n",
       "\t<li>'dos'</li>\n",
       "\t<li>'tres'</li>\n",
       "\t<li>'cuatro'</li>\n",
       "</ol>\n"
      ],
      "text/latex": [
       "\\begin{enumerate*}\n",
       "\\item 'uno'\n",
       "\\item 'dos'\n",
       "\\item 'tres'\n",
       "\\item 'cuatro'\n",
       "\\end{enumerate*}\n"
      ],
      "text/markdown": [
       "1. 'uno'\n",
       "2. 'dos'\n",
       "3. 'tres'\n",
       "4. 'cuatro'\n",
       "\n",
       "\n"
      ],
      "text/plain": [
       "[1] \"uno\"    \"dos\"    \"tres\"   \"cuatro\""
      ]
     },
     "metadata": {},
     "output_type": "display_data"
    },
    {
     "data": {
      "text/html": [
       "<ol class=list-inline>\n",
       "\t<li>'one'</li>\n",
       "\t<li>'two'</li>\n",
       "\t<li>'three'</li>\n",
       "</ol>\n"
      ],
      "text/latex": [
       "\\begin{enumerate*}\n",
       "\\item 'one'\n",
       "\\item 'two'\n",
       "\\item 'three'\n",
       "\\end{enumerate*}\n"
      ],
      "text/markdown": [
       "1. 'one'\n",
       "2. 'two'\n",
       "3. 'three'\n",
       "\n",
       "\n"
      ],
      "text/plain": [
       "[1] \"one\"   \"two\"   \"three\""
      ]
     },
     "metadata": {},
     "output_type": "display_data"
    },
    {
     "data": {
      "text/html": [
       "<ol>\n",
       "\t<li><ol class=list-inline>\n",
       "\t<li>'uno'</li>\n",
       "\t<li>'dos'</li>\n",
       "\t<li>'tres'</li>\n",
       "\t<li>'cuatro'</li>\n",
       "</ol>\n",
       "</li>\n",
       "\t<li><ol class=list-inline>\n",
       "\t<li>'one'</li>\n",
       "\t<li>'two'</li>\n",
       "\t<li>'three'</li>\n",
       "</ol>\n",
       "</li>\n",
       "\t<li><ol class=list-inline>\n",
       "\t<li>'um'</li>\n",
       "\t<li>'dois'</li>\n",
       "</ol>\n",
       "</li>\n",
       "</ol>\n"
      ],
      "text/latex": [
       "\\begin{enumerate}\n",
       "\\item \\begin{enumerate*}\n",
       "\\item 'uno'\n",
       "\\item 'dos'\n",
       "\\item 'tres'\n",
       "\\item 'cuatro'\n",
       "\\end{enumerate*}\n",
       "\n",
       "\\item \\begin{enumerate*}\n",
       "\\item 'one'\n",
       "\\item 'two'\n",
       "\\item 'three'\n",
       "\\end{enumerate*}\n",
       "\n",
       "\\item \\begin{enumerate*}\n",
       "\\item 'um'\n",
       "\\item 'dois'\n",
       "\\end{enumerate*}\n",
       "\n",
       "\\end{enumerate}\n"
      ],
      "text/markdown": [
       "1. 1. 'uno'\n",
       "2. 'dos'\n",
       "3. 'tres'\n",
       "4. 'cuatro'\n",
       "\n",
       "\n",
       "\n",
       "2. 1. 'one'\n",
       "2. 'two'\n",
       "3. 'three'\n",
       "\n",
       "\n",
       "\n",
       "3. 1. 'um'\n",
       "2. 'dois'\n",
       "\n",
       "\n",
       "\n",
       "\n",
       "\n"
      ],
      "text/plain": [
       "[[1]]\n",
       "[1] \"uno\"    \"dos\"    \"tres\"   \"cuatro\"\n",
       "\n",
       "[[2]]\n",
       "[1] \"one\"   \"two\"   \"three\"\n",
       "\n",
       "[[3]]\n",
       "[1] \"um\"   \"dois\"\n"
      ]
     },
     "metadata": {},
     "output_type": "display_data"
    }
   ],
   "source": [
    "rownames(tres_d_array)\n",
    "colnames(tres_d_array)\n",
    "\n",
    "dimnames(tres_d_array)"
   ]
  },
  {
   "cell_type": "markdown",
   "metadata": {},
   "source": [
    "## 3. Listas"
   ]
  },
  {
   "cell_type": "markdown",
   "metadata": {},
   "source": [
    "Los elementos de las listas **pueden ser de disitintos tipos y de distinta longitud**. En una lista podemos almacenar **constantes únicas, vectores de valores numpericos, factores, data frames, matrices** e incluso **funciones**."
   ]
  },
  {
   "cell_type": "markdown",
   "metadata": {},
   "source": [
    "### 3.1. Ejemplo 1"
   ]
  },
  {
   "cell_type": "code",
   "execution_count": 22,
   "metadata": {
    "collapsed": false
   },
   "outputs": [
    {
     "data": {
      "text/html": [
       "<dl>\n",
       "\t<dt>$elem1</dt>\n",
       "\t\t<dd><ol class=list-inline>\n",
       "\t<li>101</li>\n",
       "\t<li>102</li>\n",
       "\t<li>103</li>\n",
       "\t<li>104</li>\n",
       "\t<li>105</li>\n",
       "</ol>\n",
       "</dd>\n",
       "\t<dt>$elem2</dt>\n",
       "\t\t<dd><ol class=list-inline>\n",
       "\t<li>25</li>\n",
       "\t<li>22</li>\n",
       "\t<li>29</li>\n",
       "\t<li>34</li>\n",
       "\t<li>33</li>\n",
       "</ol>\n",
       "</dd>\n",
       "\t<dt>$elem3</dt>\n",
       "\t\t<dd><ol class=list-inline>\n",
       "\t<li>'No-diabetico'</li>\n",
       "\t<li>'Diabetico'</li>\n",
       "\t<li>'No-diabetico'</li>\n",
       "\t<li>'No-diabetico'</li>\n",
       "\t<li>'Diabetico'</li>\n",
       "</ol>\n",
       "</dd>\n",
       "\t<dt>$elem4</dt>\n",
       "\t\t<dd><ol class=list-inline>\n",
       "\t<li>masculino</li>\n",
       "\t<li>masculino</li>\n",
       "\t<li>femenino</li>\n",
       "\t<li>femenino</li>\n",
       "\t<li>masculino</li>\n",
       "</ol>\n",
       "</dd>\n",
       "\t<dt>$elem5</dt>\n",
       "\t\t<dd><table>\n",
       "<thead><tr><th scope=col>var1</th><th scope=col>var2</th><th scope=col>var3</th><th scope=col>var4</th></tr></thead>\n",
       "<tbody>\n",
       "\t<tr><td>101         </td><td>25          </td><td>No-diabetico</td><td>masculino   </td></tr>\n",
       "\t<tr><td>102         </td><td>22          </td><td>Diabetico   </td><td>masculino   </td></tr>\n",
       "\t<tr><td>103         </td><td>29          </td><td>No-diabetico</td><td>femenino    </td></tr>\n",
       "\t<tr><td>104         </td><td>34          </td><td>No-diabetico</td><td>femenino    </td></tr>\n",
       "\t<tr><td>105         </td><td>33          </td><td>Diabetico   </td><td>masculino   </td></tr>\n",
       "</tbody>\n",
       "</table>\n",
       "</dd>\n",
       "\t<dt>$elem6</dt>\n",
       "\t\t<dd><ol class=list-inline>\n",
       "\t<li>0.585528817843856</li>\n",
       "\t<li>0.709466017509524</li>\n",
       "\t<li>-0.109303314681054</li>\n",
       "\t<li>-0.453497173462763</li>\n",
       "\t<li>0.605887455840394</li>\n",
       "\t<li>-1.81795596770373</li>\n",
       "\t<li>0.630098551068391</li>\n",
       "\t<li>-0.276184105225216</li>\n",
       "\t<li>-0.284159743943371</li>\n",
       "\t<li>-0.919322002474128</li>\n",
       "\t<li>-0.116247806352002</li>\n",
       "\t<li>1.81731204370422</li>\n",
       "</ol>\n",
       "</dd>\n",
       "</dl>\n"
      ],
      "text/latex": [
       "\\begin{description}\n",
       "\\item[\\$elem1] \\begin{enumerate*}\n",
       "\\item 101\n",
       "\\item 102\n",
       "\\item 103\n",
       "\\item 104\n",
       "\\item 105\n",
       "\\end{enumerate*}\n",
       "\n",
       "\\item[\\$elem2] \\begin{enumerate*}\n",
       "\\item 25\n",
       "\\item 22\n",
       "\\item 29\n",
       "\\item 34\n",
       "\\item 33\n",
       "\\end{enumerate*}\n",
       "\n",
       "\\item[\\$elem3] \\begin{enumerate*}\n",
       "\\item 'No-diabetico'\n",
       "\\item 'Diabetico'\n",
       "\\item 'No-diabetico'\n",
       "\\item 'No-diabetico'\n",
       "\\item 'Diabetico'\n",
       "\\end{enumerate*}\n",
       "\n",
       "\\item[\\$elem4] \\begin{enumerate*}\n",
       "\\item masculino\n",
       "\\item masculino\n",
       "\\item femenino\n",
       "\\item femenino\n",
       "\\item masculino\n",
       "\\end{enumerate*}\n",
       "\n",
       "\\item[\\$elem5] \\begin{tabular}{r|llll}\n",
       " var1 & var2 & var3 & var4\\\\\n",
       "\\hline\n",
       "\t 101          & 25           & No-diabetico & masculino   \\\\\n",
       "\t 102          & 22           & Diabetico    & masculino   \\\\\n",
       "\t 103          & 29           & No-diabetico & femenino    \\\\\n",
       "\t 104          & 34           & No-diabetico & femenino    \\\\\n",
       "\t 105          & 33           & Diabetico    & masculino   \\\\\n",
       "\\end{tabular}\n",
       "\n",
       "\\item[\\$elem6] \\begin{enumerate*}\n",
       "\\item 0.585528817843856\n",
       "\\item 0.709466017509524\n",
       "\\item -0.109303314681054\n",
       "\\item -0.453497173462763\n",
       "\\item 0.605887455840394\n",
       "\\item -1.81795596770373\n",
       "\\item 0.630098551068391\n",
       "\\item -0.276184105225216\n",
       "\\item -0.284159743943371\n",
       "\\item -0.919322002474128\n",
       "\\item -0.116247806352002\n",
       "\\item 1.81731204370422\n",
       "\\end{enumerate*}\n",
       "\n",
       "\\end{description}\n"
      ],
      "text/markdown": [
       "$elem1\n",
       ":   1. 101\n",
       "2. 102\n",
       "3. 103\n",
       "4. 104\n",
       "5. 105\n",
       "\n",
       "\n",
       "\n",
       "$elem2\n",
       ":   1. 25\n",
       "2. 22\n",
       "3. 29\n",
       "4. 34\n",
       "5. 33\n",
       "\n",
       "\n",
       "\n",
       "$elem3\n",
       ":   1. 'No-diabetico'\n",
       "2. 'Diabetico'\n",
       "3. 'No-diabetico'\n",
       "4. 'No-diabetico'\n",
       "5. 'Diabetico'\n",
       "\n",
       "\n",
       "\n",
       "$elem4\n",
       ":   1. masculino\n",
       "2. masculino\n",
       "3. femenino\n",
       "4. femenino\n",
       "5. masculino\n",
       "\n",
       "\n",
       "\n",
       "$elem5\n",
       ":   \n",
       "var1 | var2 | var3 | var4 | \n",
       "|---|---|---|---|---|\n",
       "| 101          | 25           | No-diabetico | masculino    | \n",
       "| 102          | 22           | Diabetico    | masculino    | \n",
       "| 103          | 29           | No-diabetico | femenino     | \n",
       "| 104          | 34           | No-diabetico | femenino     | \n",
       "| 105          | 33           | Diabetico    | masculino    | \n",
       "\n",
       "\n",
       "\n",
       "$elem6\n",
       ":   1. 0.585528817843856\n",
       "2. 0.709466017509524\n",
       "3. -0.109303314681054\n",
       "4. -0.453497173462763\n",
       "5. 0.605887455840394\n",
       "6. -1.81795596770373\n",
       "7. 0.630098551068391\n",
       "8. -0.276184105225216\n",
       "9. -0.284159743943371\n",
       "10. -0.919322002474128\n",
       "11. -0.116247806352002\n",
       "12. 1.81731204370422\n",
       "\n",
       "\n",
       "\n",
       "\n",
       "\n"
      ],
      "text/plain": [
       "$elem1\n",
       "[1] 101 102 103 104 105\n",
       "\n",
       "$elem2\n",
       "[1] 25 22 29 34 33\n",
       "\n",
       "$elem3\n",
       "[1] \"No-diabetico\" \"Diabetico\"    \"No-diabetico\" \"No-diabetico\" \"Diabetico\"   \n",
       "\n",
       "$elem4\n",
       "[1] masculino masculino femenino  femenino  masculino\n",
       "Levels: femenino masculino\n",
       "\n",
       "$elem5\n",
       "  var1 var2         var3      var4\n",
       "1  101   25 No-diabetico masculino\n",
       "2  102   22    Diabetico masculino\n",
       "3  103   29 No-diabetico  femenino\n",
       "4  104   34 No-diabetico  femenino\n",
       "5  105   33    Diabetico masculino\n",
       "\n",
       "$elem6\n",
       ", , 1\n",
       "\n",
       "          [,1]       [,2]\n",
       "[1,] 0.5855288 -0.1093033\n",
       "[2,] 0.7094660 -0.4534972\n",
       "\n",
       ", , 2\n",
       "\n",
       "           [,1]       [,2]\n",
       "[1,]  0.6058875  0.6300986\n",
       "[2,] -1.8179560 -0.2761841\n",
       "\n",
       ", , 3\n",
       "\n",
       "           [,1]       [,2]\n",
       "[1,] -0.2841597 -0.1162478\n",
       "[2,] -0.9193220  1.8173120\n",
       "\n"
      ]
     },
     "metadata": {},
     "output_type": "display_data"
    }
   ],
   "source": [
    "var1 <- c(101,102,103,104,105)\n",
    "var2 <- c(25,22,29,34,33)\n",
    "var3 <- c(\"No-diabetico\",\"Diabetico\",\"No-diabetico\",\"No-diabetico\",\"Diabetico\")\n",
    "var4 <- factor(c(\"masculino\",\"masculino\",\"femenino\",\"femenino\",\"masculino\"))\n",
    "diab.dat <- data.frame(var1,var2,var3,var4)\n",
    "mat.array <- array(dim = c(2,2,3))\n",
    "\n",
    "set.seed(12345)\n",
    "mat.array[,,1]<-rnorm(4)\n",
    "mat.array[,,2]<-rnorm(4)\n",
    "mat.array[,,3]<-rnorm(4)\n",
    "\n",
    "#creando una lista\n",
    "obj.lista <- list(elem1=var1,elem2=var2,elem3=var3,elem4=var4,elem5=diab.dat,elem6=mat.array)\n",
    "obj.lista"
   ]
  },
  {
   "cell_type": "markdown",
   "metadata": {},
   "source": [
    "### 3.2. Acceder a elementos de una Lista"
   ]
  },
  {
   "cell_type": "markdown",
   "metadata": {},
   "source": [
    "Podemos acceder a los elementos de una lista usando:\n",
    "\n",
    "- Operador se signo de dólar con un nombre.\n",
    "- Dobles corchetes con un entero positivo.\n",
    "- Dobles corchetes con el nombre."
   ]
  },
  {
   "cell_type": "code",
   "execution_count": 23,
   "metadata": {
    "collapsed": false
   },
   "outputs": [
    {
     "data": {
      "text/html": [
       "<ol class=list-inline>\n",
       "\t<li>101</li>\n",
       "\t<li>102</li>\n",
       "\t<li>103</li>\n",
       "\t<li>104</li>\n",
       "\t<li>105</li>\n",
       "</ol>\n"
      ],
      "text/latex": [
       "\\begin{enumerate*}\n",
       "\\item 101\n",
       "\\item 102\n",
       "\\item 103\n",
       "\\item 104\n",
       "\\item 105\n",
       "\\end{enumerate*}\n"
      ],
      "text/markdown": [
       "1. 101\n",
       "2. 102\n",
       "3. 103\n",
       "4. 104\n",
       "5. 105\n",
       "\n",
       "\n"
      ],
      "text/plain": [
       "[1] 101 102 103 104 105"
      ]
     },
     "metadata": {},
     "output_type": "display_data"
    },
    {
     "data": {
      "text/html": [
       "<ol class=list-inline>\n",
       "\t<li>101</li>\n",
       "\t<li>102</li>\n",
       "\t<li>103</li>\n",
       "\t<li>104</li>\n",
       "\t<li>105</li>\n",
       "</ol>\n"
      ],
      "text/latex": [
       "\\begin{enumerate*}\n",
       "\\item 101\n",
       "\\item 102\n",
       "\\item 103\n",
       "\\item 104\n",
       "\\item 105\n",
       "\\end{enumerate*}\n"
      ],
      "text/markdown": [
       "1. 101\n",
       "2. 102\n",
       "3. 103\n",
       "4. 104\n",
       "5. 105\n",
       "\n",
       "\n"
      ],
      "text/plain": [
       "[1] 101 102 103 104 105"
      ]
     },
     "metadata": {},
     "output_type": "display_data"
    },
    {
     "data": {
      "text/html": [
       "<ol class=list-inline>\n",
       "\t<li>101</li>\n",
       "\t<li>102</li>\n",
       "\t<li>103</li>\n",
       "\t<li>104</li>\n",
       "\t<li>105</li>\n",
       "</ol>\n"
      ],
      "text/latex": [
       "\\begin{enumerate*}\n",
       "\\item 101\n",
       "\\item 102\n",
       "\\item 103\n",
       "\\item 104\n",
       "\\item 105\n",
       "\\end{enumerate*}\n"
      ],
      "text/markdown": [
       "1. 101\n",
       "2. 102\n",
       "3. 103\n",
       "4. 104\n",
       "5. 105\n",
       "\n",
       "\n"
      ],
      "text/plain": [
       "[1] 101 102 103 104 105"
      ]
     },
     "metadata": {},
     "output_type": "display_data"
    }
   ],
   "source": [
    "# Accediendo al primer elemento de la lista obj.lista\n",
    "\n",
    "# operador $ con el nombre\n",
    "obj.lista$elem1\n",
    "\n",
    "# dobles corchetes con un número entero positivo\n",
    "obj.lista[[1]]\n",
    "\n",
    "# dobles corchetes con el nombre\n",
    "obj.lista[[\"elem1\"]]"
   ]
  },
  {
   "cell_type": "markdown",
   "metadata": {},
   "source": [
    "### 3.3. Obtener sublistas"
   ]
  },
  {
   "cell_type": "markdown",
   "metadata": {},
   "source": [
    "Podemos obtener sublistas utilizando corchetes junto vectores:\n",
    "\n",
    "#### 3.3.1. Vectores numéricos"
   ]
  },
  {
   "cell_type": "code",
   "execution_count": 24,
   "metadata": {
    "collapsed": false
   },
   "outputs": [
    {
     "data": {
      "text/html": [
       "<strong>$elem2</strong> = <ol class=list-inline>\n",
       "\t<li>25</li>\n",
       "\t<li>22</li>\n",
       "\t<li>29</li>\n",
       "\t<li>34</li>\n",
       "\t<li>33</li>\n",
       "</ol>\n"
      ],
      "text/latex": [
       "\\textbf{\\$elem2} = \\begin{enumerate*}\n",
       "\\item 25\n",
       "\\item 22\n",
       "\\item 29\n",
       "\\item 34\n",
       "\\item 33\n",
       "\\end{enumerate*}\n"
      ],
      "text/markdown": [
       "**$elem2** = 1. 25\n",
       "2. 22\n",
       "3. 29\n",
       "4. 34\n",
       "5. 33\n",
       "\n",
       "\n"
      ],
      "text/plain": [
       "$elem2\n",
       "[1] 25 22 29 34 33\n"
      ]
     },
     "metadata": {},
     "output_type": "display_data"
    }
   ],
   "source": [
    "#sublista que contiene el segundo elemento de la lista\n",
    "obj.lista[2]"
   ]
  },
  {
   "cell_type": "code",
   "execution_count": 25,
   "metadata": {
    "collapsed": false
   },
   "outputs": [
    {
     "data": {
      "text/html": [
       "<dl>\n",
       "\t<dt>$elem1</dt>\n",
       "\t\t<dd><ol class=list-inline>\n",
       "\t<li>101</li>\n",
       "\t<li>102</li>\n",
       "\t<li>103</li>\n",
       "\t<li>104</li>\n",
       "\t<li>105</li>\n",
       "</ol>\n",
       "</dd>\n",
       "\t<dt>$elem3</dt>\n",
       "\t\t<dd><ol class=list-inline>\n",
       "\t<li>'No-diabetico'</li>\n",
       "\t<li>'Diabetico'</li>\n",
       "\t<li>'No-diabetico'</li>\n",
       "\t<li>'No-diabetico'</li>\n",
       "\t<li>'Diabetico'</li>\n",
       "</ol>\n",
       "</dd>\n",
       "</dl>\n"
      ],
      "text/latex": [
       "\\begin{description}\n",
       "\\item[\\$elem1] \\begin{enumerate*}\n",
       "\\item 101\n",
       "\\item 102\n",
       "\\item 103\n",
       "\\item 104\n",
       "\\item 105\n",
       "\\end{enumerate*}\n",
       "\n",
       "\\item[\\$elem3] \\begin{enumerate*}\n",
       "\\item 'No-diabetico'\n",
       "\\item 'Diabetico'\n",
       "\\item 'No-diabetico'\n",
       "\\item 'No-diabetico'\n",
       "\\item 'Diabetico'\n",
       "\\end{enumerate*}\n",
       "\n",
       "\\end{description}\n"
      ],
      "text/markdown": [
       "$elem1\n",
       ":   1. 101\n",
       "2. 102\n",
       "3. 103\n",
       "4. 104\n",
       "5. 105\n",
       "\n",
       "\n",
       "\n",
       "$elem3\n",
       ":   1. 'No-diabetico'\n",
       "2. 'Diabetico'\n",
       "3. 'No-diabetico'\n",
       "4. 'No-diabetico'\n",
       "5. 'Diabetico'\n",
       "\n",
       "\n",
       "\n",
       "\n",
       "\n"
      ],
      "text/plain": [
       "$elem1\n",
       "[1] 101 102 103 104 105\n",
       "\n",
       "$elem3\n",
       "[1] \"No-diabetico\" \"Diabetico\"    \"No-diabetico\" \"No-diabetico\" \"Diabetico\"   \n"
      ]
     },
     "metadata": {},
     "output_type": "display_data"
    }
   ],
   "source": [
    "#sublista que contiene el primer y tercer elemento de la lista\n",
    "obj.lista[c(1,3)]"
   ]
  },
  {
   "cell_type": "code",
   "execution_count": 26,
   "metadata": {
    "collapsed": false
   },
   "outputs": [
    {
     "data": {
      "text/html": [
       "<dl>\n",
       "\t<dt>$elem2</dt>\n",
       "\t\t<dd><ol class=list-inline>\n",
       "\t<li>25</li>\n",
       "\t<li>22</li>\n",
       "\t<li>29</li>\n",
       "\t<li>34</li>\n",
       "\t<li>33</li>\n",
       "</ol>\n",
       "</dd>\n",
       "\t<dt>$elem4</dt>\n",
       "\t\t<dd><ol class=list-inline>\n",
       "\t<li>masculino</li>\n",
       "\t<li>masculino</li>\n",
       "\t<li>femenino</li>\n",
       "\t<li>femenino</li>\n",
       "\t<li>masculino</li>\n",
       "</ol>\n",
       "</dd>\n",
       "\t<dt>$elem5</dt>\n",
       "\t\t<dd><table>\n",
       "<thead><tr><th scope=col>var1</th><th scope=col>var2</th><th scope=col>var3</th><th scope=col>var4</th></tr></thead>\n",
       "<tbody>\n",
       "\t<tr><td>101         </td><td>25          </td><td>No-diabetico</td><td>masculino   </td></tr>\n",
       "\t<tr><td>102         </td><td>22          </td><td>Diabetico   </td><td>masculino   </td></tr>\n",
       "\t<tr><td>103         </td><td>29          </td><td>No-diabetico</td><td>femenino    </td></tr>\n",
       "\t<tr><td>104         </td><td>34          </td><td>No-diabetico</td><td>femenino    </td></tr>\n",
       "\t<tr><td>105         </td><td>33          </td><td>Diabetico   </td><td>masculino   </td></tr>\n",
       "</tbody>\n",
       "</table>\n",
       "</dd>\n",
       "</dl>\n"
      ],
      "text/latex": [
       "\\begin{description}\n",
       "\\item[\\$elem2] \\begin{enumerate*}\n",
       "\\item 25\n",
       "\\item 22\n",
       "\\item 29\n",
       "\\item 34\n",
       "\\item 33\n",
       "\\end{enumerate*}\n",
       "\n",
       "\\item[\\$elem4] \\begin{enumerate*}\n",
       "\\item masculino\n",
       "\\item masculino\n",
       "\\item femenino\n",
       "\\item femenino\n",
       "\\item masculino\n",
       "\\end{enumerate*}\n",
       "\n",
       "\\item[\\$elem5] \\begin{tabular}{r|llll}\n",
       " var1 & var2 & var3 & var4\\\\\n",
       "\\hline\n",
       "\t 101          & 25           & No-diabetico & masculino   \\\\\n",
       "\t 102          & 22           & Diabetico    & masculino   \\\\\n",
       "\t 103          & 29           & No-diabetico & femenino    \\\\\n",
       "\t 104          & 34           & No-diabetico & femenino    \\\\\n",
       "\t 105          & 33           & Diabetico    & masculino   \\\\\n",
       "\\end{tabular}\n",
       "\n",
       "\\end{description}\n"
      ],
      "text/markdown": [
       "$elem2\n",
       ":   1. 25\n",
       "2. 22\n",
       "3. 29\n",
       "4. 34\n",
       "5. 33\n",
       "\n",
       "\n",
       "\n",
       "$elem4\n",
       ":   1. masculino\n",
       "2. masculino\n",
       "3. femenino\n",
       "4. femenino\n",
       "5. masculino\n",
       "\n",
       "\n",
       "\n",
       "$elem5\n",
       ":   \n",
       "var1 | var2 | var3 | var4 | \n",
       "|---|---|---|---|---|\n",
       "| 101          | 25           | No-diabetico | masculino    | \n",
       "| 102          | 22           | Diabetico    | masculino    | \n",
       "| 103          | 29           | No-diabetico | femenino     | \n",
       "| 104          | 34           | No-diabetico | femenino     | \n",
       "| 105          | 33           | Diabetico    | masculino    | \n",
       "\n",
       "\n",
       "\n",
       "\n",
       "\n"
      ],
      "text/plain": [
       "$elem2\n",
       "[1] 25 22 29 34 33\n",
       "\n",
       "$elem4\n",
       "[1] masculino masculino femenino  femenino  masculino\n",
       "Levels: femenino masculino\n",
       "\n",
       "$elem5\n",
       "  var1 var2         var3      var4\n",
       "1  101   25 No-diabetico masculino\n",
       "2  102   22    Diabetico masculino\n",
       "3  103   29 No-diabetico  femenino\n",
       "4  104   34 No-diabetico  femenino\n",
       "5  105   33    Diabetico masculino\n"
      ]
     },
     "metadata": {},
     "output_type": "display_data"
    }
   ],
   "source": [
    "#sublista que no contiene el primer, tercer y sexto elemento de la lista\n",
    "obj.lista[c(-1,-3,-6)]"
   ]
  },
  {
   "cell_type": "markdown",
   "metadata": {},
   "source": [
    "#### 3.3.2. Vectores con los nombres de los elementos"
   ]
  },
  {
   "cell_type": "code",
   "execution_count": 27,
   "metadata": {
    "collapsed": false
   },
   "outputs": [
    {
     "data": {
      "text/html": [
       "<dl>\n",
       "\t<dt>$elem2</dt>\n",
       "\t\t<dd><ol class=list-inline>\n",
       "\t<li>25</li>\n",
       "\t<li>22</li>\n",
       "\t<li>29</li>\n",
       "\t<li>34</li>\n",
       "\t<li>33</li>\n",
       "</ol>\n",
       "</dd>\n",
       "\t<dt>$elem3</dt>\n",
       "\t\t<dd><ol class=list-inline>\n",
       "\t<li>'No-diabetico'</li>\n",
       "\t<li>'Diabetico'</li>\n",
       "\t<li>'No-diabetico'</li>\n",
       "\t<li>'No-diabetico'</li>\n",
       "\t<li>'Diabetico'</li>\n",
       "</ol>\n",
       "</dd>\n",
       "</dl>\n"
      ],
      "text/latex": [
       "\\begin{description}\n",
       "\\item[\\$elem2] \\begin{enumerate*}\n",
       "\\item 25\n",
       "\\item 22\n",
       "\\item 29\n",
       "\\item 34\n",
       "\\item 33\n",
       "\\end{enumerate*}\n",
       "\n",
       "\\item[\\$elem3] \\begin{enumerate*}\n",
       "\\item 'No-diabetico'\n",
       "\\item 'Diabetico'\n",
       "\\item 'No-diabetico'\n",
       "\\item 'No-diabetico'\n",
       "\\item 'Diabetico'\n",
       "\\end{enumerate*}\n",
       "\n",
       "\\end{description}\n"
      ],
      "text/markdown": [
       "$elem2\n",
       ":   1. 25\n",
       "2. 22\n",
       "3. 29\n",
       "4. 34\n",
       "5. 33\n",
       "\n",
       "\n",
       "\n",
       "$elem3\n",
       ":   1. 'No-diabetico'\n",
       "2. 'Diabetico'\n",
       "3. 'No-diabetico'\n",
       "4. 'No-diabetico'\n",
       "5. 'Diabetico'\n",
       "\n",
       "\n",
       "\n",
       "\n",
       "\n"
      ],
      "text/plain": [
       "$elem2\n",
       "[1] 25 22 29 34 33\n",
       "\n",
       "$elem3\n",
       "[1] \"No-diabetico\" \"Diabetico\"    \"No-diabetico\" \"No-diabetico\" \"Diabetico\"   \n"
      ]
     },
     "metadata": {},
     "output_type": "display_data"
    }
   ],
   "source": [
    "#sublista que contiene el segundo y tercer elemento de la lista\n",
    "obj.lista[c(\"elem2\",\"elem3\")]"
   ]
  },
  {
   "cell_type": "markdown",
   "metadata": {},
   "source": [
    "#### 3.3.3. Vector de valores lógicos"
   ]
  },
  {
   "cell_type": "code",
   "execution_count": 28,
   "metadata": {
    "collapsed": false
   },
   "outputs": [
    {
     "data": {
      "text/html": [
       "<dl>\n",
       "\t<dt>$elem1</dt>\n",
       "\t\t<dd><ol class=list-inline>\n",
       "\t<li>101</li>\n",
       "\t<li>102</li>\n",
       "\t<li>103</li>\n",
       "\t<li>104</li>\n",
       "\t<li>105</li>\n",
       "</ol>\n",
       "</dd>\n",
       "\t<dt>$elem4</dt>\n",
       "\t\t<dd><ol class=list-inline>\n",
       "\t<li>masculino</li>\n",
       "\t<li>masculino</li>\n",
       "\t<li>femenino</li>\n",
       "\t<li>femenino</li>\n",
       "\t<li>masculino</li>\n",
       "</ol>\n",
       "</dd>\n",
       "\t<dt>$elem5</dt>\n",
       "\t\t<dd><table>\n",
       "<thead><tr><th scope=col>var1</th><th scope=col>var2</th><th scope=col>var3</th><th scope=col>var4</th></tr></thead>\n",
       "<tbody>\n",
       "\t<tr><td>101         </td><td>25          </td><td>No-diabetico</td><td>masculino   </td></tr>\n",
       "\t<tr><td>102         </td><td>22          </td><td>Diabetico   </td><td>masculino   </td></tr>\n",
       "\t<tr><td>103         </td><td>29          </td><td>No-diabetico</td><td>femenino    </td></tr>\n",
       "\t<tr><td>104         </td><td>34          </td><td>No-diabetico</td><td>femenino    </td></tr>\n",
       "\t<tr><td>105         </td><td>33          </td><td>Diabetico   </td><td>masculino   </td></tr>\n",
       "</tbody>\n",
       "</table>\n",
       "</dd>\n",
       "</dl>\n"
      ],
      "text/latex": [
       "\\begin{description}\n",
       "\\item[\\$elem1] \\begin{enumerate*}\n",
       "\\item 101\n",
       "\\item 102\n",
       "\\item 103\n",
       "\\item 104\n",
       "\\item 105\n",
       "\\end{enumerate*}\n",
       "\n",
       "\\item[\\$elem4] \\begin{enumerate*}\n",
       "\\item masculino\n",
       "\\item masculino\n",
       "\\item femenino\n",
       "\\item femenino\n",
       "\\item masculino\n",
       "\\end{enumerate*}\n",
       "\n",
       "\\item[\\$elem5] \\begin{tabular}{r|llll}\n",
       " var1 & var2 & var3 & var4\\\\\n",
       "\\hline\n",
       "\t 101          & 25           & No-diabetico & masculino   \\\\\n",
       "\t 102          & 22           & Diabetico    & masculino   \\\\\n",
       "\t 103          & 29           & No-diabetico & femenino    \\\\\n",
       "\t 104          & 34           & No-diabetico & femenino    \\\\\n",
       "\t 105          & 33           & Diabetico    & masculino   \\\\\n",
       "\\end{tabular}\n",
       "\n",
       "\\end{description}\n"
      ],
      "text/markdown": [
       "$elem1\n",
       ":   1. 101\n",
       "2. 102\n",
       "3. 103\n",
       "4. 104\n",
       "5. 105\n",
       "\n",
       "\n",
       "\n",
       "$elem4\n",
       ":   1. masculino\n",
       "2. masculino\n",
       "3. femenino\n",
       "4. femenino\n",
       "5. masculino\n",
       "\n",
       "\n",
       "\n",
       "$elem5\n",
       ":   \n",
       "var1 | var2 | var3 | var4 | \n",
       "|---|---|---|---|---|\n",
       "| 101          | 25           | No-diabetico | masculino    | \n",
       "| 102          | 22           | Diabetico    | masculino    | \n",
       "| 103          | 29           | No-diabetico | femenino     | \n",
       "| 104          | 34           | No-diabetico | femenino     | \n",
       "| 105          | 33           | Diabetico    | masculino    | \n",
       "\n",
       "\n",
       "\n",
       "\n",
       "\n"
      ],
      "text/plain": [
       "$elem1\n",
       "[1] 101 102 103 104 105\n",
       "\n",
       "$elem4\n",
       "[1] masculino masculino femenino  femenino  masculino\n",
       "Levels: femenino masculino\n",
       "\n",
       "$elem5\n",
       "  var1 var2         var3      var4\n",
       "1  101   25 No-diabetico masculino\n",
       "2  102   22    Diabetico masculino\n",
       "3  103   29 No-diabetico  femenino\n",
       "4  104   34 No-diabetico  femenino\n",
       "5  105   33    Diabetico masculino\n"
      ]
     },
     "metadata": {},
     "output_type": "display_data"
    }
   ],
   "source": [
    "#Sublista que contiene el segundo, cuarto y quinto elemento de la lista\n",
    "obj.lista[c(TRUE,FALSE,FALSE,TRUE,TRUE,FALSE)]"
   ]
  },
  {
   "cell_type": "markdown",
   "metadata": {},
   "source": [
    "### 3.4. Ejemplo 2"
   ]
  },
  {
   "cell_type": "code",
   "execution_count": 29,
   "metadata": {
    "collapsed": false
   },
   "outputs": [
    {
     "data": {
      "text/html": [
       "<ol>\n",
       "\t<li><ol class=list-inline>\n",
       "\t<li>1</li>\n",
       "\t<li>1</li>\n",
       "\t<li>2</li>\n",
       "\t<li>5</li>\n",
       "\t<li>14</li>\n",
       "\t<li>42</li>\n",
       "</ol>\n",
       "</li>\n",
       "\t<li><ol class=list-inline>\n",
       "\t<li>'Jan'</li>\n",
       "\t<li>'Feb'</li>\n",
       "\t<li>'Mar'</li>\n",
       "\t<li>'Apr'</li>\n",
       "\t<li>'May'</li>\n",
       "\t<li>'Jun'</li>\n",
       "\t<li>'Jul'</li>\n",
       "\t<li>'Aug'</li>\n",
       "\t<li>'Sep'</li>\n",
       "\t<li>'Oct'</li>\n",
       "\t<li>'Nov'</li>\n",
       "\t<li>'Dec'</li>\n",
       "</ol>\n",
       "</li>\n",
       "\t<li><table>\n",
       "<tbody>\n",
       "\t<tr><td> 3</td><td> 1</td></tr>\n",
       "\t<tr><td>-8</td><td>-3</td></tr>\n",
       "</tbody>\n",
       "</table>\n",
       "</li>\n",
       "\t<li><pre class=language-r><code>.Primitive(\"asin\")</code></pre></li>\n",
       "</ol>\n"
      ],
      "text/latex": [
       "\\begin{enumerate}\n",
       "\\item \\begin{enumerate*}\n",
       "\\item 1\n",
       "\\item 1\n",
       "\\item 2\n",
       "\\item 5\n",
       "\\item 14\n",
       "\\item 42\n",
       "\\end{enumerate*}\n",
       "\n",
       "\\item \\begin{enumerate*}\n",
       "\\item 'Jan'\n",
       "\\item 'Feb'\n",
       "\\item 'Mar'\n",
       "\\item 'Apr'\n",
       "\\item 'May'\n",
       "\\item 'Jun'\n",
       "\\item 'Jul'\n",
       "\\item 'Aug'\n",
       "\\item 'Sep'\n",
       "\\item 'Oct'\n",
       "\\item 'Nov'\n",
       "\\item 'Dec'\n",
       "\\end{enumerate*}\n",
       "\n",
       "\\item \\begin{tabular}{ll}\n",
       "\t  3 &  1\\\\\n",
       "\t -8 & -3\\\\\n",
       "\\end{tabular}\n",
       "\n",
       "\\item \\begin{minted}{r}\n",
       ".Primitive(\"asin\")\n",
       "\\end{minted}\n",
       "\\end{enumerate}\n"
      ],
      "text/markdown": [
       "1. 1. 1\n",
       "2. 1\n",
       "3. 2\n",
       "4. 5\n",
       "5. 14\n",
       "6. 42\n",
       "\n",
       "\n",
       "\n",
       "2. 1. 'Jan'\n",
       "2. 'Feb'\n",
       "3. 'Mar'\n",
       "4. 'Apr'\n",
       "5. 'May'\n",
       "6. 'Jun'\n",
       "7. 'Jul'\n",
       "8. 'Aug'\n",
       "9. 'Sep'\n",
       "10. 'Oct'\n",
       "11. 'Nov'\n",
       "12. 'Dec'\n",
       "\n",
       "\n",
       "\n",
       "3. \n",
       "|  3 |  1 | \n",
       "| -8 | -3 | \n",
       "\n",
       "\n",
       "\n",
       "4. ```r\n",
       ".Primitive(\"asin\")\n",
       "```\n",
       "\n",
       "\n"
      ],
      "text/plain": [
       "[[1]]\n",
       "[1]  1  1  2  5 14 42\n",
       "\n",
       "[[2]]\n",
       " [1] \"Jan\" \"Feb\" \"Mar\" \"Apr\" \"May\" \"Jun\" \"Jul\" \"Aug\" \"Sep\" \"Oct\" \"Nov\" \"Dec\"\n",
       "\n",
       "[[3]]\n",
       "     [,1] [,2]\n",
       "[1,]    3    1\n",
       "[2,]   -8   -3\n",
       "\n",
       "[[4]]\n",
       "function (x)  .Primitive(\"asin\")\n"
      ]
     },
     "metadata": {},
     "output_type": "display_data"
    }
   ],
   "source": [
    "a_list <- list(c(1,1,2,5,14,42),\n",
    "               month.abb,\n",
    "               matrix(c(3,-8,1,-3), \n",
    "                      nrow = 2), \n",
    "               asin)\n",
    "a_list"
   ]
  },
  {
   "cell_type": "markdown",
   "metadata": {},
   "source": [
    "Como los vectores, podemos nombrar a los elementos durante la contrución, o hacerlo después usando la **función names**."
   ]
  },
  {
   "cell_type": "code",
   "execution_count": 30,
   "metadata": {
    "collapsed": false
   },
   "outputs": [
    {
     "data": {
      "text/html": [
       "<dl>\n",
       "\t<dt>$catalan</dt>\n",
       "\t\t<dd><ol class=list-inline>\n",
       "\t<li>1</li>\n",
       "\t<li>1</li>\n",
       "\t<li>2</li>\n",
       "\t<li>5</li>\n",
       "\t<li>14</li>\n",
       "\t<li>42</li>\n",
       "</ol>\n",
       "</dd>\n",
       "\t<dt>$months</dt>\n",
       "\t\t<dd><ol class=list-inline>\n",
       "\t<li>'Jan'</li>\n",
       "\t<li>'Feb'</li>\n",
       "\t<li>'Mar'</li>\n",
       "\t<li>'Apr'</li>\n",
       "\t<li>'May'</li>\n",
       "\t<li>'Jun'</li>\n",
       "\t<li>'Jul'</li>\n",
       "\t<li>'Aug'</li>\n",
       "\t<li>'Sep'</li>\n",
       "\t<li>'Oct'</li>\n",
       "\t<li>'Nov'</li>\n",
       "\t<li>'Dec'</li>\n",
       "</ol>\n",
       "</dd>\n",
       "\t<dt>$involutary</dt>\n",
       "\t\t<dd><table>\n",
       "<tbody>\n",
       "\t<tr><td> 3</td><td> 1</td></tr>\n",
       "\t<tr><td>-8</td><td>-3</td></tr>\n",
       "</tbody>\n",
       "</table>\n",
       "</dd>\n",
       "\t<dt>$arcsin</dt>\n",
       "\t\t<dd><pre class=language-r><code>.Primitive(\"asin\")</code></pre></dd>\n",
       "</dl>\n"
      ],
      "text/latex": [
       "\\begin{description}\n",
       "\\item[\\$catalan] \\begin{enumerate*}\n",
       "\\item 1\n",
       "\\item 1\n",
       "\\item 2\n",
       "\\item 5\n",
       "\\item 14\n",
       "\\item 42\n",
       "\\end{enumerate*}\n",
       "\n",
       "\\item[\\$months] \\begin{enumerate*}\n",
       "\\item 'Jan'\n",
       "\\item 'Feb'\n",
       "\\item 'Mar'\n",
       "\\item 'Apr'\n",
       "\\item 'May'\n",
       "\\item 'Jun'\n",
       "\\item 'Jul'\n",
       "\\item 'Aug'\n",
       "\\item 'Sep'\n",
       "\\item 'Oct'\n",
       "\\item 'Nov'\n",
       "\\item 'Dec'\n",
       "\\end{enumerate*}\n",
       "\n",
       "\\item[\\$involutary] \\begin{tabular}{ll}\n",
       "\t  3 &  1\\\\\n",
       "\t -8 & -3\\\\\n",
       "\\end{tabular}\n",
       "\n",
       "\\item[\\$arcsin] \\begin{minted}{r}\n",
       ".Primitive(\"asin\")\n",
       "\\end{minted}\n",
       "\\end{description}\n"
      ],
      "text/markdown": [
       "$catalan\n",
       ":   1. 1\n",
       "2. 1\n",
       "3. 2\n",
       "4. 5\n",
       "5. 14\n",
       "6. 42\n",
       "\n",
       "\n",
       "\n",
       "$months\n",
       ":   1. 'Jan'\n",
       "2. 'Feb'\n",
       "3. 'Mar'\n",
       "4. 'Apr'\n",
       "5. 'May'\n",
       "6. 'Jun'\n",
       "7. 'Jul'\n",
       "8. 'Aug'\n",
       "9. 'Sep'\n",
       "10. 'Oct'\n",
       "11. 'Nov'\n",
       "12. 'Dec'\n",
       "\n",
       "\n",
       "\n",
       "$involutary\n",
       ":   \n",
       "|  3 |  1 | \n",
       "| -8 | -3 | \n",
       "\n",
       "\n",
       "\n",
       "$arcsin\n",
       ":   ```r\n",
       ".Primitive(\"asin\")\n",
       "```\n",
       "\n",
       "\n"
      ],
      "text/plain": [
       "$catalan\n",
       "[1]  1  1  2  5 14 42\n",
       "\n",
       "$months\n",
       " [1] \"Jan\" \"Feb\" \"Mar\" \"Apr\" \"May\" \"Jun\" \"Jul\" \"Aug\" \"Sep\" \"Oct\" \"Nov\" \"Dec\"\n",
       "\n",
       "$involutary\n",
       "     [,1] [,2]\n",
       "[1,]    3    1\n",
       "[2,]   -8   -3\n",
       "\n",
       "$arcsin\n",
       "function (x)  .Primitive(\"asin\")\n"
      ]
     },
     "metadata": {},
     "output_type": "display_data"
    }
   ],
   "source": [
    "names(a_list) <- c(\"catalan\",\"months\",\"involutary\",\"arcsin\")\n",
    "a_list"
   ]
  },
  {
   "cell_type": "markdown",
   "metadata": {},
   "source": [
    "### 3.5. Más sobre Listas"
   ]
  },
  {
   "cell_type": "code",
   "execution_count": 31,
   "metadata": {
    "collapsed": false
   },
   "outputs": [
    {
     "data": {
      "text/html": [
       "4"
      ],
      "text/latex": [
       "4"
      ],
      "text/markdown": [
       "4"
      ],
      "text/plain": [
       "[1] 4"
      ]
     },
     "metadata": {},
     "output_type": "display_data"
    }
   ],
   "source": [
    "length(a_list)"
   ]
  },
  {
   "cell_type": "code",
   "execution_count": 32,
   "metadata": {
    "collapsed": false
   },
   "outputs": [
    {
     "data": {
      "text/html": [
       "4"
      ],
      "text/latex": [
       "4"
      ],
      "text/markdown": [
       "4"
      ],
      "text/plain": [
       "[1] 4"
      ]
     },
     "metadata": {},
     "output_type": "display_data"
    }
   ],
   "source": [
    "NROW(a_list)"
   ]
  },
  {
   "cell_type": "code",
   "execution_count": 33,
   "metadata": {
    "collapsed": false
   },
   "outputs": [
    {
     "data": {
      "text/html": [
       "1"
      ],
      "text/latex": [
       "1"
      ],
      "text/markdown": [
       "1"
      ],
      "text/plain": [
       "[1] 1"
      ]
     },
     "metadata": {},
     "output_type": "display_data"
    }
   ],
   "source": [
    "NCOL(a_list)"
   ]
  },
  {
   "cell_type": "markdown",
   "metadata": {},
   "source": [
    "### 3.6. Ejemplo 4"
   ]
  },
  {
   "cell_type": "markdown",
   "metadata": {},
   "source": [
    "Es posible que los **elementos de las listas sean otras listas**."
   ]
  },
  {
   "cell_type": "code",
   "execution_count": 34,
   "metadata": {
    "collapsed": false
   },
   "outputs": [
    {
     "data": {
      "text/html": [
       "<dl>\n",
       "\t<dt>$middle_list</dt>\n",
       "\t\t<dd><dl>\n",
       "\t<dt>$element_in_middle_list</dt>\n",
       "\t\t<dd><table>\n",
       "<tbody>\n",
       "\t<tr><td>1</td><td>0</td><td>0</td></tr>\n",
       "\t<tr><td>0</td><td>1</td><td>0</td></tr>\n",
       "\t<tr><td>0</td><td>0</td><td>1</td></tr>\n",
       "</tbody>\n",
       "</table>\n",
       "</dd>\n",
       "\t<dt>$inner_list</dt>\n",
       "\t\t<dd><dl>\n",
       "\t<dt>$element_in_inner_list</dt>\n",
       "\t\t<dd>3.14159265358979</dd>\n",
       "\t<dt>$another_element_in_inner_list</dt>\n",
       "\t\t<dd>'a'</dd>\n",
       "</dl>\n",
       "</dd>\n",
       "</dl>\n",
       "</dd>\n",
       "\t<dt>$element_in_main_list</dt>\n",
       "\t\t<dd><ol class=list-inline>\n",
       "\t<li>0</li>\n",
       "\t<li>0.301029995663981</li>\n",
       "\t<li>0.477121254719662</li>\n",
       "\t<li>0.602059991327962</li>\n",
       "\t<li>0.698970004336019</li>\n",
       "\t<li>0.778151250383644</li>\n",
       "\t<li>0.845098040014257</li>\n",
       "\t<li>0.903089986991944</li>\n",
       "\t<li>0.954242509439325</li>\n",
       "\t<li>1</li>\n",
       "</ol>\n",
       "</dd>\n",
       "</dl>\n"
      ],
      "text/latex": [
       "\\begin{description}\n",
       "\\item[\\$middle\\_list] \\begin{description}\n",
       "\\item[\\$element\\_in\\_middle\\_list] \\begin{tabular}{lll}\n",
       "\t 1 & 0 & 0\\\\\n",
       "\t 0 & 1 & 0\\\\\n",
       "\t 0 & 0 & 1\\\\\n",
       "\\end{tabular}\n",
       "\n",
       "\\item[\\$inner\\_list] \\begin{description}\n",
       "\\item[\\$element\\_in\\_inner\\_list] 3.14159265358979\n",
       "\\item[\\$another\\_element\\_in\\_inner\\_list] 'a'\n",
       "\\end{description}\n",
       "\n",
       "\\end{description}\n",
       "\n",
       "\\item[\\$element\\_in\\_main\\_list] \\begin{enumerate*}\n",
       "\\item 0\n",
       "\\item 0.301029995663981\n",
       "\\item 0.477121254719662\n",
       "\\item 0.602059991327962\n",
       "\\item 0.698970004336019\n",
       "\\item 0.778151250383644\n",
       "\\item 0.845098040014257\n",
       "\\item 0.903089986991944\n",
       "\\item 0.954242509439325\n",
       "\\item 1\n",
       "\\end{enumerate*}\n",
       "\n",
       "\\end{description}\n"
      ],
      "text/markdown": [
       "$middle_list\n",
       ":   $element_in_middle_list\n",
       ":   \n",
       "| 1 | 0 | 0 | \n",
       "| 0 | 1 | 0 | \n",
       "| 0 | 0 | 1 | \n",
       "\n",
       "\n",
       "\n",
       "$inner_list\n",
       ":   $element_in_inner_list\n",
       ":   3.14159265358979\n",
       "$another_element_in_inner_list\n",
       ":   'a'\n",
       "\n",
       "\n",
       "\n",
       "\n",
       "\n",
       "\n",
       "$element_in_main_list\n",
       ":   1. 0\n",
       "2. 0.301029995663981\n",
       "3. 0.477121254719662\n",
       "4. 0.602059991327962\n",
       "5. 0.698970004336019\n",
       "6. 0.778151250383644\n",
       "7. 0.845098040014257\n",
       "8. 0.903089986991944\n",
       "9. 0.954242509439325\n",
       "10. 1\n",
       "\n",
       "\n",
       "\n",
       "\n",
       "\n"
      ],
      "text/plain": [
       "$middle_list\n",
       "$middle_list$element_in_middle_list\n",
       "     [,1] [,2] [,3]\n",
       "[1,]    1    0    0\n",
       "[2,]    0    1    0\n",
       "[3,]    0    0    1\n",
       "\n",
       "$middle_list$inner_list\n",
       "$middle_list$inner_list$element_in_inner_list\n",
       "[1] 3.141593\n",
       "\n",
       "$middle_list$inner_list$another_element_in_inner_list\n",
       "[1] \"a\"\n",
       "\n",
       "\n",
       "\n",
       "$element_in_main_list\n",
       " [1] 0.0000000 0.3010300 0.4771213 0.6020600 0.6989700 0.7781513 0.8450980\n",
       " [8] 0.9030900 0.9542425 1.0000000\n"
      ]
     },
     "metadata": {},
     "output_type": "display_data"
    }
   ],
   "source": [
    "main_list <- list(middle_list = list(element_in_middle_list = diag(3), \n",
    "                                     inner_list = list(element_in_inner_list = pi**1:4,\n",
    "                                                       another_element_in_inner_list = \"a\")),\n",
    "                \n",
    "                  element_in_main_list = log10(1:10))\n",
    "main_list         "
   ]
  },
  {
   "cell_type": "code",
   "execution_count": 35,
   "metadata": {
    "collapsed": false
   },
   "outputs": [
    {
     "data": {
      "text/html": [
       "2"
      ],
      "text/latex": [
       "2"
      ],
      "text/markdown": [
       "2"
      ],
      "text/plain": [
       "[1] 2"
      ]
     },
     "metadata": {},
     "output_type": "display_data"
    }
   ],
   "source": [
    "length(main_list)"
   ]
  },
  {
   "cell_type": "markdown",
   "metadata": {},
   "source": [
    "## 4. Data frames"
   ]
  },
  {
   "cell_type": "markdown",
   "metadata": {},
   "source": [
    "Los data frames son un **caso particular de listas**, se usan para almacenar datos similares a hojas de cálculo.\n",
    "\n",
    "Es una colección de vectores, donde **todos deben ser de la misma longitud**. Normalmente, pensamos en los data frames como si **cada fila correspondiera a alguna observación** y **cada columna a alguna propiedad de las observaciones**, donde las propiedades pueden ser **numéricas** o **categóricas**.\n",
    "\n",
    "Los data frames son como matrices pero con las columnas que tienen sus propios nombres. Además, las columnas pueden **tener diferentes tipos de datos de cada uno**.\n",
    "\n",
    "Tenga en cuenta que **cada columna puede tener un tipo diferente a las otras columnas, pero que todos los elementos dentro de una columna son del mismo tipo.**"
   ]
  },
  {
   "cell_type": "markdown",
   "metadata": {},
   "source": [
    "### 4.1. Ejemplo 1"
   ]
  },
  {
   "cell_type": "code",
   "execution_count": 36,
   "metadata": {
    "collapsed": false
   },
   "outputs": [
    {
     "data": {
      "text/html": [
       "<table>\n",
       "<thead><tr><th scope=col>a</th><th scope=col>b</th><th scope=col>c</th></tr></thead>\n",
       "<tbody>\n",
       "\t<tr><td>1</td><td>a</td><td>5</td></tr>\n",
       "\t<tr><td>2</td><td>b</td><td>6</td></tr>\n",
       "\t<tr><td>3</td><td>c</td><td>7</td></tr>\n",
       "\t<tr><td>4</td><td>d</td><td>8</td></tr>\n",
       "</tbody>\n",
       "</table>\n"
      ],
      "text/latex": [
       "\\begin{tabular}{r|lll}\n",
       " a & b & c\\\\\n",
       "\\hline\n",
       "\t 1 & a & 5\\\\\n",
       "\t 2 & b & 6\\\\\n",
       "\t 3 & c & 7\\\\\n",
       "\t 4 & d & 8\\\\\n",
       "\\end{tabular}\n"
      ],
      "text/markdown": [
       "\n",
       "a | b | c | \n",
       "|---|---|---|---|\n",
       "| 1 | a | 5 | \n",
       "| 2 | b | 6 | \n",
       "| 3 | c | 7 | \n",
       "| 4 | d | 8 | \n",
       "\n",
       "\n"
      ],
      "text/plain": [
       "  a b c\n",
       "1 1 a 5\n",
       "2 2 b 6\n",
       "3 3 c 7\n",
       "4 4 d 8"
      ]
     },
     "metadata": {},
     "output_type": "display_data"
    }
   ],
   "source": [
    "df <- data.frame(a = 1:4, \n",
    "                 b = letters[1:4], \n",
    "                 c = 5:8)\n",
    "df"
   ]
  },
  {
   "cell_type": "markdown",
   "metadata": {},
   "source": [
    "### 4.2. Indexando un Data Frame"
   ]
  },
  {
   "cell_type": "markdown",
   "metadata": {},
   "source": [
    "#### 4.2.1. Seleccionando más de una columna\n",
    "\n",
    "El subconjunto resultante también **será un data frame**. "
   ]
  },
  {
   "cell_type": "code",
   "execution_count": 37,
   "metadata": {
    "collapsed": false
   },
   "outputs": [
    {
     "data": {
      "text/html": [
       "<table>\n",
       "<thead><tr><th></th><th scope=col>a</th><th scope=col>b</th></tr></thead>\n",
       "<tbody>\n",
       "\t<tr><th scope=row>1</th><td>1</td><td>a</td></tr>\n",
       "\t<tr><th scope=row>3</th><td>3</td><td>c</td></tr>\n",
       "</tbody>\n",
       "</table>\n"
      ],
      "text/latex": [
       "\\begin{tabular}{r|ll}\n",
       "  & a & b\\\\\n",
       "\\hline\n",
       "\t1 & 1 & a\\\\\n",
       "\t3 & 3 & c\\\\\n",
       "\\end{tabular}\n"
      ],
      "text/markdown": [
       "\n",
       "| <!--/--> | a | b | \n",
       "|---|---|\n",
       "| 1 | 1 | a | \n",
       "| 3 | 3 | c | \n",
       "\n",
       "\n"
      ],
      "text/plain": [
       "  a b\n",
       "1 1 a\n",
       "3 3 c"
      ]
     },
     "metadata": {},
     "output_type": "display_data"
    },
    {
     "data": {
      "text/html": [
       "TRUE"
      ],
      "text/latex": [
       "TRUE"
      ],
      "text/markdown": [
       "TRUE"
      ],
      "text/plain": [
       "[1] TRUE"
      ]
     },
     "metadata": {},
     "output_type": "display_data"
    }
   ],
   "source": [
    "# filas: primera y tercera\n",
    "# columnas: primera y segunda\n",
    "df[c(1,3),1:2]\n",
    "is.data.frame(df[c(1,3),1:2])"
   ]
  },
  {
   "cell_type": "code",
   "execution_count": 38,
   "metadata": {
    "collapsed": false
   },
   "outputs": [
    {
     "data": {
      "text/html": [
       "<table>\n",
       "<thead><tr><th scope=col>a</th><th scope=col>b</th></tr></thead>\n",
       "<tbody>\n",
       "\t<tr><td>1</td><td>a</td></tr>\n",
       "\t<tr><td>2</td><td>b</td></tr>\n",
       "</tbody>\n",
       "</table>\n"
      ],
      "text/latex": [
       "\\begin{tabular}{r|ll}\n",
       " a & b\\\\\n",
       "\\hline\n",
       "\t 1 & a\\\\\n",
       "\t 2 & b\\\\\n",
       "\\end{tabular}\n"
      ],
      "text/markdown": [
       "\n",
       "a | b | \n",
       "|---|---|\n",
       "| 1 | a | \n",
       "| 2 | b | \n",
       "\n",
       "\n"
      ],
      "text/plain": [
       "  a b\n",
       "1 1 a\n",
       "2 2 b"
      ]
     },
     "metadata": {},
     "output_type": "display_data"
    },
    {
     "data": {
      "text/html": [
       "TRUE"
      ],
      "text/latex": [
       "TRUE"
      ],
      "text/markdown": [
       "TRUE"
      ],
      "text/plain": [
       "[1] TRUE"
      ]
     },
     "metadata": {},
     "output_type": "display_data"
    }
   ],
   "source": [
    "# filas: primera y segunda\n",
    "# columnas: todas excepto la tercera\n",
    "df[1:2,-3]\n",
    "is.data.frame(df[1:2,-3])"
   ]
  },
  {
   "cell_type": "code",
   "execution_count": 39,
   "metadata": {
    "collapsed": false
   },
   "outputs": [
    {
     "data": {
      "text/html": [
       "<table>\n",
       "<thead><tr><th scope=col>a</th><th scope=col>b</th><th scope=col>c</th></tr></thead>\n",
       "<tbody>\n",
       "\t<tr><td>1</td><td>a</td><td>5</td></tr>\n",
       "</tbody>\n",
       "</table>\n"
      ],
      "text/latex": [
       "\\begin{tabular}{r|lll}\n",
       " a & b & c\\\\\n",
       "\\hline\n",
       "\t 1 & a & 5\\\\\n",
       "\\end{tabular}\n"
      ],
      "text/markdown": [
       "\n",
       "a | b | c | \n",
       "|---|\n",
       "| 1 | a | 5 | \n",
       "\n",
       "\n"
      ],
      "text/plain": [
       "  a b c\n",
       "1 1 a 5"
      ]
     },
     "metadata": {},
     "output_type": "display_data"
    },
    {
     "data": {
      "text/html": [
       "TRUE"
      ],
      "text/latex": [
       "TRUE"
      ],
      "text/markdown": [
       "TRUE"
      ],
      "text/plain": [
       "[1] TRUE"
      ]
     },
     "metadata": {},
     "output_type": "display_data"
    }
   ],
   "source": [
    "# filas: primera\n",
    "# columnas: todas \n",
    "df[1,]\n",
    "is.data.frame(df[1,])"
   ]
  },
  {
   "cell_type": "markdown",
   "metadata": {},
   "source": [
    "#### 4.2.2. Seleccionando solo una columna\n",
    "\n",
    "El subconjunto resultante **será un factor (si la columna era un vector de caracteres) o un vector (si la colummna era un vector de otro tipo)**."
   ]
  },
  {
   "cell_type": "code",
   "execution_count": 40,
   "metadata": {
    "collapsed": false,
    "scrolled": false
   },
   "outputs": [
    {
     "data": {
      "text/html": [
       "1"
      ],
      "text/latex": [
       "1"
      ],
      "text/markdown": [
       "1"
      ],
      "text/plain": [
       "[1] 1"
      ]
     },
     "metadata": {},
     "output_type": "display_data"
    },
    {
     "data": {
      "text/html": [
       "TRUE"
      ],
      "text/latex": [
       "TRUE"
      ],
      "text/markdown": [
       "TRUE"
      ],
      "text/plain": [
       "[1] TRUE"
      ]
     },
     "metadata": {},
     "output_type": "display_data"
    }
   ],
   "source": [
    "# filas: primera\n",
    "# columnas: primera\n",
    "df[1,1] \n",
    "is.vector(df[1,1])"
   ]
  },
  {
   "cell_type": "code",
   "execution_count": 41,
   "metadata": {
    "collapsed": false
   },
   "outputs": [
    {
     "data": {
      "text/html": [
       "<ol class=list-inline>\n",
       "\t<li>1</li>\n",
       "\t<li>2</li>\n",
       "\t<li>3</li>\n",
       "\t<li>4</li>\n",
       "</ol>\n"
      ],
      "text/latex": [
       "\\begin{enumerate*}\n",
       "\\item 1\n",
       "\\item 2\n",
       "\\item 3\n",
       "\\item 4\n",
       "\\end{enumerate*}\n"
      ],
      "text/markdown": [
       "1. 1\n",
       "2. 2\n",
       "3. 3\n",
       "4. 4\n",
       "\n",
       "\n"
      ],
      "text/plain": [
       "[1] 1 2 3 4"
      ]
     },
     "metadata": {},
     "output_type": "display_data"
    },
    {
     "data": {
      "text/html": [
       "TRUE"
      ],
      "text/latex": [
       "TRUE"
      ],
      "text/markdown": [
       "TRUE"
      ],
      "text/plain": [
       "[1] TRUE"
      ]
     },
     "metadata": {},
     "output_type": "display_data"
    }
   ],
   "source": [
    "# filas: todas\n",
    "# columnas: primera\n",
    "df[,1] #vector\n",
    "is.vector(df[,1])"
   ]
  },
  {
   "cell_type": "code",
   "execution_count": 42,
   "metadata": {
    "collapsed": false
   },
   "outputs": [
    {
     "data": {
      "text/html": [
       "a"
      ],
      "text/latex": [
       "a"
      ],
      "text/markdown": [
       "a"
      ],
      "text/plain": [
       "[1] a\n",
       "Levels: a b c d"
      ]
     },
     "metadata": {},
     "output_type": "display_data"
    },
    {
     "data": {
      "text/html": [
       "TRUE"
      ],
      "text/latex": [
       "TRUE"
      ],
      "text/markdown": [
       "TRUE"
      ],
      "text/plain": [
       "[1] TRUE"
      ]
     },
     "metadata": {},
     "output_type": "display_data"
    }
   ],
   "source": [
    "# filas: primera\n",
    "# columnas: segunda\n",
    "df[1,2]\n",
    "is.factor(df[1,2])"
   ]
  },
  {
   "cell_type": "code",
   "execution_count": 43,
   "metadata": {
    "collapsed": false
   },
   "outputs": [
    {
     "data": {
      "text/html": [
       "<ol class=list-inline>\n",
       "\t<li>a</li>\n",
       "\t<li>b</li>\n",
       "\t<li>c</li>\n",
       "\t<li>d</li>\n",
       "</ol>\n"
      ],
      "text/latex": [
       "\\begin{enumerate*}\n",
       "\\item a\n",
       "\\item b\n",
       "\\item c\n",
       "\\item d\n",
       "\\end{enumerate*}\n"
      ],
      "text/markdown": [
       "1. a\n",
       "2. b\n",
       "3. c\n",
       "4. d\n",
       "\n",
       "\n"
      ],
      "text/plain": [
       "[1] a b c d\n",
       "Levels: a b c d"
      ]
     },
     "metadata": {},
     "output_type": "display_data"
    },
    {
     "data": {
      "text/html": [
       "TRUE"
      ],
      "text/latex": [
       "TRUE"
      ],
      "text/markdown": [
       "TRUE"
      ],
      "text/plain": [
       "[1] TRUE"
      ]
     },
     "metadata": {},
     "output_type": "display_data"
    }
   ],
   "source": [
    "# filas: todas\n",
    "# columnas: segunda\n",
    "df[,2]\n",
    "is.factor(df[,2])"
   ]
  },
  {
   "cell_type": "markdown",
   "metadata": {},
   "source": [
    "Si solo queremos seleccionar una columna, también **se puede usar la indexación de estilo de lista**:\n",
    "\n",
    "- Operador se signo de dólar con un nombre.\n",
    "- Dobles corchetes con un entero positivo.\n",
    "- Dobles corchetes con el nombre."
   ]
  },
  {
   "cell_type": "code",
   "execution_count": 44,
   "metadata": {
    "collapsed": false
   },
   "outputs": [
    {
     "data": {
      "text/html": [
       "<ol class=list-inline>\n",
       "\t<li>a</li>\n",
       "\t<li>b</li>\n",
       "\t<li>c</li>\n",
       "\t<li>d</li>\n",
       "</ol>\n"
      ],
      "text/latex": [
       "\\begin{enumerate*}\n",
       "\\item a\n",
       "\\item b\n",
       "\\item c\n",
       "\\item d\n",
       "\\end{enumerate*}\n"
      ],
      "text/markdown": [
       "1. a\n",
       "2. b\n",
       "3. c\n",
       "4. d\n",
       "\n",
       "\n"
      ],
      "text/plain": [
       "[1] a b c d\n",
       "Levels: a b c d"
      ]
     },
     "metadata": {},
     "output_type": "display_data"
    },
    {
     "data": {
      "text/html": [
       "TRUE"
      ],
      "text/latex": [
       "TRUE"
      ],
      "text/markdown": [
       "TRUE"
      ],
      "text/plain": [
       "[1] TRUE"
      ]
     },
     "metadata": {},
     "output_type": "display_data"
    },
    {
     "data": {
      "text/html": [
       "<ol class=list-inline>\n",
       "\t<li>a</li>\n",
       "\t<li>b</li>\n",
       "\t<li>c</li>\n",
       "\t<li>d</li>\n",
       "</ol>\n"
      ],
      "text/latex": [
       "\\begin{enumerate*}\n",
       "\\item a\n",
       "\\item b\n",
       "\\item c\n",
       "\\item d\n",
       "\\end{enumerate*}\n"
      ],
      "text/markdown": [
       "1. a\n",
       "2. b\n",
       "3. c\n",
       "4. d\n",
       "\n",
       "\n"
      ],
      "text/plain": [
       "[1] a b c d\n",
       "Levels: a b c d"
      ]
     },
     "metadata": {},
     "output_type": "display_data"
    },
    {
     "data": {
      "text/html": [
       "TRUE"
      ],
      "text/latex": [
       "TRUE"
      ],
      "text/markdown": [
       "TRUE"
      ],
      "text/plain": [
       "[1] TRUE"
      ]
     },
     "metadata": {},
     "output_type": "display_data"
    },
    {
     "data": {
      "text/html": [
       "<ol class=list-inline>\n",
       "\t<li>a</li>\n",
       "\t<li>b</li>\n",
       "\t<li>c</li>\n",
       "\t<li>d</li>\n",
       "</ol>\n"
      ],
      "text/latex": [
       "\\begin{enumerate*}\n",
       "\\item a\n",
       "\\item b\n",
       "\\item c\n",
       "\\item d\n",
       "\\end{enumerate*}\n"
      ],
      "text/markdown": [
       "1. a\n",
       "2. b\n",
       "3. c\n",
       "4. d\n",
       "\n",
       "\n"
      ],
      "text/plain": [
       "[1] a b c d\n",
       "Levels: a b c d"
      ]
     },
     "metadata": {},
     "output_type": "display_data"
    },
    {
     "data": {
      "text/html": [
       "TRUE"
      ],
      "text/latex": [
       "TRUE"
      ],
      "text/markdown": [
       "TRUE"
      ],
      "text/plain": [
       "[1] TRUE"
      ]
     },
     "metadata": {},
     "output_type": "display_data"
    }
   ],
   "source": [
    "# seleccionando segunda columna\n",
    "\n",
    "# operador $ con el nombre\n",
    "df$b\n",
    "is.factor(df$b)\n",
    "\n",
    "# dobles corchetes con un entero positivo\n",
    "df[[2]]\n",
    "is.factor(df[[2]])\n",
    "\n",
    "# dobles corchetes con el nombre\n",
    "df[[\"b\"]]\n",
    "is.factor(df[[\"b\"]])"
   ]
  },
  {
   "cell_type": "markdown",
   "metadata": {},
   "source": [
    "Si se quiere que **obtener el vector de caracteres como tal, en vez de un factor**, deberemos hacer lo siguiente:"
   ]
  },
  {
   "cell_type": "code",
   "execution_count": 45,
   "metadata": {
    "collapsed": false,
    "scrolled": true
   },
   "outputs": [
    {
     "data": {
      "text/html": [
       "<table>\n",
       "<thead><tr><th scope=col>a</th><th scope=col>b</th><th scope=col>c</th></tr></thead>\n",
       "<tbody>\n",
       "\t<tr><td>1</td><td>a</td><td>5</td></tr>\n",
       "\t<tr><td>2</td><td>b</td><td>6</td></tr>\n",
       "\t<tr><td>3</td><td>c</td><td>7</td></tr>\n",
       "\t<tr><td>4</td><td>d</td><td>8</td></tr>\n",
       "</tbody>\n",
       "</table>\n"
      ],
      "text/latex": [
       "\\begin{tabular}{r|lll}\n",
       " a & b & c\\\\\n",
       "\\hline\n",
       "\t 1 & a & 5\\\\\n",
       "\t 2 & b & 6\\\\\n",
       "\t 3 & c & 7\\\\\n",
       "\t 4 & d & 8\\\\\n",
       "\\end{tabular}\n"
      ],
      "text/markdown": [
       "\n",
       "a | b | c | \n",
       "|---|---|---|---|\n",
       "| 1 | a | 5 | \n",
       "| 2 | b | 6 | \n",
       "| 3 | c | 7 | \n",
       "| 4 | d | 8 | \n",
       "\n",
       "\n"
      ],
      "text/plain": [
       "  a b c\n",
       "1 1 a 5\n",
       "2 2 b 6\n",
       "3 3 c 7\n",
       "4 4 d 8"
      ]
     },
     "metadata": {},
     "output_type": "display_data"
    }
   ],
   "source": [
    "df2 <- data.frame(a = 1:4,\n",
    "                  b = letters[1:4],\n",
    "                  c = 5:8, \n",
    "                  stringsAsFactors = FALSE)\n",
    "df2"
   ]
  },
  {
   "cell_type": "code",
   "execution_count": 46,
   "metadata": {
    "collapsed": false,
    "scrolled": true
   },
   "outputs": [
    {
     "data": {
      "text/html": [
       "<ol class=list-inline>\n",
       "\t<li>'a'</li>\n",
       "\t<li>'b'</li>\n",
       "\t<li>'c'</li>\n",
       "\t<li>'d'</li>\n",
       "</ol>\n"
      ],
      "text/latex": [
       "\\begin{enumerate*}\n",
       "\\item 'a'\n",
       "\\item 'b'\n",
       "\\item 'c'\n",
       "\\item 'd'\n",
       "\\end{enumerate*}\n"
      ],
      "text/markdown": [
       "1. 'a'\n",
       "2. 'b'\n",
       "3. 'c'\n",
       "4. 'd'\n",
       "\n",
       "\n"
      ],
      "text/plain": [
       "[1] \"a\" \"b\" \"c\" \"d\""
      ]
     },
     "metadata": {},
     "output_type": "display_data"
    },
    {
     "name": "stderr",
     "output_type": "stream",
     "text": [
      "El resultado es factor: FALSE\n",
      "El resultado es vector: TRUE\n"
     ]
    }
   ],
   "source": [
    "df2$b\n",
    "message(\"El resultado es factor: \",is.factor(df2$b))\n",
    "message(\"El resultado es vector: \",is.vector(df2$b))"
   ]
  },
  {
   "cell_type": "markdown",
   "metadata": {},
   "source": [
    "### 4.3 Ejemplo 2"
   ]
  },
  {
   "cell_type": "code",
   "execution_count": 47,
   "metadata": {
    "collapsed": false
   },
   "outputs": [
    {
     "data": {
      "text/html": [
       "<table>\n",
       "<thead><tr><th scope=col>tipo</th><th scope=col>edad</th><th scope=col>sexo</th></tr></thead>\n",
       "<tbody>\n",
       "\t<tr><td>2 </td><td>22</td><td>H </td></tr>\n",
       "\t<tr><td>3 </td><td>21</td><td>M </td></tr>\n",
       "\t<tr><td>3 </td><td>34</td><td>H </td></tr>\n",
       "\t<tr><td>1 </td><td>42</td><td>H </td></tr>\n",
       "\t<tr><td>3 </td><td>17</td><td>M </td></tr>\n",
       "\t<tr><td>1 </td><td>43</td><td>H </td></tr>\n",
       "</tbody>\n",
       "</table>\n"
      ],
      "text/latex": [
       "\\begin{tabular}{r|lll}\n",
       " tipo & edad & sexo\\\\\n",
       "\\hline\n",
       "\t 2  & 22 & H \\\\\n",
       "\t 3  & 21 & M \\\\\n",
       "\t 3  & 34 & H \\\\\n",
       "\t 1  & 42 & H \\\\\n",
       "\t 3  & 17 & M \\\\\n",
       "\t 1  & 43 & H \\\\\n",
       "\\end{tabular}\n"
      ],
      "text/markdown": [
       "\n",
       "tipo | edad | sexo | \n",
       "|---|---|---|---|---|---|\n",
       "| 2  | 22 | H  | \n",
       "| 3  | 21 | M  | \n",
       "| 3  | 34 | H  | \n",
       "| 1  | 42 | H  | \n",
       "| 3  | 17 | M  | \n",
       "| 1  | 43 | H  | \n",
       "\n",
       "\n"
      ],
      "text/plain": [
       "  tipo edad sexo\n",
       "1 2    22   H   \n",
       "2 3    21   M   \n",
       "3 3    34   H   \n",
       "4 1    42   H   \n",
       "5 3    17   M   \n",
       "6 1    43   H   "
      ]
     },
     "metadata": {},
     "output_type": "display_data"
    }
   ],
   "source": [
    "datosperson <- data.frame(tipo = c(2,3,3,1,3,1), \n",
    "                          edad = c(22,21,34,42,17,43), \n",
    "                          sexo = c(\"H\",\"M\",\"H\",\"H\",\"M\",\"H\"))\n",
    "datosperson"
   ]
  },
  {
   "cell_type": "markdown",
   "metadata": {},
   "source": [
    "### 4.4. Ejemplo 3"
   ]
  },
  {
   "cell_type": "code",
   "execution_count": 48,
   "metadata": {
    "collapsed": false
   },
   "outputs": [
    {
     "data": {
      "text/html": [
       "<table>\n",
       "<thead><tr><th scope=col>colors</th><th scope=col>numbers</th><th scope=col>more.numbers</th></tr></thead>\n",
       "<tbody>\n",
       "\t<tr><td>red   </td><td>1     </td><td>4     </td></tr>\n",
       "\t<tr><td>yellow</td><td>2     </td><td>5     </td></tr>\n",
       "\t<tr><td>blue  </td><td>3     </td><td>6     </td></tr>\n",
       "</tbody>\n",
       "</table>\n"
      ],
      "text/latex": [
       "\\begin{tabular}{r|lll}\n",
       " colors & numbers & more.numbers\\\\\n",
       "\\hline\n",
       "\t red    & 1      & 4     \\\\\n",
       "\t yellow & 2      & 5     \\\\\n",
       "\t blue   & 3      & 6     \\\\\n",
       "\\end{tabular}\n"
      ],
      "text/markdown": [
       "\n",
       "colors | numbers | more.numbers | \n",
       "|---|---|---|\n",
       "| red    | 1      | 4      | \n",
       "| yellow | 2      | 5      | \n",
       "| blue   | 3      | 6      | \n",
       "\n",
       "\n"
      ],
      "text/plain": [
       "  colors numbers more.numbers\n",
       "1 red    1       4           \n",
       "2 yellow 2       5           \n",
       "3 blue   3       6           "
      ]
     },
     "metadata": {},
     "output_type": "display_data"
    }
   ],
   "source": [
    "colors <- c(\"red\",\"yellow\",\"blue\")\n",
    "numbers <- c(1,2,3)\n",
    "colors.and.numbers <- data.frame(colors, \n",
    "                                 numbers, \n",
    "                                 more.numbers = c(4,5,6))\n",
    "\n",
    "colors.and.numbers"
   ]
  },
  {
   "cell_type": "markdown",
   "metadata": {},
   "source": [
    "### 4.5. Combinando dos Data Frames"
   ]
  },
  {
   "cell_type": "code",
   "execution_count": 49,
   "metadata": {
    "collapsed": false
   },
   "outputs": [
    {
     "name": "stderr",
     "output_type": "stream",
     "text": [
      "df:\n"
     ]
    },
    {
     "data": {
      "text/html": [
       "<table>\n",
       "<thead><tr><th scope=col>a</th><th scope=col>b</th><th scope=col>c</th></tr></thead>\n",
       "<tbody>\n",
       "\t<tr><td>1</td><td>a</td><td>5</td></tr>\n",
       "\t<tr><td>2</td><td>b</td><td>6</td></tr>\n",
       "\t<tr><td>3</td><td>c</td><td>7</td></tr>\n",
       "\t<tr><td>4</td><td>d</td><td>8</td></tr>\n",
       "</tbody>\n",
       "</table>\n"
      ],
      "text/latex": [
       "\\begin{tabular}{r|lll}\n",
       " a & b & c\\\\\n",
       "\\hline\n",
       "\t 1 & a & 5\\\\\n",
       "\t 2 & b & 6\\\\\n",
       "\t 3 & c & 7\\\\\n",
       "\t 4 & d & 8\\\\\n",
       "\\end{tabular}\n"
      ],
      "text/markdown": [
       "\n",
       "a | b | c | \n",
       "|---|---|---|---|\n",
       "| 1 | a | 5 | \n",
       "| 2 | b | 6 | \n",
       "| 3 | c | 7 | \n",
       "| 4 | d | 8 | \n",
       "\n",
       "\n"
      ],
      "text/plain": [
       "  a b c\n",
       "1 1 a 5\n",
       "2 2 b 6\n",
       "3 3 c 7\n",
       "4 4 d 8"
      ]
     },
     "metadata": {},
     "output_type": "display_data"
    },
    {
     "name": "stderr",
     "output_type": "stream",
     "text": [
      "df3:\n"
     ]
    },
    {
     "data": {
      "text/html": [
       "<table>\n",
       "<thead><tr><th scope=col>a</th><th scope=col>b</th><th scope=col>c</th></tr></thead>\n",
       "<tbody>\n",
       "\t<tr><td>5 </td><td>e </td><td> 9</td></tr>\n",
       "\t<tr><td>6 </td><td>f </td><td>10</td></tr>\n",
       "\t<tr><td>7 </td><td>g </td><td>11</td></tr>\n",
       "</tbody>\n",
       "</table>\n"
      ],
      "text/latex": [
       "\\begin{tabular}{r|lll}\n",
       " a & b & c\\\\\n",
       "\\hline\n",
       "\t 5  & e  &  9\\\\\n",
       "\t 6  & f  & 10\\\\\n",
       "\t 7  & g  & 11\\\\\n",
       "\\end{tabular}\n"
      ],
      "text/markdown": [
       "\n",
       "a | b | c | \n",
       "|---|---|---|\n",
       "| 5  | e  |  9 | \n",
       "| 6  | f  | 10 | \n",
       "| 7  | g  | 11 | \n",
       "\n",
       "\n"
      ],
      "text/plain": [
       "  a b c \n",
       "1 5 e  9\n",
       "2 6 f 10\n",
       "3 7 g 11"
      ]
     },
     "metadata": {},
     "output_type": "display_data"
    },
    {
     "name": "stderr",
     "output_type": "stream",
     "text": [
      "Combinando por filas:\n"
     ]
    },
    {
     "data": {
      "text/html": [
       "<table>\n",
       "<thead><tr><th scope=col>a</th><th scope=col>b</th><th scope=col>c</th></tr></thead>\n",
       "<tbody>\n",
       "\t<tr><td>1 </td><td>a </td><td> 5</td></tr>\n",
       "\t<tr><td>2 </td><td>b </td><td> 6</td></tr>\n",
       "\t<tr><td>3 </td><td>c </td><td> 7</td></tr>\n",
       "\t<tr><td>4 </td><td>d </td><td> 8</td></tr>\n",
       "\t<tr><td>5 </td><td>e </td><td> 9</td></tr>\n",
       "\t<tr><td>6 </td><td>f </td><td>10</td></tr>\n",
       "\t<tr><td>7 </td><td>g </td><td>11</td></tr>\n",
       "</tbody>\n",
       "</table>\n"
      ],
      "text/latex": [
       "\\begin{tabular}{r|lll}\n",
       " a & b & c\\\\\n",
       "\\hline\n",
       "\t 1  & a  &  5\\\\\n",
       "\t 2  & b  &  6\\\\\n",
       "\t 3  & c  &  7\\\\\n",
       "\t 4  & d  &  8\\\\\n",
       "\t 5  & e  &  9\\\\\n",
       "\t 6  & f  & 10\\\\\n",
       "\t 7  & g  & 11\\\\\n",
       "\\end{tabular}\n"
      ],
      "text/markdown": [
       "\n",
       "a | b | c | \n",
       "|---|---|---|---|---|---|---|\n",
       "| 1  | a  |  5 | \n",
       "| 2  | b  |  6 | \n",
       "| 3  | c  |  7 | \n",
       "| 4  | d  |  8 | \n",
       "| 5  | e  |  9 | \n",
       "| 6  | f  | 10 | \n",
       "| 7  | g  | 11 | \n",
       "\n",
       "\n"
      ],
      "text/plain": [
       "  a b c \n",
       "1 1 a  5\n",
       "2 2 b  6\n",
       "3 3 c  7\n",
       "4 4 d  8\n",
       "5 5 e  9\n",
       "6 6 f 10\n",
       "7 7 g 11"
      ]
     },
     "metadata": {},
     "output_type": "display_data"
    }
   ],
   "source": [
    "#Combinando por filas\n",
    "message(\"df:\")\n",
    "df\n",
    "\n",
    "message(\"df3:\")\n",
    "df3 <- data.frame(a = 5:7, \n",
    "                  b = letters[5:7], \n",
    "                  c = 9:11)\n",
    "df3\n",
    "\n",
    "message(\"Combinando por filas:\")\n",
    "rbind(df,df3)"
   ]
  },
  {
   "cell_type": "code",
   "execution_count": 50,
   "metadata": {
    "collapsed": false,
    "scrolled": false
   },
   "outputs": [
    {
     "name": "stderr",
     "output_type": "stream",
     "text": [
      "df:\n"
     ]
    },
    {
     "data": {
      "text/html": [
       "<table>\n",
       "<thead><tr><th scope=col>a</th><th scope=col>b</th><th scope=col>c</th></tr></thead>\n",
       "<tbody>\n",
       "\t<tr><td>1</td><td>a</td><td>5</td></tr>\n",
       "\t<tr><td>2</td><td>b</td><td>6</td></tr>\n",
       "\t<tr><td>3</td><td>c</td><td>7</td></tr>\n",
       "\t<tr><td>4</td><td>d</td><td>8</td></tr>\n",
       "</tbody>\n",
       "</table>\n"
      ],
      "text/latex": [
       "\\begin{tabular}{r|lll}\n",
       " a & b & c\\\\\n",
       "\\hline\n",
       "\t 1 & a & 5\\\\\n",
       "\t 2 & b & 6\\\\\n",
       "\t 3 & c & 7\\\\\n",
       "\t 4 & d & 8\\\\\n",
       "\\end{tabular}\n"
      ],
      "text/markdown": [
       "\n",
       "a | b | c | \n",
       "|---|---|---|---|\n",
       "| 1 | a | 5 | \n",
       "| 2 | b | 6 | \n",
       "| 3 | c | 7 | \n",
       "| 4 | d | 8 | \n",
       "\n",
       "\n"
      ],
      "text/plain": [
       "  a b c\n",
       "1 1 a 5\n",
       "2 2 b 6\n",
       "3 3 c 7\n",
       "4 4 d 8"
      ]
     },
     "metadata": {},
     "output_type": "display_data"
    },
    {
     "name": "stderr",
     "output_type": "stream",
     "text": [
      "df4:\n"
     ]
    },
    {
     "data": {
      "text/html": [
       "<table>\n",
       "<thead><tr><th scope=col>d</th><th scope=col>e</th><th scope=col>f</th></tr></thead>\n",
       "<tbody>\n",
       "\t<tr><td>1 </td><td>e </td><td> 9</td></tr>\n",
       "\t<tr><td>2 </td><td>f </td><td>10</td></tr>\n",
       "\t<tr><td>3 </td><td>g </td><td>11</td></tr>\n",
       "\t<tr><td>4 </td><td>h </td><td>12</td></tr>\n",
       "</tbody>\n",
       "</table>\n"
      ],
      "text/latex": [
       "\\begin{tabular}{r|lll}\n",
       " d & e & f\\\\\n",
       "\\hline\n",
       "\t 1  & e  &  9\\\\\n",
       "\t 2  & f  & 10\\\\\n",
       "\t 3  & g  & 11\\\\\n",
       "\t 4  & h  & 12\\\\\n",
       "\\end{tabular}\n"
      ],
      "text/markdown": [
       "\n",
       "d | e | f | \n",
       "|---|---|---|---|\n",
       "| 1  | e  |  9 | \n",
       "| 2  | f  | 10 | \n",
       "| 3  | g  | 11 | \n",
       "| 4  | h  | 12 | \n",
       "\n",
       "\n"
      ],
      "text/plain": [
       "  d e f \n",
       "1 1 e  9\n",
       "2 2 f 10\n",
       "3 3 g 11\n",
       "4 4 h 12"
      ]
     },
     "metadata": {},
     "output_type": "display_data"
    },
    {
     "name": "stderr",
     "output_type": "stream",
     "text": [
      "Combinando por columnas:\n"
     ]
    },
    {
     "data": {
      "text/html": [
       "<table>\n",
       "<thead><tr><th scope=col>a</th><th scope=col>b</th><th scope=col>c</th><th scope=col>d</th><th scope=col>e</th><th scope=col>f</th></tr></thead>\n",
       "<tbody>\n",
       "\t<tr><td>1 </td><td>a </td><td>5 </td><td>1 </td><td>e </td><td> 9</td></tr>\n",
       "\t<tr><td>2 </td><td>b </td><td>6 </td><td>2 </td><td>f </td><td>10</td></tr>\n",
       "\t<tr><td>3 </td><td>c </td><td>7 </td><td>3 </td><td>g </td><td>11</td></tr>\n",
       "\t<tr><td>4 </td><td>d </td><td>8 </td><td>4 </td><td>h </td><td>12</td></tr>\n",
       "</tbody>\n",
       "</table>\n"
      ],
      "text/latex": [
       "\\begin{tabular}{r|llllll}\n",
       " a & b & c & d & e & f\\\\\n",
       "\\hline\n",
       "\t 1  & a  & 5  & 1  & e  &  9\\\\\n",
       "\t 2  & b  & 6  & 2  & f  & 10\\\\\n",
       "\t 3  & c  & 7  & 3  & g  & 11\\\\\n",
       "\t 4  & d  & 8  & 4  & h  & 12\\\\\n",
       "\\end{tabular}\n"
      ],
      "text/markdown": [
       "\n",
       "a | b | c | d | e | f | \n",
       "|---|---|---|---|\n",
       "| 1  | a  | 5  | 1  | e  |  9 | \n",
       "| 2  | b  | 6  | 2  | f  | 10 | \n",
       "| 3  | c  | 7  | 3  | g  | 11 | \n",
       "| 4  | d  | 8  | 4  | h  | 12 | \n",
       "\n",
       "\n"
      ],
      "text/plain": [
       "  a b c d e f \n",
       "1 1 a 5 1 e  9\n",
       "2 2 b 6 2 f 10\n",
       "3 3 c 7 3 g 11\n",
       "4 4 d 8 4 h 12"
      ]
     },
     "metadata": {},
     "output_type": "display_data"
    }
   ],
   "source": [
    "#Combinando por columnas\n",
    "message(\"df:\")\n",
    "df\n",
    "\n",
    "message(\"df4:\")\n",
    "df4 <- data.frame(d = 1:4, \n",
    "                  e = letters[5:8], \n",
    "                  f = 9:12)\n",
    "df4\n",
    "\n",
    "message(\"Combinando por columnas:\")\n",
    "cbind(df,df4)"
   ]
  },
  {
   "cell_type": "markdown",
   "metadata": {},
   "source": [
    "### 4.6. Nombrando las filas de un Data Frame"
   ]
  },
  {
   "cell_type": "markdown",
   "metadata": {},
   "source": [
    "En los ejemplos vistos hasta ahora, las filas se enumeraron automáticamente  (1,2,3,...). Pero **si alguno de los vectores de entrada tuviese nombres, entonces el data frame los tomarían dichos nombres para sus filas**."
   ]
  },
  {
   "cell_type": "code",
   "execution_count": 51,
   "metadata": {
    "collapsed": false
   },
   "outputs": [
    {
     "data": {
      "text/html": [
       "<table>\n",
       "<thead><tr><th></th><th scope=col>x</th><th scope=col>y</th><th scope=col>z</th></tr></thead>\n",
       "<tbody>\n",
       "\t<tr><th scope=row>January</th><td>a         </td><td> 0.3706279</td><td>FALSE     </td></tr>\n",
       "\t<tr><th scope=row>February</th><td>b         </td><td> 0.5202165</td><td>FALSE     </td></tr>\n",
       "\t<tr><th scope=row>March</th><td>c         </td><td>-0.7505320</td><td> TRUE     </td></tr>\n",
       "\t<tr><th scope=row>April</th><td>d         </td><td> 0.8168998</td><td> TRUE     </td></tr>\n",
       "\t<tr><th scope=row>May</th><td>e         </td><td>-0.8863575</td><td> TRUE     </td></tr>\n",
       "</tbody>\n",
       "</table>\n"
      ],
      "text/latex": [
       "\\begin{tabular}{r|lll}\n",
       "  & x & y & z\\\\\n",
       "\\hline\n",
       "\tJanuary & a          &  0.3706279 & FALSE     \\\\\n",
       "\tFebruary & b          &  0.5202165 & FALSE     \\\\\n",
       "\tMarch & c          & -0.7505320 &  TRUE     \\\\\n",
       "\tApril & d          &  0.8168998 &  TRUE     \\\\\n",
       "\tMay & e          & -0.8863575 &  TRUE     \\\\\n",
       "\\end{tabular}\n"
      ],
      "text/markdown": [
       "\n",
       "| <!--/--> | x | y | z | \n",
       "|---|---|---|---|---|\n",
       "| January | a          |  0.3706279 | FALSE      | \n",
       "| February | b          |  0.5202165 | FALSE      | \n",
       "| March | c          | -0.7505320 |  TRUE      | \n",
       "| April | d          |  0.8168998 |  TRUE      | \n",
       "| May | e          | -0.8863575 |  TRUE      | \n",
       "\n",
       "\n"
      ],
      "text/plain": [
       "         x y          z    \n",
       "January  a  0.3706279 FALSE\n",
       "February b  0.5202165 FALSE\n",
       "March    c -0.7505320  TRUE\n",
       "April    d  0.8168998  TRUE\n",
       "May      e -0.8863575  TRUE"
      ]
     },
     "metadata": {},
     "output_type": "display_data"
    }
   ],
   "source": [
    "y <- rnorm(5)\n",
    "names(y) <- month.name[1:5]\n",
    "\n",
    "data.frame(x = letters[1:5],\n",
    "           y = y,\n",
    "           z = runif(5) > 0.5)"
   ]
  },
  {
   "cell_type": "markdown",
   "metadata": {},
   "source": [
    "Si queremos evitar que esto ocurra, debemos pasar el argumento **row.names = NULL** a la función `data.frame`:"
   ]
  },
  {
   "cell_type": "code",
   "execution_count": 52,
   "metadata": {
    "collapsed": false
   },
   "outputs": [
    {
     "data": {
      "text/html": [
       "<table>\n",
       "<thead><tr><th scope=col>x</th><th scope=col>y</th><th scope=col>z</th></tr></thead>\n",
       "<tbody>\n",
       "\t<tr><td>a         </td><td> 0.3706279</td><td>FALSE     </td></tr>\n",
       "\t<tr><td>b         </td><td> 0.5202165</td><td> TRUE     </td></tr>\n",
       "\t<tr><td>c         </td><td>-0.7505320</td><td>FALSE     </td></tr>\n",
       "\t<tr><td>d         </td><td> 0.8168998</td><td> TRUE     </td></tr>\n",
       "\t<tr><td>e         </td><td>-0.8863575</td><td> TRUE     </td></tr>\n",
       "</tbody>\n",
       "</table>\n"
      ],
      "text/latex": [
       "\\begin{tabular}{r|lll}\n",
       " x & y & z\\\\\n",
       "\\hline\n",
       "\t a          &  0.3706279 & FALSE     \\\\\n",
       "\t b          &  0.5202165 &  TRUE     \\\\\n",
       "\t c          & -0.7505320 & FALSE     \\\\\n",
       "\t d          &  0.8168998 &  TRUE     \\\\\n",
       "\t e          & -0.8863575 &  TRUE     \\\\\n",
       "\\end{tabular}\n"
      ],
      "text/markdown": [
       "\n",
       "x | y | z | \n",
       "|---|---|---|---|---|\n",
       "| a          |  0.3706279 | FALSE      | \n",
       "| b          |  0.5202165 |  TRUE      | \n",
       "| c          | -0.7505320 | FALSE      | \n",
       "| d          |  0.8168998 |  TRUE      | \n",
       "| e          | -0.8863575 |  TRUE      | \n",
       "\n",
       "\n"
      ],
      "text/plain": [
       "  x y          z    \n",
       "1 a  0.3706279 FALSE\n",
       "2 b  0.5202165  TRUE\n",
       "3 c -0.7505320 FALSE\n",
       "4 d  0.8168998  TRUE\n",
       "5 e -0.8863575  TRUE"
      ]
     },
     "metadata": {},
     "output_type": "display_data"
    }
   ],
   "source": [
    "data.frame(x = letters[1:5],\n",
    "           y = y,\n",
    "           z = runif(5) > 0.5, \n",
    "           row.names = NULL)"
   ]
  },
  {
   "cell_type": "markdown",
   "metadata": {},
   "source": [
    "Para proporcionar al data frame sus propios nombres de fila debermos **pasar un vector a row.names**. Este vector se convertirá en carácter, si aún no es ese tipo:"
   ]
  },
  {
   "cell_type": "code",
   "execution_count": 53,
   "metadata": {
    "collapsed": false
   },
   "outputs": [
    {
     "data": {
      "text/html": [
       "<table>\n",
       "<thead><tr><th></th><th scope=col>x</th><th scope=col>y</th><th scope=col>z</th></tr></thead>\n",
       "<tbody>\n",
       "\t<tr><th scope=row>Alejandro</th><td>a         </td><td> 0.3706279</td><td>FALSE     </td></tr>\n",
       "\t<tr><th scope=row>Leonardo</th><td>b         </td><td> 0.5202165</td><td>FALSE     </td></tr>\n",
       "\t<tr><th scope=row>Sofia</th><td>c         </td><td>-0.7505320</td><td>FALSE     </td></tr>\n",
       "\t<tr><th scope=row>Lucia</th><td>d         </td><td> 0.8168998</td><td>FALSE     </td></tr>\n",
       "\t<tr><th scope=row>Eva</th><td>e         </td><td>-0.8863575</td><td>FALSE     </td></tr>\n",
       "</tbody>\n",
       "</table>\n"
      ],
      "text/latex": [
       "\\begin{tabular}{r|lll}\n",
       "  & x & y & z\\\\\n",
       "\\hline\n",
       "\tAlejandro & a          &  0.3706279 & FALSE     \\\\\n",
       "\tLeonardo & b          &  0.5202165 & FALSE     \\\\\n",
       "\tSofia & c          & -0.7505320 & FALSE     \\\\\n",
       "\tLucia & d          &  0.8168998 & FALSE     \\\\\n",
       "\tEva & e          & -0.8863575 & FALSE     \\\\\n",
       "\\end{tabular}\n"
      ],
      "text/markdown": [
       "\n",
       "| <!--/--> | x | y | z | \n",
       "|---|---|---|---|---|\n",
       "| Alejandro | a          |  0.3706279 | FALSE      | \n",
       "| Leonardo | b          |  0.5202165 | FALSE      | \n",
       "| Sofia | c          | -0.7505320 | FALSE      | \n",
       "| Lucia | d          |  0.8168998 | FALSE      | \n",
       "| Eva | e          | -0.8863575 | FALSE      | \n",
       "\n",
       "\n"
      ],
      "text/plain": [
       "          x y          z    \n",
       "Alejandro a  0.3706279 FALSE\n",
       "Leonardo  b  0.5202165 FALSE\n",
       "Sofia     c -0.7505320 FALSE\n",
       "Lucia     d  0.8168998 FALSE\n",
       "Eva       e -0.8863575 FALSE"
      ]
     },
     "metadata": {},
     "output_type": "display_data"
    }
   ],
   "source": [
    "data.frame(x = letters[1:5],\n",
    "           y = y,\n",
    "           z = runif(5) > 0.5, \n",
    "           row.names = c(\"Alejandro\",\"Leonardo\",\"Sofia\",\"Lucia\",\"Eva\"))"
   ]
  },
  {
   "cell_type": "markdown",
   "metadata": {},
   "source": [
    "### 4.7. Recycling \n",
    "\n",
    "También podemos crear un data frama pasando **vectores de diferentes longitudes** a la función `data.frame`, siempre y cuando el **mcm de todas las longitudes resulte igual a la mayor longitud**, de no ser así se produciría un error."
   ]
  },
  {
   "cell_type": "code",
   "execution_count": 54,
   "metadata": {
    "collapsed": false
   },
   "outputs": [
    {
     "data": {
      "text/html": [
       "<table>\n",
       "<thead><tr><th scope=col>x</th><th scope=col>y</th><th scope=col>z</th></tr></thead>\n",
       "<tbody>\n",
       "\t<tr><td>1</td><td>2</td><td>4</td></tr>\n",
       "\t<tr><td>1</td><td>3</td><td>5</td></tr>\n",
       "\t<tr><td>1</td><td>2</td><td>6</td></tr>\n",
       "\t<tr><td>1</td><td>3</td><td>7</td></tr>\n",
       "</tbody>\n",
       "</table>\n"
      ],
      "text/latex": [
       "\\begin{tabular}{r|lll}\n",
       " x & y & z\\\\\n",
       "\\hline\n",
       "\t 1 & 2 & 4\\\\\n",
       "\t 1 & 3 & 5\\\\\n",
       "\t 1 & 2 & 6\\\\\n",
       "\t 1 & 3 & 7\\\\\n",
       "\\end{tabular}\n"
      ],
      "text/markdown": [
       "\n",
       "x | y | z | \n",
       "|---|---|---|---|\n",
       "| 1 | 2 | 4 | \n",
       "| 1 | 3 | 5 | \n",
       "| 1 | 2 | 6 | \n",
       "| 1 | 3 | 7 | \n",
       "\n",
       "\n"
      ],
      "text/plain": [
       "  x y z\n",
       "1 1 2 4\n",
       "2 1 3 5\n",
       "3 1 2 6\n",
       "4 1 3 7"
      ]
     },
     "metadata": {},
     "output_type": "display_data"
    }
   ],
   "source": [
    "data.frame(x = 1,   # longitud: 1\n",
    "           y = 2:3, # longitud: 2 \n",
    "           z = 4:7) # longitud: 4 (mayor longitud)\n",
    "                    # mcm(1,2,4) = 4 = mayor longitud"
   ]
  },
  {
   "cell_type": "markdown",
   "metadata": {},
   "source": [
    "### 4.8. Más sobre Data frames"
   ]
  },
  {
   "cell_type": "code",
   "execution_count": 55,
   "metadata": {
    "collapsed": false
   },
   "outputs": [
    {
     "data": {
      "text/html": [
       "<ol class=list-inline>\n",
       "\t<li>'1'</li>\n",
       "\t<li>'2'</li>\n",
       "\t<li>'3'</li>\n",
       "</ol>\n"
      ],
      "text/latex": [
       "\\begin{enumerate*}\n",
       "\\item '1'\n",
       "\\item '2'\n",
       "\\item '3'\n",
       "\\end{enumerate*}\n"
      ],
      "text/markdown": [
       "1. '1'\n",
       "2. '2'\n",
       "3. '3'\n",
       "\n",
       "\n"
      ],
      "text/plain": [
       "[1] \"1\" \"2\" \"3\""
      ]
     },
     "metadata": {},
     "output_type": "display_data"
    },
    {
     "data": {
      "text/html": [
       "<ol class=list-inline>\n",
       "\t<li>'colors'</li>\n",
       "\t<li>'numbers'</li>\n",
       "\t<li>'more.numbers'</li>\n",
       "</ol>\n"
      ],
      "text/latex": [
       "\\begin{enumerate*}\n",
       "\\item 'colors'\n",
       "\\item 'numbers'\n",
       "\\item 'more.numbers'\n",
       "\\end{enumerate*}\n"
      ],
      "text/markdown": [
       "1. 'colors'\n",
       "2. 'numbers'\n",
       "3. 'more.numbers'\n",
       "\n",
       "\n"
      ],
      "text/plain": [
       "[1] \"colors\"       \"numbers\"      \"more.numbers\""
      ]
     },
     "metadata": {},
     "output_type": "display_data"
    },
    {
     "data": {
      "text/html": [
       "<ol>\n",
       "\t<li><ol class=list-inline>\n",
       "\t<li>'1'</li>\n",
       "\t<li>'2'</li>\n",
       "\t<li>'3'</li>\n",
       "</ol>\n",
       "</li>\n",
       "\t<li><ol class=list-inline>\n",
       "\t<li>'colors'</li>\n",
       "\t<li>'numbers'</li>\n",
       "\t<li>'more.numbers'</li>\n",
       "</ol>\n",
       "</li>\n",
       "</ol>\n"
      ],
      "text/latex": [
       "\\begin{enumerate}\n",
       "\\item \\begin{enumerate*}\n",
       "\\item '1'\n",
       "\\item '2'\n",
       "\\item '3'\n",
       "\\end{enumerate*}\n",
       "\n",
       "\\item \\begin{enumerate*}\n",
       "\\item 'colors'\n",
       "\\item 'numbers'\n",
       "\\item 'more.numbers'\n",
       "\\end{enumerate*}\n",
       "\n",
       "\\end{enumerate}\n"
      ],
      "text/markdown": [
       "1. 1. '1'\n",
       "2. '2'\n",
       "3. '3'\n",
       "\n",
       "\n",
       "\n",
       "2. 1. 'colors'\n",
       "2. 'numbers'\n",
       "3. 'more.numbers'\n",
       "\n",
       "\n",
       "\n",
       "\n",
       "\n"
      ],
      "text/plain": [
       "[[1]]\n",
       "[1] \"1\" \"2\" \"3\"\n",
       "\n",
       "[[2]]\n",
       "[1] \"colors\"       \"numbers\"      \"more.numbers\"\n"
      ]
     },
     "metadata": {},
     "output_type": "display_data"
    }
   ],
   "source": [
    "rownames(colors.and.numbers)\n",
    "\n",
    "colnames(colors.and.numbers)\n",
    "\n",
    "dimnames(colors.and.numbers)"
   ]
  },
  {
   "cell_type": "code",
   "execution_count": 56,
   "metadata": {
    "collapsed": false
   },
   "outputs": [
    {
     "data": {
      "text/html": [
       "3"
      ],
      "text/latex": [
       "3"
      ],
      "text/markdown": [
       "3"
      ],
      "text/plain": [
       "[1] 3"
      ]
     },
     "metadata": {},
     "output_type": "display_data"
    },
    {
     "data": {
      "text/html": [
       "3"
      ],
      "text/latex": [
       "3"
      ],
      "text/markdown": [
       "3"
      ],
      "text/plain": [
       "[1] 3"
      ]
     },
     "metadata": {},
     "output_type": "display_data"
    },
    {
     "data": {
      "text/html": [
       "<ol class=list-inline>\n",
       "\t<li>3</li>\n",
       "\t<li>3</li>\n",
       "</ol>\n"
      ],
      "text/latex": [
       "\\begin{enumerate*}\n",
       "\\item 3\n",
       "\\item 3\n",
       "\\end{enumerate*}\n"
      ],
      "text/markdown": [
       "1. 3\n",
       "2. 3\n",
       "\n",
       "\n"
      ],
      "text/plain": [
       "[1] 3 3"
      ]
     },
     "metadata": {},
     "output_type": "display_data"
    }
   ],
   "source": [
    "nrow(colors.and.numbers)\n",
    "\n",
    "ncol(colors.and.numbers)\n",
    "\n",
    "dim(colors.and.numbers)"
   ]
  },
  {
   "cell_type": "code",
   "execution_count": 57,
   "metadata": {
    "collapsed": false
   },
   "outputs": [
    {
     "data": {
      "text/html": [
       "<table>\n",
       "<tbody>\n",
       "\t<tr><th scope=row>colors</th><td>red   </td><td>yellow</td><td>blue  </td></tr>\n",
       "\t<tr><th scope=row>numbers</th><td>1     </td><td>2     </td><td>3     </td></tr>\n",
       "\t<tr><th scope=row>more.numbers</th><td>4     </td><td>5     </td><td>6     </td></tr>\n",
       "</tbody>\n",
       "</table>\n"
      ],
      "text/latex": [
       "\\begin{tabular}{r|lll}\n",
       "\tcolors & red    & yellow & blue  \\\\\n",
       "\tnumbers & 1      & 2      & 3     \\\\\n",
       "\tmore.numbers & 4      & 5      & 6     \\\\\n",
       "\\end{tabular}\n"
      ],
      "text/markdown": [
       "\n",
       "| colors | red    | yellow | blue   | \n",
       "| numbers | 1      | 2      | 3      | \n",
       "| more.numbers | 4      | 5      | 6      | \n",
       "\n",
       "\n"
      ],
      "text/plain": [
       "             [,1] [,2]   [,3]\n",
       "colors       red  yellow blue\n",
       "numbers      1    2      3   \n",
       "more.numbers 4    5      6   "
      ]
     },
     "metadata": {},
     "output_type": "display_data"
    }
   ],
   "source": [
    "#Como las matrices, se puede hallar la transpuesta de un data frame\n",
    "t(colors.and.numbers)"
   ]
  },
  {
   "cell_type": "markdown",
   "metadata": {},
   "source": [
    "### 4.9. Subset\n",
    "\n",
    "Si estamos tratando **subconjuntos de data frames** podemos utilizar la función **subset**. \n",
    "\n",
    "Esta función toma hasta tres argumentos: \n",
    "\n",
    "- El objeto original.\n",
    "- Un vector lógico para saber qué filas incluir.\n",
    "- Y un vector de nombres de columna para mostrar (si se omite este último argumento, entonces se guardan todas las columnas). "
   ]
  },
  {
   "cell_type": "code",
   "execution_count": 58,
   "metadata": {
    "collapsed": false
   },
   "outputs": [
    {
     "data": {
      "text/html": [
       "<table>\n",
       "<thead><tr><th scope=col>tipo</th><th scope=col>edad</th><th scope=col>sexo</th></tr></thead>\n",
       "<tbody>\n",
       "\t<tr><td>2 </td><td>22</td><td>H </td></tr>\n",
       "\t<tr><td>3 </td><td>21</td><td>M </td></tr>\n",
       "\t<tr><td>3 </td><td>34</td><td>H </td></tr>\n",
       "\t<tr><td>1 </td><td>42</td><td>H </td></tr>\n",
       "\t<tr><td>3 </td><td>17</td><td>M </td></tr>\n",
       "\t<tr><td>1 </td><td>43</td><td>H </td></tr>\n",
       "</tbody>\n",
       "</table>\n"
      ],
      "text/latex": [
       "\\begin{tabular}{r|lll}\n",
       " tipo & edad & sexo\\\\\n",
       "\\hline\n",
       "\t 2  & 22 & H \\\\\n",
       "\t 3  & 21 & M \\\\\n",
       "\t 3  & 34 & H \\\\\n",
       "\t 1  & 42 & H \\\\\n",
       "\t 3  & 17 & M \\\\\n",
       "\t 1  & 43 & H \\\\\n",
       "\\end{tabular}\n"
      ],
      "text/markdown": [
       "\n",
       "tipo | edad | sexo | \n",
       "|---|---|---|---|---|---|\n",
       "| 2  | 22 | H  | \n",
       "| 3  | 21 | M  | \n",
       "| 3  | 34 | H  | \n",
       "| 1  | 42 | H  | \n",
       "| 3  | 17 | M  | \n",
       "| 1  | 43 | H  | \n",
       "\n",
       "\n"
      ],
      "text/plain": [
       "  tipo edad sexo\n",
       "1 2    22   H   \n",
       "2 3    21   M   \n",
       "3 3    34   H   \n",
       "4 1    42   H   \n",
       "5 3    17   M   \n",
       "6 1    43   H   "
      ]
     },
     "metadata": {},
     "output_type": "display_data"
    },
    {
     "data": {
      "text/html": [
       "<table>\n",
       "<thead><tr><th></th><th scope=col>edad</th><th scope=col>sexo</th></tr></thead>\n",
       "<tbody>\n",
       "\t<tr><th scope=row>4</th><td>42</td><td>H </td></tr>\n",
       "\t<tr><th scope=row>6</th><td>43</td><td>H </td></tr>\n",
       "</tbody>\n",
       "</table>\n"
      ],
      "text/latex": [
       "\\begin{tabular}{r|ll}\n",
       "  & edad & sexo\\\\\n",
       "\\hline\n",
       "\t4 & 42 & H \\\\\n",
       "\t6 & 43 & H \\\\\n",
       "\\end{tabular}\n"
      ],
      "text/markdown": [
       "\n",
       "| <!--/--> | edad | sexo | \n",
       "|---|---|\n",
       "| 4 | 42 | H  | \n",
       "| 6 | 43 | H  | \n",
       "\n",
       "\n"
      ],
      "text/plain": [
       "  edad sexo\n",
       "4 42   H   \n",
       "6 43   H   "
      ]
     },
     "metadata": {},
     "output_type": "display_data"
    }
   ],
   "source": [
    "datosperson\n",
    "\n",
    "subset(datosperson, #objeto original\n",
    "       edad >40, # expersion logica\n",
    "       select = c(edad,sexo)) # columnas"
   ]
  },
  {
   "cell_type": "markdown",
   "metadata": {},
   "source": [
    "### 4.10. Merge\n",
    "\n",
    "Cuando 2 data frames **comparten columnas, se pueden fusionar utilizando la función merge**. Esta función proporciona una variedad de opciones para realizar combinaciones de estilo de base de datos. \n",
    "\n",
    "**Para unir 2 data frames se debe especificar qué columnas contienen los valores clave para que coincidan**. De forma predeterminada, la función `merge` **utiliza todas las columnas comunes**."
   ]
  },
  {
   "cell_type": "code",
   "execution_count": 59,
   "metadata": {
    "collapsed": false
   },
   "outputs": [
    {
     "name": "stderr",
     "output_type": "stream",
     "text": [
      "Data frame datos1:\n"
     ]
    },
    {
     "data": {
      "text/html": [
       "<table>\n",
       "<thead><tr><th scope=col>nombre</th><th scope=col>edad</th><th scope=col>casado</th></tr></thead>\n",
       "<tbody>\n",
       "\t<tr><td>Alberto  </td><td>61       </td><td> TRUE    </td></tr>\n",
       "\t<tr><td>Ivonne   </td><td>27       </td><td>FALSE    </td></tr>\n",
       "\t<tr><td>Yeny     </td><td>56       </td><td> TRUE    </td></tr>\n",
       "\t<tr><td>Alejandro</td><td>35       </td><td>FALSE    </td></tr>\n",
       "\t<tr><td>Sofia    </td><td>43       </td><td>FALSE    </td></tr>\n",
       "</tbody>\n",
       "</table>\n"
      ],
      "text/latex": [
       "\\begin{tabular}{r|lll}\n",
       " nombre & edad & casado\\\\\n",
       "\\hline\n",
       "\t Alberto   & 61        &  TRUE    \\\\\n",
       "\t Ivonne    & 27        & FALSE    \\\\\n",
       "\t Yeny      & 56        &  TRUE    \\\\\n",
       "\t Alejandro & 35        & FALSE    \\\\\n",
       "\t Sofia     & 43        & FALSE    \\\\\n",
       "\\end{tabular}\n"
      ],
      "text/markdown": [
       "\n",
       "nombre | edad | casado | \n",
       "|---|---|---|---|---|\n",
       "| Alberto   | 61        |  TRUE     | \n",
       "| Ivonne    | 27        | FALSE     | \n",
       "| Yeny      | 56        |  TRUE     | \n",
       "| Alejandro | 35        | FALSE     | \n",
       "| Sofia     | 43        | FALSE     | \n",
       "\n",
       "\n"
      ],
      "text/plain": [
       "  nombre    edad casado\n",
       "1 Alberto   61    TRUE \n",
       "2 Ivonne    27   FALSE \n",
       "3 Yeny      56    TRUE \n",
       "4 Alejandro 35   FALSE \n",
       "5 Sofia     43   FALSE "
      ]
     },
     "metadata": {},
     "output_type": "display_data"
    },
    {
     "name": "stderr",
     "output_type": "stream",
     "text": [
      "Data frame datos2:\n"
     ]
    },
    {
     "data": {
      "text/html": [
       "<table>\n",
       "<thead><tr><th scope=col>nombre</th><th scope=col>sexo</th><th scope=col>talla</th></tr></thead>\n",
       "<tbody>\n",
       "\t<tr><td>Alejandro</td><td>M        </td><td>1.60     </td></tr>\n",
       "\t<tr><td>Leonardo </td><td>M        </td><td>1.50     </td></tr>\n",
       "\t<tr><td>Sofia    </td><td>F        </td><td>1.53     </td></tr>\n",
       "\t<tr><td>Lucia    </td><td>F        </td><td>1.63     </td></tr>\n",
       "\t<tr><td>Felix    </td><td>M        </td><td>1.55     </td></tr>\n",
       "</tbody>\n",
       "</table>\n"
      ],
      "text/latex": [
       "\\begin{tabular}{r|lll}\n",
       " nombre & sexo & talla\\\\\n",
       "\\hline\n",
       "\t Alejandro & M         & 1.60     \\\\\n",
       "\t Leonardo  & M         & 1.50     \\\\\n",
       "\t Sofia     & F         & 1.53     \\\\\n",
       "\t Lucia     & F         & 1.63     \\\\\n",
       "\t Felix     & M         & 1.55     \\\\\n",
       "\\end{tabular}\n"
      ],
      "text/markdown": [
       "\n",
       "nombre | sexo | talla | \n",
       "|---|---|---|---|---|\n",
       "| Alejandro | M         | 1.60      | \n",
       "| Leonardo  | M         | 1.50      | \n",
       "| Sofia     | F         | 1.53      | \n",
       "| Lucia     | F         | 1.63      | \n",
       "| Felix     | M         | 1.55      | \n",
       "\n",
       "\n"
      ],
      "text/plain": [
       "  nombre    sexo talla\n",
       "1 Alejandro M    1.60 \n",
       "2 Leonardo  M    1.50 \n",
       "3 Sofia     F    1.53 \n",
       "4 Lucia     F    1.63 \n",
       "5 Felix     M    1.55 "
      ]
     },
     "metadata": {},
     "output_type": "display_data"
    },
    {
     "name": "stderr",
     "output_type": "stream",
     "text": [
      "Merge de datos1 y datos2:\n"
     ]
    },
    {
     "data": {
      "text/html": [
       "<table>\n",
       "<thead><tr><th scope=col>nombre</th><th scope=col>edad</th><th scope=col>casado</th><th scope=col>sexo</th><th scope=col>talla</th></tr></thead>\n",
       "<tbody>\n",
       "\t<tr><td>Alejandro</td><td>35       </td><td>FALSE    </td><td>M        </td><td>1.60     </td></tr>\n",
       "\t<tr><td>Sofia    </td><td>43       </td><td>FALSE    </td><td>F        </td><td>1.53     </td></tr>\n",
       "</tbody>\n",
       "</table>\n"
      ],
      "text/latex": [
       "\\begin{tabular}{r|lllll}\n",
       " nombre & edad & casado & sexo & talla\\\\\n",
       "\\hline\n",
       "\t Alejandro & 35        & FALSE     & M         & 1.60     \\\\\n",
       "\t Sofia     & 43        & FALSE     & F         & 1.53     \\\\\n",
       "\\end{tabular}\n"
      ],
      "text/markdown": [
       "\n",
       "nombre | edad | casado | sexo | talla | \n",
       "|---|---|\n",
       "| Alejandro | 35        | FALSE     | M         | 1.60      | \n",
       "| Sofia     | 43        | FALSE     | F         | 1.53      | \n",
       "\n",
       "\n"
      ],
      "text/plain": [
       "  nombre    edad casado sexo talla\n",
       "1 Alejandro 35   FALSE  M    1.60 \n",
       "2 Sofia     43   FALSE  F    1.53 "
      ]
     },
     "metadata": {},
     "output_type": "display_data"
    },
    {
     "name": "stderr",
     "output_type": "stream",
     "text": [
      "Merge de datos1 y datos2 con todos los elementos:\n"
     ]
    },
    {
     "data": {
      "text/html": [
       "<table>\n",
       "<thead><tr><th scope=col>nombre</th><th scope=col>edad</th><th scope=col>casado</th><th scope=col>sexo</th><th scope=col>talla</th></tr></thead>\n",
       "<tbody>\n",
       "\t<tr><td>Alberto  </td><td>61       </td><td> TRUE    </td><td>NA       </td><td>  NA     </td></tr>\n",
       "\t<tr><td>Alejandro</td><td>35       </td><td>FALSE    </td><td>M        </td><td>1.60     </td></tr>\n",
       "\t<tr><td>Ivonne   </td><td>27       </td><td>FALSE    </td><td>NA       </td><td>  NA     </td></tr>\n",
       "\t<tr><td>Sofia    </td><td>43       </td><td>FALSE    </td><td>F        </td><td>1.53     </td></tr>\n",
       "\t<tr><td>Yeny     </td><td>56       </td><td> TRUE    </td><td>NA       </td><td>  NA     </td></tr>\n",
       "\t<tr><td>Felix    </td><td>NA       </td><td>   NA    </td><td>M        </td><td>1.55     </td></tr>\n",
       "\t<tr><td>Leonardo </td><td>NA       </td><td>   NA    </td><td>M        </td><td>1.50     </td></tr>\n",
       "\t<tr><td>Lucia    </td><td>NA       </td><td>   NA    </td><td>F        </td><td>1.63     </td></tr>\n",
       "</tbody>\n",
       "</table>\n"
      ],
      "text/latex": [
       "\\begin{tabular}{r|lllll}\n",
       " nombre & edad & casado & sexo & talla\\\\\n",
       "\\hline\n",
       "\t Alberto   & 61        &  TRUE     & NA        &   NA     \\\\\n",
       "\t Alejandro & 35        & FALSE     & M         & 1.60     \\\\\n",
       "\t Ivonne    & 27        & FALSE     & NA        &   NA     \\\\\n",
       "\t Sofia     & 43        & FALSE     & F         & 1.53     \\\\\n",
       "\t Yeny      & 56        &  TRUE     & NA        &   NA     \\\\\n",
       "\t Felix     & NA        &    NA     & M         & 1.55     \\\\\n",
       "\t Leonardo  & NA        &    NA     & M         & 1.50     \\\\\n",
       "\t Lucia     & NA        &    NA     & F         & 1.63     \\\\\n",
       "\\end{tabular}\n"
      ],
      "text/markdown": [
       "\n",
       "nombre | edad | casado | sexo | talla | \n",
       "|---|---|---|---|---|---|---|---|\n",
       "| Alberto   | 61        |  TRUE     | NA        |   NA      | \n",
       "| Alejandro | 35        | FALSE     | M         | 1.60      | \n",
       "| Ivonne    | 27        | FALSE     | NA        |   NA      | \n",
       "| Sofia     | 43        | FALSE     | F         | 1.53      | \n",
       "| Yeny      | 56        |  TRUE     | NA        |   NA      | \n",
       "| Felix     | NA        |    NA     | M         | 1.55      | \n",
       "| Leonardo  | NA        |    NA     | M         | 1.50      | \n",
       "| Lucia     | NA        |    NA     | F         | 1.63      | \n",
       "\n",
       "\n"
      ],
      "text/plain": [
       "  nombre    edad casado sexo talla\n",
       "1 Alberto   61    TRUE  NA     NA \n",
       "2 Alejandro 35   FALSE  M    1.60 \n",
       "3 Ivonne    27   FALSE  NA     NA \n",
       "4 Sofia     43   FALSE  F    1.53 \n",
       "5 Yeny      56    TRUE  NA     NA \n",
       "6 Felix     NA      NA  M    1.55 \n",
       "7 Leonardo  NA      NA  M    1.50 \n",
       "8 Lucia     NA      NA  F    1.63 "
      ]
     },
     "metadata": {},
     "output_type": "display_data"
    }
   ],
   "source": [
    "message(\"Data frame datos1:\")\n",
    "datos1 <- data.frame(\n",
    "                nombre = c(\"Alberto\", \"Ivonne\",\"Yeny\",\"Alejandro\",\"Sofia\") ,\n",
    "                edad = c(61,27,56,35,43),\n",
    "                casado = c(TRUE,FALSE,T,F,F)\n",
    ")\n",
    "datos1\n",
    "\n",
    "message(\"Data frame datos2:\")\n",
    "datos2 <- data.frame(\n",
    "  nombre = c(\"Alejandro\",\"Leonardo\",\"Sofia\",\"Lucia\",\"Felix\"),\n",
    "  sexo = c('M','M','F','F','M'),\n",
    "  talla = c(1.60,1.50,1.53,1.63,1.55)\n",
    ")\n",
    "datos2\n",
    "\n",
    "message(\"Merge de datos1 y datos2:\")\n",
    "merge(datos1,datos2,by=\"nombre\")\n",
    "\n",
    "message(\"Merge de datos1 y datos2 con todos los elementos:\")\n",
    "merge(datos1,datos2,by=\"nombre\",all = TRUE)"
   ]
  },
  {
   "cell_type": "markdown",
   "metadata": {},
   "source": [
    "### 4.11. Data frame con todos sus valores numéricos\n",
    "\n",
    "Cuando una data frame tiene **todos sus valores numéricos**, las funciones **colSums** y **colMeans** se pueden usar para calcular la suma y el promedio de cada columna, respectivamente. Del mismo modo, **rowSums** y **rowMeans** calculan la suma y el promedio de cada fila."
   ]
  },
  {
   "cell_type": "code",
   "execution_count": 60,
   "metadata": {
    "collapsed": false
   },
   "outputs": [
    {
     "data": {
      "text/html": [
       "<dl class=dl-horizontal>\n",
       "\t<dt>edad</dt>\n",
       "\t\t<dd>222</dd>\n",
       "\t<dt>casado</dt>\n",
       "\t\t<dd>2</dd>\n",
       "</dl>\n"
      ],
      "text/latex": [
       "\\begin{description*}\n",
       "\\item[edad] 222\n",
       "\\item[casado] 2\n",
       "\\end{description*}\n"
      ],
      "text/markdown": [
       "edad\n",
       ":   222casado\n",
       ":   2\n",
       "\n"
      ],
      "text/plain": [
       "  edad casado \n",
       "   222      2 "
      ]
     },
     "metadata": {},
     "output_type": "display_data"
    }
   ],
   "source": [
    "colSums(datos1[,2:3])"
   ]
  },
  {
   "cell_type": "code",
   "execution_count": 61,
   "metadata": {
    "collapsed": false
   },
   "outputs": [
    {
     "data": {
      "text/html": [
       "<dl class=dl-horizontal>\n",
       "\t<dt>edad</dt>\n",
       "\t\t<dd>44.4</dd>\n",
       "\t<dt>casado</dt>\n",
       "\t\t<dd>0.4</dd>\n",
       "</dl>\n"
      ],
      "text/latex": [
       "\\begin{description*}\n",
       "\\item[edad] 44.4\n",
       "\\item[casado] 0.4\n",
       "\\end{description*}\n"
      ],
      "text/markdown": [
       "edad\n",
       ":   44.4casado\n",
       ":   0.4\n",
       "\n"
      ],
      "text/plain": [
       "  edad casado \n",
       "  44.4    0.4 "
      ]
     },
     "metadata": {},
     "output_type": "display_data"
    }
   ],
   "source": [
    "colMeans(datos1[,2:3])"
   ]
  },
  {
   "cell_type": "markdown",
   "metadata": {},
   "source": [
    "## 5. Trabajando con Valores Faltantes"
   ]
  },
  {
   "cell_type": "markdown",
   "metadata": {},
   "source": [
    "Los datos faltantes se representan en R por el valor especial *not available* NA. \n",
    "\n",
    "En general, **una operación con elementos NA resulta NA**, a no ser que mediate una opción de la función, podamos omitir o tratar los datos faltantes de forma especial. Esta opción, por defecto, es **na.rm = FALSE** (que indica que **NO elimina los NA**). Con la opción **na.rm = TRUE** la operación se efectúa con los datos válidos."
   ]
  },
  {
   "cell_type": "code",
   "execution_count": 62,
   "metadata": {
    "collapsed": false
   },
   "outputs": [
    {
     "data": {
      "text/plain": [
       "[1] NA"
      ]
     },
     "metadata": {},
     "output_type": "display_data"
    },
    {
     "data": {
      "text/plain": [
       "[1] NA"
      ]
     },
     "metadata": {},
     "output_type": "display_data"
    },
    {
     "data": {
      "text/plain": [
       "[1] NA"
      ]
     },
     "metadata": {},
     "output_type": "display_data"
    }
   ],
   "source": [
    "NA + 5\n",
    "NA == NA\n",
    "NA != NA"
   ]
  },
  {
   "cell_type": "markdown",
   "metadata": {},
   "source": [
    "Para verificar si un valor es faltante, usamos la función **is.na**:"
   ]
  },
  {
   "cell_type": "code",
   "execution_count": 63,
   "metadata": {
    "collapsed": false
   },
   "outputs": [
    {
     "data": {
      "text/html": [
       "TRUE"
      ],
      "text/latex": [
       "TRUE"
      ],
      "text/markdown": [
       "TRUE"
      ],
      "text/plain": [
       "[1] TRUE"
      ]
     },
     "metadata": {},
     "output_type": "display_data"
    },
    {
     "data": {
      "text/html": [
       "FALSE"
      ],
      "text/latex": [
       "FALSE"
      ],
      "text/markdown": [
       "FALSE"
      ],
      "text/plain": [
       "[1] FALSE"
      ]
     },
     "metadata": {},
     "output_type": "display_data"
    }
   ],
   "source": [
    "is.na(NA)\n",
    "is.na(4)"
   ]
  },
  {
   "cell_type": "code",
   "execution_count": 64,
   "metadata": {
    "collapsed": false
   },
   "outputs": [
    {
     "data": {
      "text/plain": [
       "[1] NA"
      ]
     },
     "metadata": {},
     "output_type": "display_data"
    }
   ],
   "source": [
    "y <- c(NA,3,5,NA)\n",
    "mean(y) #calcula teniendo en cuenta los valores NA"
   ]
  },
  {
   "cell_type": "code",
   "execution_count": 65,
   "metadata": {
    "collapsed": false,
    "scrolled": false
   },
   "outputs": [
    {
     "data": {
      "text/html": [
       "4"
      ],
      "text/latex": [
       "4"
      ],
      "text/markdown": [
       "4"
      ],
      "text/plain": [
       "[1] 4"
      ]
     },
     "metadata": {},
     "output_type": "display_data"
    }
   ],
   "source": [
    "mean(y, na.rm = TRUE) #calcula sin tener en cuenta los valores NA"
   ]
  }
 ],
 "metadata": {
  "kernelspec": {
   "display_name": "R",
   "language": "R",
   "name": "ir"
  },
  "language_info": {
   "codemirror_mode": "r",
   "file_extension": ".r",
   "mimetype": "text/x-r-source",
   "name": "R",
   "pygments_lexer": "r",
   "version": "3.3.2"
  }
 },
 "nbformat": 4,
 "nbformat_minor": 2
}
